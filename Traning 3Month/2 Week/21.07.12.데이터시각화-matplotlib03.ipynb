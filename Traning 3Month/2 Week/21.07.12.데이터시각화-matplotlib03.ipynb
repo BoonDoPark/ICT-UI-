{
 "cells": [
  {
   "cell_type": "code",
   "execution_count": 82,
   "metadata": {
    "colab": {},
    "colab_type": "code",
    "id": "EhBeOJ9o1Stx"
   },
   "outputs": [],
   "source": [
    "import matplotlib.pyplot as plt\n",
    "import pandas as pd\n",
    "import numpy as np\n"
   ]
  },
  {
   "cell_type": "code",
   "execution_count": 107,
   "metadata": {
    "colab": {},
    "colab_type": "code",
    "id": "OSkPQVMpOsGg"
   },
   "outputs": [],
   "source": [
    "#디폴트 폰트가 한글 지원x\n",
    "plt.rc('font', family='Malgun Gothic') \n",
    "\n",
    "\n",
    "# - 부호가 깨질때\n",
    "plt.rcParams['axes.unicode_minus'] = False\n",
    "\n",
    "# Graph 사이즈 키우는 옵션\n",
    "plt.rcParams[\"figure.figsize\"] = (9, 6)"
   ]
  },
  {
   "cell_type": "markdown",
   "metadata": {
    "colab_type": "text",
    "id": "cc1hh2FSM3tQ"
   },
   "source": [
    "## 6. Histogram\n",
    "- 데이터의 밀도를 볼때 많이 쓰이는 그래프"
   ]
  },
  {
   "cell_type": "markdown",
   "metadata": {
    "colab_type": "text",
    "id": "SdWbb2KlM3tS"
   },
   "source": [
    "### 6.1. 기본 Histogram 그리기"
   ]
  },
  {
   "cell_type": "code",
   "execution_count": 7,
   "metadata": {
    "colab": {
     "base_uri": "https://localhost:8080/",
     "height": 537
    },
    "colab_type": "code",
    "executionInfo": {
     "elapsed": 1030,
     "status": "ok",
     "timestamp": 1586244736436,
     "user": {
      "displayName": "Teddy Lee",
      "photoUrl": "https://lh3.googleusercontent.com/a-/AOh14GhSTZDlaIYPFiHXxGK186wkYGVbcp9X6Jzmzq-3=s64",
      "userId": "02735440789095269991"
     },
     "user_tz": -540
    },
    "id": "NnI4KB_DM3tY",
    "outputId": "69d8d1d1-b1e1-416d-a961-a531cd0d0093"
   },
   "outputs": [
    {
     "data": {
      "image/png": "[encoded data removed]",
      "text/plain": [
       "<Figure size 432x288 with 1 Axes>"
      ]
     },
     "metadata": {
      "needs_background": "light"
     },
     "output_type": "display_data"
    }
   ],
   "source": [
    "x = np.random.randn(100000) # 10만개의 데이터를 생성\n",
    "bins = 30 # 30구간으로 나누어 준다.\n",
    "\n",
    "plt.hist(x, bins=bins)\n",
    "\n",
    "plt.show()"
   ]
  },
  {
   "cell_type": "markdown",
   "metadata": {
    "colab_type": "text",
    "id": "lUC-juG9M3ti"
   },
   "source": [
    "### 6.2. 다중 Histogram 그리기"
   ]
  },
  {
   "cell_type": "markdown",
   "metadata": {
    "colab_type": "text",
    "id": "36DzhtjZM3th"
   },
   "source": [
    "* sharey: y축을 다중 그래프가 share\n",
    "* tight_layout: graph의 패딩을 자동으로 조절해주어 fit한 graph를 생성"
   ]
  },
  {
   "cell_type": "code",
   "execution_count": 95,
   "metadata": {
    "colab": {
     "base_uri": "https://localhost:8080/",
     "height": 369
    },
    "colab_type": "code",
    "executionInfo": {
     "elapsed": 1739,
     "status": "ok",
     "timestamp": 1586244840052,
     "user": {
      "displayName": "Teddy Lee",
      "photoUrl": "https://lh3.googleusercontent.com/a-/AOh14GhSTZDlaIYPFiHXxGK186wkYGVbcp9X6Jzmzq-3=s64",
      "userId": "02735440789095269991"
     },
     "user_tz": -540
    },
    "id": "sFqVL4upM3tj",
    "outputId": "fb527884-bf9b-436c-d717-3bfd8c2f8bb6",
    "scrolled": true
   },
   "outputs": [
    {
     "data": {
      "image/png": "[encoded data removed]",
      "text/plain": [
       "<Figure size 864x360 with 3 Axes>"
      ]
     },
     "metadata": {
      "needs_background": "light"
     },
     "output_type": "display_data"
    }
   ],
   "source": [
    "x = np.random.randn(100000) # 10만개의 데이터를 생성\n",
    "bins = 30 # 30구간으로 나누어 준다.\n",
    "\n",
    "fig, axes = plt.subplots(1, 3, sharey=True, tight_layout=True)\n",
    "fig.set_size_inches(12, 5)\n",
    "\n",
    "axes[0].hist(x, bins=bins)\n",
    "axes[1].hist(x, bins=bins*2)\n",
    "axes[2].hist(x, bins=bins*4)\n",
    "\n",
    "plt.show()"
   ]
  },
  {
   "cell_type": "markdown",
   "metadata": {
    "colab_type": "text",
    "id": "HO4OVOIoM3tr"
   },
   "source": [
    "### 6.3. Y축에 Density 표기\n",
    "- y축에 빈도수가 아닌 %를 표기하고자 할때"
   ]
  },
  {
   "cell_type": "code",
   "execution_count": 101,
   "metadata": {
    "colab": {
     "base_uri": "https://localhost:8080/",
     "height": 225
    },
    "colab_type": "code",
    "executionInfo": {
     "elapsed": 1354,
     "status": "ok",
     "timestamp": 1586244956799,
     "user": {
      "displayName": "Teddy Lee",
      "photoUrl": "https://lh3.googleusercontent.com/a-/AOh14GhSTZDlaIYPFiHXxGK186wkYGVbcp9X6Jzmzq-3=s64",
      "userId": "02735440789095269991"
     },
     "user_tz": -540
    },
    "id": "lvlE9jehM3tu",
    "outputId": "8d68fc06-088d-473e-d5d6-3a86d389c2df"
   },
   "outputs": [
    {
     "data": {
      "image/png": "[encoded data removed]",
      "text/plain": [
       "<Figure size 864x360 with 2 Axes>"
      ]
     },
     "metadata": {
      "needs_background": "light"
     },
     "output_type": "display_data"
    }
   ],
   "source": [
    "x = np.random.randn(100000) # 10만개의 데이터를 생성\n",
    "bins = 30 # 30구간으로 나누어 준다.\n",
    "\n",
    "fig, axes = plt.subplots(1, 2, tight_layout=True)\n",
    "fig.set_size_inches(12, 5)\n",
    "\n",
    "axes[0].hist(x, bins=bins, density=True, cumulative=True)\n",
    "axes[1].hist(x, bins=bins, density=True)\n",
    "\n",
    "\n",
    "plt.show()"
   ]
  },
  {
   "cell_type": "markdown",
   "metadata": {},
   "source": [
    "## 7. Box Plot"
   ]
  },
  {
   "cell_type": "markdown",
   "metadata": {
    "colab_type": "text",
    "id": "uw1LvnQlM3uK"
   },
   "source": [
    "![Box Plot](https://justinsighting.com/wp-content/uploads/2016/12/boxplot-description.png)\n",
    "- image source : https://justinsighting.com/how-to-interpret-box-plots/\n",
    "\n",
    "\n",
    "- IQR(Inter Quartile Range) = (3Q-1Q)*1.5\n",
    "- Upper Whisker 구간 = 3Q+IQR\n",
    "- Lower Whisker 구간 = 1Q-IQR\n",
    "- Outliers 가 얼마나 많이 분포되어있는 알아볼때 많이 사용"
   ]
  },
  {
   "cell_type": "code",
   "execution_count": 105,
   "metadata": {
    "colab": {},
    "colab_type": "code",
    "id": "CQp3alFbM3uM"
   },
   "outputs": [],
   "source": [
    "# 샘플 데이터 생성 \n",
    "spread = np.random.rand(50) * 100 # 0~1 사이의 숫자에 100 곱한거 50개\n",
    "center = np.ones(25) * 50 # 50 25개\n",
    "\n",
    "flier_high = np.random.rand(10) * 100 + 100 # 0~1사이의 10개\n",
    "flier_low = np.random.rand(10) * -100 # 10개\n",
    "\n",
    "#nd array를 합칠수 있는 함수\n",
    "data = np.concatenate((spread, center, flier_high, flier_low))\n",
    "#print(data)"
   ]
  },
  {
   "cell_type": "markdown",
   "metadata": {
    "colab_type": "text",
    "id": "7_Gay-6lM3uV"
   },
   "source": [
    "### 7.1 기본 박스플롯 생성"
   ]
  },
  {
   "cell_type": "code",
   "execution_count": 108,
   "metadata": {
    "colab": {
     "base_uri": "https://localhost:8080/",
     "height": 657
    },
    "colab_type": "code",
    "executionInfo": {
     "elapsed": 1699,
     "status": "ok",
     "timestamp": 1586246067311,
     "user": {
      "displayName": "Teddy Lee",
      "photoUrl": "https://lh3.googleusercontent.com/a-/AOh14GhSTZDlaIYPFiHXxGK186wkYGVbcp9X6Jzmzq-3=s64",
      "userId": "02735440789095269991"
     },
     "user_tz": -540
    },
    "id": "MJAo6uALM3ub",
    "outputId": "ae972bb6-d73f-4bc0-b05a-bdc5be2d7df1"
   },
   "outputs": [
    {
     "data": {
      "image/png": "[encoded data removed]",
      "text/plain": [
       "<Figure size 648x432 with 1 Axes>"
      ]
     },
     "metadata": {
      "needs_background": "light"
     },
     "output_type": "display_data"
    }
   ],
   "source": [
    "plt.boxplot(data)\n",
    "plt.tick_params()\n",
    "plt.show()"
   ]
  },
  {
   "cell_type": "markdown",
   "metadata": {
    "colab_type": "text",
    "id": "2UI376YLM3u5"
   },
   "source": [
    "### 7.2. Box Plot 축 바꾸기"
   ]
  },
  {
   "cell_type": "markdown",
   "metadata": {
    "colab_type": "text",
    "id": "3mmo_FWAM3u9"
   },
   "source": [
    "**vert=False**  옵션을 통해 표시하고자 하는 축을 바꿀 수 있습니다."
   ]
  },
  {
   "cell_type": "code",
   "execution_count": 110,
   "metadata": {
    "colab": {
     "base_uri": "https://localhost:8080/",
     "height": 555
    },
    "colab_type": "code",
    "executionInfo": {
     "elapsed": 1162,
     "status": "ok",
     "timestamp": 1586246221376,
     "user": {
      "displayName": "Teddy Lee",
      "photoUrl": "https://lh3.googleusercontent.com/a-/AOh14GhSTZDlaIYPFiHXxGK186wkYGVbcp9X6Jzmzq-3=s64",
      "userId": "02735440789095269991"
     },
     "user_tz": -540
    },
    "id": "Z2bswib0M3u-",
    "outputId": "e107f41e-8565-40d4-8cda-8d61bff3a97b"
   },
   "outputs": [
    {
     "data": {
      "image/png": "[encoded data removed]",
      "text/plain": [
       "<Figure size 648x432 with 1 Axes>"
      ]
     },
     "metadata": {
      "needs_background": "light"
     },
     "output_type": "display_data"
    }
   ],
   "source": [
    "plt.title('horizontal box plot', fontsize=15)\n",
    "plt.boxplot(data, vert=False)\n",
    "plt.show()"
   ]
  },
  {
   "cell_type": "markdown",
   "metadata": {
    "colab_type": "text",
    "id": "T5YPPT-mM3vH"
   },
   "source": [
    "### 7.3. Outlier 마커 심볼과 컬러 변경"
   ]
  },
  {
   "cell_type": "code",
   "execution_count": 123,
   "metadata": {
    "colab": {
     "base_uri": "https://localhost:8080/",
     "height": 555
    },
    "colab_type": "code",
    "executionInfo": {
     "elapsed": 1367,
     "status": "ok",
     "timestamp": 1586246318538,
     "user": {
      "displayName": "Teddy Lee",
      "photoUrl": "https://lh3.googleusercontent.com/a-/AOh14GhSTZDlaIYPFiHXxGK186wkYGVbcp9X6Jzmzq-3=s64",
      "userId": "02735440789095269991"
     },
     "user_tz": -540
    },
    "id": "f6EH2omJM3vS",
    "outputId": "2a7ed4e9-7a70-4548-fbf2-6382778b4b2d",
    "scrolled": true
   },
   "outputs": [
    {
     "data": {
      "image/png": "[encoded data removed]",
      "text/plain": [
       "<Figure size 648x432 with 1 Axes>"
      ]
     },
     "metadata": {
      "needs_background": "light"
     },
     "output_type": "display_data"
    }
   ],
   "source": [
    "outlier_maker = dict(markerfacecolor='r', marker='D')\n",
    "plt.boxplot(data, flierprops=outlier_maker)\n",
    "plt.show()"
   ]
  },
  {
   "cell_type": "code",
   "execution_count": null,
   "metadata": {},
   "outputs": [],
   "source": []
  }
 ],
 "metadata": {
  "kernelspec": {
   "display_name": "Python 3",
   "language": "python",
   "name": "python3"
  },
  "language_info": {
   "codemirror_mode": {
    "name": "ipython",
    "version": 3
   },
   "file_extension": ".py",
   "mimetype": "text/x-python",
   "name": "python",
   "nbconvert_exporter": "python",
   "pygments_lexer": "ipython3",
   "version": "3.8.8"
  },
  "toc": {
   "base_numbering": 1,
   "nav_menu": {},
   "number_sections": false,
   "sideBar": true,
   "skip_h1_title": false,
   "title_cell": "Table of Contents",
   "title_sidebar": "Contents",
   "toc_cell": false,
   "toc_position": {
    "height": "calc(100% - 180px)",
    "left": "10px",
    "top": "150px",
    "width": "304.469px"
   },
   "toc_section_display": true,
   "toc_window_display": false
  }
 },
 "nbformat": 4,
 "nbformat_minor": 4
}
