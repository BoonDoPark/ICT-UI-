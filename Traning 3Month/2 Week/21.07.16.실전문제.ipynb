{
 "cells": [
  {
   "cell_type": "markdown",
   "metadata": {},
   "source": [
    "#### 1.번"
   ]
  },
  {
   "cell_type": "markdown",
   "metadata": {},
   "source": [
    "- 2021년 한국프로야구 리그에서는 경기조작을 맞고자 당일아침 추첨에 의해 주심을 정한다.\n",
    "- director = ['이승엽', '박찬호', '김태균', '윤석민', '이종범', '이상훈', '홍성흔']\n",
    "- 경기는 총 5경기가 열린다."
   ]
  },
  {
   "cell_type": "code",
   "execution_count": 1,
   "metadata": {},
   "outputs": [
    {
     "name": "stdout",
     "output_type": "stream",
     "text": [
      "1경기 : 이종범\n",
      "2경기 : 박찬호\n",
      "3경기 : 이승엽\n",
      "4경기 : 김태균\n",
      "5경기 : 홍성흔\n"
     ]
    }
   ],
   "source": [
    "import random\n",
    "\n",
    "director = ['이승엽', '박찬호', '김태균', '윤석민', '이종범', '이상훈', '홍성흔']\n",
    "d = random.sample(director, k=5)\n",
    "\n",
    "for i, v in enumerate(d):\n",
    "    print(f'{i+1}경기 : {v}')\n"
   ]
  },
  {
   "cell_type": "markdown",
   "metadata": {},
   "source": [
    "#### 2번"
   ]
  },
  {
   "cell_type": "markdown",
   "metadata": {},
   "source": [
    "- 카운터에는 거스름돈으로 사용할 500원, 100원, 50원, 10원 짜리의 동전이 무한히 존재한다고  가정한다.\n",
    "- 손님에게 거슬러 줘야 할 돈이 N원일때 거슬러 줘야 할 동전의 최소 개수를 구하라.\n",
    "- 거슬러 줘야 할 돈 N은 항상 10의 배수이다\n",
    "- 출력 -> 거스름돈 : 0원, 거슬러 줘야 할 동전의 개수 : 6개"
   ]
  },
  {
   "cell_type": "code",
   "execution_count": 12,
   "metadata": {},
   "outputs": [
    {
     "name": "stdout",
     "output_type": "stream",
     "text": [
      "거스름돈 : 0, 거슬러 줘야 할 동전의 개수 : 6\n"
     ]
    }
   ],
   "source": [
    "n = 1260\n",
    "count = 0\n",
    "\n",
    "\n",
    "print(f'거스름돈 : {n}, 거슬러 줘야 할 동전의 개수 : {count}')"
   ]
  },
  {
   "cell_type": "code",
   "execution_count": 2,
   "metadata": {},
   "outputs": [
    {
     "name": "stdout",
     "output_type": "stream",
     "text": [
      "거스름돈 : 0, 거슬러 줘야 할 동전의 개수 : 6\n"
     ]
    }
   ],
   "source": [
    "n = 1260\n",
    "count = 0\n",
    "\n",
    "while True:\n",
    "    count += n//500\n",
    "    n = n%500\n",
    "    count += n//100\n",
    "    n = n%100\n",
    "    count += n//50\n",
    "    n = n%50\n",
    "    count += n//10\n",
    "    n = n%10\n",
    "    \n",
    "    if n == 0:\n",
    "        break\n",
    "\n",
    "print(f'거스름돈 : {n}, 거슬러 줘야 할 동전의 개수 : {count}')"
   ]
  },
  {
   "cell_type": "markdown",
   "metadata": {},
   "source": [
    "#### 3. 다음 질문에 알맞는 프로그램을 작성하시오.\n",
    "- 새 학기를 맞아 반장선거를 하기로 했습니다. 그런데 표를 하나씩 개표하는 과정이 너무 번거롭게 느껴진 선생님은 **학생들이 뽑은 후보들을 입력받으면 뽑힌 학생의 이름과 받은 표 수를 출력하는 프로그램**을 작성하기로 하였습니다.\n",
    "- 입력 : 첫 줄에 학생들이 뽑은 후보들이 입력됩니다. \n",
    "- 예1) 아이유 석진 지민 정국 석진 정국 석진 남준 석진 남준 -> 출력 : 석진(이)가 4표로 반장이 되었습니다.\n",
    "- 예2) 아이유 석진 지민 정국 석진 정국 석진 남준 석진 남준 남준 남준 -> 출력 : 석진,남준이가 4표로 동점이 나왔습니다.\n",
    "- 아래 코드를 참고하여 pandas Module을 이용하여 구현하시오.\n"
   ]
  },
  {
   "cell_type": "code",
   "execution_count": 4,
   "metadata": {},
   "outputs": [
    {
     "name": "stdout",
     "output_type": "stream",
     "text": [
      "입력 :아이유 석진 지민 정국 석진 정국 석진 남준 석진 남준 남준 남준\n",
      "{'아이유': 1, '석진': 4, '지민': 1, '정국': 2, '남준': 4}\n",
      "석진,남준이가 석진표로 동점이 나왔습니다.\n"
     ]
    }
   ],
   "source": [
    "data = input('입력 :').split()\n",
    "data_dict = {}\n",
    "\n",
    "for i in data :\n",
    "    if i in data_dict : data_dict[i] += 1\n",
    "    else : data_dict[i] = 1\n",
    "print(data_dict)\n",
    "       \n",
    "name = list(data_dict.keys())   # 후보 이름\n",
    "count = list(data_dict.values())   # 받은 표 수\n",
    "\n",
    "max_data = [name[i] for i in range(len(count)) if count[i]==max(count)]\n",
    "        \n",
    "if len(max_data) > 1 :\n",
    "    result = ','.join(max_data)\n",
    "    print('{}이가 {}표로 동점이 나왔습니다.'.format(result,max(max_data)))\n",
    "else :\n",
    "    print('{}이가 {}표로 반장이 되었습니다.'.format(max_data[0],max(max_data)))"
   ]
  },
  {
   "cell_type": "code",
   "execution_count": 47,
   "metadata": {},
   "outputs": [
    {
     "ename": "AttributeError",
     "evalue": "partially initialized module 'pandas' has no attribute 'core' (most likely due to a circular import)",
     "output_type": "error",
     "traceback": [
      "\u001b[1;31m---------------------------------------------------------------------------\u001b[0m",
      "\u001b[1;31mAttributeError\u001b[0m                            Traceback (most recent call last)",
      "\u001b[1;32m<ipython-input-47-929c70bbacbf>\u001b[0m in \u001b[0;36m<module>\u001b[1;34m\u001b[0m\n\u001b[1;32m----> 1\u001b[1;33m \u001b[1;32mimport\u001b[0m \u001b[0mpandas\u001b[0m \u001b[1;32mas\u001b[0m \u001b[0mpd\u001b[0m\u001b[1;33m\u001b[0m\u001b[1;33m\u001b[0m\u001b[0m\n\u001b[0m\u001b[0;32m      2\u001b[0m \u001b[1;33m\u001b[0m\u001b[0m\n\u001b[0;32m      3\u001b[0m \u001b[0mdata\u001b[0m \u001b[1;33m=\u001b[0m \u001b[0minput\u001b[0m\u001b[1;33m(\u001b[0m\u001b[1;34m'입력 :'\u001b[0m\u001b[1;33m)\u001b[0m\u001b[1;33m.\u001b[0m\u001b[0msplit\u001b[0m\u001b[1;33m(\u001b[0m\u001b[1;33m)\u001b[0m\u001b[1;33m\u001b[0m\u001b[1;33m\u001b[0m\u001b[0m\n\u001b[0;32m      4\u001b[0m \u001b[0mdata_dict\u001b[0m \u001b[1;33m=\u001b[0m \u001b[1;33m{\u001b[0m\u001b[1;33m}\u001b[0m\u001b[1;33m\u001b[0m\u001b[1;33m\u001b[0m\u001b[0m\n\u001b[0;32m      5\u001b[0m \u001b[1;33m\u001b[0m\u001b[0m\n",
      "\u001b[1;32m~\\anaconda3\\lib\\site-packages\\pandas\\__init__.py\u001b[0m in \u001b[0;36m<module>\u001b[1;34m\u001b[0m\n\u001b[0;32m    177\u001b[0m \u001b[1;33m\u001b[0m\u001b[0m\n\u001b[0;32m    178\u001b[0m \u001b[1;32mfrom\u001b[0m \u001b[0mpandas\u001b[0m\u001b[1;33m.\u001b[0m\u001b[0mutil\u001b[0m\u001b[1;33m.\u001b[0m\u001b[0m_tester\u001b[0m \u001b[1;32mimport\u001b[0m \u001b[0mtest\u001b[0m\u001b[1;33m\u001b[0m\u001b[1;33m\u001b[0m\u001b[0m\n\u001b[1;32m--> 179\u001b[1;33m \u001b[1;32mimport\u001b[0m \u001b[0mpandas\u001b[0m\u001b[1;33m.\u001b[0m\u001b[0mtesting\u001b[0m\u001b[1;33m\u001b[0m\u001b[1;33m\u001b[0m\u001b[0m\n\u001b[0m\u001b[0;32m    180\u001b[0m \u001b[1;32mimport\u001b[0m \u001b[0mpandas\u001b[0m\u001b[1;33m.\u001b[0m\u001b[0marrays\u001b[0m\u001b[1;33m\u001b[0m\u001b[1;33m\u001b[0m\u001b[0m\n\u001b[0;32m    181\u001b[0m \u001b[1;33m\u001b[0m\u001b[0m\n",
      "\u001b[1;32m~\\anaconda3\\lib\\site-packages\\pandas\\testing.py\u001b[0m in \u001b[0;36m<module>\u001b[1;34m\u001b[0m\n\u001b[0;32m      3\u001b[0m \"\"\"\n\u001b[0;32m      4\u001b[0m \u001b[1;33m\u001b[0m\u001b[0m\n\u001b[1;32m----> 5\u001b[1;33m from pandas._testing import (\n\u001b[0m\u001b[0;32m      6\u001b[0m     \u001b[0massert_extension_array_equal\u001b[0m\u001b[1;33m,\u001b[0m\u001b[1;33m\u001b[0m\u001b[1;33m\u001b[0m\u001b[0m\n\u001b[0;32m      7\u001b[0m     \u001b[0massert_frame_equal\u001b[0m\u001b[1;33m,\u001b[0m\u001b[1;33m\u001b[0m\u001b[1;33m\u001b[0m\u001b[0m\n",
      "\u001b[1;32m~\\anaconda3\\lib\\site-packages\\pandas\\_testing.py\u001b[0m in \u001b[0;36m<module>\u001b[1;34m\u001b[0m\n\u001b[0;32m   3052\u001b[0m \u001b[1;33m\u001b[0m\u001b[0m\n\u001b[0;32m   3053\u001b[0m \u001b[1;33m\u001b[0m\u001b[0m\n\u001b[1;32m-> 3054\u001b[1;33m \u001b[0mcython_table\u001b[0m \u001b[1;33m=\u001b[0m \u001b[0mpd\u001b[0m\u001b[1;33m.\u001b[0m\u001b[0mcore\u001b[0m\u001b[1;33m.\u001b[0m\u001b[0mbase\u001b[0m\u001b[1;33m.\u001b[0m\u001b[0mSelectionMixin\u001b[0m\u001b[1;33m.\u001b[0m\u001b[0m_cython_table\u001b[0m\u001b[1;33m.\u001b[0m\u001b[0mitems\u001b[0m\u001b[1;33m(\u001b[0m\u001b[1;33m)\u001b[0m\u001b[1;33m\u001b[0m\u001b[1;33m\u001b[0m\u001b[0m\n\u001b[0m\u001b[0;32m   3055\u001b[0m \u001b[1;33m\u001b[0m\u001b[0m\n\u001b[0;32m   3056\u001b[0m \u001b[1;33m\u001b[0m\u001b[0m\n",
      "\u001b[1;31mAttributeError\u001b[0m: partially initialized module 'pandas' has no attribute 'core' (most likely due to a circular import)"
     ]
    }
   ],
   "source": [
    "import pandas as pd\n",
    "\n",
    "data = input('입력 :').split()\n",
    "data_dict = {}\n",
    "\n",
    "for i in data :\n",
    "    if i in data_dict : data_dict[i] += 1\n",
    "    else : data_dict[i] = 1\n",
    "#print(data_dict)\n",
    "       \n",
    "name = list(data_dict.keys())   # 후보 이름\n",
    "count = list(data_dict.values()) \n",
    "\n",
    "z = list(map(list, zip(name, count)))\n",
    "\n",
    "df = pd.DataFrame(z)\n",
    "df.columns = ['이름', '득표수']\n",
    "df2 = df.loc[df['득표수']== max(df['득표수']), '이름']\n",
    "a = [v for i, v in enumerate(df2)]\n",
    "\n",
    "#print(a)    \n",
    "name2 = ','.join(a)\n",
    "print('{}이가 {}표로 반장이 되었습니다.'.format(name2, df['득표수'].max()))"
   ]
  },
  {
   "cell_type": "markdown",
   "metadata": {},
   "source": [
    "### 4번. 공백으로 구분된 숫자리스트를 입력받아서 각종 통계값(합계, 평균, 표준편차)을 계산하는 class statistics을 만들어 통계 프로그램을 작성하시오."
   ]
  },
  {
   "cell_type": "code",
   "execution_count": 14,
   "metadata": {},
   "outputs": [
    {
     "name": "stdout",
     "output_type": "stream",
     "text": [
      "4 5 6\n",
      "입력된 값 :  [4 5 6]\n",
      "합계 :  15\n",
      "평균 :  5.0\n",
      "표준편차 :  0.82\n"
     ]
    }
   ],
   "source": [
    "import numpy as np\n",
    "\n",
    "\n",
    "class Statistics:\n",
    "    pass\n",
    "    \n",
    "data = Statistics()\n",
    "\n",
    "print('입력된 값 : ', data.select)\n",
    "print('합계 : ', data.sum())\n",
    "print('평균 : ', data.mean())\n",
    "print('표준편차 : ', data.std())"
   ]
  },
  {
   "cell_type": "code",
   "execution_count": 13,
   "metadata": {},
   "outputs": [
    {
     "name": "stdout",
     "output_type": "stream",
     "text": [
      "4 5 6\n",
      "입력된 값 :  [4 5 6]\n",
      "합계 :  15\n",
      "평균 :  5.0\n",
      "표준편차 :  0.82\n"
     ]
    }
   ],
   "source": [
    "import numpy as np\n",
    "\n",
    "\n",
    "class Statistics:\n",
    "    def __init__(self):\n",
    "        self.a = input().strip(). split()\n",
    "        self.b = np.array([int(i) for i in self.a])\n",
    "        self.select = self.b\n",
    "        \n",
    "    def sum(self):\n",
    "        return self.b.sum()\n",
    "    \n",
    "    def mean(self):\n",
    "        return self.b.mean()\n",
    "    \n",
    "    def std(self):\n",
    "        return round(self.b.std(), 2)\n",
    "    \n",
    "data = Statistics()\n",
    "\n",
    "print('입력된 값 : ', data.select)\n",
    "print('합계 : ', data.sum())\n",
    "print('평균 : ', data.mean())\n",
    "print('표준편차 : ', data.std())"
   ]
  },
  {
   "cell_type": "markdown",
   "metadata": {},
   "source": [
    "#### 5-1)번\n",
    "- 은행에 가서 계좌를 개설하면 은행이름, 예금주, 계좌번호, 작액이 설정되는 class Account\n",
    "- 생성자에서는 예금주와 초기 잔액을 입력으로 받는다.\n",
    "- 은행이름은 ICT은행으로 계좌는 3자리-두자리-6자리 형태로 랜덤하게 생성"
   ]
  },
  {
   "cell_type": "code",
   "execution_count": 6,
   "metadata": {},
   "outputs": [
    {
     "name": "stdout",
     "output_type": "stream",
     "text": [
      "이름 : 이승엽\n",
      "잔액 : 100\n",
      "은행명 : ICT은행\n",
      "계좌번호 : 274-43-707307\n"
     ]
    }
   ],
   "source": [
    "import random\n",
    "\n",
    "class Account:\n",
    "    def __init__(self, name, balance):\n",
    "        self.name = name\n",
    "        self.balance = balance\n",
    "        Account.bank_name = 'ICT은행'\n",
    "        self.account1 = random.randint(100, 1000)\n",
    "        self.account2 = random.randint(10, 100)\n",
    "        self.account3 = random.randint(100000, 1000000)\n",
    "        self.account = f'{self.account1}-{self.account2}-{self.account3}'\n",
    "\n",
    "    \n",
    "lee = Account('이승엽', 100)\n",
    "print('이름 :', lee.name)\n",
    "print('잔액 :', lee.balance)\n",
    "print('은행명 :', Account.bank_name)\n",
    "print('계좌번호 :', lee.account)"
   ]
  },
  {
   "cell_type": "markdown",
   "metadata": {},
   "source": [
    "**5-2)번**\n",
    "- 클래스 변수를 사용해서 Account클래스로부터 생성된 계좌 객체의 개수를 저장고 계좌의 개수를 출력하는 ge_account_cnt()메서드를 추가하시오."
   ]
  },
  {
   "cell_type": "code",
   "execution_count": 7,
   "metadata": {},
   "outputs": [
    {
     "name": "stdout",
     "output_type": "stream",
     "text": [
      "ICT은행 계좌 수 : 3\n"
     ]
    }
   ],
   "source": [
    "class Account:\n",
    "    pass\n",
    "        \n",
    "lee = Account('이승엽', 100)\n",
    "park = Account('박찬호', 100)\n",
    "yoon = Account('윤석민', 100)\n",
    "Account.get_account_cnt()"
   ]
  },
  {
   "cell_type": "code",
   "execution_count": 15,
   "metadata": {},
   "outputs": [
    {
     "name": "stdout",
     "output_type": "stream",
     "text": [
      "ICT은행 계좌 수 : 3\n"
     ]
    }
   ],
   "source": [
    "class Account:\n",
    "    count = 0\n",
    "    def __init__(self, name, balance):\n",
    "        self.name = name\n",
    "        self.balance = balance\n",
    "        Account.count += 1\n",
    "        \n",
    "    @staticmethod    \n",
    "    def get_account_cnt():\n",
    "        print('ICT은행 계좌 수 : {}'.format(Account.count)) \n",
    "        \n",
    "lee = Account('이승엽', 100)\n",
    "park = Account('박찬호', 100)\n",
    "yoon = Account('윤석민', 100)\n",
    "Account.get_account_cnt()"
   ]
  },
  {
   "cell_type": "markdown",
   "metadata": {},
   "source": [
    "**5-3)번 Account클래스에 입/출금을 위한 plusminus 메서드를 추가하시오.** \n",
    "- 파라미터로 1, 금액 -> 금액만틈 입금, 파라미터 0, 금액 -> 금액만큼 출금"
   ]
  },
  {
   "cell_type": "code",
   "execution_count": 8,
   "metadata": {},
   "outputs": [
    {
     "name": "stdout",
     "output_type": "stream",
     "text": [
      "이름 :  이승엽\n",
      "잔액 :  1100\n",
      "이름 :  이승엽\n",
      "잔액 :  1050\n"
     ]
    }
   ],
   "source": [
    "class Account:\n",
    "    pass\n",
    "    \n",
    "lee = Account('이승엽', 1000)\n",
    "lee.pliusminus(1, 100)\n",
    "print('이름 : ', lee.name)\n",
    "print('잔액 : ', lee.balance)\n",
    "lee.pliusminus(0, 50)\n",
    "print('이름 : ', lee.name)\n",
    "print('잔액 : ', lee.balance)    "
   ]
  },
  {
   "cell_type": "code",
   "execution_count": 16,
   "metadata": {},
   "outputs": [
    {
     "name": "stdout",
     "output_type": "stream",
     "text": [
      "이름 :  이승엽\n",
      "잔액 :  1100\n",
      "이름 :  이승엽\n",
      "잔액 :  1050\n"
     ]
    }
   ],
   "source": [
    "class Account:\n",
    "    def __init__(self, name, balance):\n",
    "        self.name = name\n",
    "        self.balance = balance\n",
    "    \n",
    "    def pliusminus(self, a, b):\n",
    "        if a == 1:\n",
    "            self.balance = self.balance+b\n",
    "        elif a == 0:\n",
    "            self.balance = self.balance-b\n",
    "        return self.balance\n",
    "    \n",
    "lee = Account('이승엽', 1000)\n",
    "lee.pliusminus(1, 100)\n",
    "print('이름 : ', lee.name)\n",
    "print('잔액 : ', lee.balance)\n",
    "lee.pliusminus(0, 50)\n",
    "print('이름 : ', lee.name)\n",
    "print('잔액 : ', lee.balance)    "
   ]
  },
  {
   "cell_type": "markdown",
   "metadata": {},
   "source": [
    "**5-4)번 Account인스턴스에 저장된 정보를 출력하는 display_info()메서드를 추가하시요. 자고는 세자리마다 쉼표를 출력**"
   ]
  },
  {
   "cell_type": "code",
   "execution_count": 9,
   "metadata": {
    "scrolled": true
   },
   "outputs": [
    {
     "name": "stdout",
     "output_type": "stream",
     "text": [
      "이름 : 이승엽\n",
      "잔액 :  1,050\n",
      "은행명 : ICT은행\n",
      "계좌번호 : 808-74-405472\n"
     ]
    }
   ],
   "source": [
    "class Account:\n",
    "    def __init__(self, name, balance):\n",
    "        self.name = name\n",
    "        self.balance = balance\n",
    "        Account.bank_name = 'ICT은행'\n",
    "        self.account1 = random.randint(100, 1000)\n",
    "        self.account2 = random.randint(10, 100)\n",
    "        self.account3 = random.randint(100000, 1000000)\n",
    "        self.account = f'{self.account1}-{self.account2}-{self.account3}'\n",
    "    \n",
    "    def pliusminus(self, a, b):\n",
    "        if a == 1:\n",
    "            self.balance = self.balance+b\n",
    "        elif a == 0:\n",
    "            self.balance = self.balance-b\n",
    "        return self.balance\n",
    "    \n",
    "    def display_info(self):\n",
    "        print('이름 :', lee.name)\n",
    "        print('잔액 : ', format(lee.balance, ','))\n",
    "        print('은행명 :', Account.bank_name)\n",
    "        print('계좌번호 :', lee.account)\n",
    "    \n",
    "lee = Account('이승엽', 1000)\n",
    "lee.pliusminus(1, 100)\n",
    "lee.pliusminus(0, 50)\n",
    "lee.display_info()"
   ]
  },
  {
   "cell_type": "markdown",
   "metadata": {},
   "source": [
    "**5-5)번 입금 횟수가 5회가 될 때 잔고를 기준으로 1%의 이자가 잔고에 추가되도록 코드를 변경하시오.** "
   ]
  },
  {
   "cell_type": "code",
   "execution_count": 10,
   "metadata": {},
   "outputs": [
    {
     "name": "stdout",
     "output_type": "stream",
     "text": [
      "잔액 : 1,515.0\n"
     ]
    }
   ],
   "source": [
    "class Account:\n",
    "    count = 0\n",
    "    def __init__(self, name, balance):\n",
    "        self.name = name\n",
    "        self.balance = balance\n",
    "    \n",
    "    def pliusminus(self, a, b):\n",
    "        Account.count += 1\n",
    "        if a == 1:\n",
    "            self.balance = self.balance+b\n",
    "            if Account.count == 5:\n",
    "                self.balance = self.balance/100+self.balance\n",
    "        elif a == 0:\n",
    "            self.balance = self.balance-b\n",
    "        return self.balance\n",
    "    \n",
    "    \n",
    "lee = Account('이승엽', 1000)\n",
    "lee.pliusminus(1, 100)\n",
    "lee.pliusminus(1, 100)\n",
    "lee.pliusminus(1, 100)\n",
    "lee.pliusminus(1, 100)\n",
    "lee.pliusminus(1, 100)\n",
    "print('잔액 : {}'.format(format(lee.balance, ',')))"
   ]
  },
  {
   "cell_type": "markdown",
   "metadata": {},
   "source": [
    "#### 6번"
   ]
  },
  {
   "cell_type": "code",
   "execution_count": 18,
   "metadata": {},
   "outputs": [
    {
     "name": "stdout",
     "output_type": "stream",
     "text": [
      "게임 규칙은 각 플레이어가 1~3의 숫자를 입력하며 31이나 그 이상을 부르면 탈락입니다.\n",
      "단, 0 또는 4 이상의 숫자를 입력하면 턴을 넘깁니다.\n",
      "1~3 중 숫자를 입력하시오 : 3\n",
      "user: 3 / ai: 6\n",
      "1~3 중 숫자를 입력하시오 : 3\n",
      "user: 9 / ai: 12\n",
      "1~3 중 숫자를 입력하시오 : 3\n",
      "user: 15 / ai: 18\n",
      "1~3 중 숫자를 입력하시오 : 3\n",
      "user: 21 / ai: 23\n",
      "1~3 중 숫자를 입력하시오 : 3\n",
      "user: 26 / ai: 28\n",
      "1~3 중 숫자를 입력하시오 : 2\n",
      "user: 30 / ai: 31\n",
      "1단계 통과 다음 단계로 넘어갑니다.\n",
      "1~3 중 숫자를 입력하시오 : 3\n",
      "user: 3 / ai: 6\n",
      "1~3 중 숫자를 입력하시오 : 3\n",
      "user: 9 / ai: 11\n",
      "1~3 중 숫자를 입력하시오 : 3\n",
      "user: 14 / ai: 15\n",
      "1~3 중 숫자를 입력하시오 : 3\n",
      "user: 18 / ai: 21\n",
      "1~3 중 숫자를 입력하시오 : 1\n",
      "user: 22 / ai: 23\n",
      "1~3 중 숫자를 입력하시오 : 3\n",
      "user: 26 / ai: 29\n",
      "1~3 중 숫자를 입력하시오 : 1\n",
      "user: 30 / ai: 31\n",
      "2단계 통과 다음 단계로 넘어갑니다.\n",
      "1~3 중 숫자를 입력하시오 : 3\n",
      "user: 3 / ai: 5\n",
      "1~3 중 숫자를 입력하시오 : 3\n",
      "user: 8 / ai: 9\n",
      "1~3 중 숫자를 입력하시오 : 3\n",
      "user: 12 / ai: 15\n",
      "1~3 중 숫자를 입력하시오 : 3\n",
      "user: 18 / ai: 21\n",
      "1~3 중 숫자를 입력하시오 : 1\n",
      "user: 22 / ai: 23\n",
      "1~3 중 숫자를 입력하시오 : 3\n",
      "user: 26 / ai: 28\n",
      "1~3 중 숫자를 입력하시오 : 2\n",
      "user: 30 / ai: 31\n",
      "3단계 통과 다음 단계로 넘어갑니다.\n",
      "축하합니다! 모든 스테이지를 클리어 하셨습니다.\n"
     ]
    }
   ],
   "source": [
    "import random\n",
    "\n",
    "\n",
    "count1 = 0\n",
    "count2 = 0\n",
    "count = 0\n",
    "num = 0\n",
    "\n",
    "print('게임 규칙은 각 플레이어가 1~3의 숫자를 입력하며 31이나 그 이상을 부르면 탈락입니다.')\n",
    "print('단, 0 또는 4 이상의 숫자를 입력하면 턴을 넘깁니다.')\n",
    "\n",
    "while True:\n",
    "    count += 1\n",
    "    while count < 4:\n",
    "        if num == 0:\n",
    "            user = int(input('1~3 중 숫자를 입력하시오 : '))\n",
    "            count1 = user + count2\n",
    "        \n",
    "            num +=1\n",
    "            num %= 2\n",
    "        \n",
    "        elif num == 1:\n",
    "            ai = random.randint(1, 3)\n",
    "            count2 = ai+count1\n",
    "        \n",
    "            num +=1\n",
    "            num %= 2\n",
    "        \n",
    "            print('user: {} / ai: {}'.format(count1, count2))\n",
    "            if count2>=31:\n",
    "                break\n",
    "    \n",
    "    if count1 >=31:\n",
    "        print('user : 31 / game over')\n",
    "        break\n",
    "    elif count2 >= 31:\n",
    "        print('{}단계 통과 다음 단계로 넘어갑니다.'.format(count))\n",
    "        count2 = 0\n",
    "\n",
    "    if count == 3:\n",
    "        print('축하합니다! 모든 스테이지를 클리어 하셨습니다.')\n",
    "        break\n"
   ]
  }
 ],
 "metadata": {
  "kernelspec": {
   "display_name": "Python 3",
   "language": "python",
   "name": "python3"
  },
  "language_info": {
   "codemirror_mode": {
    "name": "ipython",
    "version": 3
   },
   "file_extension": ".py",
   "mimetype": "text/x-python",
   "name": "python",
   "nbconvert_exporter": "python",
   "pygments_lexer": "ipython3",
   "version": "3.8.8"
  },
  "toc": {
   "base_numbering": 1,
   "nav_menu": {},
   "number_sections": false,
   "sideBar": true,
   "skip_h1_title": false,
   "title_cell": "Table of Contents",
   "title_sidebar": "Contents",
   "toc_cell": false,
   "toc_position": {},
   "toc_section_display": true,
   "toc_window_display": false
  }
 },
 "nbformat": 4,
 "nbformat_minor": 4
}
