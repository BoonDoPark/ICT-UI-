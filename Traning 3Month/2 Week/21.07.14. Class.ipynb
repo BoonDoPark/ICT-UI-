{
 "cells": [
  {
   "cell_type": "markdown",
   "metadata": {},
   "source": [
    "## 1. class와 object 이해하기"
   ]
  },
  {
   "cell_type": "markdown",
   "metadata": {},
   "source": [
    "### 1.1. class란?\n",
    "- 실세계의 것을 모델링하여 속성(attribute)와 동작(method)를 갖는 데이터 타입\n",
    "- python에서의 data type은 string, int, list, dict.. 모두가 다 클래스로 존재\n",
    "- 예1) '인간'이라는 클래스 : 속성(이름/나이/국적/키..)과 동작(먹다/자다/일하다)을 가진다.\n",
    "- 예2) list : 속성(요소들..)과 동작(append, extend, pop...)을 가진다.\n",
    "- 다루고자 하는 데이터(변수) 와 데이터를 다루는 연산(함수)를 하나로 캡슐화(encapsulation)하여 클래스로 표현\n",
    "- 모델링에서 중요시 하는 속성에 따라 클래스의 속성과 행동이 각각 달라짐\n",
    "- 클래스는 새로운 타입을 정의하는 것.\n",
    " "
   ]
  },
  {
   "cell_type": "markdown",
   "metadata": {},
   "source": [
    "### 1.2. object 란?\n",
    "- 클래스로 생성되어 구체화된 객체(object, instance)\n",
    "- 파이썬의 모든 것(int, str, list..etc)은 객체(인스턴스)\n",
    "- 실제로 class가 인스턴스화 되어 메모리에 상주하는 상태를 의미\n",
    "- class가 빵틀이라면, object는 실제로 빵틀로 찍어낸 빵이라고 비유 가능\n",
    "- 예1) '인간'이라는 클래스, 홍길동, 아이유라는 객체\n",
    "- 예2) list 클래스, [1,2,3],['hello','world'] 객체\n"
   ]
  },
  {
   "cell_type": "code",
   "execution_count": 4,
   "metadata": {},
   "outputs": [
    {
     "name": "stdout",
     "output_type": "stream",
     "text": [
      "[1, 2, 3, 4, 5]\n"
     ]
    }
   ],
   "source": [
    "a = [1, 2, 3, 4]\n",
    "a.append(5)\n",
    "print(a)"
   ]
  },
  {
   "cell_type": "markdown",
   "metadata": {},
   "source": [
    "## 2. class 선언하기\n",
    "  - 객체를 생성하기 위해선 객체의 모체가 되는 class를 미리 선언해야 함 "
   ]
  },
  {
   "cell_type": "code",
   "execution_count": 5,
   "metadata": {},
   "outputs": [],
   "source": [
    "class Person:\n",
    "    pass\n"
   ]
  },
  {
   "cell_type": "code",
   "execution_count": 6,
   "metadata": {},
   "outputs": [
    {
     "name": "stdout",
     "output_type": "stream",
     "text": [
      "<class '__main__.Person'> <class '__main__.Person'>\n",
      "<class 'list'> <class 'list'>\n"
     ]
    }
   ],
   "source": [
    "bob = Person()\n",
    "andy = Person()\n",
    "\n",
    "a=list()\n",
    "b=list()\n",
    "\n",
    "print(type(bob), type(andy))\n",
    "print(type(a), type(b))"
   ]
  },
  {
   "cell_type": "markdown",
   "metadata": {},
   "source": [
    "### 2.1. __init__(self)\n",
    " - 생성자, 클래스 인스턴스가 생성될 때 호출됨\n",
    " - self인자는 항상 첫번째에 오며 자기 자신을 가리킴\n",
    " - 이름이 꼭 self일 필요는 없지만, 관례적으로 self로 사용\n",
    " - 생성자에서는 해당 클래스가 다루는 데이터를 정의, 이 데이터를 멤버 변수(member variable) 또는 속성(attribute)라고 함"
   ]
  },
  {
   "cell_type": "code",
   "execution_count": 1,
   "metadata": {},
   "outputs": [
    {
     "name": "stdout",
     "output_type": "stream",
     "text": [
      "bob 10\n",
      "andy 20\n"
     ]
    }
   ],
   "source": [
    "class Person:\n",
    "    \n",
    "    def __init__(self):\n",
    "        self.name = 'bob'\n",
    "        self.age = 10\n",
    "        # print(self)\n",
    "        \n",
    "\n",
    "p1 = Person()\n",
    "print(p1.name, p1.age)\n",
    "\n",
    "p2 = Person()\n",
    "p2.name = 'andy'\n",
    "p2.age = 20\n",
    "print(p2.name, p2.age)"
   ]
  },
  {
   "cell_type": "code",
   "execution_count": 2,
   "metadata": {},
   "outputs": [
    {
     "name": "stdout",
     "output_type": "stream",
     "text": [
      "bob 20\n",
      "andy 30\n"
     ]
    }
   ],
   "source": [
    "class Person:\n",
    "    \n",
    "    def __init__(self, name, age):\n",
    "        self.name = name\n",
    "        self.age = age\n",
    "\n",
    "p1 = Person('bob', 20)\n",
    "p2 = Person('andy', 30)\n",
    "print(p1.name, p1.age)\n",
    "print(p2.name, p2.age)"
   ]
  },
  {
   "cell_type": "code",
   "execution_count": 7,
   "metadata": {},
   "outputs": [
    {
     "name": "stdout",
     "output_type": "stream",
     "text": [
      "1\n",
      "2\n",
      "bob 20\n",
      "andy 30\n"
     ]
    }
   ],
   "source": [
    "class Person:\n",
    "    count = 0 # 클래스 변수\n",
    "    def __init__(self, name, age):\n",
    "        self.name = name\n",
    "        self.age = age\n",
    "        Person.count +=1\n",
    "        print(Person.count)\n",
    "\n",
    "\n",
    "p1 = Person('bob', 20)\n",
    "p2 = Person('andy', 30)\n",
    "\n",
    "print(p1.name, p1.age)\n",
    "print(p2.name, p2.age)"
   ]
  },
  {
   "cell_type": "markdown",
   "metadata": {},
   "source": [
    "### 2.2. self\n",
    "  - 파이썬의 method는 항상 첫번째 인자로 self를 전달\n",
    "  - self는 현재 해당 method가 호출되는 자신을 가리킴\n",
    "  - C++/C#,Java의 this에 해당\n",
    "  - 이름이 self일 필요는 없으나, 위치는 항상 맨 처음의 parameter이며 관례적으로 self로 사용\n"
   ]
  },
  {
   "cell_type": "code",
   "execution_count": 10,
   "metadata": {},
   "outputs": [
    {
     "name": "stdout",
     "output_type": "stream",
     "text": [
      "bob 은 잠을 잡니다.\n",
      "andy 은 잠을 잡니다.\n"
     ]
    }
   ],
   "source": [
    "class Person:\n",
    "    def __init__(self, name, age):\n",
    "        self.name = name\n",
    "        self.age = age\n",
    "        \n",
    "    def sleep(self):\n",
    "        print(self.name, '은 잠을 잡니다.')\n",
    "\n",
    "\n",
    "p1 = Person('bob', 20)\n",
    "p2 = Person('andy', 30)\n",
    "\n",
    "p1.sleep()\n",
    "p2.sleep()"
   ]
  },
  {
   "cell_type": "markdown",
   "metadata": {},
   "source": [
    "### 2.3. mehtod 정의\n",
    "- 멤버함수라고도 하며, 해당 클래스의 object에서만 호출가능\n",
    "- 메쏘드는 객체 레벨에서 호출되며, 해당 객체의 속성에 대한 연산을 행함\n",
    "- obj.method() 형태로 호출됨"
   ]
  },
  {
   "cell_type": "code",
   "execution_count": 22,
   "metadata": {},
   "outputs": [
    {
     "name": "stdout",
     "output_type": "stream",
     "text": [
      "현재 값 : 0 0\n",
      "현재 값 : 3 30\n",
      "--------------------\n",
      "현재 값 : 1 40\n",
      "--------------------\n",
      "현재 값 : 0 0\n",
      "현재 값 : 1 10\n",
      "--------------------\n"
     ]
    }
   ],
   "source": [
    "class Calculator:\n",
    "    count=0\n",
    "    def __init__(self):\n",
    "        self.num = 0\n",
    "    \n",
    "    def plus(self):\n",
    "        self.num += 1\n",
    "        Calculator.count += 10\n",
    "    \n",
    "    def reset(self):\n",
    "        self.num = 0\n",
    "        Calculator.count = 0\n",
    "    \n",
    "    def print_current_value(self):\n",
    "        print('현재 값 :', self.num, Calculator.count)\n",
    "    \n",
    "    \n",
    "c1 = Calculator()\n",
    "c2 = Calculator()\n",
    "\n",
    "\n",
    "c1.print_current_value()\n",
    "c1.plus()\n",
    "c1.plus()\n",
    "c1.plus()\n",
    "c1.print_current_value()\n",
    "print('-'*20)\n",
    "c2.plus()\n",
    "c2.print_current_value()\n",
    "print('-'*20)\n",
    "\n",
    "c1.reset()\n",
    "c1.print_current_value()\n",
    "c1.plus()\n",
    "c1.print_current_value()\n",
    "print('-'*20)"
   ]
  },
  {
   "cell_type": "markdown",
   "metadata": {},
   "source": [
    "#### 2.3.1. staticmethod\n",
    "- 자기 내부의 유지하는 값은 없는 속성이 없는 class\n",
    "- 내부적으로 유지하는 데이터가 없고 전달되는 데이터 값만 반환\n",
    "- @staticmethod라고 명시\n",
    "- classMethod or staticmethod 라고 부른다."
   ]
  },
  {
   "cell_type": "code",
   "execution_count": 25,
   "metadata": {},
   "outputs": [
    {
     "name": "stdout",
     "output_type": "stream",
     "text": [
      "30\n",
      "200\n"
     ]
    }
   ],
   "source": [
    "class Math:\n",
    "    def add(self, a, b):\n",
    "        return a+b\n",
    "    \n",
    "    def mul(self, a, b):\n",
    "        return a*b\n",
    "    \n",
    "\n",
    "m = Math()\n",
    "\n",
    "# 객체 레벨에서 사용. 속성이 없는 class는 객체레벨의 method를 생성할 필요가 없다.\n",
    "print(m.add(10, 20))\n",
    "print(m.mul(10, 20))"
   ]
  },
  {
   "cell_type": "code",
   "execution_count": 27,
   "metadata": {},
   "outputs": [
    {
     "data": {
      "text/plain": [
       "200"
      ]
     },
     "execution_count": 27,
     "metadata": {},
     "output_type": "execute_result"
    }
   ],
   "source": [
    "class Math:\n",
    "    @staticmethod\n",
    "    def add(a, b):\n",
    "        return a+b\n",
    "    \n",
    "    @staticmethod\n",
    "    def mul(a, b):\n",
    "        return a*b\n",
    "\n",
    "m = Math()\n",
    "m.add(10, 20)\n",
    "m.mul(10, 20)"
   ]
  },
  {
   "cell_type": "markdown",
   "metadata": {},
   "source": [
    " #### 2.3.2. Class Inheritance (상속)\n",
    "  - 기존에 정의해둔 클래스의 기능을 그대로 물려받을 수 있다.\n",
    "  - 기존 클래스에 기능 일부를 추가하거나, 변경하여 새로운 클래스를 정의한다.\n",
    "  - 코드를 재사용할 수 있게된다.\n",
    "  - 상속 받고자 하는 대상인 기존 클래스는 (Parent, Super, Base class)\n",
    "  - 상속 받는 새로운 클래스는(Child, Sub, Derived class)\n",
    "  - 의미적으로 is-a관계를 갖는다."
   ]
  },
  {
   "cell_type": "markdown",
   "metadata": {},
   "source": [
    "**method override**\n",
    " - 부모 클래스의 method를 재정의(override)\n",
    " - 하위 클래스(자식 클래스) 의 인스턴스로 호출시, 재정의된 메소드가 호출됨"
   ]
  },
  {
   "cell_type": "code",
   "execution_count": 44,
   "metadata": {},
   "outputs": [
    {
     "name": "stdout",
     "output_type": "stream",
     "text": [
      "bob은 BBQ를 먹습니다.\n",
      "bob은 60분 동안 잡니다.\n",
      "bob은 30분 동안 일을 합니다.\n"
     ]
    }
   ],
   "source": [
    "# 부모 class\n",
    "class Person:\n",
    "    def __init__(self, name, age):\n",
    "        self.name = name\n",
    "        self.age = age\n",
    "        \n",
    "    def eat(self, food):\n",
    "        print('{}은 {}를 먹습니다.'.format(self.name, food))\n",
    "        \n",
    "    def sleep(self, time):\n",
    "        print('{}은 {}분 동안 잡니다.'.format(self.name, time))\n",
    "        \n",
    "    def work(self, time):\n",
    "        print('{}은 {}분 동안 일을 합니다.'.format(self.name, time))\n",
    "        \n",
    "# 자식 class\n",
    "class Student(Person):\n",
    "    pass\n",
    "\n",
    "class Employee(Person):\n",
    "    pass\n",
    "\n",
    "bob = Person('bob', 20)\n",
    "bob.eat('BBQ')\n",
    "bob.sleep(60)\n",
    "bob.work(30)"
   ]
  },
  {
   "cell_type": "code",
   "execution_count": 45,
   "metadata": {},
   "outputs": [
    {
     "name": "stdout",
     "output_type": "stream",
     "text": [
      "bob은 BBQ를 먹습니다.\n",
      "bob은 60분 동안 잡니다.\n",
      "bob은 30분 동안 공부를 합니다.\n",
      "------------------------------\n",
      "clara은 hotdog를 먹습니다.\n",
      "clara은 30분 동안 잡니다.\n",
      "clara은 60분 동안 공부를 합니다.\n",
      "------------------------------\n",
      "andy은 nuddle를 먹습니다.\n",
      "andy은 30분 동안 잡니다.\n",
      "andy은 90분 동안 업무을 합니다.\n"
     ]
    }
   ],
   "source": [
    "# 부모 class\n",
    "class Person:\n",
    "    def __init__(self, name, age):\n",
    "        self.name = name\n",
    "        self.age = age\n",
    "        \n",
    "    def eat(self, food):\n",
    "        print('{}은 {}를 먹습니다.'.format(self.name, food))\n",
    "        \n",
    "    def sleep(self, time):\n",
    "        print('{}은 {}분 동안 잡니다.'.format(self.name, time))\n",
    "        \n",
    "    def work(self, time):\n",
    "        print('{}은 {}분 동안 일을 합니다.'.format(self.name, time))\n",
    "        \n",
    "# 자식 class\n",
    "class Student(Person):\n",
    "    def __init__(self, name, age):\n",
    "        self.name = name\n",
    "        self.age =age\n",
    "    \n",
    "    def work(self, time):\n",
    "        print('{}은 {}분 동안 공부를 합니다.'.format(self.name, time))\n",
    "        \n",
    "        \n",
    "class Employee(Person):\n",
    "    def __init__(self, name, age):\n",
    "        self.name = name\n",
    "        self.age =age\n",
    "        \n",
    "    def work(self, time):\n",
    "        print('{}은 {}분 동안 업무을 합니다.'.format(self.name, time))\n",
    "\n",
    "        \n",
    "bob = Student('bob', 20)\n",
    "bob.eat('BBQ')\n",
    "bob.sleep(60)\n",
    "bob.work(30)\n",
    "print('-'*30)\n",
    "\n",
    "clara = Student('clara', 10)\n",
    "clara.eat('hotdog')\n",
    "clara.sleep(30)\n",
    "clara.work(60)\n",
    "print('-'*30)\n",
    "\n",
    "andy = Employee('andy', 30)\n",
    "andy.eat('nuddle')\n",
    "andy.sleep(30)\n",
    "andy.work(90)"
   ]
  },
  {
   "cell_type": "markdown",
   "metadata": {},
   "source": [
    "**super**\n",
    " - 하위클래스(자식 클래스)에서 부모클래스의 method를 호출할 때 사용\n",
    " - 하위 클래스에서 재정의시 부모클래스 기능 사라짐. "
   ]
  },
  {
   "cell_type": "code",
   "execution_count": 43,
   "metadata": {},
   "outputs": [
    {
     "name": "stdout",
     "output_type": "stream",
     "text": [
      "bob은 BBQ를 먹습니다.\n",
      "bob은 60분 동안 잡니다.\n",
      "bob은 30분 동안 준비를 합니다.\n",
      "------------------------------\n",
      "clara은 hotdog를 먹습니다.\n",
      "clara은 30분 동안 잡니다.\n",
      "clara은 10분 동안 준비를 합니다.\n",
      "clara은 60분 동안 공부를 합니다.\n",
      "------------------------------\n",
      "andy은 nuddle를 먹습니다.\n",
      "andy은 30분 동안 잡니다.\n",
      "andy은 15분 동안 준비를 합니다.\n",
      "andy은 90분 동안 업무를 합니다.\n"
     ]
    }
   ],
   "source": [
    "# 부모 class\n",
    "class Person:\n",
    "    def __init__(self, name, age):\n",
    "        self.name = name\n",
    "        self.age = age\n",
    "        \n",
    "    def eat(self, food):\n",
    "        print('{}은 {}를 먹습니다.'.format(self.name, food))\n",
    "        \n",
    "    def sleep(self, time):\n",
    "        print('{}은 {}분 동안 잡니다.'.format(self.name, time))\n",
    "        \n",
    "    def work(self, time):\n",
    "        print('{}은 {}분 동안 준비를 합니다.'.format(self.name, time))\n",
    "        \n",
    "# 자식 class\n",
    "class Student(Person):\n",
    "    def __init__(self, name, age):\n",
    "        self.name = name\n",
    "        self.age =age\n",
    "    \n",
    "    def work(self, time1, time2):\n",
    "        super().work(time1)\n",
    "        print('{}은 {}분 동안 공부를 합니다.'.format(self.name, time2))\n",
    "        \n",
    "# 자식 class        \n",
    "class Employee(Person):\n",
    "    def __init__(self, name, age):\n",
    "        self.name = name\n",
    "        self.age =age\n",
    "        \n",
    "    def work(self, time1, time2):\n",
    "        super().work(time1)\n",
    "        print('{}은 {}분 동안 업무를 합니다.'.format(self.name, time2))\n",
    "\n",
    "        \n",
    "bob = Person('bob', 20)\n",
    "bob.eat('BBQ')\n",
    "bob.sleep(60)\n",
    "bob.work(30)\n",
    "print('-'*30)\n",
    "\n",
    "clara = Student('clara', 10)\n",
    "clara.eat('hotdog')\n",
    "clara.sleep(30)\n",
    "clara.work(10, 60)\n",
    "print('-'*30)\n",
    "\n",
    "andy = Employee('andy', 30)\n",
    "andy.eat('nuddle')\n",
    "andy.sleep(30)\n",
    "andy.work(15, 90)"
   ]
  },
  {
   "cell_type": "markdown",
   "metadata": {},
   "source": [
    "#### 2.3.3. special method\n",
    " - __로 시작 __로 끝나는 특수 함수\n",
    " - 해당 메쏘드들을 구현하면, 커스텀 객체에 여러가지 파이썬 내장 함수나 연산자를 적용 가능\n",
    " - 오버라이딩 가능한 함수 목록은 아래 링크에서 참조 \n",
    "   - https://docs.python.org/3/reference/datamodel.html"
   ]
  },
  {
   "cell_type": "markdown",
   "metadata": {},
   "source": [
    "**출력하기**"
   ]
  },
  {
   "cell_type": "code",
   "execution_count": 52,
   "metadata": {},
   "outputs": [
    {
     "name": "stdout",
     "output_type": "stream",
     "text": [
      "(3, 4)\n",
      "(2, 7)\n"
     ]
    }
   ],
   "source": [
    "class Point:\n",
    "    def __init__(self, x, y):\n",
    "        self.x = x\n",
    "        self.y = y\n",
    "        \n",
    "    def print_pt(self):\n",
    "        print('({}, {})'.format(self.x, self.y))\n",
    "p1 = Point(3, 4)\n",
    "p2 = Point(2, 7)\n",
    "\n",
    "p1.print_pt()\n",
    "p2.print_pt()"
   ]
  },
  {
   "cell_type": "code",
   "execution_count": 5,
   "metadata": {},
   "outputs": [
    {
     "name": "stdout",
     "output_type": "stream",
     "text": [
      "(3, 4)\n",
      "(2, 7)\n"
     ]
    }
   ],
   "source": [
    "class Point:\n",
    "    def __init__(self, x, y):\n",
    "        self.x = x\n",
    "        self.y = y\n",
    "        \n",
    "    def __str__(self):\n",
    "        return '({}, {})'.format(self.x, self.y)\n",
    "    \n",
    "    \n",
    "p1 = Point(3, 4)\n",
    "p2 = Point(2, 7)\n",
    "\n",
    "print(p1)\n",
    "print(p2)"
   ]
  },
  {
   "cell_type": "markdown",
   "metadata": {},
   "source": [
    "**덧셈**"
   ]
  },
  {
   "cell_type": "code",
   "execution_count": 4,
   "metadata": {},
   "outputs": [
    {
     "name": "stdout",
     "output_type": "stream",
     "text": [
      "(3, 4)\n",
      "(2, 7)\n",
      "(5, 11)\n"
     ]
    }
   ],
   "source": [
    "class Point:\n",
    "    def __init__(self, x, y):\n",
    "        self.x = x\n",
    "        self.y = y\n",
    "        \n",
    "    def __str__(self):\n",
    "        return '({}, {})'.format(self.x, self.y)\n",
    "    \n",
    "    def add(self, pt):\n",
    "        new_x = self.x+pt.x\n",
    "        new_y = self.y+pt.y\n",
    "        return Point(new_x, new_y)\n",
    "    \n",
    "p1 = Point(3, 4)\n",
    "p2 = Point(2, 7)\n",
    "p3 = p1.add(p2)\n",
    "\n",
    "print(p1)\n",
    "print(p2)\n",
    "print(p3)"
   ]
  },
  {
   "cell_type": "code",
   "execution_count": 6,
   "metadata": {},
   "outputs": [
    {
     "name": "stdout",
     "output_type": "stream",
     "text": [
      "(3, 4)\n",
      "(2, 7)\n",
      "(5, 11)\n"
     ]
    }
   ],
   "source": [
    "class Point:\n",
    "    def __init__(self, x, y):\n",
    "        self.x = x\n",
    "        self.y = y\n",
    "        \n",
    "    def __str__(self):\n",
    "        return '({}, {})'.format(self.x, self.y)\n",
    "    \n",
    "    def __add__(self, pt):\n",
    "        new_x = self.x+pt.x\n",
    "        new_y = self.y+pt.y\n",
    "        return Point(new_x, new_y)\n",
    "    \n",
    "p1 = Point(3, 4)\n",
    "p2 = Point(2, 7)\n",
    "p3 = p1+p2\n",
    "\n",
    "print(p1)\n",
    "print(p2)\n",
    "print(p3)"
   ]
  },
  {
   "cell_type": "markdown",
   "metadata": {},
   "source": [
    "**class Point**\n",
    "- 2차원 좌표평면 각 점(x, y)\n",
    "- 두 점의 덧셈, 뺄셈(1,2) + (3, 4) = (4, 6)\n",
    "- 한 점과 숫자의 곱셈(1,2)*3 = (3, 6)\n",
    "- x, y 값 가져오기"
   ]
  },
  {
   "cell_type": "code",
   "execution_count": 56,
   "metadata": {},
   "outputs": [
    {
     "name": "stdout",
     "output_type": "stream",
     "text": [
      "[4 6]\n",
      "[3 6]\n"
     ]
    }
   ],
   "source": [
    "import numpy as np\n",
    "\n",
    "class Point:\n",
    "    def __init__(self, x, y):\n",
    "        self.x = x\n",
    "        self.y = y\n",
    "    \n",
    "    def point_add(self):\n",
    "        return self.x + self.y\n",
    "    \n",
    "    def point_mul(self, a):\n",
    "        return self.x*a\n",
    "    \n",
    "\n",
    "n = np.arange(1, 11)\n",
    "b = n.reshape(5, 2)\n",
    "p = Point(b[0], b[1])\n",
    "print(p.point_add())\n",
    "print(p.point_mul(3))"
   ]
  },
  {
   "cell_type": "code",
   "execution_count": 11,
   "metadata": {},
   "outputs": [
    {
     "name": "stdout",
     "output_type": "stream",
     "text": [
      "(5, 11)\n",
      "(1, -3)\n",
      "(6, 28)\n",
      "3\n",
      "4\n"
     ]
    }
   ],
   "source": [
    "class Point:\n",
    "    def __init__(self, x, y):\n",
    "        self.x = x\n",
    "        self.y = y\n",
    "        \n",
    "    def __str__(self):\n",
    "        return '({}, {})'.format(self.x, self.y)\n",
    "    \n",
    "    def __add__(self, pt):\n",
    "        new_x = self.x+pt.x\n",
    "        new_y = self.y+pt.y\n",
    "        return Point(new_x, new_y)\n",
    "    \n",
    "    def __sub__(self, pt):\n",
    "        new_x = self.x-pt.x\n",
    "        new_y = self.y-pt.y\n",
    "        return Point(new_x, new_y)\n",
    "    \n",
    "    def __mul__(self, pt):\n",
    "        new_x = self.x*pt.x\n",
    "        new_y = self.y*pt.y\n",
    "        return Point(new_x, new_y)\n",
    "    \n",
    "    def __getitem__(self, idx):\n",
    "        if idx ==0: return self.x\n",
    "        elif idx == 1: return self.y\n",
    "        else: return -1\n",
    "        \n",
    "    \n",
    "p1 = Point(3, 4)\n",
    "p2 = Point(2, 7)\n",
    "p3 = p1+p2\n",
    "p4 = p1-p2\n",
    "p5 = p1*p2\n",
    "\n",
    "print(p3)\n",
    "print(p4)\n",
    "print(p5)\n",
    "print(p1[0])\n",
    "print(p1[1])"
   ]
  },
  {
   "cell_type": "markdown",
   "metadata": {},
   "source": [
    "#### 연습문제) 두수를 입력받아서 사칙연산을 계산하는 class Calculator를 만들어 계산기 프로그램을 작성하시오."
   ]
  },
  {
   "cell_type": "code",
   "execution_count": 49,
   "metadata": {},
   "outputs": [
    {
     "name": "stdout",
     "output_type": "stream",
     "text": [
      "20 5\n",
      "25\n",
      "15\n",
      "100\n",
      "4\n"
     ]
    }
   ],
   "source": [
    "class Calculator:\n",
    "    def __init__(self, first, second):\n",
    "        self.first = first\n",
    "        self.second = second\n",
    "        \n",
    "    def add(self):\n",
    "        return self.first+self.second\n",
    "    \n",
    "    def sub(self):\n",
    "        return self.first-self.second\n",
    "    \n",
    "    def mul(self):\n",
    "        return self.first*self.second\n",
    "    \n",
    "    def div(self):\n",
    "        return self.first//self.second\n",
    "\n",
    "    \n",
    "num = input().strip().split()\n",
    "cal = Calculator(int(num[0]), int(num[1]))\n",
    "\n",
    "print(cal.add())\n",
    "print(cal.sub())\n",
    "print(cal.mul())\n",
    "print(cal.div())"
   ]
  },
  {
   "cell_type": "code",
   "execution_count": 51,
   "metadata": {},
   "outputs": [
    {
     "name": "stdout",
     "output_type": "stream",
     "text": [
      "15\n",
      "5\n",
      "50\n",
      "2\n"
     ]
    }
   ],
   "source": [
    "class Calculator:\n",
    "        \n",
    "    @staticmethod    \n",
    "    def add(first, second):\n",
    "        return first+second\n",
    "    \n",
    "    @staticmethod\n",
    "    def sub(first, second):\n",
    "        return first-second\n",
    "    \n",
    "    @staticmethod\n",
    "    def mul(first, second):\n",
    "        return first*second\n",
    "    \n",
    "    @staticmethod\n",
    "    def div(first, second):\n",
    "        return first//second\n",
    "    \n",
    "\n",
    "print(Calculator.add(10, 5))\n",
    "print(Calculator.sub(10, 5))\n",
    "print(Calculator.mul(10, 5))\n",
    "print(Calculator.div(10, 5))"
   ]
  }
 ],
 "metadata": {
  "kernelspec": {
   "display_name": "Python 3",
   "language": "python",
   "name": "python3"
  },
  "language_info": {
   "codemirror_mode": {
    "name": "ipython",
    "version": 3
   },
   "file_extension": ".py",
   "mimetype": "text/x-python",
   "name": "python",
   "nbconvert_exporter": "python",
   "pygments_lexer": "ipython3",
   "version": "3.8.8"
  },
  "toc": {
   "base_numbering": 1,
   "nav_menu": {},
   "number_sections": false,
   "sideBar": true,
   "skip_h1_title": false,
   "title_cell": "Table of Contents",
   "title_sidebar": "Contents",
   "toc_cell": false,
   "toc_position": {
    "height": "calc(100% - 180px)",
    "left": "10px",
    "top": "150px",
    "width": "253.729px"
   },
   "toc_section_display": true,
   "toc_window_display": true
  }
 },
 "nbformat": 4,
 "nbformat_minor": 1
}
