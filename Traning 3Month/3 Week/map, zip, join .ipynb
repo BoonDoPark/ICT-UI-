{
 "cells": [
  {
   "cell_type": "markdown",
   "id": "9ad08830",
   "metadata": {},
   "source": [
    "## map 함수\n",
    "\n",
    "- map함수는 map(f, iterable)로 첫번째 인자에 함수, 두번째인자에는 반복가능한 자료형을 입력받는다.\n",
    "- map함수는 list나 tuple로 값을 받는다."
   ]
  },
  {
   "cell_type": "code",
   "execution_count": 6,
   "id": "24816cc3",
   "metadata": {},
   "outputs": [
    {
     "name": "stdout",
     "output_type": "stream",
     "text": [
      "[2, 4, 6, 8, 10]\n"
     ]
    }
   ],
   "source": [
    "# map함수를 쓰지않은 경우\n",
    "\n",
    "def mul(a):\n",
    "    return a*2\n",
    "\n",
    "list_a = [1, 2, 3, 4, 5]\n",
    "list_b = []\n",
    "\n",
    "for i in list_a:\n",
    "    list_b.append(mul(i))\n",
    "    \n",
    "print(list_b)"
   ]
  },
  {
   "cell_type": "code",
   "execution_count": 22,
   "id": "09d14328",
   "metadata": {},
   "outputs": [
    {
     "name": "stdout",
     "output_type": "stream",
     "text": [
      "[2, 4, 6, 8, 10]\n"
     ]
    }
   ],
   "source": [
    "# map함수를 쓴 경우\n",
    "def mul(a):\n",
    "    return a*2\n",
    "\n",
    "list_a = list(map(mul, [1, 2, 3, 4, 5]))\n",
    "print(list_a)"
   ]
  },
  {
   "cell_type": "code",
   "execution_count": 1,
   "id": "8e86ecf2",
   "metadata": {},
   "outputs": [
    {
     "data": {
      "text/plain": [
       "[2, 4, 6, 8, 10]"
      ]
     },
     "execution_count": 1,
     "metadata": {},
     "output_type": "execute_result"
    }
   ],
   "source": [
    "# 간단한 계산식은 lambda함수를 써서 코드 줄일 수 있다.\n",
    "list_a = list(map(lambda a: a*2, [1, 2, 3, 4, 5]))\n",
    "list_a"
   ]
  },
  {
   "cell_type": "code",
   "execution_count": 4,
   "id": "c4c9cffc",
   "metadata": {},
   "outputs": [
    {
     "ename": "TypeError",
     "evalue": "'int' object is not iterable",
     "output_type": "error",
     "traceback": [
      "\u001b[1;31m---------------------------------------------------------------------------\u001b[0m",
      "\u001b[1;31mTypeError\u001b[0m                                 Traceback (most recent call last)",
      "\u001b[1;32m<ipython-input-4-01f60306f4a4>\u001b[0m in \u001b[0;36m<module>\u001b[1;34m\u001b[0m\n\u001b[0;32m      3\u001b[0m     \u001b[1;32mreturn\u001b[0m \u001b[0mdict_a\u001b[0m\u001b[1;33m\u001b[0m\u001b[1;33m\u001b[0m\u001b[0m\n\u001b[0;32m      4\u001b[0m \u001b[1;33m\u001b[0m\u001b[0m\n\u001b[1;32m----> 5\u001b[1;33m \u001b[1;32mfor\u001b[0m \u001b[0mi\u001b[0m \u001b[1;32min\u001b[0m \u001b[0mmap\u001b[0m\u001b[1;33m(\u001b[0m\u001b[0mabc\u001b[0m\u001b[1;33m,\u001b[0m \u001b[1;36m1\u001b[0m\u001b[1;33m,\u001b[0m \u001b[1;36m2\u001b[0m\u001b[1;33m,\u001b[0m \u001b[1;36m3\u001b[0m\u001b[1;33m,\u001b[0m \u001b[1;36m4\u001b[0m\u001b[1;33m,\u001b[0m \u001b[1;36m5\u001b[0m\u001b[1;33m)\u001b[0m\u001b[1;33m:\u001b[0m\u001b[1;33m\u001b[0m\u001b[1;33m\u001b[0m\u001b[0m\n\u001b[0m\u001b[0;32m      6\u001b[0m     \u001b[0mprint\u001b[0m\u001b[1;33m(\u001b[0m\u001b[0mi\u001b[0m\u001b[1;33m)\u001b[0m\u001b[1;33m\u001b[0m\u001b[1;33m\u001b[0m\u001b[0m\n",
      "\u001b[1;31mTypeError\u001b[0m: 'int' object is not iterable"
     ]
    }
   ],
   "source": [
    "def abc(dict_a):\n",
    "    dict_a = dict(range(0, 5))\n",
    "    return dict_a\n",
    "\n",
    "for i in map(abc, ):\n",
    "    print(i)"
   ]
  },
  {
   "cell_type": "markdown",
   "id": "be642a89",
   "metadata": {},
   "source": [
    "## zip함수\n",
    "\n",
    "- zip함수는 동일한 개수의 자료형을 엮어주는 함수이다.\n",
    "- 인자의 길이가 다를때, 가장 짦은 인자를 기준으로 엮이고 사라지기 때문에 주의해야한다."
   ]
  },
  {
   "cell_type": "code",
   "execution_count": 6,
   "id": "c4b43a20",
   "metadata": {},
   "outputs": [
    {
     "name": "stdout",
     "output_type": "stream",
     "text": [
      "(1, '1')\n",
      "(2, '2')\n",
      "(3, '3')\n",
      "(4, '4')\n"
     ]
    }
   ],
   "source": [
    "# zip함수를 쓰지 않을때\n",
    "list_a = [1, 2, 3, 4]\n",
    "list_b = ['1', '2', '3', '4']\n",
    "\n",
    "for i in range(len(list_a)):\n",
    "    tuple_c = (list_a[i], list_b[i])\n",
    "    print(tuple_c)"
   ]
  },
  {
   "cell_type": "code",
   "execution_count": 7,
   "id": "0342685f",
   "metadata": {},
   "outputs": [
    {
     "name": "stdout",
     "output_type": "stream",
     "text": [
      "(1, '1')\n",
      "(2, '2')\n",
      "(3, '3')\n",
      "(4, '4')\n"
     ]
    }
   ],
   "source": [
    "# zip함수를 쓴 경우\n",
    "list_a = [1, 2, 3, 4]\n",
    "list_b = ['1', '2', '3', '4']\n",
    "\n",
    "for i in zip(list_a, list_b):\n",
    "    print(i)"
   ]
  },
  {
   "cell_type": "code",
   "execution_count": 24,
   "id": "3d62650b",
   "metadata": {},
   "outputs": [
    {
     "data": {
      "text/plain": [
       "[[1, '1'], [2, '2'], [3, '3'], [4, '4']]"
      ]
     },
     "execution_count": 24,
     "metadata": {},
     "output_type": "execute_result"
    }
   ],
   "source": [
    "# map함수와 zip함수를 동시에 쓸수도 있다.\n",
    "list_a = [1, 2, 3, 4]\n",
    "list_b = ['1', '2', '3', '4']\n",
    "\n",
    "# list_c = list(map(tuple, zip(list_a, list_b))) 리스트안의 튜플형태\n",
    "list_c = list(map(list, zip(list_a, list_b)))\n",
    "list_c"
   ]
  },
  {
   "cell_type": "markdown",
   "id": "63a0a128",
   "metadata": {},
   "source": [
    "## join함수\n",
    "\n",
    "- 매개변수로 들어온 리스트에 있는 요소 하나하나를 합쳐서 하나의 문자열로 바꾸어 반환하는 함수이다.\n",
    "- ''사이에 특수문자를 넣었을 수 있다."
   ]
  },
  {
   "cell_type": "code",
   "execution_count": 26,
   "id": "33743e2b",
   "metadata": {},
   "outputs": [
    {
     "name": "stdout",
     "output_type": "stream",
     "text": [
      "hello world python\n"
     ]
    }
   ],
   "source": [
    "# 단어 사이사이를 띄어줄 수 있다.\n",
    "list_a = ['hello', 'world', 'python']\n",
    "print(' '.join(list_a))"
   ]
  },
  {
   "cell_type": "code",
   "execution_count": 27,
   "id": "6c8dc926",
   "metadata": {},
   "outputs": [
    {
     "name": "stdout",
     "output_type": "stream",
     "text": [
      "hello_world_python\n"
     ]
    }
   ],
   "source": [
    "# 단어 사이사이에 _도 넣어줄 수 있다.\n",
    "list_a = ['hello', 'world', 'python']\n",
    "print('_'.join(list_a))"
   ]
  },
  {
   "cell_type": "code",
   "execution_count": 9,
   "id": "60d23efb",
   "metadata": {},
   "outputs": [
    {
     "name": "stdout",
     "output_type": "stream",
     "text": [
      "[4] <class 'int'>\n",
      "[4, 5] <class 'int'>\n",
      "[4, 5, 6] <class 'int'>\n"
     ]
    }
   ],
   "source": [
    "import numpy as np\n",
    "lis = np.array(['4', '5', '6'])\n",
    "b = []\n",
    "for i in lis:\n",
    "    b.append(int(i))\n",
    "    print(b, type(a))"
   ]
  }
 ],
 "metadata": {
  "kernelspec": {
   "display_name": "Python 3",
   "language": "python",
   "name": "python3"
  },
  "language_info": {
   "codemirror_mode": {
    "name": "ipython",
    "version": 3
   },
   "file_extension": ".py",
   "mimetype": "text/x-python",
   "name": "python",
   "nbconvert_exporter": "python",
   "pygments_lexer": "ipython3",
   "version": "3.8.8"
  }
 },
 "nbformat": 4,
 "nbformat_minor": 5
}
