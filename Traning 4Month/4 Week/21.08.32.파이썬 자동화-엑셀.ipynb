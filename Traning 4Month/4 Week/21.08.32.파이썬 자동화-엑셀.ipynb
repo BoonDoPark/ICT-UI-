{
 "cells": [
  {
   "cell_type": "markdown",
   "metadata": {},
   "source": [
    "# 파이썬 자동화 - 엑셀"
   ]
  },
  {
   "cell_type": "markdown",
   "metadata": {},
   "source": [
    "- openpyxl 모듈을 이용\n",
    "- https://openpyxl.readthedocs.io/en/stable/#"
   ]
  },
  {
   "cell_type": "markdown",
   "metadata": {},
   "source": [
    "## 1. 엑셀 기본설정"
   ]
  },
  {
   "cell_type": "markdown",
   "metadata": {},
   "source": [
    "### 1.1. 워크시트 생성"
   ]
  },
  {
   "cell_type": "code",
   "execution_count": 49,
   "metadata": {},
   "outputs": [],
   "source": [
    "from openpyxl import Workbook"
   ]
  },
  {
   "cell_type": "markdown",
   "metadata": {},
   "source": [
    "- 워크시트 생성"
   ]
  },
  {
   "cell_type": "code",
   "execution_count": 50,
   "metadata": {},
   "outputs": [],
   "source": [
    "wb = Workbook() # 새 워크북 생성\n",
    "ws = wb.active  # 현재 활성화된  sheet 가져옴\n",
    "\n",
    "wb.save('excel/sample.xlsx')\n",
    "wb.close()"
   ]
  },
  {
   "cell_type": "markdown",
   "metadata": {},
   "source": [
    "- 시트명 정하기"
   ]
  },
  {
   "cell_type": "code",
   "execution_count": 51,
   "metadata": {},
   "outputs": [],
   "source": [
    "wb = Workbook() # 새 워크북 생성\n",
    "ws = wb.active  # 현재 활성화된  sheet 가져옴\n",
    "ws.title = 'ICTSheet' # sheet 이름 설정\n",
    "\n",
    "\n",
    "wb.save('excel/sample.xlsx')\n",
    "wb.close()"
   ]
  },
  {
   "cell_type": "markdown",
   "metadata": {},
   "source": [
    "**연습문제1)** 아래의 엑셀파일을 생성하시오.\n",
    "- 시트명 : '영업부'\n",
    "- 파일명 : 'exercises1.xlsx'"
   ]
  },
  {
   "cell_type": "code",
   "execution_count": 52,
   "metadata": {},
   "outputs": [],
   "source": [
    "wb = Workbook() # 새 워크북 생성\n",
    "ws = wb.active  # 현재 활성화된  sheet 가져옴\n",
    "ws.title = '영업부' # sheet 이름 설정\n",
    "\n",
    "\n",
    "wb.save('excel/exercises1.xlsx')\n",
    "wb.close()"
   ]
  },
  {
   "cell_type": "markdown",
   "metadata": {},
   "source": [
    "### 1.2. 기본설정"
   ]
  },
  {
   "cell_type": "code",
   "execution_count": 53,
   "metadata": {},
   "outputs": [],
   "source": [
    "# 새로운 시트 생성\n",
    "wb = Workbook()\n",
    "ws1 = wb.create_sheet()\n",
    "ws1.title = 'BigData'\n",
    "\n",
    "# 탭 색상 변경\n",
    "ws1.sheet_properties.tabColor = 'ff66ff'\n",
    "\n",
    "# 여러시트 생성\n",
    "ws2 = wb.create_sheet('UIUX')\n",
    "ws3 = wb.create_sheet('IOT',2) # 2번째 index에 시트 생성\n",
    "\n",
    "# sheet 복사\n",
    "ws1['A1'] = 'Test'\n",
    "ws4 = wb.copy_worksheet(ws1)\n",
    "ws4.title='Copied Sheet'\n",
    "\n",
    "wb.save('excel/sample2.xlsx')\n",
    "wb.close()"
   ]
  },
  {
   "cell_type": "markdown",
   "metadata": {},
   "source": [
    "**연습문제2)** 아래의 엑셀파일을 생성하시오.\n",
    "- 시트1 :title - '영업부', 색상- 파랑색\n",
    "- 시트2 :title - '생산부', 첫번째 위치\n",
    "- 시트3 :title - 'Copied_영업부', 시트1복사\n",
    "- 파일명 :'exercises2.xlsx'"
   ]
  },
  {
   "cell_type": "code",
   "execution_count": 54,
   "metadata": {},
   "outputs": [],
   "source": [
    "wb = Workbook()\n",
    "wb1 = wb.create_sheet()\n",
    "wb1.title = '영업부'\n",
    "wb1.sheet_properties.tabColor = 'ff66ff'\n",
    "\n",
    "wb2 = wb.create_sheet('생산부', 1)\n",
    "\n",
    "wb3 = wb.copy_worksheet(wb1)\n",
    "wb3.title = 'Copied_영업부'\n",
    "\n",
    "wb.save('excel/exercises2.xlsx')\n",
    "wb.close()"
   ]
  },
  {
   "cell_type": "markdown",
   "metadata": {},
   "source": [
    "### 1. 3. 셀에 데이터 넣고 가져오기"
   ]
  },
  {
   "cell_type": "markdown",
   "metadata": {},
   "source": [
    "- 데이터 넣기"
   ]
  },
  {
   "cell_type": "code",
   "execution_count": 55,
   "metadata": {},
   "outputs": [],
   "source": [
    "wb = Workbook()\n",
    "ws = wb.active\n",
    "ws.title = 'ICTSheet'\n",
    "\n",
    "# ws[셀주소] = 길\n",
    "ws['A1'] = 1\n",
    "ws['A2'] = 2\n",
    "ws['A3'] = 3\n",
    "ws['A4'] = 4\n",
    "ws['A5'] = 5\n",
    "ws['A6'] = 6\n",
    "\n",
    "wb.save('excel/sample3.xlsx')"
   ]
  },
  {
   "cell_type": "markdown",
   "metadata": {},
   "source": [
    "- 데이터 가져오기"
   ]
  },
  {
   "cell_type": "code",
   "execution_count": 56,
   "metadata": {
    "scrolled": true
   },
   "outputs": [
    {
     "name": "stdout",
     "output_type": "stream",
     "text": [
      "<Cell 'ICTSheet'.A1>\n",
      "1\n",
      "None\n"
     ]
    }
   ],
   "source": [
    "print(ws['A1'])\n",
    "print(ws['A1'].value)\n",
    "\n",
    "# 데이터가 없는 경우 None\n",
    "print(ws['A10'].value)"
   ]
  },
  {
   "cell_type": "code",
   "execution_count": null,
   "metadata": {},
   "outputs": [],
   "source": []
  },
  {
   "cell_type": "markdown",
   "metadata": {},
   "source": [
    "- 데이터 입력하고 가져오기"
   ]
  },
  {
   "cell_type": "code",
   "execution_count": 57,
   "metadata": {},
   "outputs": [
    {
     "name": "stdout",
     "output_type": "stream",
     "text": [
      "1\n",
      "2\n"
     ]
    }
   ],
   "source": [
    "c = ws.cell(row=1, column=3, value=5)\n",
    "\n",
    "# ws['C1'] = 5\n",
    "print(ws.cell(row=1, column=1).value)\n",
    "print(ws.cell(row=2, column=1).value)\n",
    "\n",
    "\n",
    "wb.save('excel/sample3.xlsx')"
   ]
  },
  {
   "cell_type": "markdown",
   "metadata": {},
   "source": [
    "- 반복문으로 자료 채우기"
   ]
  },
  {
   "cell_type": "code",
   "execution_count": 58,
   "metadata": {},
   "outputs": [],
   "source": [
    "# 자료가 주어졌을때...1\n",
    "wb = Workbook()\n",
    "ws = wb.active\n",
    "\n",
    "data = [[1, 10, 5, 6], [5, 7, 8, 9]]\n",
    "\n",
    "for i in data:\n",
    "    ws.append(i)\n",
    "\n",
    "wb.save('excel/sample3.xlsx')"
   ]
  },
  {
   "cell_type": "code",
   "execution_count": 59,
   "metadata": {},
   "outputs": [],
   "source": [
    "# 자료를 생성하면서 차례대로 넣기\n",
    "wb = Workbook()\n",
    "ws = wb.active\n",
    "\n",
    "index = 1\n",
    "\n",
    "for i in range(1, 11):\n",
    "    for j in range(1, 11):\n",
    "        ws.cell(row=i, column=j, value=index)\n",
    "        index += 1\n",
    "\n",
    "wb.save('excel/sample3.xlsx')"
   ]
  },
  {
   "cell_type": "code",
   "execution_count": 60,
   "metadata": {},
   "outputs": [],
   "source": [
    "# 자료가 주어졌을때 2\n",
    "wb = Workbook()\n",
    "ws = wb.active\n",
    "\n",
    "data = [x for x in range(1, 101)]\n",
    "\n",
    "for i in range(2, 11):\n",
    "    for j in range(2, 11):\n",
    "        ws.cell(row=i, column=j, value=data.pop(0))\n",
    "\n",
    "wb.save('excel/sample3.xlsx')"
   ]
  },
  {
   "cell_type": "markdown",
   "metadata": {},
   "source": [
    "- 랜덤하게 자료 채우기"
   ]
  },
  {
   "cell_type": "code",
   "execution_count": 61,
   "metadata": {},
   "outputs": [],
   "source": [
    "import random as r\n",
    "\n",
    "wb = Workbook()\n",
    "ws = wb.active\n",
    "\n",
    "ws.append(['번호', '프로그래밍', '자료구조', '컴퓨터일반'])\n",
    "\n",
    "for i in range(1, 11):\n",
    "    ws.append([i, r.randint(0, 100), r.randint(0, 100), r.randint(0, 100)])\n",
    "    \n",
    "    \n",
    "wb.save('excel/sample4.xlsx')"
   ]
  },
  {
   "cell_type": "markdown",
   "metadata": {},
   "source": [
    "**연습문제3)** 아래의 엑셀파일을 생성하시오.\n",
    "- 시트(ws)명 : 판매실적\n",
    "- (ws)컬럼명 : 코드, 아반떼, 그랜져, 아이오닉, 제네시스\n",
    "- (ws)row : 코드 1번~10번,  아반떼, 그랜져, 아이오닉, 제네시스의 판매량을 (30-100점 사이로)랜덤하게 생성\n",
    "- 파일명 :'exercises3.xlsx'"
   ]
  },
  {
   "cell_type": "code",
   "execution_count": 62,
   "metadata": {},
   "outputs": [],
   "source": [
    "wb = Workbook()\n",
    "ws = wb.active\n",
    "ws.title = '판매실적'\n",
    "\n",
    "ws.append(['코드', '아반떼', '그랜져', '아이오닉', '제네시스'])\n",
    "\n",
    "for i in range(1, 11):\n",
    "    ws.append([i, r.randint(30, 100), r.randint(30, 100), r.randint(30, 100), r.randint(30, 100)])\n",
    "    \n",
    "wb.save('excel/exercises3.xlsx')\n",
    "wb.close()"
   ]
  },
  {
   "cell_type": "markdown",
   "metadata": {},
   "source": [
    "## 2. 데이터 가져오기"
   ]
  },
  {
   "cell_type": "markdown",
   "metadata": {},
   "source": [
    "### 2.1. 데이터 불러오기"
   ]
  },
  {
   "cell_type": "code",
   "execution_count": 63,
   "metadata": {},
   "outputs": [
    {
     "name": "stdout",
     "output_type": "stream",
     "text": [
      "None None None None None None None None None None \n",
      "None 1 2 3 4 5 6 7 8 9 \n",
      "None 10 11 12 13 14 15 16 17 18 \n",
      "None 19 20 21 22 23 24 25 26 27 \n",
      "None 28 29 30 31 32 33 34 35 36 \n",
      "None 37 38 39 40 41 42 43 44 45 \n",
      "None 46 47 48 49 50 51 52 53 54 \n",
      "None 55 56 57 58 59 60 61 62 63 \n",
      "None 64 65 66 67 68 69 70 71 72 \n",
      "None 73 74 75 76 77 78 79 80 81 \n",
      "****************************************\n",
      "None None None None None None None None None None \n",
      "None 1 2 3 4 5 6 7 8 9 \n",
      "None 10 11 12 13 14 15 16 17 18 \n",
      "None 19 20 21 22 23 24 25 26 27 \n",
      "None 28 29 30 31 32 33 34 35 36 \n",
      "None 37 38 39 40 41 42 43 44 45 \n",
      "None 46 47 48 49 50 51 52 53 54 \n",
      "None 55 56 57 58 59 60 61 62 63 \n",
      "None 64 65 66 67 68 69 70 71 72 \n",
      "None 73 74 75 76 77 78 79 80 81 \n"
     ]
    }
   ],
   "source": [
    "from openpyxl import load_workbook # 파일 불러오기\n",
    "\n",
    "wb = load_workbook('excel/sample3.xlsx')\n",
    "ws = wb.active\n",
    "\n",
    "# 데이터베이스를 알 때\n",
    "for i in range(1, 11):\n",
    "    for j in range(1, 11):\n",
    "        print(ws.cell(row=i, column=j).value, end=' ')\n",
    "    print()\n",
    "    \n",
    "print('*'*40)\n",
    "\n",
    "# 데이터 갯수를 모를 때\n",
    "for i in range(ws.min_row, ws.max_row+1):\n",
    "    for j in range(ws.min_column, ws.max_column+1):\n",
    "        print(ws.cell(row=i, column=j).value, end=' ')\n",
    "    print()\n",
    "  "
   ]
  },
  {
   "cell_type": "markdown",
   "metadata": {},
   "source": [
    "### 2.2 column별로 가지고 오기"
   ]
  },
  {
   "cell_type": "code",
   "execution_count": 115,
   "metadata": {},
   "outputs": [
    {
     "name": "stdout",
     "output_type": "stream",
     "text": [
      "프로그래밍\n",
      "52\n",
      "91\n",
      "37\n",
      "26\n",
      "39\n",
      "43\n",
      "69\n",
      "45\n",
      "41\n",
      "62\n",
      "****************************************\n",
      "프로그래밍 52 91 37 26 39 43 69 45 41 62 \n",
      "자료구조 44 48 14 54 81 32 76 16 19 9 \n",
      "컴퓨터일반 43 10 30 61 52 93 2 24 68 20 \n"
     ]
    }
   ],
   "source": [
    "from openpyxl import load_workbook # 파일 불러오기\n",
    "\n",
    "wb = load_workbook('excel/sample4.xlsx')\n",
    "ws = wb.active\n",
    "\n",
    "col_b = ws['B']\n",
    "\n",
    "for cell in col_b:\n",
    "    print(cell.value)\n",
    "\n",
    "print('*'*40)\n",
    "\n",
    "col_range = ws['B:D']\n",
    "\n",
    "for col in col_range:\n",
    "    for cell in col:\n",
    "        print(cell.value, end=' ')\n",
    "    print()"
   ]
  },
  {
   "cell_type": "markdown",
   "metadata": {},
   "source": [
    "### 2.3. row 별로 데이터 가지고 오기"
   ]
  },
  {
   "cell_type": "code",
   "execution_count": 77,
   "metadata": {},
   "outputs": [
    {
     "name": "stdout",
     "output_type": "stream",
     "text": [
      "번호 프로그래밍 자료구조 컴퓨터일반 \n",
      "****************************************\n",
      "1\t52\t44\t43\t2\t91\t48\t10\t3\t37\t14\t30\t4\t26\t54\t61\t5\t39\t81\t52\t"
     ]
    }
   ],
   "source": [
    "from openpyxl import load_workbook # 파일 불러오기\n",
    "\n",
    "wb = load_workbook('excel/sample4.xlsx')\n",
    "ws = wb.active\n",
    "\n",
    "# 1번째 row만 가지고 오기\n",
    "row_first = ws[1]\n",
    "\n",
    "for cell in row_first:\n",
    "    print(cell.value, end=' ')\n",
    "\n",
    "print()\n",
    "print('*'*40)\n",
    "\n",
    "row_range = ws[2:6]\n",
    "for row in row_range:\n",
    "    for cell in row:\n",
    "        print(cell.value, end='\\t')"
   ]
  },
  {
   "cell_type": "markdown",
   "metadata": {},
   "source": [
    "### 2.4. 좌표 정보 가지고 오기"
   ]
  },
  {
   "cell_type": "code",
   "execution_count": 97,
   "metadata": {
    "scrolled": false
   },
   "outputs": [
    {
     "name": "stdout",
     "output_type": "stream",
     "text": [
      "1 A 2 52 B 2 44 C 2 43 D 2 \n",
      "2 A 3 91 B 3 48 C 3 10 D 3 \n",
      "3 A 4 37 B 4 14 C 4 30 D 4 \n",
      "4 A 5 26 B 5 54 C 5 61 D 5 \n",
      "5 A 6 39 B 6 81 C 6 52 D 6 \n",
      "6 A 7 43 B 7 32 C 7 93 D 7 \n",
      "7 A 8 69 B 8 76 C 8 2 D 8 \n",
      "8 A 9 45 B 9 16 C 9 24 D 9 \n",
      "9 A 1 41 B 1 19 C 1 68 D 1 \n",
      "10 A 1 62 B 1 9 C 1 20 D 1 \n"
     ]
    }
   ],
   "source": [
    "from openpyxl import load_workbook # 파일 불러오기\n",
    "\n",
    "wb = load_workbook('excel/sample4.xlsx')\n",
    "ws = wb.active\n",
    "\n",
    "row_range = ws[2:ws.max_row] # 2번쨰 줄부터 마지막 줄까지\n",
    "\n",
    "for row in row_range:\n",
    "    for cell in row:\n",
    "        print(cell.value, end=' ')\n",
    "        # print(cell.coordinate, end=' ')\n",
    "        # print(type(cell.coordinate), end=' ') type: str\n",
    "        print(cell.coordinate[0], end=' ')\n",
    "        print(cell.coordinate[1], end=' ')\n",
    "    print()"
   ]
  },
  {
   "cell_type": "code",
   "execution_count": 98,
   "metadata": {},
   "outputs": [
    {
     "name": "stdout",
     "output_type": "stream",
     "text": [
      "1 A2 ('A', 2) A 2/52 B2 ('B', 2) B 2/44 C2 ('C', 2) C 2/43 D2 ('D', 2) D 2/\n",
      "2 A3 ('A', 3) A 3/91 B3 ('B', 3) B 3/48 C3 ('C', 3) C 3/10 D3 ('D', 3) D 3/\n",
      "3 A4 ('A', 4) A 4/37 B4 ('B', 4) B 4/14 C4 ('C', 4) C 4/30 D4 ('D', 4) D 4/\n",
      "4 A5 ('A', 5) A 5/26 B5 ('B', 5) B 5/54 C5 ('C', 5) C 5/61 D5 ('D', 5) D 5/\n",
      "5 A6 ('A', 6) A 6/39 B6 ('B', 6) B 6/81 C6 ('C', 6) C 6/52 D6 ('D', 6) D 6/\n",
      "6 A7 ('A', 7) A 7/43 B7 ('B', 7) B 7/32 C7 ('C', 7) C 7/93 D7 ('D', 7) D 7/\n",
      "7 A8 ('A', 8) A 8/69 B8 ('B', 8) B 8/76 C8 ('C', 8) C 8/2 D8 ('D', 8) D 8/\n",
      "8 A9 ('A', 9) A 9/45 B9 ('B', 9) B 9/16 C9 ('C', 9) C 9/24 D9 ('D', 9) D 9/\n",
      "9 A10 ('A', 10) A 10/41 B10 ('B', 10) B 10/19 C10 ('C', 10) C 10/68 D10 ('D', 10) D 10/\n",
      "10 A11 ('A', 11) A 11/62 B11 ('B', 11) B 11/9 C11 ('C', 11) C 11/20 D11 ('D', 11) D 11/\n"
     ]
    }
   ],
   "source": [
    "from openpyxl.utils.cell import coordinate_from_string\n",
    "\n",
    "wb = load_workbook('excel/sample4.xlsx')\n",
    "ws = wb.active\n",
    "\n",
    "row_range = ws[2:ws.max_row] # 2번쨰 줄부터 마지막 줄까지\n",
    "\n",
    "for row in row_range:\n",
    "    for cell in row:\n",
    "        print(cell.value, end=' ')\n",
    "        print(cell.coordinate, end=' ')\n",
    "        xy = coordinate_from_string(cell.coordinate)\n",
    "        print(xy, end=' ')\n",
    "        # print(type(cell.coordinate), end=' ') type: str\n",
    "        print(xy[0], end=' ')\n",
    "        print(xy[1], end='/')\n",
    "    print()"
   ]
  },
  {
   "cell_type": "markdown",
   "metadata": {},
   "source": [
    "**연습문제4)**\n",
    "- 4-1)'exercises3.xlsx'을 로드해서 차례대로 출력하기"
   ]
  },
  {
   "cell_type": "code",
   "execution_count": 120,
   "metadata": {
    "scrolled": true
   },
   "outputs": [
    {
     "name": "stdout",
     "output_type": "stream",
     "text": [
      "코드 아반떼 그랜져 아이오닉 제네시스 \n",
      "1 32 50 84 67 \n",
      "2 46 52 37 47 \n",
      "3 97 51 31 68 \n",
      "4 94 82 44 50 \n",
      "5 96 45 53 75 \n",
      "6 98 50 74 77 \n",
      "7 33 42 65 64 \n",
      "8 42 45 85 33 \n",
      "9 46 98 74 54 \n",
      "10 72 66 33 71 \n"
     ]
    }
   ],
   "source": [
    "wb = load_workbook('excel/exercises3.xlsx')\n",
    "ws = wb.active\n",
    "\n",
    "for i in range(ws.min_row, ws.max_row+1):\n",
    "    for j in range(ws.min_column, ws.max_column+1):\n",
    "        print(ws.cell(row=i, column=j).value, end= ' ')\n",
    "    print()"
   ]
  },
  {
   "cell_type": "markdown",
   "metadata": {},
   "source": [
    "-4-2) 그랜저~제네시스 판매량만 가지고 오기"
   ]
  },
  {
   "cell_type": "code",
   "execution_count": 158,
   "metadata": {},
   "outputs": [
    {
     "name": "stdout",
     "output_type": "stream",
     "text": [
      "그랜져 50 52 51 82 45 50 42 45 98 66 \n",
      "아이오닉 84 37 31 44 53 74 65 85 74 33 \n",
      "제네시스 67 47 68 50 75 77 64 33 54 71 \n"
     ]
    }
   ],
   "source": [
    "ws['C:E']\n",
    "\n",
    "for col in ws['C:E']:\n",
    "    for cell in col:\n",
    "        print(cell.value, end=' ')\n",
    "    print()"
   ]
  },
  {
   "cell_type": "markdown",
   "metadata": {},
   "source": [
    "-4-3) 코드 5~10 번 사이의 판매량 가지고 오기"
   ]
  },
  {
   "cell_type": "code",
   "execution_count": 153,
   "metadata": {
    "scrolled": true
   },
   "outputs": [
    {
     "name": "stdout",
     "output_type": "stream",
     "text": [
      "코드 아반떼 그랜져 아이오닉 제네시스 \n",
      "5\t96\t45\t53\t75\t\n",
      "6\t98\t50\t74\t77\t\n",
      "7\t33\t42\t65\t64\t\n",
      "8\t42\t45\t85\t33\t\n",
      "9\t46\t98\t74\t54\t\n",
      "10\t72\t66\t33\t71\t\n"
     ]
    }
   ],
   "source": [
    "row_range = ws[6:11]\n",
    "\n",
    "for title in ws[1]:\n",
    "    print(title.value, end=' ')\n",
    "print()\n",
    "\n",
    "for row in row_range:\n",
    "    for cell in row:\n",
    "        print(cell.value, end='\\t')\n",
    "    print()"
   ]
  },
  {
   "cell_type": "markdown",
   "metadata": {},
   "source": [
    "-4-4) wb의 각 셀의 좌표정보(주소)를 row와 column을 구분해서 출력하시오.   \n",
    "출력양식) 주소가 A1~E1 이라면 -> A 1 / B 1 / C 1 / D 1 / E 1 /  "
   ]
  },
  {
   "cell_type": "code",
   "execution_count": 161,
   "metadata": {},
   "outputs": [
    {
     "name": "stdout",
     "output_type": "stream",
     "text": [
      "A1/B1/C1/D1/E1/\n",
      "A2/B2/C2/D2/E2/\n",
      "A3/B3/C3/D3/E3/\n",
      "A4/B4/C4/D4/E4/\n",
      "A5/B5/C5/D5/E5/\n",
      "A6/B6/C6/D6/E6/\n",
      "A7/B7/C7/D7/E7/\n",
      "A8/B8/C8/D8/E8/\n",
      "A9/B9/C9/D9/E9/\n",
      "A10/B10/C10/D10/E10/\n",
      "A11/B11/C11/D11/E11/\n"
     ]
    }
   ],
   "source": [
    "row_range = ws\n",
    "\n",
    "for row in row_range:\n",
    "    for cell in row:\n",
    "        xy = coordinate_from_string(cell.coordinate)\n",
    "        print(xy[0], end='')\n",
    "        print(xy[1], end='/')\n",
    "    print()"
   ]
  },
  {
   "cell_type": "markdown",
   "metadata": {},
   "source": [
    "### 2.5. 전체 정보 가지고 오기"
   ]
  },
  {
   "cell_type": "markdown",
   "metadata": {},
   "source": [
    "- row 단위로 가지고 오기"
   ]
  },
  {
   "cell_type": "code",
   "execution_count": 172,
   "metadata": {},
   "outputs": [
    {
     "name": "stdout",
     "output_type": "stream",
     "text": [
      "번호\n",
      "프로그래밍\n",
      "자료구조\n",
      "컴퓨터일반\n",
      "1\n",
      "52\n",
      "44\n",
      "43\n"
     ]
    }
   ],
   "source": [
    "wb = load_workbook('excel/sample4.xlsx')\n",
    "ws = wb.active\n",
    "\n",
    "#print(ws.rows)\n",
    "#print(tuple(ws.rows))\n",
    "\n",
    "# 방법1 : row 단위로 가져오면서 특정컬럼 출력\n",
    "for row in tuple(ws.rows):\n",
    "    print(row[0].value)\n",
    "    \n",
    "# 방법2 :\n",
    "for row in ws.iter_rows():\n",
    "    print(row[1].value)"
   ]
  },
  {
   "cell_type": "markdown",
   "metadata": {},
   "source": [
    "- column 단위로 가지고 오기"
   ]
  },
  {
   "cell_type": "code",
   "execution_count": 173,
   "metadata": {},
   "outputs": [
    {
     "name": "stdout",
     "output_type": "stream",
     "text": [
      "번호\n",
      "프로그래밍\n",
      "자료구조\n",
      "컴퓨터일반\n",
      "1\n",
      "52\n",
      "44\n",
      "43\n"
     ]
    }
   ],
   "source": [
    "for col in tuple(ws.columns):\n",
    "    print(col[0].value)\n",
    "    \n",
    "for col in ws.iter_cols():\n",
    "    print(col[1].value)"
   ]
  },
  {
   "cell_type": "markdown",
   "metadata": {},
   "source": [
    "- 전체 정보 가지고오기"
   ]
  },
  {
   "cell_type": "code",
   "execution_count": 177,
   "metadata": {},
   "outputs": [
    {
     "name": "stdout",
     "output_type": "stream",
     "text": [
      "번호 프로그래밍 자료구조 컴퓨터일반 \n",
      "1 52 44 43 \n",
      "2 91 48 10 \n",
      "3 37 14 30 \n",
      "4 26 54 61 \n",
      "5 39 81 52 \n",
      "6 43 32 93 \n",
      "7 69 76 2 \n",
      "8 45 16 24 \n",
      "9 41 19 68 \n",
      "10 62 9 20 \n"
     ]
    }
   ],
   "source": [
    "for row in tuple(ws.rows):\n",
    "    for cell in row:\n",
    "        print(cell.value, end=' ')\n",
    "    print()"
   ]
  },
  {
   "cell_type": "markdown",
   "metadata": {},
   "source": [
    "- iter_rows()"
   ]
  },
  {
   "cell_type": "code",
   "execution_count": 195,
   "metadata": {},
   "outputs": [
    {
     "name": "stdout",
     "output_type": "stream",
     "text": [
      "번호\t프로그래밍\n",
      "1\t52\n",
      "2\t91\n",
      "3\t37\n",
      "4\t26\n",
      "5\t39\n",
      "****************************************\n",
      "52\t44\n",
      "91\t48\n",
      "37\t14\n",
      "26\t54\n",
      "39\t81\n",
      "43\t32\n",
      "69\t76\n",
      "45\t16\n",
      "41\t19\n"
     ]
    }
   ],
   "source": [
    "# 1번~5번 번호와 프로그래밍\n",
    "for row in ws.iter_rows(min_row=1, max_row=6):\n",
    "    print(row[0].value, row[1].value, sep='\\t')\n",
    "\n",
    "print('*'*40) \n",
    "for row in ws.iter_rows(min_row=2, max_row=10, min_col=2, max_col=3):\n",
    "    print(row[0].value, row[1].value, sep='\\t')"
   ]
  },
  {
   "cell_type": "markdown",
   "metadata": {},
   "source": [
    "- iter_cols()"
   ]
  },
  {
   "cell_type": "code",
   "execution_count": 196,
   "metadata": {},
   "outputs": [
    {
     "name": "stdout",
     "output_type": "stream",
     "text": [
      "2 3\n",
      "91 37\n",
      "48 14\n"
     ]
    }
   ],
   "source": [
    "for col in ws.iter_cols(min_row=2, max_row=10, min_col=1, max_col=3):\n",
    "    print(col[1].value, col[2].value)"
   ]
  },
  {
   "cell_type": "code",
   "execution_count": null,
   "metadata": {},
   "outputs": [],
   "source": []
  },
  {
   "cell_type": "markdown",
   "metadata": {},
   "source": [
    "**연습문제5)** 아래 조건에 맞는 코드를 작성하시오.\n",
    "- 'exercises3.xlsx'을 로드해서 iter_rows()를 이용하여 코드, 아반떼, 아이오닉 판매수량을 출력하시오\n",
    "- 힌트 : coordinate_from_string(cell.coordinate)"
   ]
  },
  {
   "cell_type": "code",
   "execution_count": 223,
   "metadata": {},
   "outputs": [
    {
     "name": "stdout",
     "output_type": "stream",
     "text": [
      "코드\t아반떼\t아이오닉\t\n",
      "1\t32\t84\t\n",
      "2\t46\t37\t\n",
      "3\t97\t31\t\n",
      "4\t94\t44\t\n",
      "5\t96\t53\t\n",
      "6\t98\t74\t\n",
      "7\t33\t65\t\n",
      "8\t42\t85\t\n",
      "9\t46\t74\t\n",
      "10\t72\t33\t\n"
     ]
    }
   ],
   "source": [
    "wb = load_workbook('excel/exercises3.xlsx')\n",
    "ws = wb.active\n",
    "\n",
    "ws_title = ['A', 'B', 'D']\n",
    "\n",
    "for row in ws.iter_rows():\n",
    "    for cell in row:\n",
    "        xy =  coordinate_from_string(cell.coordinate)\n",
    "        if xy[0] in ws_title:\n",
    "            print(cell.value, end='\\t')\n",
    "    print()\n"
   ]
  },
  {
   "cell_type": "code",
   "execution_count": null,
   "metadata": {},
   "outputs": [],
   "source": []
  },
  {
   "cell_type": "markdown",
   "metadata": {},
   "source": [
    "## 3. 데이터 찾기"
   ]
  },
  {
   "cell_type": "code",
   "execution_count": null,
   "metadata": {},
   "outputs": [],
   "source": [
    "from openpyxl import load_workbook"
   ]
  },
  {
   "cell_type": "code",
   "execution_count": 228,
   "metadata": {},
   "outputs": [
    {
     "name": "stdout",
     "output_type": "stream",
     "text": [
      "2번 학생은 91점으로 프로그래밍 천재\n"
     ]
    }
   ],
   "source": [
    "wb = load_workbook('excel/sample4.xlsx')\n",
    "ws = wb.active\n",
    "\n",
    "for row in ws.iter_rows(min_row=2):\n",
    "    # 번호, 프로그래밍, 자료구조, 컴퓨터일반\n",
    "    if row[1].value > 90:\n",
    "        print(f'{row[0].value}번 학생은 {row[1].value}점으로 프로그래밍 천재')\n",
    "        \n",
    "# 컴퓨터일반을 디자인으로 과목명 변경\n",
    "for row in ws.iter_rows(max_row=1):\n",
    "    for cell in row:\n",
    "        if cell.value == '컴퓨터일반':\n",
    "            cell.value = '디자인'\n",
    "\n",
    "# 디자인을 데이터분석으로 변경\n",
    "for col in ws.iter_cols(max_row=1):\n",
    "    #print(col[0].value)\n",
    "    if col[0].value == '디자인':\n",
    "        col[0].value = '데이터분석'\n",
    "        \n",
    "        \n",
    "wb.save('excel/sample_modified.xlsx')"
   ]
  },
  {
   "cell_type": "markdown",
   "metadata": {},
   "source": [
    "## 4. 시트 수정"
   ]
  },
  {
   "cell_type": "markdown",
   "metadata": {},
   "source": [
    "### 4.1. 행, 열 삽입"
   ]
  },
  {
   "cell_type": "code",
   "execution_count": 234,
   "metadata": {},
   "outputs": [],
   "source": [
    "wb = load_workbook('excel/sample4.xlsx')\n",
    "ws = wb.active\n",
    "\n",
    "#ws.insert_rows(8)\n",
    "ws.insert_rows(8, 3) # 8행부터 3줄 추가\n",
    "\n",
    "wb.save('excel/sample_insert_rows.xlsx')"
   ]
  },
  {
   "cell_type": "code",
   "execution_count": 233,
   "metadata": {},
   "outputs": [],
   "source": [
    "wb = load_workbook('excel/sample4.xlsx')\n",
    "ws = wb.active\n",
    "\n",
    "ws.insert_cols(2, 3) # 2열부터 3열 추가\n",
    "\n",
    "wb.save('excel/sample_insert_cols.xlsx')"
   ]
  },
  {
   "cell_type": "markdown",
   "metadata": {},
   "source": [
    "### 4.2. 행, 열 삭제"
   ]
  },
  {
   "cell_type": "code",
   "execution_count": 242,
   "metadata": {},
   "outputs": [],
   "source": [
    "wb = load_workbook('excel/sample4.xlsx')\n",
    "ws = wb.active\n",
    "\n",
    "\n",
    "# 행삭제\n",
    "ws.delete_rows(5, 3)\n",
    "\n",
    "wb.save('excel/sample_delete_rows.xlsx')"
   ]
  },
  {
   "cell_type": "code",
   "execution_count": 247,
   "metadata": {},
   "outputs": [],
   "source": [
    "# 열삭제\n",
    "ws.delete_cols(2, 1)\n",
    "\n",
    "wb.save('excel/sample_delete_cols.xlsx')"
   ]
  },
  {
   "cell_type": "markdown",
   "metadata": {},
   "source": [
    "### 4.3. 이동"
   ]
  },
  {
   "cell_type": "code",
   "execution_count": 257,
   "metadata": {},
   "outputs": [],
   "source": [
    "wb = load_workbook('excel/sample4.xlsx')\n",
    "ws = wb.active\n",
    "\n",
    "# 프로그래밍~컴퓨터일반까지 모든 데이터, 오른쪽으로 한칸이동\n",
    "ws.move_range('B1:D11', rows=0, cols=1)\n",
    "ws['B1'].value = '데이터분석'\n",
    "\n",
    "wb.save('excel/sample_move.xlsx')"
   ]
  },
  {
   "cell_type": "code",
   "execution_count": 261,
   "metadata": {},
   "outputs": [],
   "source": [
    "wb = load_workbook('excel/sample4.xlsx')\n",
    "ws = wb.active\n",
    "\n",
    "# 자료구조 행을 5줄 아래로 이동\n",
    "#ws.move_range('C1:C11', rows=5, cols=-1)\n",
    "ws.move_range('B1:C6', rows=1, cols=1)\n",
    "\n",
    "wb.save('excel/sample_move.xlsx')"
   ]
  },
  {
   "cell_type": "markdown",
   "metadata": {},
   "source": [
    "## 5. 차트그리기"
   ]
  },
  {
   "cell_type": "code",
   "execution_count": 267,
   "metadata": {},
   "outputs": [],
   "source": [
    "wb = load_workbook('excel/sample4.xlsx')\n",
    "ws = wb.active\n",
    "\n",
    "from openpyxl.chart import BarChart, Reference\n",
    "\n",
    "bar_value = Reference(ws, min_row=1, max_row=11, min_col=2, max_col=4)\n",
    "bar_chart = BarChart()\n",
    "bar_chart.add_data(bar_value, titles_from_data=True)\n",
    "bar_chart.title = '성적표'\n",
    "bar_chart.style = 10\n",
    "bar_chart.x_axis.title = '번호'\n",
    "bar_chart.y_axis.title = '점수'\n",
    "\n",
    "ws.add_chart(bar_chart, 'F1')\n",
    "\n",
    "wb.save('excel/sample_chart.xlsx')"
   ]
  },
  {
   "cell_type": "code",
   "execution_count": 269,
   "metadata": {},
   "outputs": [],
   "source": [
    "wb = load_workbook('excel/sample4.xlsx')\n",
    "ws = wb.active\n",
    "\n",
    "from openpyxl.chart import LineChart, Reference\n",
    "\n",
    "line_value = Reference(ws, min_row=1, max_row=11, min_col=2, max_col=4)\n",
    "line_chart = LineChart()\n",
    "line_chart.add_data(line_value, titles_from_data=True)\n",
    "line_chart.title = '성적표'\n",
    "line_chart.style = 10\n",
    "line_chart.x_axis.title = '번호'\n",
    "line_chart.y_axis.title = '점수'\n",
    "\n",
    "ws.add_chart(line_chart, 'F1')\n",
    "\n",
    "wb.save('excel/sample_chart.xlsx')"
   ]
  },
  {
   "cell_type": "code",
   "execution_count": null,
   "metadata": {},
   "outputs": [],
   "source": [
    "     "
   ]
  },
  {
   "cell_type": "code",
   "execution_count": null,
   "metadata": {},
   "outputs": [],
   "source": []
  }
 ],
 "metadata": {
  "kernelspec": {
   "display_name": "Python 3",
   "language": "python",
   "name": "python3"
  },
  "language_info": {
   "codemirror_mode": {
    "name": "ipython",
    "version": 3
   },
   "file_extension": ".py",
   "mimetype": "text/x-python",
   "name": "python",
   "nbconvert_exporter": "python",
   "pygments_lexer": "ipython3",
   "version": "3.8.8"
  },
  "toc": {
   "base_numbering": 1,
   "nav_menu": {},
   "number_sections": false,
   "sideBar": true,
   "skip_h1_title": false,
   "title_cell": "Table of Contents",
   "title_sidebar": "Contents",
   "toc_cell": false,
   "toc_position": {
    "height": "calc(100% - 180px)",
    "left": "10px",
    "top": "150px",
    "width": "349.091px"
   },
   "toc_section_display": true,
   "toc_window_display": false
  }
 },
 "nbformat": 4,
 "nbformat_minor": 4
}
