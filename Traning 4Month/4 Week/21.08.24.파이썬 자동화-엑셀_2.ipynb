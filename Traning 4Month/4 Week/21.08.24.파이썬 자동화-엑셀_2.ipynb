{
 "cells": [
  {
   "cell_type": "markdown",
   "metadata": {},
   "source": [
    "## 6. 스타일 설정"
   ]
  },
  {
   "cell_type": "code",
   "execution_count": 28,
   "metadata": {},
   "outputs": [],
   "source": [
    "from openpyxl import load_workbook\n",
    "from openpyxl.styles import Font, Border, Side, PatternFill, Alignment\n",
    "\n",
    "wb = load_workbook('excel/sample4.xlsx')\n",
    "ws = wb.active\n",
    "\n",
    "a1 = ws['A1']\n",
    "b1 = ws['B1']\n",
    "c1 = ws['C1']\n",
    "d1 = ws['D1']\n",
    "\n",
    "# 열 너비 설정\n",
    "ws.column_dimensions['A'].width = 5\n",
    "ws.column_dimensions['B'].width = 15\n",
    "\n",
    "# 행 높이\n",
    "ws.row_dimensions[1].height = 30\n",
    "\n",
    "# 폰트 스타일 적용\n",
    "a1.font = Font(color='FF0000', italic=True, bold=True)\n",
    "b1.font = Font(color='CC3FAB', name='Arial', strike=True)\n",
    "c1.font = Font(color='FFBBCC', size=20, underline='single')\n",
    "d1.font = Font(color='FFBBCC', name='Arial', strike=True)\n",
    "\n",
    "# 테두리 적용\n",
    "thin_border = Border(left=Side(style='thin'), right=Side(style='thin'), top=Side(style='thin'), bottom=Side(style='thin'))\n",
    "a1.border = thin_border\n",
    "b1.border = thin_border\n",
    "c1.border = thin_border\n",
    "d1.border = thin_border\n",
    "\n",
    "# 80점 넘는 셀에 대해서 초록색으로 적용\n",
    "for row in ws.rows:\n",
    "    for cell in row:\n",
    "        cell.border = thin_border\n",
    "        cell.alignment = Alignment(horizontal='center', vertical='center')\n",
    "        \n",
    "        if cell.column == 1:\n",
    "            continue\n",
    "        #print(isinstance(cell.value, int))\n",
    "        if isinstance(cell.value, int) and cell.value > 80:\n",
    "            cell.fill = PatternFill(fgColor='00FF00', fill_type='solid')\n",
    "            cell.font = Font(color='0000FF')\n",
    "\n",
    "wb.save('excel/sample_style.xlsx')"
   ]
  },
  {
   "cell_type": "markdown",
   "metadata": {},
   "source": [
    "## 7. 수식(함수)"
   ]
  },
  {
   "cell_type": "code",
   "execution_count": 30,
   "metadata": {},
   "outputs": [],
   "source": [
    "from openpyxl import Workbook\n",
    "\n",
    "wb = Workbook()\n",
    "ws = wb.active\n",
    "\n",
    "ws['A1'] = '=SUM(1, 2, 3)'\n",
    "ws['A2'] = '=AVERAGE(4, 5, 6)'\n",
    "ws['A3'] = 30\n",
    "ws['A4'] = 40\n",
    "ws['A5'] = '=SUM(A3:A4)'\n",
    "\n",
    "wb.save('excel/sample_cal.xlsx')"
   ]
  },
  {
   "cell_type": "code",
   "execution_count": 33,
   "metadata": {},
   "outputs": [
    {
     "name": "stdout",
     "output_type": "stream",
     "text": [
      "6\n",
      "5\n",
      "30\n",
      "40\n",
      "70\n"
     ]
    }
   ],
   "source": [
    "from openpyxl import load_workbook\n",
    "\n",
    "wb = load_workbook('excel/sample_cal.xlsx', data_only=True)\n",
    "ws = wb.active\n",
    "\n",
    "for row in ws.rows:\n",
    "    for cell in row:\n",
    "        print(cell.value)"
   ]
  },
  {
   "cell_type": "markdown",
   "metadata": {},
   "source": [
    "**연습문제6)** 아래 조건에 맞는 코드를 작성하시오.\n",
    "- 'exercises3.xlsx'을 로드하시오. F1에 '합계'라는 cell을 만드시오.\n",
    "- 각 row의 합계를 F열에 집계되도록 하시오.\n",
    "- 6-1) 파이썬에서 값을 불러와서 연산해서 대입하기"
   ]
  },
  {
   "cell_type": "code",
   "execution_count": 81,
   "metadata": {},
   "outputs": [
    {
     "name": "stdout",
     "output_type": "stream",
     "text": [
      "233\n",
      "182\n",
      "247\n",
      "270\n",
      "269\n",
      "299\n",
      "204\n",
      "205\n",
      "272\n",
      "242\n"
     ]
    }
   ],
   "source": [
    "from openpyxl import load_workbook\n",
    "\n",
    "wb = load_workbook('excel/exercises3.xlsx')\n",
    "ws = wb.active\n",
    "\n",
    "ws['F1'] = '합계'\n",
    "\n",
    "for row in ws.iter_rows(min_row=2, min_col=1):\n",
    "    row[5].value = row[1].value+row[2].value+row[3].value+row[4].value\n",
    "    print(row[5].value)\n",
    "    \n",
    "wb.save('excel/exercises3_cal2.xlsx')"
   ]
  },
  {
   "cell_type": "markdown",
   "metadata": {},
   "source": [
    "- 6-2) F열에 들어갈 수식을 만들어 삽입시키기"
   ]
  },
  {
   "cell_type": "code",
   "execution_count": 88,
   "metadata": {},
   "outputs": [],
   "source": [
    "from openpyxl import load_workbook\n",
    "\n",
    "wb = load_workbook('excel/exercises3.xlsx')\n",
    "ws1 = wb.active\n",
    "ws2 = wb.copy_worksheet(ws1)\n",
    "\n",
    "ws2['F1'] = '합계'\n",
    "\n",
    "for i in range(2, len(tuple(ws.rows))+1):\n",
    "    sum_idx = f'F{i}'\n",
    "    ws2[sum_idx] = f'=SUM(B{i}:E{i})'\n",
    "\n",
    "\n",
    "wb.save('excel/exercises4.xlsx')"
   ]
  },
  {
   "cell_type": "code",
   "execution_count": 94,
   "metadata": {},
   "outputs": [
    {
     "name": "stdout",
     "output_type": "stream",
     "text": [
      "2\n",
      "3\n",
      "4\n",
      "5\n",
      "6\n",
      "7\n",
      "8\n",
      "9\n",
      "10\n",
      "11\n"
     ]
    }
   ],
   "source": [
    "wb = load_workbook('excel/exercises3.xlsx')\n",
    "ws1 = wb.active\n",
    "ws2 = wb.copy_worksheet(ws1)\n",
    "\n",
    "ws2['F1'] = '합계'\n",
    "\n",
    "for i in range(2, 12):\n",
    "    print(i)\n",
    "    ws2[f'F{i}'] = f'=SUM(B{i}:E{i})'\n",
    "    \n",
    "wb.save('excel/exercises4.xlsx')"
   ]
  },
  {
   "cell_type": "markdown",
   "metadata": {},
   "source": [
    "## 8. 셀병합"
   ]
  },
  {
   "cell_type": "code",
   "execution_count": 103,
   "metadata": {},
   "outputs": [],
   "source": [
    "wb = Workbook()\n",
    "ws = wb.active\n",
    "\n",
    "ws.merge_cells('B2:D2')\n",
    "ws['B2'] = 'Merge Cell'\n",
    "\n",
    "wb.save('excel/merge.xlsx')"
   ]
  },
  {
   "cell_type": "code",
   "execution_count": 108,
   "metadata": {},
   "outputs": [],
   "source": [
    "wb = load_workbook('excel/merge.xlsx')\n",
    "\n",
    "ws1 = wb.active\n",
    "ws1.title = 'merge'\n",
    "\n",
    "ws2 = wb.copy_worksheet(ws1)\n",
    "ws2.title = 'unmerge'\n",
    "ws2.unmerge_cells('B2:D2')\n",
    "\n",
    "wb.save('excel/merge.xlsx')"
   ]
  },
  {
   "cell_type": "markdown",
   "metadata": {},
   "source": [
    "**연습문제7)**   \n",
    ": 여러분은 ICT폴리텍대학의 프로그래밍 교수님입니다. 프로그래밍 과목의 점수비중은 다음과 같습니다.\n",
    "- 출석 : 10\n",
    "- 과제1 : 10\n",
    "- 과제2 : 10\n",
    "- 중간고사 : 20\n",
    "- 기말고사 : 30\n",
    "- 프로젝트 : 20\n",
    "- 총합계 :100\n",
    "   "
   ]
  },
  {
   "cell_type": "markdown",
   "metadata": {},
   "source": [
    "**연습문제7-1)** 아래 데이터를 참고하여 'exercises5.xlsx'를 생성하시오. (시트명 : 프로그래밍)\n",
    "- 현재까지 작성된 최종 평가 점수\n",
    "- 학번, 출석, 과제1, 과제2, 중간고사, 기말고사, 프로젝트   \n",
    "1,10,8,5,14,26,12   \n",
    "2,7,3,7,15,24,18   \n",
    "3,9,5,8,8,12,4   \n",
    "4,7,8,7,17,21,18   \n",
    "5,7,8,7,16,25,15   \n",
    "6,3,5,8,8,17,0   \n",
    "7,4,9,10,16,27,18   \n",
    "8,6,6,6,15,19,17   \n",
    "9,10,10,9,19,30,19   \n",
    "10,9,8,8,20,25,20"
   ]
  },
  {
   "cell_type": "code",
   "execution_count": 173,
   "metadata": {},
   "outputs": [],
   "source": [
    "wb = Workbook()\n",
    "ws = wb.active\n",
    "ws.title = '프로그래밍'\n",
    "\n",
    "grades = [['학번', '출석', '과제1', '과제2', '중간고사', '기말고사', '프로젝트'],\n",
    "         [1,10,8,5,14,26,12], [2,7,3,7,15,24,18], [3,9,5,8,8,12,4], [4,7,8,7,17,21,18],\n",
    "         [5,7,8,7,16,25,15], [6,3,5,8,8,17,0], [7,4,9,10,16,27,18], [8,6,6,6,15,19,17],\n",
    "         [9,10,10,9,19,30,19], [10,9,8,8,20,25,20]]\n",
    "\n",
    "for grade in grades:\n",
    "    ws.append(grade)\n",
    "\n",
    "\n",
    "wb.save('excel/exercises5.xlsx')"
   ]
  },
  {
   "cell_type": "markdown",
   "metadata": {},
   "source": [
    "**연습문제7-2)**   \n",
    "마지막 수업을 모두 마치고 이번 학기 학생들의 최종 성적을 검토하는 과정에서 과제2 문제에 오류를 발견하여 모두 만점 처리를 하기로 하였습니다.    \n",
    "- 'exercises5.xlsx' 파일을 열어서 시트를 추가(시트명:프로그래밍-수정)해서 과제2을 모두 만점 처리 하고 저장하시오.\n"
   ]
  },
  {
   "cell_type": "code",
   "execution_count": 174,
   "metadata": {},
   "outputs": [],
   "source": [
    "wb = load_workbook('excel/exercises5.xlsx')\n",
    "ws1 = wb.active\n",
    "ws2 = wb.copy_worksheet(ws1)\n",
    "ws2.title = '프로그래밍-수정'\n",
    "wb.move_sheet('프로그래밍-수정', -1)\n",
    "\n",
    "\n",
    "for row in ws2.iter_rows(min_row=2):\n",
    "    if row[3].value != 10:\n",
    "        row[3].value = 10\n",
    "\n",
    "\n",
    "wb.save('excel/exercises5.xlsx')"
   ]
  },
  {
   "cell_type": "markdown",
   "metadata": {},
   "source": [
    "**연습문제7-3)** \n",
    "- H열에 총점(SUM 이용)추가 (주의 : 총점 계산시..실제 계산을 하는게 아닌 수식을 완성)"
   ]
  },
  {
   "cell_type": "code",
   "execution_count": 220,
   "metadata": {
    "scrolled": true
   },
   "outputs": [],
   "source": [
    "from openpyxl import load_workbook\n",
    "\n",
    "wb = load_workbook('excel/exercises5.xlsx')\n",
    "ws = wb['프로그래밍-수정']\n",
    "\n",
    "ws['H1'] = '총점'\n",
    "\n",
    "for i in range(2, len(tuple(ws.rows))+1):\n",
    "    ws[f'H{i}'] = f'=SUM(B{i}:G{i})'\n",
    "\n",
    "\n",
    "wb.save('excel/exercises5.xlsx')"
   ]
  },
  {
   "cell_type": "code",
   "execution_count": 221,
   "metadata": {},
   "outputs": [],
   "source": [
    "from openpyxl import load_workbook\n",
    "\n",
    "wb = load_workbook('excel/exercises5.xlsx')\n",
    "ws = wb['프로그래밍']\n",
    "\n",
    "ws['H1'] = '총점'\n",
    "\n",
    "for i in range(2, len(tuple(ws.rows))+1):\n",
    "    ws[f'H{i}'] = f'=SUM(B{i}:G{i})'\n",
    "\n",
    "\n",
    "wb.save('excel/exercises5.xlsx')"
   ]
  },
  {
   "cell_type": "markdown",
   "metadata": {},
   "source": [
    "**연습문제 7-4)**   \n",
    "- I열에 성적 정보를 추가 (총점 90 이상 A, 80 이상 B, 70 이상 C, 나머지 D)\n",
    "- 출석점수가 5점 미만인 학생은 총점 상관없이 F"
   ]
  },
  {
   "cell_type": "code",
   "execution_count": 225,
   "metadata": {},
   "outputs": [],
   "source": [
    "from openpyxl import load_workbook\n",
    "\n",
    "wb = load_workbook('excel/exercises5.xlsx', data_only=True)\n",
    "ws = wb['프로그래밍-수정']\n",
    "\n",
    "\n",
    "ws['I1'] = '성적 정보'\n",
    "\n",
    "for row in ws.iter_rows(min_row=2):\n",
    "    if row[1].value < 5:\n",
    "        row[8].value = 'F'\n",
    "\n",
    "    else:\n",
    "        if row[7].value >= 90:\n",
    "            row[8].value = 'A'\n",
    "        elif row[7].value >= 80:\n",
    "            row[8].value = 'B'\n",
    "        elif row[7].value >= 70:\n",
    "            row[8].value = 'C'\n",
    "        else:\n",
    "            row[8].value = 'D'\n",
    "    \n",
    "\n",
    "wb.save('excel/exercises5.xlsx')"
   ]
  },
  {
   "cell_type": "code",
   "execution_count": 226,
   "metadata": {},
   "outputs": [],
   "source": [
    "from openpyxl import load_workbook\n",
    "\n",
    "wb = load_workbook('excel/exercises5.xlsx', data_only=True)\n",
    "ws = wb['프로그래밍']\n",
    "\n",
    "\n",
    "ws['I1'] = '성적 정보'\n",
    "\n",
    "for row in ws.iter_rows(min_row=2):\n",
    "    if row[1].value < 5:\n",
    "        row[8].value = 'F'\n",
    "\n",
    "    else:\n",
    "        if row[7].value >= 90:\n",
    "            row[8].value = 'A'\n",
    "        elif row[7].value >= 80:\n",
    "            row[8].value = 'B'\n",
    "        elif row[7].value >= 70:\n",
    "            row[8].value = 'C'\n",
    "        else:\n",
    "            row[8].value = 'D'\n",
    "    \n",
    "\n",
    "wb.save('excel/exercises5.xlsx')"
   ]
  },
  {
   "cell_type": "code",
   "execution_count": null,
   "metadata": {},
   "outputs": [],
   "source": []
  },
  {
   "cell_type": "code",
   "execution_count": null,
   "metadata": {},
   "outputs": [],
   "source": []
  }
 ],
 "metadata": {
  "kernelspec": {
   "display_name": "Python 3",
   "language": "python",
   "name": "python3"
  },
  "language_info": {
   "codemirror_mode": {
    "name": "ipython",
    "version": 3
   },
   "file_extension": ".py",
   "mimetype": "text/x-python",
   "name": "python",
   "nbconvert_exporter": "python",
   "pygments_lexer": "ipython3",
   "version": "3.8.8"
  },
  "toc": {
   "base_numbering": 1,
   "nav_menu": {},
   "number_sections": false,
   "sideBar": true,
   "skip_h1_title": false,
   "title_cell": "Table of Contents",
   "title_sidebar": "Contents",
   "toc_cell": false,
   "toc_position": {
    "height": "calc(100% - 180px)",
    "left": "10px",
    "top": "150px",
    "width": "349.091px"
   },
   "toc_section_display": true,
   "toc_window_display": false
  }
 },
 "nbformat": 4,
 "nbformat_minor": 4
}
