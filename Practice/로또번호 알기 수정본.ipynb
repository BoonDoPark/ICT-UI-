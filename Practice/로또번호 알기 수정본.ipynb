{
 "cells": [
  {
   "cell_type": "code",
   "execution_count": 8,
   "metadata": {},
   "outputs": [
    {
     "name": "stdout",
     "output_type": "stream",
     "text": [
      "[33, 24, 14, 21, 31, 22]\n"
     ]
    }
   ],
   "source": [
    "# 로또번호 알기\n",
    "import random\n",
    "\n",
    "lotto = []\n",
    "for i in range(0, 45):\n",
    "    lotto.append(i+1)\n",
    "    \n",
    "for i in range(1, 1000):\n",
    "    a = random.randint(0, 44)\n",
    "    b = random.randint(0, 44)\n",
    "    \n",
    "    temp = lotto[a]\n",
    "    lotto[a] = lotto[b]\n",
    "    lotto[b] = temp\n",
    "    \n",
    "print(lotto[0 : 6])"
   ]
  },
  {
   "cell_type": "code",
   "execution_count": 9,
   "metadata": {},
   "outputs": [
    {
     "name": "stdout",
     "output_type": "stream",
     "text": [
      "[39, 12, 29, 15, 6, 21]\n"
     ]
    }
   ],
   "source": [
    "# 로또번호 알기\n",
    "import random\n",
    "\n",
    "# 리스트 컴프리헨션으로 간결하게 쓸 수 있다.\n",
    "lotto = [i + 1 for i in range(46)]\n",
    "    \n",
    "for i in range(1, 1000):\n",
    "    a = random.randint(0, 44)\n",
    "    b = random.randint(0, 44)\n",
    "    \n",
    "    temp = lotto[a]\n",
    "    lotto[a] = lotto[b]\n",
    "    lotto[b] = temp\n",
    "    \n",
    "print(lotto[0 : 6])"
   ]
  }
 ],
 "metadata": {
  "kernelspec": {
   "display_name": "Python 3",
   "language": "python",
   "name": "python3"
  },
  "language_info": {
   "codemirror_mode": {
    "name": "ipython",
    "version": 3
   },
   "file_extension": ".py",
   "mimetype": "text/x-python",
   "name": "python",
   "nbconvert_exporter": "python",
   "pygments_lexer": "ipython3",
   "version": "3.8.5"
  }
 },
 "nbformat": 4,
 "nbformat_minor": 4
}
