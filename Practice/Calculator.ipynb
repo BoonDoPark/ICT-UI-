{
 "cells": [
  {
   "cell_type": "markdown",
   "id": "34643dca",
   "metadata": {},
   "source": [
    "## 계산기의 객체를 만드는 코드를 써보자."
   ]
  },
  {
   "cell_type": "code",
   "execution_count": 4,
   "id": "2bc30ef4",
   "metadata": {},
   "outputs": [
    {
     "name": "stdout",
     "output_type": "stream",
     "text": [
      "100 50 30 20\n",
      "200\n",
      "0\n",
      "3000000\n",
      "0.003333333333333333\n"
     ]
    }
   ],
   "source": [
    "class Calculator:\n",
    "    def __init__(self):\n",
    "        self.select = input().split(' ') # 문자열로 된 숫자를 나누기 위해 split을 써서 리스트 안에 하나 하나 넣어준다.\n",
    "    \n",
    "    # 계산기에서 덧셈의 기능은 처음 입력한 숫자와 두번째 입력한 숫자를 더해주는 것.\n",
    "    # 변수a는 add의 약자이다.\n",
    "    def add(self):\n",
    "        a = 0\n",
    "        for i in self.select: # for문을 돌려 하나하나 리스트의 값을 꺼내온다.\n",
    "            a += int(i)\n",
    "        return a\n",
    "    \n",
    "    # 계산기에서 뺄셈의 기능은 처음 입력한 숫자와 두번째 입력한 숫자를 빼주는 것.\n",
    "    # 근데 처음 입력한 숫자에 -부호가 붙기 때문에 self,select의 인덱스0의 값을 두번 더해주는 변수를 만들어서 구한다.\n",
    "    # 변수 s는 sum의 약자이다.\n",
    "    def sub(self):\n",
    "        s = (int(self.select[0]) + int(self.select[0]))\n",
    "        for i in self.select:\n",
    "            s -= int(i)\n",
    "        return s\n",
    "    \n",
    "    # 계산기에서 곱셈의 기능은 처음 입력한 숫자와 두번째 입력한 숫자를 곱해주는 것.\n",
    "    # 변수 m에 0을 넣으면 곱셈은 어떤 수를 넣어도 0이 나오기 때문에\n",
    "    # mul 함수 변수 m에 1이라는 변수를 넣는다.\n",
    "    # 변수 m은 mul의 약자이다.\n",
    "    def mul(self):\n",
    "        m = 1\n",
    "        for i in self.select:\n",
    "            m *= int(i)\n",
    "        return m\n",
    "    \n",
    "    # 계산기에서 나눗셈의 기능은 처음 입력한 숫자(분자)를 두번째 입력한 숫자(분모)가 나눠주는 것.\n",
    "    # 처음 입력한 숫자와 두번째 입력한 숫자의 나누기 값을 나누지 않고 두번째 입력한 숫자에서 나눠질 가능성이 있어,\n",
    "    # self.select의 인덱스0의 값을 두번 곱해주는 변수를 만들어서 구한다.\n",
    "    # 변수 d는 div의 약자이다.\n",
    "    def div(self):\n",
    "        d = int(self.select[0])*int(self.select[0])\n",
    "        for i in self.select:\n",
    "            d /= int(i) \n",
    "        # 만약 소수점이 많이 뜨는 경우엔 round()함수로 줄여줄 수 있다.\n",
    "        # print(round(d, 6), '*', sep='')\n",
    "        return d\n",
    "\n",
    "\n",
    "# cal의 변수에 Calculator클래스의 객체를 불러온다.\n",
    "cal = Calculator()\n",
    "\n",
    "# cal변수에 Calculator의 함수를 호출한다.\n",
    "print(cal.add())\n",
    "print(cal.sub())\n",
    "print(cal.mul())\n",
    "print(cal.div())\n",
    "\n",
    "# 아래에 결과값이 제대로 나오는 것을 확인 할 수 있다."
   ]
  }
 ],
 "metadata": {
  "kernelspec": {
   "display_name": "Python 3",
   "language": "python",
   "name": "python3"
  },
  "language_info": {
   "codemirror_mode": {
    "name": "ipython",
    "version": 3
   },
   "file_extension": ".py",
   "mimetype": "text/x-python",
   "name": "python",
   "nbconvert_exporter": "python",
   "pygments_lexer": "ipython3",
   "version": "3.8.8"
  }
 },
 "nbformat": 4,
 "nbformat_minor": 5
}
