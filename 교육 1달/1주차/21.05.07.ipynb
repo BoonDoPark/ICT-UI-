{
 "cells": [
  {
   "cell_type": "markdown",
   "metadata": {},
   "source": [
    "### 오늘은 Jupyter Notebook을 이용하여 지난 시간에 배운 Python문법들을 복습했다."
   ]
  },
  {
   "cell_type": "code",
   "execution_count": 2,
   "metadata": {},
   "outputs": [
    {
     "name": "stdout",
     "output_type": "stream",
     "text": [
      "Hello World\n"
     ]
    }
   ],
   "source": [
    "# 1. 화면에 Hello World 문자열을 출력하세요.\n",
    "print('Hello World')"
   ]
  },
  {
   "cell_type": "code",
   "execution_count": 3,
   "metadata": {},
   "outputs": [
    {
     "name": "stdout",
     "output_type": "stream",
     "text": [
      "Mary's cosmetics\n"
     ]
    }
   ],
   "source": [
    "# 2. 화면에 Mary's cosmetics을 출력하세요.(중간에 '가 있음에 주의)\n",
    "print(\"Mary's cosmetics\")"
   ]
  },
  {
   "cell_type": "code",
   "execution_count": 4,
   "metadata": {},
   "outputs": [
    {
     "name": "stdout",
     "output_type": "stream",
     "text": [
      "naver/google/daum\n"
     ]
    }
   ],
   "source": [
    "# 3. print()함수를 사용하여 다음과 같이 출력하세요.\n",
    "site1 = 'naver'\n",
    "site2 = 'google'\n",
    "site3 = 'daum'\n",
    "\n",
    "print(site1, site2, site3, sep = '/')"
   ]
  },
  {
   "cell_type": "code",
   "execution_count": 5,
   "metadata": {},
   "outputs": [
    {
     "name": "stdout",
     "output_type": "stream",
     "text": [
      "first second\n"
     ]
    }
   ],
   "source": [
    "# 4. 다음 코드를 수정하여 줄바꿈 없이 출력하세요.\n",
    "print('first', end = ' ')\n",
    "print('second')"
   ]
  },
  {
   "cell_type": "code",
   "execution_count": 6,
   "metadata": {},
   "outputs": [
    {
     "name": "stdout",
     "output_type": "stream",
     "text": [
      "9\n",
      "5\n",
      "14\n",
      "3.5\n"
     ]
    }
   ],
   "source": [
    "# 5. 두개의 수치에 대한 4칙연산(덧셈, 뺄셈, 곱셈, 나눗셈)의 결과를 출력하세요.\n",
    "a = 7\n",
    "b = 2\n",
    "\n",
    "print(a + b)\n",
    "print(a - b)\n",
    "print(a * b)\n",
    "print(a / b)"
   ]
  },
  {
   "cell_type": "code",
   "execution_count": 7,
   "metadata": {},
   "outputs": [
    {
     "name": "stdout",
     "output_type": "stream",
     "text": [
      "20.4\n",
      "20\n"
     ]
    },
    {
     "ename": "TypeError",
     "evalue": "can only concatenate str (not \"int\") to str",
     "output_type": "error",
     "traceback": [
      "\u001b[1;31m---------------------------------------------------------------------------\u001b[0m",
      "\u001b[1;31mTypeError\u001b[0m                                 Traceback (most recent call last)",
      "\u001b[1;32m<ipython-input-7-e294a85355ee>\u001b[0m in \u001b[0;36m<module>\u001b[1;34m\u001b[0m\n\u001b[0;32m      6\u001b[0m \u001b[0mb\u001b[0m \u001b[1;33m=\u001b[0m \u001b[0mint\u001b[0m\u001b[1;33m(\u001b[0m\u001b[1;36m10.7\u001b[0m\u001b[1;33m)\u001b[0m\u001b[1;33m;\u001b[0m\u001b[1;33m\u001b[0m\u001b[1;33m\u001b[0m\u001b[0m\n\u001b[0;32m      7\u001b[0m \u001b[0mprint\u001b[0m\u001b[1;33m(\u001b[0m\u001b[0ma\u001b[0m \u001b[1;33m+\u001b[0m \u001b[0mb\u001b[0m\u001b[1;33m)\u001b[0m\u001b[1;33m\u001b[0m\u001b[1;33m\u001b[0m\u001b[0m\n\u001b[1;32m----> 8\u001b[1;33m \u001b[0ma\u001b[0m \u001b[1;33m=\u001b[0m \u001b[1;34m'10.7'\u001b[0m\u001b[1;33m;\u001b[0m \u001b[0mb\u001b[0m \u001b[1;33m=\u001b[0m \u001b[1;36m20\u001b[0m\u001b[1;33m;\u001b[0m \u001b[0mprint\u001b[0m\u001b[1;33m(\u001b[0m\u001b[0ma\u001b[0m \u001b[1;33m+\u001b[0m \u001b[0mb\u001b[0m\u001b[1;33m)\u001b[0m\u001b[1;33m\u001b[0m\u001b[1;33m\u001b[0m\u001b[0m\n\u001b[0m",
      "\u001b[1;31mTypeError\u001b[0m: can only concatenate str (not \"int\") to str"
     ]
    }
   ],
   "source": [
    "# 6. 다음 프로그램에 대한 결과를 확인하세요.\n",
    "a = 10.4;\n",
    "b = 10;\n",
    "print(a + b)\n",
    "a = int(10.4);\n",
    "b = int(10.7);\n",
    "print(a + b)\n",
    "a = '10.7'; b = 20; print(a + b)"
   ]
  },
  {
   "cell_type": "code",
   "execution_count": 1,
   "metadata": {},
   "outputs": [
    {
     "name": "stdout",
     "output_type": "stream",
     "text": [
      "BoonDoPark\n"
     ]
    }
   ],
   "source": [
    "# 7. 자신의 이름을 키보드로부터 입력받아 확인하세요.\n",
    "print('BoonDoPark')"
   ]
  },
  {
   "cell_type": "code",
   "execution_count": 2,
   "metadata": {},
   "outputs": [
    {
     "name": "stdout",
     "output_type": "stream",
     "text": [
      "숫자 : 5\n",
      "숫자 : 2\n",
      "7\n"
     ]
    }
   ],
   "source": [
    "# 8. 키보드로부터 수치를 2개를 입력받아 출력하세요.\n",
    "a = int(input('숫자 : '))\n",
    "b = int(input('숫자 : '))\n",
    "\n",
    "print(a + b)"
   ]
  },
  {
   "cell_type": "code",
   "execution_count": 3,
   "metadata": {},
   "outputs": [
    {
     "name": "stdout",
     "output_type": "stream",
     "text": [
      "['배트맨', '스플릿', '럭키']\n"
     ]
    }
   ],
   "source": [
    "# 9. 영화 제목을 movie_rank 이름의 리스트에 저장해보세요.\n",
    "movie_rank = ['배트맨', '스플릿', '럭키']\n",
    "print(movie_rank)"
   ]
  },
  {
   "cell_type": "code",
   "execution_count": 4,
   "metadata": {},
   "outputs": [
    {
     "name": "stdout",
     "output_type": "stream",
     "text": [
      "스플릿\n"
     ]
    }
   ],
   "source": [
    "# 10. 문제9의 리스트에서 '스플릿'을 출력하세요.\n",
    "movie_rank = ['배트맨', '스플릿', '럭키']\n",
    "\n",
    "print(movie_rank[1])"
   ]
  },
  {
   "cell_type": "code",
   "execution_count": 5,
   "metadata": {},
   "outputs": [
    {
     "name": "stdout",
     "output_type": "stream",
     "text": [
      "['배트맨', '스플릿', '럭키', '잠복수사']\n"
     ]
    }
   ],
   "source": [
    "# 11. 문제9의 리스트에서 '잠복수사'를 추가하세요.\n",
    "movie_rank = ['배트맨', '스플릿', '럭키']\n",
    "\n",
    "movie_rank.append('잠복수사')\n",
    "\n",
    "print(movie_rank)"
   ]
  },
  {
   "cell_type": "code",
   "execution_count": 6,
   "metadata": {},
   "outputs": [
    {
     "name": "stdout",
     "output_type": "stream",
     "text": [
      "['배트맨', '슈퍼맨', '스플릿', '럭키', '잠복수사']\n"
     ]
    }
   ],
   "source": [
    "#12. 문제11의 리스트에서 '슈퍼맨'을 '배트맨'과 '스플릿'사이에 추가하세요.\n",
    "movie_rank = ['배트맨', '스플릿', '럭키', '잠복수사']\n",
    "\n",
    "movie_rank.insert(1, '슈퍼맨')\n",
    "print(movie_rank)"
   ]
  },
  {
   "cell_type": "code",
   "execution_count": 7,
   "metadata": {},
   "outputs": [
    {
     "name": "stdout",
     "output_type": "stream",
     "text": [
      "['배트맨', '슈퍼맨', '스플릿', '잠복수사']\n"
     ]
    }
   ],
   "source": [
    "# 13. 문제12의 리스트에서 '럭키'를 삭제하세요.\n",
    "movie_rank = ['배트맨', '슈퍼맨', '스플릿', '럭키', '잠복수사']\n",
    "\n",
    "movie_rank.pop(3)\n",
    "print(movie_rank)"
   ]
  },
  {
   "cell_type": "code",
   "execution_count": 8,
   "metadata": {},
   "outputs": [
    {
     "name": "stdout",
     "output_type": "stream",
     "text": [
      "['배트맨', '잠복수사']\n"
     ]
    }
   ],
   "source": [
    "#14. 문제13의 리스트에서 '슈퍼맨'과 '스플릿'을 살제하세요.\n",
    "movie_rank = ['배트맨', '슈퍼맨', '스플릿', '잠복수사']\n",
    "\n",
    "del movie_rank[1 : 3]\n",
    "print(movie_rank)"
   ]
  },
  {
   "cell_type": "code",
   "execution_count": 9,
   "metadata": {},
   "outputs": [
    {
     "name": "stdout",
     "output_type": "stream",
     "text": [
      "['배트맨', '잠복수사', '미나리', '서복']\n"
     ]
    }
   ],
   "source": [
    "#15. 문제14의 리스트에서 '미나리', '서복'을 추가하세요.\n",
    "movie_rank = ['배트맨', '잠복수사']\n",
    "\n",
    "movie_rank.extend(['미나리', '서복'])\n",
    "print(movie_rank)"
   ]
  },
  {
   "cell_type": "code",
   "execution_count": 10,
   "metadata": {},
   "outputs": [
    {
     "name": "stdout",
     "output_type": "stream",
     "text": [
      "배트맨 잠복수사 미나리 서복\n"
     ]
    }
   ],
   "source": [
    "# 16. 문제15의 리스트에서 각 문자열의 값을 변수 a, b, c, d에 각각 저장하세요.\n",
    "movie_rank = ['배트맨', '잠복수사', '미나리', '서복']\n",
    "\n",
    "a, b, c, d = movie_rank\n",
    "print(a, b, c, d)"
   ]
  },
  {
   "cell_type": "markdown",
   "metadata": {},
   "source": [
    "A = 49, 43, 48, B = 78, 76 ,79 C = 4, 80, 70, D = 90, 70, 60, E = 80, 70, 90\n",
    "first score = 국어점수\n",
    "second score = 수학점수\n",
    "third score = 영어점수"
   ]
  },
  {
   "cell_type": "code",
   "execution_count": 11,
   "metadata": {},
   "outputs": [
    {
     "name": "stdout",
     "output_type": "stream",
     "text": [
      "[[49, 78, 45, 90, 80], [43, 76, 80, 70, 70], [48, 79, 70, 60, 90]]\n",
      "[43, 76, 80, 70, 70]\n"
     ]
    }
   ],
   "source": [
    "#17. 다음 항목에 대한 2차원 리스트를 작성하세요.\n",
    "korean = [49, 78, 45, 90, 80]\n",
    "mass = [43, 76, 80, 70, 70]\n",
    "eng = [48, 79, 70, 60, 90]\n",
    "\n",
    "total = [korean, mass, eng]\n",
    "print(total)\n",
    "print(total[1])"
   ]
  },
  {
   "cell_type": "code",
   "execution_count": 12,
   "metadata": {},
   "outputs": [
    {
     "name": "stdout",
     "output_type": "stream",
     "text": [
      "['월', '화', '수', '목', '금', '토', '일']\n"
     ]
    }
   ],
   "source": [
    "#18. lang1과 lang2 리스트가 있을 때 lang1과 lang2의 원소를 모두 갖고 있는 langs 리스트를 만드세요.\n",
    "lang1 = ['월', '화', '수']\n",
    "lang2 = ['목', '금', '토', '일']\n",
    "\n",
    "langs = lang1 + lang2\n",
    "print(langs)"
   ]
  },
  {
   "cell_type": "code",
   "execution_count": 13,
   "metadata": {},
   "outputs": [
    {
     "data": {
      "text/plain": [
       "4.625"
      ]
     },
     "execution_count": 13,
     "metadata": {},
     "output_type": "execute_result"
    }
   ],
   "source": [
    "# 19. 다음 리스트에서 데이터의 개수, 최대값, 최소값, 합, 평균값을 출력하세요.\n",
    "nums = [4, 2, 3, 6, 7, 9, 1, 5]\n",
    "# 개수\n",
    "len(nums)\n",
    "# 최대값\n",
    "max(nums)\n",
    "# 최소값\n",
    "min(nums)\n",
    "# 합\n",
    "sum(nums)\n",
    "# 평균값\n",
    "sum(nums) / len(nums)"
   ]
  },
  {
   "cell_type": "code",
   "execution_count": 14,
   "metadata": {},
   "outputs": [
    {
     "name": "stdout",
     "output_type": "stream",
     "text": [
      "[1, 2, 3, 4, 5, 6, 7, 8]\n",
      "[1, 2, 3, 4]\n"
     ]
    }
   ],
   "source": [
    "# 20. 다음 리스트에서 문자는 제외하고 숫자만 출력하세요.\n",
    "data = ['abc', 1, 2, 3, 4, 5, 6, 7, 8]\n",
    "\n",
    "print(data[1:])\n",
    "print(data[1:5])"
   ]
  },
  {
   "cell_type": "code",
   "execution_count": 15,
   "metadata": {},
   "outputs": [
    {
     "name": "stdout",
     "output_type": "stream",
     "text": [
      "[1, 3, 5, 7, 9]\n",
      "[2, 4, 6, 8, 10]\n",
      "[10, 9, 8, 7, 6, 5, 4, 3, 2, 1]\n"
     ]
    }
   ],
   "source": [
    "# 21. 다음 리스트를 짝수, 홀수, 역방향으로 출력하세요.\n",
    "data = [1, 2, 3, 4, 5, 6, 7, 8, 9, 10]\n",
    "# 짝수 [시작값:범위값:증가폭]\n",
    "print(data[::2])\n",
    "# 홀수\n",
    "print(data[1::2])\n",
    "# 역방향\n",
    "data.reverse()\n",
    "print(data)"
   ]
  },
  {
   "cell_type": "markdown",
   "metadata": {},
   "source": [
    "22. 키보드로부터 입력받은 수치를 다음 조건에 따라 출력하세요(if-esle문 사용)\n",
    "+ 20이상 : 주류판매 가능\n",
    "+ 20미만 : 주류판매 불가능"
   ]
  },
  {
   "cell_type": "code",
   "execution_count": 16,
   "metadata": {},
   "outputs": [
    {
     "name": "stdout",
     "output_type": "stream",
     "text": [
      "나이 입력 : 19\n",
      "주류판매 불가능\n"
     ]
    }
   ],
   "source": [
    "age = int(input('나이 입력 : '))\n",
    "if 20 <= age :\n",
    "    print('주류판매 가능')\n",
    "else :\n",
    "    print('주류판매 불가능')"
   ]
  },
  {
   "cell_type": "code",
   "execution_count": 17,
   "metadata": {},
   "outputs": [
    {
     "name": "stdout",
     "output_type": "stream",
     "text": [
      "수치입력 : 19\n",
      "홀수\n"
     ]
    }
   ],
   "source": [
    "# 23. 기보드로부터 수피를 입력받아 짝수/홀수를 판별하여 출력하세요.(if-else문 사용)\n",
    "nums = int(input('수치입력 : '))\n",
    "if nums % 2 == 1:\n",
    "    print('홀수')\n",
    "else :\n",
    "    print('짝수')"
   ]
  },
  {
   "cell_type": "code",
   "execution_count": 18,
   "metadata": {},
   "outputs": [
    {
     "name": "stdout",
     "output_type": "stream",
     "text": [
      "수치 : 21\n",
      "수치 : 34\n",
      "34\n"
     ]
    }
   ],
   "source": [
    "# 24. 키보드로부터 두 개의 수치를 입력받아 큰수를 출력하세요.(if-else문 사용)\n",
    "num1 = int(input('수치 : '))\n",
    "num2 = int(input('수치 : '))\n",
    "\n",
    "if num1 > num2 :\n",
    "    print(num1)\n",
    "else :\n",
    "    print(num2)"
   ]
  },
  {
   "cell_type": "code",
   "execution_count": 19,
   "metadata": {},
   "outputs": [
    {
     "name": "stdout",
     "output_type": "stream",
     "text": [
      "수치1 : 12\n",
      "수치2 : 16\n",
      "수치3 : 18\n",
      "16\n"
     ]
    }
   ],
   "source": [
    "# 25. 키보드로부터 3개의 수치를 입력받아 가장 큰수를 출력하세요.(if-else문 사용)\n",
    "num1 = int(input('수치1 : '))\n",
    "num2 = int(input('수치2 : '))\n",
    "num3 = int(input('수치3 : '))\n",
    "\n",
    "if num1 > num2 or num1 > num3 :\n",
    "    print(num1)\n",
    "elif num2 > num1 or num2 > num3 :\n",
    "    print(num2)\n",
    "else :\n",
    "    print(num3)"
   ]
  },
  {
   "cell_type": "code",
   "execution_count": 20,
   "metadata": {},
   "outputs": [
    {
     "name": "stdout",
     "output_type": "stream",
     "text": [
      "학점 : 86\n",
      "B\n"
     ]
    }
   ],
   "source": [
    "# 26. 점수에 대한 학점을 출력하는 프로그램을 출력하세요.\n",
    "grade  = int(input('학점 : '))\n",
    "\n",
    "if 100 > grade >= 90 :\n",
    "    print('A')\n",
    "elif 90 > grade >= 80 :\n",
    "    print('B')\n",
    "elif 80 > grade >= 70 : \n",
    "    print('C')\n",
    "elif 70 > grade >= 60 :\n",
    "    print('D')\n",
    "else :\n",
    "    print('F')"
   ]
  },
  {
   "cell_type": "code",
   "execution_count": 21,
   "metadata": {},
   "outputs": [
    {
     "name": "stdout",
     "output_type": "stream",
     "text": [
      "시간 : 17:10\n",
      "정각이 아닙니다.\n"
     ]
    }
   ],
   "source": [
    "# 27. 입력된 시간이 정각인지 아닌지를 판별하는 프로그램을 작성하세요.(if-else문 사용)\n",
    "time = input('시간 : ')\n",
    "# 문자열이기 때문에 인덱스를 가져서 18:00의 마지막 2개만 구해야 하기 때문에 [-2 : ]로 구했다.\n",
    "if  time[-2 : ] == '00' :\n",
    "    print('정각입니다')\n",
    "else :\n",
    "    print('정각이 아닙니다.')"
   ]
  },
  {
   "cell_type": "code",
   "execution_count": 22,
   "metadata": {},
   "outputs": [
    {
     "name": "stdout",
     "output_type": "stream",
     "text": [
      "좋아하는 과일 : 사과\n",
      "정답입니다.\n"
     ]
    }
   ],
   "source": [
    "# 28. 다음 리스트를 기준으로 키보드로부터 입력되는 조건에 따라 출력하세요.(if문)\n",
    "fruit = ['사과', '포도', '홍시']\n",
    "me = input('좋아하는 과일 : ')\n",
    "if me in fruit :\n",
    "    print('정답입니다.')\n",
    "else :\n",
    "    print('오답입니다.')"
   ]
  },
  {
   "cell_type": "code",
   "execution_count": 23,
   "metadata": {},
   "outputs": [
    {
     "name": "stdout",
     "output_type": "stream",
     "text": [
      "1 1\n",
      "2 3\n",
      "3 6\n",
      "4 10\n",
      "5 15\n",
      "6 21\n",
      "7 28\n",
      "8 36\n",
      "9 45\n",
      "10 55\n"
     ]
    }
   ],
   "source": [
    "# 29. 수치 1~10까지의 합을 구하는 프로그램을 작성하세요.\n",
    "num = 0\n",
    "\n",
    "for i in range(1, 11, 1):\n",
    "    num = num + i\n",
    "    print(i, num)"
   ]
  },
  {
   "cell_type": "code",
   "execution_count": 25,
   "metadata": {},
   "outputs": [
    {
     "name": "stdout",
     "output_type": "stream",
     "text": [
      "숫자 : 60\n",
      "61\n",
      "62\n",
      "63\n",
      "64\n",
      "65\n",
      "66\n",
      "67\n",
      "68\n",
      "69\n",
      "70\n",
      "71\n",
      "72\n",
      "73\n",
      "74\n",
      "75\n",
      "76\n",
      "77\n",
      "78\n",
      "79\n",
      "80\n",
      "81\n",
      "82\n",
      "83\n",
      "84\n",
      "85\n",
      "86\n",
      "87\n",
      "88\n",
      "89\n",
      "90\n",
      "91\n",
      "92\n",
      "93\n",
      "94\n",
      "95\n",
      "96\n",
      "97\n",
      "98\n",
      "99\n",
      "100\n",
      "101\n",
      "102\n",
      "103\n",
      "104\n",
      "105\n",
      "106\n",
      "107\n",
      "108\n",
      "109\n",
      "110\n",
      "111\n",
      "112\n",
      "113\n",
      "114\n",
      "115\n",
      "116\n",
      "117\n",
      "118\n",
      "119\n",
      "120\n",
      "121\n",
      "122\n",
      "123\n",
      "124\n",
      "125\n",
      "126\n",
      "127\n",
      "128\n",
      "129\n",
      "130\n",
      "131\n",
      "132\n",
      "133\n",
      "134\n",
      "135\n",
      "136\n",
      "137\n",
      "138\n",
      "139\n",
      "140\n",
      "141\n",
      "142\n",
      "143\n",
      "144\n",
      "145\n",
      "146\n",
      "147\n",
      "148\n",
      "149\n",
      "150\n",
      "151\n",
      "152\n",
      "153\n",
      "154\n",
      "155\n",
      "156\n",
      "157\n",
      "158\n",
      "159\n",
      "160\n",
      "161\n",
      "162\n",
      "163\n",
      "164\n",
      "165\n",
      "166\n",
      "167\n",
      "168\n",
      "169\n",
      "170\n",
      "171\n",
      "172\n",
      "173\n",
      "174\n",
      "175\n",
      "176\n",
      "177\n",
      "178\n",
      "179\n",
      "180\n",
      "181\n",
      "182\n",
      "183\n",
      "184\n",
      "185\n",
      "186\n",
      "187\n",
      "188\n",
      "189\n",
      "190\n",
      "191\n",
      "192\n",
      "193\n",
      "194\n",
      "195\n",
      "196\n",
      "197\n",
      "198\n",
      "199\n",
      "200\n",
      "201\n",
      "202\n",
      "203\n",
      "204\n",
      "205\n",
      "206\n",
      "207\n",
      "208\n",
      "209\n",
      "210\n"
     ]
    }
   ],
   "source": [
    "# 30. 키보드로부터 수치를 입력받아 1에서부터 입력받은 수치까지의 합을 구하는 프로그램을 작성하세요.(while문)\n",
    "num = int(input('숫자 : '))\n",
    "\n",
    "while num < 210:\n",
    "    for i in range(1, 100, 1):\n",
    "        num = num + 1\n",
    "        print(num)\n",
    "        break"
   ]
  },
  {
   "cell_type": "code",
   "execution_count": 26,
   "metadata": {},
   "outputs": [
    {
     "name": "stdout",
     "output_type": "stream",
     "text": [
      "숫자 : 4\n",
      "4 * 1 = 4\n",
      "4 * 2 = 8\n",
      "4 * 3 = 12\n",
      "4 * 4 = 16\n",
      "4 * 5 = 20\n",
      "4 * 6 = 24\n",
      "4 * 7 = 28\n",
      "4 * 8 = 32\n",
      "4 * 9 = 36\n"
     ]
    }
   ],
   "source": [
    "# 31. 수치 2~9까지의 수치를 입력받아 수치에 해당하는 구구단을 출력하는 프로그램을 작성하세요.(for문 사용)\n",
    "num = int(input('숫자 : '))\n",
    "\n",
    "for i in range(num, num+1):\n",
    "    for i2 in range(1, 10, 1):\n",
    "        print(i, '*', i2, '=', i * i2)"
   ]
  },
  {
   "cell_type": "code",
   "execution_count": 27,
   "metadata": {},
   "outputs": [
    {
     "name": "stdout",
     "output_type": "stream",
     "text": [
      "사과\n",
      "포도\n",
      "홍시\n"
     ]
    }
   ],
   "source": [
    "# 32. 다음 리스트의 항목을 for문을 사용하여 차례로 출력하세요.\n",
    "fruit = ['사과', '포도', '홍시']\n",
    "for i in fruit:\n",
    "    print(i)\n",
    "# for문에 무조건 range나 enumerate이 들어갈거라는 생각을 버려야 한다."
   ]
  },
  {
   "cell_type": "code",
   "execution_count": 28,
   "metadata": {},
   "outputs": [
    {
     "name": "stdout",
     "output_type": "stream",
     "text": [
      "a\n",
      "b\n",
      "c\n",
      "d\n"
     ]
    }
   ],
   "source": [
    "# 33. 다음 문자열을 차례로 문자로 출력하세요.(for문 사용)\n",
    "str = 'abcd'\n",
    "for i in str:\n",
    "    print(i)"
   ]
  }
 ],
 "metadata": {
  "kernelspec": {
   "display_name": "Python 3",
   "language": "python",
   "name": "python3"
  },
  "language_info": {
   "codemirror_mode": {
    "name": "ipython",
    "version": 3
   },
   "file_extension": ".py",
   "mimetype": "text/x-python",
   "name": "python",
   "nbconvert_exporter": "python",
   "pygments_lexer": "ipython3",
   "version": "3.8.5"
  }
 },
 "nbformat": 4,
 "nbformat_minor": 4
}
