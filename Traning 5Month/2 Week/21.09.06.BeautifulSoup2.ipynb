{
 "cells": [
  {
   "cell_type": "markdown",
   "metadata": {},
   "source": [
    "## 1. 다음영화 - 이미지 크롤링"
   ]
  },
  {
   "cell_type": "markdown",
   "metadata": {},
   "source": [
    "- 2020년도 영화순위 이미지 가져오기\n",
    "- res = requests.get(url)\n",
    "- res.text : 문자열 형식으로 응답 content 추출\n",
    "- res.content : 바이트열 형식을 응답 content 추출"
   ]
  },
  {
   "cell_type": "code",
   "execution_count": 15,
   "metadata": {},
   "outputs": [],
   "source": [
    "import requests\n",
    "from bs4 import BeautifulSoup\n",
    "\n",
    "\n",
    "url = 'https://search.daum.net/search?w=tot&q=2020%EB%85%84%EC%98%81%ED%99%94%EC%88%9C%EC%9C%84&DA=MOR&rtmaxcoll=MOR'\n",
    "res = requests.get(url)\n",
    "soup = BeautifulSoup(res.text, 'lxml')\n",
    "\n",
    "imgs = soup.find_all('img', attrs={'class':\"thumb_img\"})\n",
    "\n",
    "for idx, img in enumerate(imgs):\n",
    "    img_url = img['src']\n",
    "    #print(img_url)\n",
    "    \n",
    "    imgs_res = requests.get(img_url)\n",
    "    imgs_res.raise_for_status()\n",
    "    \n",
    "    with open('data_imgs/movie1/movie{}.jpg'.format(idx+1), 'wb') as f:\n",
    "        f.write(imgs_res.content)"
   ]
  },
  {
   "cell_type": "markdown",
   "metadata": {},
   "source": [
    "- 2020년 상위 5개 이미지만 가져오기"
   ]
  },
  {
   "cell_type": "code",
   "execution_count": 20,
   "metadata": {},
   "outputs": [],
   "source": [
    "for idx, img in enumerate(imgs):\n",
    "    img_url = img['src']\n",
    "    #print(img_url)\n",
    "    \n",
    "    imgs_res = requests.get(img_url)\n",
    "    imgs_res.raise_for_status()\n",
    "    \n",
    "    with open('data_imgs/movie2/movie{}.jpg'.format(idx+1), 'wb') as f:\n",
    "        f.write(imgs_res.content)\n",
    "        \n",
    "    if idx >= 4: break"
   ]
  },
  {
   "cell_type": "markdown",
   "metadata": {},
   "source": [
    "- 2015~2020년까지 상위 5개 영화 가지고 오기"
   ]
  },
  {
   "cell_type": "code",
   "execution_count": 76,
   "metadata": {},
   "outputs": [],
   "source": [
    "count = 0\n",
    "for i in range(2015, 2021):\n",
    "    url = f'https://search.daum.net/search?w=tot&q={i}%EB%85%84%EC%98%81%ED%99%94%EC%88%9C%EC%9C%84&DA=MOR&rtmaxcoll=MOR'\n",
    "    res = requests.get(url)\n",
    "    soup = BeautifulSoup(res.text, 'lxml')\n",
    "\n",
    "    imgs = soup.find_all('img', attrs={'class':\"thumb_img\"})\n",
    "\n",
    "    for idx,img in enumerate(imgs):\n",
    "        img_url = img['src']\n",
    "    \n",
    "        imgs_res = requests.get(img_url)\n",
    "        imgs_res.raise_for_status()\n",
    "    \n",
    "        with open('data_imgs/movie3/movie{}-{}.jpg'.format(i, idx+1), 'wb') as f:\n",
    "            f.write(imgs_res.content)\n",
    "            \n",
    "        if idx >= 4:\n",
    "            break\n",
    "        count+=1"
   ]
  },
  {
   "cell_type": "markdown",
   "metadata": {},
   "source": [
    "## 2. 코스피 시가총액 순위"
   ]
  },
  {
   "cell_type": "code",
   "execution_count": 104,
   "metadata": {},
   "outputs": [],
   "source": [
    "import requests\n",
    "from bs4 import BeautifulSoup\n",
    "from openpyxl import Workbook\n",
    "\n",
    "\n",
    "url = 'https://finance.naver.com/sise/sise_market_sum.nhn?sosok=0&page='\n",
    "wb = Workbook()\n",
    "ws = wb.active\n",
    "title = 'N\t종목명\t현재가\t전일비\t등락률\t액면가\t시가총액\t상장주식수\t외국인비율\t거래량\tPER\tROE'.split('\\t')\n",
    "ws.append(title)\n",
    "\n",
    "for page in range(1, 5):\n",
    "    res = requests.get(url+str(page))\n",
    "    soup = BeautifulSoup(res.text, 'lxml')\n",
    "    \n",
    "    data_rows = soup.find('table', class_=\"type_2\").find('tbody').find_all('tr')\n",
    "    \n",
    "    for row in data_rows:\n",
    "        cols = row.find_all('td')\n",
    "        if len(cols) == 1:\n",
    "            continue\n",
    "        data = [col.get_text().strip() for col in cols]\n",
    "        data.pop(-1)\n",
    "        ws.append(data)\n",
    "        \n",
    "wb.save('excel/시가총액.csv')"
   ]
  },
  {
   "cell_type": "code",
   "execution_count": null,
   "metadata": {},
   "outputs": [],
   "source": []
  },
  {
   "cell_type": "markdown",
   "metadata": {},
   "source": [
    "## 3. 과제\n",
    "### 3-1) 네이버에서 오늘 광주(경기도)의 날씨정보를 가져오기\n",
    "[오늘의 날씨]   \n",
    "맑음, 어제보다 4˚ 높아요   \n",
    "현재 온도 :27℃ (최저 21˚/최고 27˚)   \n",
    "강수확률 : 오전강수확률 30% / 오후강수확률 20%   \n",
    "미세먼지 : 29㎍/㎥좋음   \n",
    "초미세먼지 : 20㎍/㎥보통   \n",
    "오존지수 : 0.064ppm보통   \n"
   ]
  },
  {
   "cell_type": "code",
   "execution_count": 32,
   "metadata": {
    "scrolled": true
   },
   "outputs": [
    {
     "name": "stdout",
     "output_type": "stream",
     "text": [
      "[오늘의 날씨]\n",
      "맑음, 어제보다 4˚ 높아요\n",
      "현재온도:21℃ (최저19˚/최고24˚)\n",
      "강수확률 : 오전강수확률 30% / 오후강수확률 30%\n",
      "미세먼지 : 12㎍/㎥좋음\n",
      "초미세먼지 : 1㎍/㎥좋음\n",
      "오존지수 : 0.02ppm좋음\n"
     ]
    }
   ],
   "source": [
    "import requests\n",
    "from bs4 import BeautifulSoup\n",
    "\n",
    "url = 'https://search.naver.com/search.naver?sm=tab_hty.top&where=nexearch&query=%EB%84%A4%EC%9D%B4%EB%B2%84+%EC%98%A4%EB%8A%98%EC%9D%98+%EB%82%A0%EC%94%A8&oquery=%EB%84%A4%EC%9D%B4%EB%B2%84+%EB%82%A0%EC%94%A8&tqi=hf3LXdprvxZssvLHjO0ssssst8K-303140'\n",
    "res = requests.get(url)\n",
    "soup = BeautifulSoup(res.text, 'lxml')\n",
    "\n",
    "print('[오늘의 날씨]')\n",
    "today_weather_talk = soup.find('p', attrs={'class':'cast_txt'})\n",
    "print(today_weather_talk.get_text())\n",
    "\n",
    "temperature = soup.find('p', attrs={'class':'info_temperature'}).get_text().replace('도씨', '')\n",
    "min_temperature = soup.find('span', class_='min').get_text()\n",
    "max_temperature = soup.find('span', class_='max').get_text()\n",
    "print(f'현재온도:{temperature}(최저{min_temperature}/최고{max_temperature})')\n",
    "\n",
    "morning_rain_rate = soup.find('span', class_='point_time morning').find('span', class_='rain_rate').get_text()\n",
    "after_rain_rate = soup.find('span', class_='point_time afternoon').find('span', class_='rain_rate').get_text()\n",
    "print(f'강수확률 : 오전{morning_rain_rate.strip()} / 오후{after_rain_rate.strip()}')\n",
    "    \n",
    "# 초미세먼지 결과가 측정기 없음좋음으로 뜰 경우\n",
    "dust_and_ozone = soup.find_all('dl', attrs={'class':'indicator'})\n",
    "for dao in dust_and_ozone:\n",
    "    data = dao.get_text().split()\n",
    "    if len(data) == 7:\n",
    "        print(data[0],':',data[1])\n",
    "        print(data[2],':',data[3], data[4])\n",
    "        print(data[5],':',data[6])\n",
    "    else:\n",
    "        print(data[0],':',data[1])\n",
    "        print(data[2],':',data[3])\n",
    "        print(data[4],':',data[5])"
   ]
  },
  {
   "cell_type": "markdown",
   "metadata": {},
   "source": [
    "### 3-2) 네이버뉴스->it/과학->it일반 분야의 상위 3개 뉴스 크롤링 하기\n",
    "\n",
    "[IT 뉴스]\n",
    "1. 피 안 보고 혈당 측정\n",
    "  (링크 : https://news.naver.com/main/read.naver?mode=LS2D&mid=shm&sid1=105&sid2=230&oid=032&aid=0003095126 )\n",
    "2. 갤폴드3 중고로 샀는데 “반납하세요” 문자…황당 사연, 무슨일?\n",
    "  (링크 : https://news.naver.com/main/read.naver?mode=LS2D&mid=shm&sid1=105&sid2=230&oid=016&aid=0001880910 )\n",
    "3. 中, 미성년자 온라인게임 이용 주당 3시간으로 제한\n",
    "  (링크 : https://news.naver.com/main/read.naver?mode=LS2D&mid=shm&sid1=105&sid2=230&oid=092&aid=0002232128 )"
   ]
  },
  {
   "cell_type": "code",
   "execution_count": 40,
   "metadata": {},
   "outputs": [
    {
     "name": "stdout",
     "output_type": "stream",
     "text": [
      "1 \"AI 적용할 1순위는 의료산업\" (링크 : https://news.naver.com/main/read.naver?mode=LS2D&mid=shm&sid1=105&sid2=230&oid=015&aid=0004598803)\n",
      "2 KT 원팀, 초거대AI 내년 상반기 상용화 (링크 : https://news.naver.com/main/read.naver?mode=LS2D&mid=shm&sid1=105&sid2=230&oid=015&aid=0004598797)\n",
      "3 CJ올리브, 인공지능 산학협력 광주과기원에 제2연구소 설립 (링크 : https://news.naver.com/main/read.naver?mode=LS2D&mid=shm&sid1=105&sid2=230&oid=421&aid=0005577403)\n"
     ]
    }
   ],
   "source": [
    "import requests\n",
    "from bs4 import BeautifulSoup\n",
    "\n",
    "\n",
    "url = 'https://news.naver.com/main/list.naver?mode=LS2D&mid=shm&sid1=105&sid2=230'\n",
    "headers = {'User-Agent':'Mozilla/5.0 (Windows NT 10.0; Win64; x64) AppleWebKit/537.36 (KHTML, like Gecko) Chrome/92.0.4515.159 Safari/537.36'}\n",
    "res = requests.get(url, headers=headers)\n",
    "soup = BeautifulSoup(res.text, 'lxml')\n",
    "\n",
    "headlines = soup.find_all('dt')\n",
    "\n",
    "head_list = []\n",
    "\n",
    "for headline in headlines:\n",
    "    headline = headline.get_text().strip()\n",
    "    if headline != '':\n",
    "        head_list.append(headline)\n",
    "\n",
    "links = soup.find_all('dt', attrs={'class':'photo'})\n",
    "\n",
    "for idx, link in enumerate(links):\n",
    "    if idx >= 3:\n",
    "        break\n",
    "    print(idx+1, head_list[idx], '(링크 : {})'.format(link.a['href']))\n"
   ]
  },
  {
   "cell_type": "code",
   "execution_count": 24,
   "metadata": {},
   "outputs": [],
   "source": [
    "def create_soup(url):\n",
    "    headers = {'User-Agent':'Mozilla/5.0 (Windows NT 10.0; Win64; x64) AppleWebKit/537.36 (KHTML, like Gecko) Chrome/92.0.4515.159 Safari/537.36'}\n",
    "    res = requests.get(url, headers=headers)\n",
    "    soup = BeautifulSoup(res.text, 'lxml')\n",
    "    return soup\n"
   ]
  },
  {
   "cell_type": "code",
   "execution_count": 33,
   "metadata": {},
   "outputs": [],
   "source": [
    "def print_news(index: int, title, link):\n",
    "    print('{} {}'.format(index+1, title))\n",
    "    print('(링크 : {} )'.format(link))"
   ]
  },
  {
   "cell_type": "code",
   "execution_count": 35,
   "metadata": {},
   "outputs": [
    {
     "name": "stdout",
     "output_type": "stream",
     "text": [
      "[IT 뉴스]\n",
      "1 국민지원금 사용처 '네이버·카카오 지도'에서 본다\n",
      "(링크 : https://news.naver.com/main/read.naver?mode=LS2D&mid=shm&sid1=105&sid2=230&oid=008&aid=0004641159 )\n",
      "2 \"네이버·카카오맵서 코로나 국민지원금 사용처 확인하세요\"(종합)\n",
      "(링크 : https://news.naver.com/main/read.naver?mode=LS2D&mid=shm&sid1=105&sid2=230&oid=001&aid=0012644259 )\n",
      "3 \"추석 연휴에도 쏘카 타세요\"···대여료 최대 78% 할인\n",
      "(링크 : https://news.naver.com/main/read.naver?mode=LS2D&mid=shm&sid1=105&sid2=230&oid=011&aid=0003958938 )\n"
     ]
    }
   ],
   "source": [
    "def scrape_news():\n",
    "    print('[IT 뉴스]')\n",
    "    url = 'https://news.naver.com/main/list.naver?mode=LS2D&mid=shm&sid1=105&sid2=230'\n",
    "    soup = create_soup(url)\n",
    "    news_list = soup.find('ul', class_='type06_headline').find_all('li', limit=3)\n",
    "    \n",
    "    for idx, news in enumerate(news_list):\n",
    "        a_idx = 0\n",
    "        img = news.find('img')\n",
    "        if img:\n",
    "            a_idx = 1\n",
    "        a_tag = news.find_all('a')[a_idx]\n",
    "        title = a_tag.get_text().strip()\n",
    "        link = a_tag['href']\n",
    "        print_news(idx, title, link)\n",
    "    \n",
    "    \n",
    "scrape_news()"
   ]
  },
  {
   "cell_type": "markdown",
   "metadata": {},
   "source": [
    "### 3-3) 만개의 레시피 사이트에서 명예의 전당 상위 5페이지 레시피 정보(제목, 링크) 가지고 오기   \n",
    "[명예의 전당]   \n",
    "닭봉간장조림~ 십년째 만들어 먹는 양념 공유해요! https://www.10000recipe.com/recipe/6940325   \n",
    "백파더 백종원 에그치즈토스트 ~ 간단한데 맛은 최고! https://www.10000recipe.com/recipe/6939543   \n",
    "..생략...."
   ]
  },
  {
   "cell_type": "code",
   "execution_count": 21,
   "metadata": {},
   "outputs": [
    {
     "name": "stdout",
     "output_type": "stream",
     "text": [
      "[명예의전당]\n",
      "닭봉간장조림~ 십년째 만들어 먹는 양념 공유해요! https://www.10000recipe.com/recipe/6940325\n",
      "백파더 백종원 에그치즈토스트 ~ 간단한데 맛은 최고! https://www.10000recipe.com/recipe/6939543\n",
      "♥[신혼밥상] 5분 반찬 상추겉절이 https://www.10000recipe.com/recipe/6929388\n",
      "집밥으로 술안주로~ 닭갈비 레시피 끝판왕!! 파는 닭갈비 비법을 담았슴돠ㅋ~^^ https://www.10000recipe.com/recipe/6928209\n",
      "즉석 목살 양념구이~ 달큰한 양념소스가 정말 맛있습니다. https://www.10000recipe.com/recipe/6925795\n",
      "[아이반찬] 꼬들꼬들 식감이 좋은 맵지않은 오이무침 https://www.10000recipe.com/recipe/6923484\n",
      "차돌박이 된장찌개 레시피ㅣ고깃집에서 먹던 바로 그 맛!ㅣ https://www.10000recipe.com/recipe/6922749\n",
      "새우 부추전ㅣ집들이용으로도 손색 없는! https://www.10000recipe.com/recipe/6922700\n",
      "치킨 스테이크 만들기ㅣ굽네가 부럽지 않은ㅣ https://www.10000recipe.com/recipe/6922190\n",
      "간단한 술안주로 최고인 버터갈릭새우 만들기 https://www.10000recipe.com/recipe/6918977\n",
      "맛있는 밑반찬 백종원 가지볶음 https://www.10000recipe.com/recipe/6917883\n",
      "♥[신혼밥상] 10분 반찬! 메추리알조림 https://www.10000recipe.com/recipe/6916408\n",
      "밥도둑 반찬 고추장 달걀조림 만들기!TV 알토란 레시피 https://www.10000recipe.com/recipe/6915088\n",
      "감자어묵국 보들보들하게 즐기는 간단국요리 https://www.10000recipe.com/recipe/6914749\n",
      "버섯으로 관자 느낌 내는 방법! 새송이버섯간장버터구이 만들기 https://www.10000recipe.com/recipe/6912734\n",
      "박막례 간장비빔국수 맛의 재발견 https://www.10000recipe.com/recipe/6912388\n",
      "순두부찌개. 바지락, 고기 없이도 기가 막힌 순두부찌개 만드는 법 / 만들기 / 순두부찌개 황금 레시피 https://www.10000recipe.com/recipe/6912220\n",
      "에어프라이어로 달콤한 허니버터 고구마 만들기 https://www.10000recipe.com/recipe/6911766\n",
      "다른반찬이 필요없는 두부짜글이로 밥한공기 뚝딱! https://www.10000recipe.com/recipe/6910367\n",
      "매콤 돼지갈비찜 https://www.10000recipe.com/recipe/6910133\n",
      "국물까지 싹싹 비벼먹게 만드는 마성의맛 두부조림 https://www.10000recipe.com/recipe/6909708\n",
      "나시고랭 :)숙주로 간단한 나시고랭 볶음밥 https://www.10000recipe.com/recipe/6907712\n",
      "즉석 오이무침 만드는 법, 아삭아삭 상큼한 오이무침, 밑반찬 https://www.10000recipe.com/recipe/6907661\n",
      "소시지 간장떡볶이 - 떡국떡 간장 떡볶이 https://www.10000recipe.com/recipe/6907500\n",
      "계란장조림 황금레시피 짜지않고 맛있게 https://www.10000recipe.com/recipe/6906766\n",
      "양념장이 참 맛있는 두부조림 https://www.10000recipe.com/recipe/6906655\n",
      "무수분 오겹살 수육. 보쌈은 이제 집에서 간편하게 맛있게 만들어 드세요. https://www.10000recipe.com/recipe/6906497\n",
      "잡채 만드는 법 https://www.10000recipe.com/recipe/6905889\n",
      "절대 실패없는 제육볶음 황금레시피 감칠맛과 매운맛이 좋아요~!! https://www.10000recipe.com/recipe/6905743\n",
      "청포묵무침 간단하게 아이들 반찬으로 최고 https://www.10000recipe.com/recipe/6905276\n",
      "국물이 너무 개운해요~맑은콩나물국 맛있게 끓이는법(김진옥요리가좋다) https://www.10000recipe.com/recipe/6905196\n",
      "백종원 꽁치김치찌개 끓이는 법 https://www.10000recipe.com/recipe/6904987\n",
      "칼국수집 진~한 겉절이, 겉절이 황금레시피 https://www.10000recipe.com/recipe/6903824\n",
      "소고기 보다 맛있고 쫄깃쫄깃한 표고버섯 볶음 https://www.10000recipe.com/recipe/6903513\n",
      "오징어 볶음, 향과 맛이 일품! 백종원 오징어 볶음 https://www.10000recipe.com/recipe/6903507\n",
      "백종원 어묵볶음 만드는법 간단하면서 맛있다 https://www.10000recipe.com/recipe/6903394\n",
      "진정한 밥도둑~잘익은 배추김치로 등갈비김치찜 만드는법*^^* https://www.10000recipe.com/recipe/6902902\n",
      "부타동 : 일본식 돼지고기 덮밥 간단한 점심 메뉴로 굿! https://www.10000recipe.com/recipe/6902207\n",
      "우유달걀카레 - 아침식사 거르지마세요. 초간단 15분요리 https://www.10000recipe.com/recipe/6902125\n",
      "크림파스타 만들기 크림스파게티 만드는 법 생각보다 간단해요 :) https://www.10000recipe.com/recipe/6901938\n",
      "일식집st콘치즈 초간단 레시피!고소함 폭발!홈파티 맥주안주로 강추 https://www.10000recipe.com/recipe/6901904\n",
      "만물상, 시간은 반! 맛은 두 배! 초간단 우엉조림 https://www.10000recipe.com/recipe/6901508\n",
      "돼지 등갈비찜 만들기 간장소스로 만드는 황금레시피 https://www.10000recipe.com/recipe/6900758\n",
      "백종원 골뱅이무침 만드는 법 술안주로 좋은 골뱅이소면무침 https://www.10000recipe.com/recipe/6900650\n",
      "얼큰하고 시원한 경상도식 소고기콩나물무국 https://www.10000recipe.com/recipe/6900475\n",
      "맵지 않고 부드러운 아이들 반찬 '간장진미채볶음'초간단 레시피 https://www.10000recipe.com/recipe/6900147\n",
      "유린기♡중국 닭가슴살 튀김요리가 맛있다해^^ https://www.10000recipe.com/recipe/6899911\n",
      "업그레이드 삼겹살덮밥 https://www.10000recipe.com/recipe/6899874\n",
      "핵초간단 양배추어묵볶음 https://www.10000recipe.com/recipe/6899335\n",
      "해물찜처럼 맛있는 백종원 소시지콩나물찜 https://www.10000recipe.com/recipe/6899265\n",
      "참치 비빔밥 https://www.10000recipe.com/recipe/6898328\n",
      "수미네반찬 제육볶음 만드는 법 돼지두루치기 레시피 https://www.10000recipe.com/recipe/6897988\n",
      "실패 없는 백종원 레시피 :: 소고기뭇국 https://www.10000recipe.com/recipe/6897772\n",
      "스팸 돈부리덮밥!반찬이 필요없는 초간단 한그릇 요리 https://www.10000recipe.com/recipe/6897383\n",
      "꿀마늘 닭강정(아이들 단골메뉴 찜♡♡) https://www.10000recipe.com/recipe/6897374\n",
      "백종원 오이무침 새콤달콤 맛있게~ https://www.10000recipe.com/recipe/6897261\n",
      "비빔국수 황금레시피 https://www.10000recipe.com/recipe/6896908\n",
      "정말 쉬운 감자간장조림~~실패율 0%!!!당장 도전입니당♡♡♡ https://www.10000recipe.com/recipe/6896724\n",
      "요리초보도 실패없는 백종원 오이소박이 https://www.10000recipe.com/recipe/6896175\n",
      "중국집 볶음밥 부럽지 않은 백종원 새우볶음밥 레시피 https://www.10000recipe.com/recipe/6896028\n",
      "생선 없이도 깊은 맛이 나는 '백종원 무조림' 레시피 https://www.10000recipe.com/recipe/6895723\n",
      "쫄깃하고 맛있는 두부볶음 레시피!다이어트 요리로도 좋아요 https://www.10000recipe.com/recipe/6895591\n",
      "초간단 쉬운반찬 \n",
      "간장 두부조림~* https://www.10000recipe.com/recipe/6895526\n",
      "아삭아삭 콩나물무침♡ https://www.10000recipe.com/recipe/6895383\n",
      "담백한 두부스테이크 만들기!고기없이도 맛있는 다이어트 요리 https://www.10000recipe.com/recipe/6894890\n",
      "소떡소떡 만들기!간단하고 맛있는 야식! https://www.10000recipe.com/recipe/6894810\n",
      "만물상에 소개된 불 없이 5분만에 만든 오징어채 황금 레시피! https://www.10000recipe.com/recipe/6894755\n",
      "지금 제철인 부추 팍팍 넣고 바삭 쫄깃한 깻잎부추전 만들기 https://www.10000recipe.com/recipe/6894714\n",
      "만두버섯전골 / 국물이- 국물이- 끝내줘여☆ https://www.10000recipe.com/recipe/6894679\n",
      "바쁜 아침 5분 뚝딱 !맛보장 '참치계란간장밥'레시피 https://www.10000recipe.com/recipe/6894538\n",
      "고기처럼 쫄깃한 밥도둑 반찬 '새송이버섯 간장버터구이'레시피 https://www.10000recipe.com/recipe/6894323\n",
      "너무 간단한데 맛있어서 놀라는 백종원 분식점 떡볶이 황금 레시피 https://www.10000recipe.com/recipe/6894096\n",
      "무생채 만드는 법, 절이지 않고 10분 만에 휘리릭 ~ https://www.10000recipe.com/recipe/6893285\n",
      "백종원 대패삼겹살 콩나물 불고기 https://www.10000recipe.com/recipe/6893092\n",
      "백종원 제육볶음 레시피 https://www.10000recipe.com/recipe/6892456\n",
      "초간단 밑반찬 파프리카버섯볶음 굴소스가 포인트 https://www.10000recipe.com/recipe/6892442\n",
      "대패삼겹살 숙주볶음 파채넣고 더 맛있게 https://www.10000recipe.com/recipe/6892339\n",
      "두부강정 맵지않은 소스로 아이들 입맛까지 확 ~ https://www.10000recipe.com/recipe/6892138\n",
      "넌깍둑썰기만해 ♥ 스팸짜글이 https://www.10000recipe.com/recipe/6892088\n",
      "마지막 한 젓가락까지 바삭하고 고소한 간장 멸치볶음(아이밑반찬,간단반찬)멸치볶음 https://www.10000recipe.com/recipe/6891816\n",
      "감자요리 - 백종원 감자짜글이 https://www.10000recipe.com/recipe/6891652\n",
      "백종원의 부추 달걀 볶음 https://www.10000recipe.com/recipe/6891606\n",
      "핫한 '마약계란장' 만들기! https://www.10000recipe.com/recipe/6891591\n",
      "초간단 순두부찌개 간단하지만 깊은맛이 나는 순두부찌개 만드는법!! (야매순두부찌개) https://www.10000recipe.com/recipe/6891575\n",
      "냉장보관해도 촉촉하고 윤기좌르르 맛있는 국민밑반찬 고추장멸치볶음 https://www.10000recipe.com/recipe/6891557\n",
      "스팸 양파덮밥/스팸 돈부리 https://www.10000recipe.com/recipe/6891556\n",
      "두부조림 양념장 만드는 법 https://www.10000recipe.com/recipe/6891526\n",
      "계란 새우볶음밥 만들기 굴소스로 쉽게 만들어요 ^^ https://www.10000recipe.com/recipe/6891445\n",
      "마늘쫑무침 / 마늘쫑고추장무침 - 간단 반찬 만들기 https://www.10000recipe.com/recipe/6891443\n",
      "돼지고기 김치찜 만드는 법 https://www.10000recipe.com/recipe/6889570\n",
      "집밥백선생 백종원의 참치김치볶음밥 황금레시피!! https://www.10000recipe.com/recipe/6888583\n",
      "백종원 양파덮밥 간단하고 맛있는 한그릇요리 https://www.10000recipe.com/recipe/6888303\n",
      "아삭한 봄동 겉절이 https://www.10000recipe.com/recipe/6887815\n",
      "아이 간장 떡볶이 https://www.10000recipe.com/recipe/6887456\n",
      "【초간단】전자렌지로 꽈리고추찜 만들기~ https://www.10000recipe.com/recipe/6887446\n",
      "간장비빔국수 https://www.10000recipe.com/recipe/6887430\n",
      "닭볶음탕 황금레시피, 밖에서 사 먹는 닭도리탕 맛을 집에서 내봤어요 ~ https://www.10000recipe.com/recipe/6887142\n",
      "(집에서 즐기는 술안주) 고추잡채 - 홈파티 / 손님접대 요리 https://www.10000recipe.com/recipe/6886754\n",
      "백종원 감자짜글이찌개 스팸과 환상궁합 https://www.10000recipe.com/recipe/6886747\n",
      "【본죽장조림】소고기장조림 만들기~ https://www.10000recipe.com/recipe/6886559\n"
     ]
    }
   ],
   "source": [
    "import requests\n",
    "from bs4 import BeautifulSoup\n",
    "\n",
    "\n",
    "main_titles = soup.find_all('div', class_='tag_tit')\n",
    "\n",
    "for main in main_titles:\n",
    "    main = main.a.find_next_sibling('a').get_text().split()\n",
    "    print(f'[{main[1]}]')\n",
    "        \n",
    "for i in range(1, 6):\n",
    "    url = f'https://www.10000recipe.com/issue/view.html?cid=9999scrap&page={i}'\n",
    "    res = requests.get(url)\n",
    "    soup = BeautifulSoup(res.text, 'lxml')\n",
    "    \n",
    "    titles = soup.find_all('a', class_=\"thumbnail\")\n",
    "    \n",
    "    for title in titles:\n",
    "        print(title.get_text().strip(), 'https://www.10000recipe.com'+title['href'])\n",
    "\n",
    "    "
   ]
  },
  {
   "cell_type": "code",
   "execution_count": null,
   "metadata": {},
   "outputs": [],
   "source": []
  }
 ],
 "metadata": {
  "kernelspec": {
   "display_name": "Python 3",
   "language": "python",
   "name": "python3"
  },
  "language_info": {
   "codemirror_mode": {
    "name": "ipython",
    "version": 3
   },
   "file_extension": ".py",
   "mimetype": "text/x-python",
   "name": "python",
   "nbconvert_exporter": "python",
   "pygments_lexer": "ipython3",
   "version": "3.8.8"
  },
  "toc": {
   "base_numbering": 1,
   "nav_menu": {},
   "number_sections": false,
   "sideBar": true,
   "skip_h1_title": false,
   "title_cell": "Table of Contents",
   "title_sidebar": "Contents",
   "toc_cell": false,
   "toc_position": {
    "height": "calc(100% - 180px)",
    "left": "10px",
    "top": "150px",
    "width": "349.091px"
   },
   "toc_section_display": true,
   "toc_window_display": true
  }
 },
 "nbformat": 4,
 "nbformat_minor": 4
}
