{
 "cells": [
  {
   "cell_type": "markdown",
   "metadata": {},
   "source": [
    "## 1. find(), index()\n",
    "- 변수.find(찾을문자), 변수.index(찾을문자)\n",
    "- 변수에서 찾을 문자가 위치한 index를 출력"
   ]
  },
  {
   "cell_type": "code",
   "execution_count": 54,
   "metadata": {},
   "outputs": [
    {
     "name": "stdout",
     "output_type": "stream",
     "text": [
      "4\n",
      "4\n",
      "7\n",
      "7\n",
      "16\n",
      "16\n"
     ]
    }
   ],
   "source": [
    "data = 'hello world hello python'\n",
    "\n",
    "print(data.find('o'))\n",
    "print(data.index('o'))\n",
    "\n",
    "print(data.find('o', 5)) # 문자열 5번째부터 o를 찾음\n",
    "print(data.index('o', 5))\n",
    "\n",
    "print(data.find('o', 8, 20)) # 문자열 8번째부터 20까지의 문자열 o를 찾음\n",
    "print(data.index('o', 8, 20))"
   ]
  },
  {
   "cell_type": "markdown",
   "metadata": {},
   "source": [
    "#### 찾을 문자열이 없는경우\n",
    "- find() : -1 출력\n",
    "- index() : ValueError"
   ]
  },
  {
   "cell_type": "code",
   "execution_count": 55,
   "metadata": {},
   "outputs": [
    {
     "name": "stdout",
     "output_type": "stream",
     "text": [
      "-1\n"
     ]
    },
    {
     "ename": "ValueError",
     "evalue": "substring not found",
     "output_type": "error",
     "traceback": [
      "\u001b[1;31m---------------------------------------------------------------------------\u001b[0m",
      "\u001b[1;31mValueError\u001b[0m                                Traceback (most recent call last)",
      "\u001b[1;32m<ipython-input-55-87f56b2cc911>\u001b[0m in \u001b[0;36m<module>\u001b[1;34m\u001b[0m\n\u001b[0;32m      4\u001b[0m \u001b[1;33m\u001b[0m\u001b[0m\n\u001b[0;32m      5\u001b[0m \u001b[0mprint\u001b[0m\u001b[1;33m(\u001b[0m\u001b[0mdata\u001b[0m\u001b[1;33m.\u001b[0m\u001b[0mfind\u001b[0m\u001b[1;33m(\u001b[0m\u001b[1;34m'ab'\u001b[0m\u001b[1;33m)\u001b[0m\u001b[1;33m)\u001b[0m \u001b[1;31m# 찾는 문자열이 없을 경우 -1을 출력\u001b[0m\u001b[1;33m\u001b[0m\u001b[1;33m\u001b[0m\u001b[0m\n\u001b[1;32m----> 6\u001b[1;33m \u001b[0mprint\u001b[0m\u001b[1;33m(\u001b[0m\u001b[0mdata\u001b[0m\u001b[1;33m.\u001b[0m\u001b[0mindex\u001b[0m\u001b[1;33m(\u001b[0m\u001b[1;34m'ab'\u001b[0m\u001b[1;33m)\u001b[0m\u001b[1;33m)\u001b[0m \u001b[1;31m# 찾는 문자열이 없을 경우 ValueError\u001b[0m\u001b[1;33m\u001b[0m\u001b[1;33m\u001b[0m\u001b[0m\n\u001b[0m",
      "\u001b[1;31mValueError\u001b[0m: substring not found"
     ]
    }
   ],
   "source": [
    "# find와 index의 차이\n",
    "\n",
    "data = 'hello world hello python'\n",
    "\n",
    "print(data.find('ab')) # 찾는 문자열이 없을 경우 -1을 출력\n",
    "print(data.index('ab')) # 찾는 문자열이 없을 경우 ValueError"
   ]
  },
  {
   "cell_type": "markdown",
   "metadata": {},
   "source": [
    "**연습문제1) data문자열에서 target 문자가 있는 인덱스를 모두 출력하시오.**"
   ]
  },
  {
   "cell_type": "code",
   "execution_count": null,
   "metadata": {},
   "outputs": [],
   "source": [
    "data = 'abcabcabc'\n",
    "target = 'b'\n"
   ]
  },
  {
   "cell_type": "code",
   "execution_count": 56,
   "metadata": {},
   "outputs": [
    {
     "name": "stdout",
     "output_type": "stream",
     "text": [
      "target 문자의 인덱스 :  1\n",
      "target 문자의 인덱스 :  4\n",
      "target 문자의 인덱스 :  7\n"
     ]
    }
   ],
   "source": [
    "data = 'abcabcabc'\n",
    "target = 'b'\n",
    "\n",
    "idx = 0\n",
    "\n",
    "while True:\n",
    "    idx = data.find(target, idx)\n",
    "    if idx == -1:\n",
    "        break\n",
    "        \n",
    "    print('target 문자의 인덱스 : ', idx)\n",
    "    idx += 1\n"
   ]
  },
  {
   "cell_type": "markdown",
   "metadata": {},
   "source": [
    "## 2. count()\n",
    "- 검색요소가 몇번 포함 되어있는지를 카운팅 하여 반환하여 주는 함수.\n",
    "- **변수.count(검색요소)**"
   ]
  },
  {
   "cell_type": "code",
   "execution_count": null,
   "metadata": {},
   "outputs": [],
   "source": [
    "# 문자열 카운팅\n",
    "data = 'hello world hello python'\n",
    "\n",
    "print(data.count('o'))\n",
    "print(data.count('hello'))\n"
   ]
  },
  {
   "cell_type": "code",
   "execution_count": null,
   "metadata": {},
   "outputs": [],
   "source": [
    "list_a = [2, 3, 4, 5, 2, 2, 4]\n",
    "\n",
    "print(list_a.count(2))\n",
    "print(list_a.count(4))"
   ]
  },
  {
   "cell_type": "markdown",
   "metadata": {},
   "source": [
    "**연습문제2) 0~1000까지 1의 개수를 count하여 출력하시오.**\n",
    "- 예 : 0~ 20 -> 1, 10, 11, 12, 13, 14, 15, 16, 17, 18, 19 -> 총 12개\n"
   ]
  },
  {
   "cell_type": "code",
   "execution_count": 1,
   "metadata": {},
   "outputs": [
    {
     "name": "stdout",
     "output_type": "stream",
     "text": [
      "[1, 2, 3, 4, 5]\n"
     ]
    },
    {
     "data": {
      "text/plain": [
       "'[1, 2, 3, 4, 5]'"
      ]
     },
     "execution_count": 1,
     "metadata": {},
     "output_type": "execute_result"
    }
   ],
   "source": [
    "list_b = [1, 2, 3, 4, 5]\n",
    "data2 = str(list_b)\n",
    "\n",
    "print(str(list_b))\n",
    "data2   # 리스트까지 문자열로 만든다."
   ]
  },
  {
   "cell_type": "code",
   "execution_count": 4,
   "metadata": {},
   "outputs": [
    {
     "name": "stdout",
     "output_type": "stream",
     "text": [
      "0~1000사의 1의 계수는 301개입니다.\n"
     ]
    }
   ],
   "source": [
    "countn = (str(list(range(1001)))).count('1')\n",
    "print('0~1000사의 1의 계수는 {}개입니다.'.format(countn))"
   ]
  },
  {
   "cell_type": "code",
   "execution_count": 6,
   "metadata": {},
   "outputs": [
    {
     "name": "stdout",
     "output_type": "stream",
     "text": [
      "301\n"
     ]
    }
   ],
   "source": [
    "list_c = []\n",
    "\n",
    "for i in range(1001):\n",
    "    list_c.append(i)\n",
    "    \n",
    "count = str(list_c).count('1')\n",
    "print(count)"
   ]
  },
  {
   "cell_type": "markdown",
   "metadata": {},
   "source": [
    "**연습문제3) count()사용하여 20210620을 출력하시오**\n",
    "- 시간, 날짜 함수 사용금지\n",
    "- input() 사용금지\n",
    "- 코드 내에 숫자가 있으면 안됨\n"
   ]
  },
  {
   "cell_type": "code",
   "execution_count": 11,
   "metadata": {},
   "outputs": [
    {
     "name": "stdout",
     "output_type": "stream",
     "text": [
      "20210620\n"
     ]
    }
   ],
   "source": [
    "data = 'aacdddddd'\n",
    "a = data.count('a') # 2\n",
    "b = data.count('b') # 0\n",
    "c = data.count('c') # 1\n",
    "d = data.count('d') # 6\n",
    "\n",
    "print(str(a), str(b), str(a), str(c), str(b), str(d), str(a), str(b), sep='')"
   ]
  },
  {
   "cell_type": "markdown",
   "metadata": {},
   "source": [
    "## 3. zip()\n",
    "- 동일한 갯수로 이루어진 자료형을 묶어주는 역할을 하는 함수\n",
    "- **zip(*iterable)**\n",
    "- *iterable :반복가능(iterable)한 자료형 여러개를 입력할 수 있다는 의미"
   ]
  },
  {
   "cell_type": "code",
   "execution_count": 21,
   "metadata": {},
   "outputs": [
    {
     "name": "stdout",
     "output_type": "stream",
     "text": [
      "[(1, 4), (2, 5), (3, 6)]\n",
      "[(1, 4, 7), (2, 5, 8), (3, 6, 9)]\n"
     ]
    }
   ],
   "source": [
    "a = list(zip([1, 2, 3], [4, 5, 6]))\n",
    "print(a)\n",
    "\n",
    "b = list(zip([1, 2, 3], [4, 5, 6], [7, 8, 9]))\n",
    "print(b)"
   ]
  },
  {
   "cell_type": "markdown",
   "metadata": {},
   "source": [
    "- 여러 개의 iterable 동시에 순회할 때 사용"
   ]
  },
  {
   "cell_type": "code",
   "execution_count": 22,
   "metadata": {},
   "outputs": [
    {
     "name": "stdout",
     "output_type": "stream",
     "text": [
      "314\n",
      "959\n",
      "656\n",
      "2470\n"
     ]
    }
   ],
   "source": [
    "list1 = [1, 2, 3, 4]\n",
    "list2 = [100, 200, 300, 400]\n",
    "list3 = [213, 757, 353, 2066]\n",
    "\n",
    "answer = []\n",
    "for i, j, k in zip(list1, list2, list3):\n",
    "    print(i+j+k)"
   ]
  },
  {
   "cell_type": "markdown",
   "metadata": {},
   "source": [
    "- Key 리스트와 Value 리스트로 딕셔너리 생성하기"
   ]
  },
  {
   "cell_type": "code",
   "execution_count": 26,
   "metadata": {},
   "outputs": [
    {
     "name": "stdout",
     "output_type": "stream",
     "text": [
      "{'cat': 'meow', 'dog': 'woof', 'lion': 'roar'}\n",
      "{'cat': 'meow', 'dog': 'woof', 'lion': 'roar'}\n"
     ]
    }
   ],
   "source": [
    "animals = ['cat', 'dog', 'lion']\n",
    "sounds = ['meow', 'woof', 'roar']\n",
    "\n",
    "dict_animals = {}\n",
    "\n",
    "#반복문\n",
    "for i in range(len(animals)):\n",
    "    dict_animals[animals[i]] = sounds[i]\n",
    "\n",
    "print(dict_animals)\n",
    "\n",
    "# zip\n",
    "\n",
    "dict_animals = dict(zip(animals, sounds))\n",
    "print(dict_animals)"
   ]
  },
  {
   "cell_type": "markdown",
   "metadata": {},
   "source": [
    "## 4. 문자열 관련 함수들\n",
    "### 4.1. ljust, center, rjust\n",
    "- 문자열 좌측/가운데/우측 정렬\n",
    "- **변수.함수(글자수)**"
   ]
  },
  {
   "cell_type": "code",
   "execution_count": 31,
   "metadata": {},
   "outputs": [
    {
     "name": "stdout",
     "output_type": "stream",
     "text": [
      "가나다라   \n",
      "  가나다라 \n",
      "   가나다라\n",
      "가나다라***\n",
      "**가나다라*\n",
      "***가나다라\n"
     ]
    }
   ],
   "source": [
    "s = '가나다라'\n",
    "n = 7\n",
    "\n",
    "print(s.ljust(n))\n",
    "print(s.center(n))\n",
    "print(s.rjust(n))\n",
    "\n",
    "# 빈칸에 *채우기\n",
    "print(s.ljust(n,'*'))\n",
    "print(s.center(n,'*'))\n",
    "print(s.rjust(n,'*'))"
   ]
  },
  {
   "cell_type": "markdown",
   "metadata": {},
   "source": [
    "### 4.2. zfill()\n",
    "- 오른쪽 정렬을 하면서 0을 채워줌.\n",
    "- rjust()와 차이점은 +, - 기호를 포함해서 인식하는지 여부\n",
    "- 0을 채우는 zfill()는 기호가 맨 앞으로 오게 됩니다.\n",
    "- 금액 표시같은 경우에는 zfill()를 사용\n",
    "- 우편번호나 전화번호등 문자열 그대로 사용하고 싶은 경우에는 rjust()를 사용"
   ]
  },
  {
   "cell_type": "code",
   "execution_count": 36,
   "metadata": {},
   "outputs": [
    {
     "name": "stdout",
     "output_type": "stream",
     "text": [
      "000123\n",
      "000123\n",
      "00-123\n",
      "-00123\n"
     ]
    }
   ],
   "source": [
    "str = '123'\n",
    "\n",
    "print(str.rjust(6, '0'))\n",
    "print(str.zfill(6))\n",
    "\n",
    "# 123앞에 -넣기\n",
    "str = '-123'\n",
    "\n",
    "print(str.rjust(6, '0'))\n",
    "print(str.zfill(6)) # +, -기호를 인식하기 때문에, -가 앞으로 나오고 나머지 빈칸이 0으로 출력"
   ]
  },
  {
   "cell_type": "markdown",
   "metadata": {},
   "source": [
    "**연습문제3) 다음 질문에 맞는 프로그램을 완성하시오.**\n",
    "- 문자열 s와 자연수 n이 입력으로 주어집니다. 문자열 s를 좌측 / 가운데 / 우측 정렬한 길이 n인 문자열을 한 줄씩 프린트해보세요.\n",
    "- s의 길이는 n보다 작습니다.\n",
    "- (n - s의 길이)는 짝수입니다.\n",
    "- s는 알파벳과 숫자로만 이루어져 있으며, 공백 문자가 포함되어있지 않습니다."
   ]
  },
  {
   "cell_type": "code",
   "execution_count": 59,
   "metadata": {},
   "outputs": [
    {
     "name": "stdout",
     "output_type": "stream",
     "text": [
      "abc\n",
      "7\n",
      "abc    \n",
      "  abc  \n",
      "    abc\n"
     ]
    }
   ],
   "source": [
    "s = input()\n",
    "n = int(input())\n",
    "\n",
    "if ((n-len(s))% 2 == 0) and n > len(s):\n",
    "    print(s.ljust(n))\n",
    "    print(s.center(n))\n",
    "    print(s.rjust(n))\n",
    "\n",
    "else:\n",
    "    print('no')\n"
   ]
  },
  {
   "cell_type": "code",
   "execution_count": 66,
   "metadata": {},
   "outputs": [
    {
     "name": "stdout",
     "output_type": "stream",
     "text": [
      "abc 6\n",
      "abc   \n",
      " abc  \n",
      "   abc\n"
     ]
    }
   ],
   "source": [
    "s, n = input().strip().split()\n",
    "n = int(n)\n",
    "\n",
    "print(s.ljust(n))\n",
    "print(s.center(n))\n",
    "print(s.rjust(n))"
   ]
  },
  {
   "cell_type": "markdown",
   "metadata": {},
   "source": [
    "### 4.3. string 모듈\n",
    "- 알파벳 대소문자 , 연속된 숫자등을 변수 선언없이 상수로 사용할 수 있도록 정의된 모듈\n",
    "- ascii_letters, ascii_lowercase, ascii_uppercase,digits "
   ]
  },
  {
   "cell_type": "code",
   "execution_count": 48,
   "metadata": {},
   "outputs": [
    {
     "name": "stdout",
     "output_type": "stream",
     "text": [
      "abcdefghijklmnopqrstuvwxyzABCDEFGHIJKLMNOPQRSTUVWXYZ\n",
      "abcdefghijklmnopqrstuvwxyz\n",
      "ABCDEFGHIJKLMNOPQRSTUVWXYZ\n",
      "0123456789\n"
     ]
    }
   ],
   "source": [
    "import string\n",
    "\n",
    "print(string.ascii_letters)\n",
    "print(string.ascii_lowercase)\n",
    "print(string.ascii_uppercase)\n",
    "print(string.digits)"
   ]
  },
  {
   "cell_type": "markdown",
   "metadata": {},
   "source": [
    "# 2. 정렬법"
   ]
  },
  {
   "cell_type": "markdown",
   "metadata": {},
   "source": [
    "## 2.1. Bubble Sort\n",
    "- 인접한 두 수를 비교하며 정렬해나가는 방법"
   ]
  },
  {
   "cell_type": "code",
   "execution_count": null,
   "metadata": {},
   "outputs": [],
   "source": [
    "array = [8,4,6,2,9,1,3,7,5]\n",
    "def bubble_sort(array):\n",
    "    n = len(array)\n",
    "    for i in range(n - 1):\n",
    "        for j in range(n - i - 1):\n",
    "            if array[j] > array[j + 1]:\n",
    "                array[j], array[j + 1] = array[j + 1], array[j]\n",
    "        print(array)\n",
    "\n",
    "print(\"before: \",array)\n",
    "bubble_sort(array)\n",
    "print(\"after:\", array)"
   ]
  },
  {
   "cell_type": "code",
   "execution_count": null,
   "metadata": {},
   "outputs": [],
   "source": [
    "# 내림차순\n",
    "array = [8,4,6,2,9,1,3,7,5]\n",
    "def bubble_sort_desc(array):\n",
    "    n = len(array)\n",
    "    for i in range(n - 1):\n",
    "        for j in range(n - 1, 0, -1):\n",
    "            if array[j] > array[j - 1]:\n",
    "                array[j], array[j - 1] = array[j - 1], array[j]\n",
    "        print(array)\n",
    "\n",
    "print(\"before: \",array)\n",
    "bubble_sort_desc(array)\n",
    "print(\"after:\", array)"
   ]
  },
  {
   "cell_type": "markdown",
   "metadata": {},
   "source": [
    "## 2.2 Selction Sort (선택정렬)\n",
    "- 가장 작은 값을 찾아 맨 앞과 교환하는 방식의 정렬."
   ]
  },
  {
   "cell_type": "code",
   "execution_count": null,
   "metadata": {},
   "outputs": [],
   "source": [
    "array = [8,4,6,2,9,1,3,7,5]\n",
    "\n",
    "def selection_sort(array):\n",
    "    n = len(array)\n",
    "    for i in range(n):\n",
    "        min_index = i\n",
    "        for j in range(i + 1, n):\n",
    "            if array[j] < array[min_index]: min_index = j\n",
    "        \n",
    "        array[i], array[min_index] =  array[min_index], array[i]\n",
    "        print(array)\n",
    "\n",
    "print(\"before: \",array)\n",
    "selection_sort(array)\n",
    "print(\"after:\", array)"
   ]
  },
  {
   "cell_type": "code",
   "execution_count": null,
   "metadata": {
    "scrolled": true
   },
   "outputs": [],
   "source": [
    "array = [8,4,6,2,9,1,3,7,5]\n",
    "\n",
    "def selection_sort_desc(array):\n",
    "    n = len(array)\n",
    "    for i in range(n):\n",
    "        max_index = i\n",
    "        for j in range(i + 1, n):\n",
    "            if array[j] > array[max_index]: max_index = j\n",
    "                \n",
    "        array[i], array[max_index] =  array[max_index], array[i]\n",
    "        print(array)\n",
    "\n",
    "print(\"before: \",array)\n",
    "selection_sort_desc(array)\n",
    "print(\"after:\", array)"
   ]
  },
  {
   "cell_type": "code",
   "execution_count": null,
   "metadata": {},
   "outputs": [],
   "source": []
  }
 ],
 "metadata": {
  "kernelspec": {
   "display_name": "Python 3",
   "language": "python",
   "name": "python3"
  },
  "language_info": {
   "codemirror_mode": {
    "name": "ipython",
    "version": 3
   },
   "file_extension": ".py",
   "mimetype": "text/x-python",
   "name": "python",
   "nbconvert_exporter": "python",
   "pygments_lexer": "ipython3",
   "version": "3.8.8"
  },
  "toc": {
   "base_numbering": 1,
   "nav_menu": {},
   "number_sections": false,
   "sideBar": true,
   "skip_h1_title": false,
   "title_cell": "Table of Contents",
   "title_sidebar": "Contents",
   "toc_cell": false,
   "toc_position": {
    "height": "calc(100% - 180px)",
    "left": "10px",
    "top": "150px",
    "width": "304.475px"
   },
   "toc_section_display": true,
   "toc_window_display": true
  }
 },
 "nbformat": 4,
 "nbformat_minor": 4
}
