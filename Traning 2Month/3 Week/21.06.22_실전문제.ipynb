{
 "cells": [
  {
   "cell_type": "markdown",
   "metadata": {},
   "source": [
    "### 1. 정수 n을 입력하면  n행만큼 \\*을 아래와 같이 출력하는 프로그램을 작성하시오."
   ]
  },
  {
   "cell_type": "code",
   "execution_count": 4,
   "metadata": {},
   "outputs": [
    {
     "name": "stdout",
     "output_type": "stream",
     "text": [
      "5\n",
      "    *\n",
      "   ***\n",
      "  *****\n",
      " *******\n",
      "*********\n"
     ]
    }
   ],
   "source": [
    "#n = 5 라면"
   ]
  },
  {
   "cell_type": "code",
   "execution_count": 41,
   "metadata": {},
   "outputs": [
    {
     "name": "stdout",
     "output_type": "stream",
     "text": [
      "7\n",
      "       *\n",
      "      ***\n",
      "     *****\n",
      "    *******\n",
      "   *********\n",
      "  ***********\n",
      " *************\n"
     ]
    }
   ],
   "source": [
    "# while문을 썼을 때\n",
    "n = int(input())\n",
    "num, dig = 0, 0\n",
    "\n",
    "while num < n:\n",
    "    dig = 0\n",
    "    while dig < n-num:\n",
    "        print(' ', end='')\n",
    "        dig+=1\n",
    "    dig = 0    \n",
    "    while dig < (num * 2) + 1:\n",
    "        print('*', end='')\n",
    "        dig += 1\n",
    "    \n",
    "    print()\n",
    "    num += 1\n"
   ]
  },
  {
   "cell_type": "code",
   "execution_count": 55,
   "metadata": {},
   "outputs": [
    {
     "name": "stdout",
     "output_type": "stream",
     "text": [
      "5\n",
      "    *\n",
      "   ***\n",
      "  *****\n",
      " *******\n",
      "*********\n"
     ]
    }
   ],
   "source": [
    "# for문을 썼을 때\n",
    "n = int(input())\n",
    "\n",
    "for i in range(1, n+1):\n",
    "    print(' '*(n-i)+'*'*((2*i)-1))"
   ]
  },
  {
   "cell_type": "markdown",
   "metadata": {},
   "source": [
    "### 2. 연도를 입력받아서 윤년인지 아닌지를 구분하는 프로그램을 작성하시오\n",
    "- 4로 나누어 떨어지는 해는 윤년으로 한다. (1988년, 1992년, 1996년, 2004년, 2008년, 2012년, 2016년, 2020년, 2024년, 2028년, 2032년, 2036년, 2040년, 2044년 ...)\n",
    "- 4, 100 으로 나누어 떨어지는 해는 평년으로 한다. (1900년, 2100년, 2200년, 2300년, 2500년...)\n",
    "- 4, 100, 400 으로 나누어 떨어지는 해는 윤년으로 둔다. (2000년, 2400년...)\n",
    "출처: 위키백과"
   ]
  },
  {
   "cell_type": "code",
   "execution_count": 2,
   "metadata": {},
   "outputs": [
    {
     "name": "stdout",
     "output_type": "stream",
     "text": [
      "2000\n",
      "2000년은 윤년입니다.\n"
     ]
    }
   ],
   "source": [
    "#출력예시"
   ]
  },
  {
   "cell_type": "code",
   "execution_count": 46,
   "metadata": {},
   "outputs": [
    {
     "name": "stdout",
     "output_type": "stream",
     "text": [
      "2000\n",
      "2000년은 윤년입니다.\n"
     ]
    }
   ],
   "source": [
    "year = int(input())\n",
    "if (year % 4 == 0) and ((year % 400 == 0) or (year % 100 != 0)):\n",
    "    print('{}년은 윤년입니다.'.format(year))\n",
    "else:\n",
    "    print('{}년은 평년입니다.'.format(year))\n",
    "\n",
    "    "
   ]
  },
  {
   "cell_type": "markdown",
   "metadata": {},
   "source": [
    "### 3. 공백으로 구분된 두 정수 a, b가 주어지면 a의 b승을 구하는 프로그램을 작성하시요."
   ]
  },
  {
   "cell_type": "code",
   "execution_count": 31,
   "metadata": {},
   "outputs": [
    {
     "name": "stdout",
     "output_type": "stream",
     "text": [
      "3 1\n",
      "3\n"
     ]
    }
   ],
   "source": [
    "a, b = input().split(' ')\n",
    "\n",
    "print(int(a)**int(b))"
   ]
  },
  {
   "cell_type": "code",
   "execution_count": 54,
   "metadata": {},
   "outputs": [
    {
     "name": "stdout",
     "output_type": "stream",
     "text": [
      "3 1\n",
      "3\n"
     ]
    }
   ],
   "source": [
    "# map함수 사용\n",
    "n = list(map(int, input().split()))\n",
    "\n",
    "print(n[0]**n[1])"
   ]
  },
  {
   "cell_type": "markdown",
   "metadata": {},
   "source": [
    "### 4. 영문이름(대, 소문자)이 입력되면  대문자로 출력되는 프로그램을 작성하시오"
   ]
  },
  {
   "cell_type": "code",
   "execution_count": 32,
   "metadata": {},
   "outputs": [
    {
     "name": "stdout",
     "output_type": "stream",
     "text": [
      "abcdefg\n",
      "ABCDEFG\n"
     ]
    }
   ],
   "source": [
    "upper = input().upper()\n",
    "\n",
    "print(upper)"
   ]
  },
  {
   "cell_type": "markdown",
   "metadata": {},
   "source": [
    "### 5. 사용자가 입력한 수만큼 하트를 출력하시오.\n",
    "- 사용자가 여러개의 숫자를 입력하면 입력한 숫자 만큼 *출력하기\n",
    "- 입력 값이 5342라면\n",
    "- \\*\\****\n",
    "- \\***\n",
    "- \\****\n",
    "- **"
   ]
  },
  {
   "cell_type": "code",
   "execution_count": 182,
   "metadata": {},
   "outputs": [
    {
     "name": "stdout",
     "output_type": "stream",
     "text": [
      "5342\n",
      "*****\n",
      "***\n",
      "****\n",
      "**\n"
     ]
    }
   ],
   "source": [
    "ap = input()\n",
    "\n",
    "for i in ap:\n",
    "    a = int(i)*'*'\n",
    "    print(a)\n",
    "    \n",
    "    \n",
    "    \n",
    "    \n"
   ]
  },
  {
   "cell_type": "code",
   "execution_count": 70,
   "metadata": {},
   "outputs": [
    {
     "name": "stdout",
     "output_type": "stream",
     "text": [
      "5342\n",
      "*****\n",
      "***\n",
      "****\n",
      "**\n"
     ]
    }
   ],
   "source": [
    "stars = input()\n",
    "\n",
    "for i in range(len(stars)):\n",
    "    star = '*'*int(stars[i])\n",
    "    print(star)"
   ]
  },
  {
   "cell_type": "markdown",
   "metadata": {},
   "source": [
    "### 6. 문자열 속 문자열 찾기\n",
    "- 입력으로 첫줄에 문자열이 주어지고 둘째 줄에 찾을 문자가 주어지면 그 문자가 시작하는 index를 반환하는 프로그램 만들기"
   ]
  },
  {
   "cell_type": "code",
   "execution_count": 55,
   "metadata": {},
   "outputs": [
    {
     "name": "stdout",
     "output_type": "stream",
     "text": [
      "hello world\n",
      "o\n",
      "4\n"
     ]
    }
   ],
   "source": [
    "input_a = input()\n",
    "input_b = input()\n",
    "\n",
    "\n",
    "find_a = input_a.find(input_b)\n",
    "print(find_a)"
   ]
  },
  {
   "cell_type": "code",
   "execution_count": null,
   "metadata": {},
   "outputs": [],
   "source": []
  },
  {
   "cell_type": "markdown",
   "metadata": {},
   "source": [
    "### 7. 문자열을 입력받으면 단어의 갯수를 출력하는 프로그램을 작성하시오"
   ]
  },
  {
   "cell_type": "code",
   "execution_count": 158,
   "metadata": {},
   "outputs": [
    {
     "name": "stdout",
     "output_type": "stream",
     "text": [
      "hello world\n",
      "2\n"
     ]
    }
   ],
   "source": [
    "str = input().split(' ')\n",
    "print(len(str))"
   ]
  },
  {
   "cell_type": "code",
   "execution_count": 7,
   "metadata": {},
   "outputs": [
    {
     "name": "stdout",
     "output_type": "stream",
     "text": [
      "hello world\n",
      "2\n"
     ]
    }
   ],
   "source": [
    "data = input().strip().split()\n",
    "\n",
    "print(len(data))"
   ]
  },
  {
   "cell_type": "markdown",
   "metadata": {},
   "source": [
    "### 8. 1~9까지의 숫자 중 하나를 입력하면 그 단어의 구구단 결과를 한줄에 출력하는 프로그램을 작성하시오."
   ]
  },
  {
   "cell_type": "code",
   "execution_count": 71,
   "metadata": {},
   "outputs": [
    {
     "name": "stdout",
     "output_type": "stream",
     "text": [
      "5\n",
      "5*1 5*2 5*3 5*4 5*5 5*6 5*7 5*8 5*9 "
     ]
    }
   ],
   "source": [
    "num  = int(input())\n",
    "\n",
    "for i in range(1, 10):\n",
    "    print(num, '*', i, sep='', end=' ')"
   ]
  },
  {
   "cell_type": "markdown",
   "metadata": {},
   "source": [
    "### 9. 다음 질문에 알맞는 프로그램을 작성하시오.\n",
    "- 새 학기를 맞아 반장선거를 하기로 했습니다. 그런데 표를 하나씩 개표하는 과정이 너무 번거롭게 느껴진 선생님은 **학생들이 뽑은 후보들을 입력받으면 뽑힌 학생의 이름과 받은 표 수를 출력하는 프로그램**을 작성하기로 하였습니다.\n",
    "- 입력 : 첫 줄에 학생들이 뽑은 후보들이 입력됩니다. 예) 석진 지민 정국 석진 정국 석진 남준 석진 남준\n",
    "- 출력 : 석진(이)가 4표로 반장이 되었습니다.\n"
   ]
  },
  {
   "cell_type": "code",
   "execution_count": 88,
   "metadata": {},
   "outputs": [
    {
     "name": "stdout",
     "output_type": "stream",
     "text": [
      "석진 지민 정국 석진 정국 석진 남준 석진 남준\n",
      "{'석진': 4, '지민': 1, '정국': 2, '남준': 2}\n",
      "석진(이)가 4표로 반장이 되었습니다.\n"
     ]
    }
   ],
   "source": [
    "student = input().split(' ')\n",
    "list_a = []\n",
    "\n",
    "for i in student:\n",
    "    vote = student.count(i)\n",
    "    list_a.append(vote)\n",
    "\n",
    "result = dict(zip(student, list_a))\n",
    "print(result)\n",
    "if (result['석진'] > result['지민']) and (result['석진'] > result['정국']) and (result['석진'] > result['남준']):\n",
    "    print('석진(이)가 {}표로 반장이 되었습니다.'.format(result['석진']))\n",
    "    \n",
    "elif (result['지민'] > result['석진']) and (result['지민'] > result['정국']) and (result['지민'] > result['남준']):\n",
    "    print('지민(이)가 {}표로 반장이 되었습니다.'.format(result['지민']))\n",
    "    \n",
    "elif (result['정국'] > result['지민']) and (result['정국'] > result['석진']) and (result['정국'] > result['남준']):\n",
    "    print('정국(이)가 {}표로 반장이 되었습니다.'.format(result['정국']))\n",
    "\n",
    "else:\n",
    "    print('남준(이)가 {}표로 반장이 되었습니다.'.format(result['남준']))"
   ]
  },
  {
   "cell_type": "code",
   "execution_count": 101,
   "metadata": {},
   "outputs": [
    {
     "name": "stdout",
     "output_type": "stream",
     "text": [
      "석진 지민 정국 석진 정국 석진 남준 석진 남준 남준 남준\n",
      "남준 4\n",
      "남준(이)가 4표로 반장이 되었습니다\n"
     ]
    }
   ],
   "source": [
    "# 올바른 예.\n",
    "data = input().strip().split()\n",
    "#print(data)\n",
    "maxcount, max_value = 0, ''\n",
    "\n",
    "for i in data:\n",
    "    if maxcount <= data.count(i):\n",
    "        max_value = i\n",
    "        maxcount = data.count(i)\n",
    "print(max_value, maxcount)\n",
    "    \n",
    "print('{}(이)가 {}표로 반장이 되었습니다'.format(max_value, maxcount))"
   ]
  },
  {
   "cell_type": "code",
   "execution_count": 75,
   "metadata": {},
   "outputs": [
    {
     "name": "stdout",
     "output_type": "stream",
     "text": [
      "석진 지민 정국 석진 정국 석진 남준 석진 남준\n",
      "{4: '석진', 1: '지민', 2: '남준'}\n",
      "석진(이)가 4표로 반장이 되었습니다.\n"
     ]
    }
   ],
   "source": [
    "# dict을 쓴 올바른 예\n",
    "data = input().strip().split()\n",
    "data_dict = {}\n",
    "\n",
    "for i in data:\n",
    "    data_dict[data.count(i)] = i\n",
    "    \n",
    "print(data_dict)\n",
    "print('{}(이)가 {}표로 반장이 되었습니다.'.format(data_dict[max(data_dict)], max(data_dict)))"
   ]
  },
  {
   "cell_type": "code",
   "execution_count": 10,
   "metadata": {},
   "outputs": [
    {
     "name": "stdout",
     "output_type": "stream",
     "text": [
      "아이유 석진 지민 정국 석진 정국 석진 남준 석진 남준 남준 남준\n",
      "석진,남준이가 4표로 동점이 나왔습니다.\n"
     ]
    }
   ],
   "source": [
    "# 표가 같을 때의 변수를 구하는 식\n",
    "data = input().strip().split()\n",
    "max_count = data.count(data[0])\n",
    "max_data_dict = {}\n",
    "\n",
    "\n",
    "\n",
    "# 처음 입력을 한 사람이 표수가 적어도 뜨는 오류가 나와서 오류를 수정한다.\n",
    "#for i in data:\n",
    "for i in range(1, len(data)):\n",
    "    if max_count <= data.count(data[i]):\n",
    "        max_count = data.count(data[i])\n",
    "        max_data_dict[data[i]] = data.count(data[i])\n",
    "\n",
    "\n",
    "if len(max_data_dict.keys()) > 1:\n",
    "    maxkey = ','.join(list(max_data_dict.keys()))\n",
    "    maxvalue = list(max_data_dict.values())[0]\n",
    "    print('{}이가 {}표로 동점이 나왔습니다.'.format(maxkey, maxvalue))\n",
    "else:\n",
    "    maxkey = list(max_data_dict.keys())[0]\n",
    "    maxvalue = list(max_data_dict.values())[0]\n",
    "    print('{}(이)가 {}표로 반장이 되었습니다.'.format(maxkey, maxvalue))"
   ]
  },
  {
   "cell_type": "markdown",
   "metadata": {},
   "source": [
    "### 10. 다음 질문에 알맞은 프로그램을 작성하시오.\n",
    "- python 모듈 중 하나인 time 모듈은 1970년 1월 1일 0시 0분 0초 이후로 지금까지 흐른 시간을 초단위로 반환합니다. \n",
    "- 이를 이용하여 현재 연도(2021)를 출력해보세요."
   ]
  },
  {
   "cell_type": "code",
   "execution_count": 112,
   "metadata": {},
   "outputs": [
    {
     "name": "stdout",
     "output_type": "stream",
     "text": [
      "2021년\n"
     ]
    }
   ],
   "source": [
    "import time\n",
    "\n",
    "a = time.localtime()\n",
    "print(a.tm_year, '년', sep='')\n"
   ]
  },
  {
   "cell_type": "code",
   "execution_count": 113,
   "metadata": {},
   "outputs": [
    {
     "name": "stdout",
     "output_type": "stream",
     "text": [
      "2021년\n"
     ]
    }
   ],
   "source": [
    "now = 1970 + (time.time() / (3600*24*365))\n",
    "print(int(now), '년', sep='')"
   ]
  },
  {
   "cell_type": "code",
   "execution_count": 115,
   "metadata": {},
   "outputs": [
    {
     "name": "stdout",
     "output_type": "stream",
     "text": [
      "2021\n"
     ]
    }
   ],
   "source": [
    "year = time.time()\n",
    "\n",
    "year_t = int(year//(3600*24*365))+1970\n",
    "print(year_t)"
   ]
  },
  {
   "cell_type": "markdown",
   "metadata": {},
   "source": [
    "### 11. 10 진수를 2진수를 변환하는 함수를 작성하시오.\n",
    "- 사용자에게 숫자를 입력받고 이를 2진수로 바꾸고 그값을 출력하시오.\n",
    "- bin() 사용하지 말고 풀어주세요."
   ]
  },
  {
   "cell_type": "code",
   "execution_count": 118,
   "metadata": {},
   "outputs": [
    {
     "name": "stdout",
     "output_type": "stream",
     "text": [
      "45\n",
      "101101\n"
     ]
    }
   ],
   "source": [
    "a = int(input())\n",
    "b = []\n",
    "\n",
    "while a:\n",
    "    b.append(str(a%2))\n",
    "    a = int(a/2)\n",
    "    \n",
    "b.reverse()\n",
    "print(''.join(b))"
   ]
  },
  {
   "cell_type": "markdown",
   "metadata": {},
   "source": [
    "# 12. 아래 질문에 알맞은 프로그램을 작성하시오.\n",
    "- 입력으로 0이 주어지면 영문 소문자 알파벳을, 입력으로 1이 주어지면 영문 대문자 알파벳을 사전 순으로 출력하는 프로그램"
   ]
  },
  {
   "cell_type": "code",
   "execution_count": 108,
   "metadata": {},
   "outputs": [
    {
     "name": "stdout",
     "output_type": "stream",
     "text": [
      "0\n",
      "abcdefghijklmnopqrstuvwxyz\n"
     ]
    }
   ],
   "source": [
    "select = int(input())\n",
    "s = 'abcdEFGhijklmnopqrstuvWXYZ'\n",
    "\n",
    "if select == 0:\n",
    "    a = s.lower()\n",
    "    print(a)\n",
    "elif select == 1:\n",
    "    b = s.upper()\n",
    "    print(b)\n",
    "else:\n",
    "    print('no')"
   ]
  },
  {
   "cell_type": "code",
   "execution_count": 120,
   "metadata": {},
   "outputs": [
    {
     "name": "stdout",
     "output_type": "stream",
     "text": [
      "0\n",
      "abcdefghijklmnopqrstuvwxyz\n"
     ]
    }
   ],
   "source": [
    "# 모범적인 예시\n",
    "import string\n",
    "\n",
    "num = int(input())\n",
    "\n",
    "if num == 0:\n",
    "    print(string.ascii_lowercase)\n",
    "elif num ==1:\n",
    "    print(string.ascii_uppercase)"
   ]
  },
  {
   "cell_type": "markdown",
   "metadata": {},
   "source": [
    "### 13. 아래 질문에 알맞은 프로그램을 작성하시오.\n",
    "- a = [1,2,3,4], b = ['a','b','c','d'] 를 가지고 c를 완성하시오.\n",
    "- c = [[1, 'a'], [2, 'b'], [3, 'c'], [4, 'd']]\n"
   ]
  },
  {
   "cell_type": "code",
   "execution_count": 147,
   "metadata": {},
   "outputs": [
    {
     "name": "stdout",
     "output_type": "stream",
     "text": [
      "[[1, 'a'], [2, 'b'], [3, 'c'], [4, 'd']]\n"
     ]
    }
   ],
   "source": [
    "a = [1, 2, 3, 4]\n",
    "b = ['a', 'b', 'c', 'd']\n",
    "list_c = []\n",
    "dict_a = list(zip(a, b))\n",
    "\n",
    "for i in dict_a:\n",
    "    list_a = list(i)\n",
    "    list_c.append(list_a)\n",
    "print(list_c)"
   ]
  },
  {
   "cell_type": "code",
   "execution_count": 123,
   "metadata": {},
   "outputs": [
    {
     "name": "stdout",
     "output_type": "stream",
     "text": [
      "[[1, 'a'], [2, 'b'], [3, 'c'], [4, 'd']]\n"
     ]
    }
   ],
   "source": [
    "# map함수 이용\n",
    "a = [1, 2, 3, 4]\n",
    "b = ['a', 'b', 'c', 'd']\n",
    "\n",
    "c = list(map(list, zip(a, b)))\n",
    "print(c)"
   ]
  },
  {
   "cell_type": "markdown",
   "metadata": {},
   "source": [
    "### 14.같은 숫자가 나올때 까지 주사위 6개를 동시에 무한반복해서 던져서 동시에 나온 수와 던진횟수를 구하는 프로그램을 작성하시오."
   ]
  },
  {
   "cell_type": "code",
   "execution_count": 131,
   "metadata": {},
   "outputs": [
    {
     "name": "stdout",
     "output_type": "stream",
     "text": [
      "6개의 주사위가 동일한 숫자가 나옴 :  6 6 6 6 6 6\n",
      "6개 동일한 숫자가 나올때 까지 던진 횟수 :  6733\n"
     ]
    }
   ],
   "source": [
    "import random\n",
    "\n",
    "list_a = [0, 0, 0, 0, 0, 0]\n",
    "num = 0\n",
    "\n",
    "while True:\n",
    "    for i in range(6):\n",
    "        list_a[i] = random.randrange(1, 7)\n",
    "    if list_a[0] == list_a[1] == list_a[2] == list_a[3] == list_a[4] == list_a[5]:\n",
    "        print('6개의 주사위가 동일한 숫자가 나옴 : ', list_a[0], list_a[1], list_a[2], list_a[3], list_a[4], list_a[5])\n",
    "        print('6개 동일한 숫자가 나올때 까지 던진 횟수 : ', num)\n",
    "        break\n",
    "    num += 1"
   ]
  },
  {
   "cell_type": "markdown",
   "metadata": {},
   "source": [
    "### 15. 아래 요구사항에 맞게 프로그래밍 하시오.\n",
    "- 당신은 ICT마트의 위생점검단입니다. 매월 불시에 위생점검을 나가야 합니다.\n",
    "- 이번달 위생점검 날과 시간대를 정해주는 프로그램을 작성하시오.\n",
    "- 조건1 :  랜덤으로 날짜를 뽑아야 함.\n",
    "- 조건 2 : 월별 날짜는 다름을 감안하여 최소 일수인 28이내로 정함.\n",
    "- timeList = ['오전', '오후', '저녁']\n",
    "\n",
    "<출력결과>\n",
    "\n",
    "**이번 달 위생점검은 x일 y(으)로 선정되었습니다..**"
   ]
  },
  {
   "cell_type": "code",
   "execution_count": 130,
   "metadata": {},
   "outputs": [
    {
     "name": "stdout",
     "output_type": "stream",
     "text": [
      "이번 달 위생점검은 24일 오후(으)로 선정되었습니다..\n"
     ]
    }
   ],
   "source": [
    "import random\n",
    "\n",
    "day = random.randrange(1, 29)\n",
    "timelist = ['오전', '오후', '저녁']\n",
    "time = random.choice(timelist)\n",
    "\n",
    "print('이번 달 위생점검은 {}일 {}(으)로 선정되었습니다..'.format(day, time))"
   ]
  },
  {
   "cell_type": "code",
   "execution_count": 3,
   "metadata": {},
   "outputs": [
    {
     "name": "stdout",
     "output_type": "stream",
     "text": [
      "환전금액을 입력하세요(달러/엔/유로/위안): 100 달러\n",
      "100 달러\n"
     ]
    }
   ],
   "source": [
    "won = {'달러' : 1129, '엔' : 1032, '유로' : 1368, '위안' : 175}\n",
    "money, key = input('환전금액을 입력하세요(달러/엔/유로/위안): ').split(' ')\n",
    "\n",
    "print(money, key)"
   ]
  }
 ],
 "metadata": {
  "kernelspec": {
   "display_name": "Python 3",
   "language": "python",
   "name": "python3"
  },
  "language_info": {
   "codemirror_mode": {
    "name": "ipython",
    "version": 3
   },
   "file_extension": ".py",
   "mimetype": "text/x-python",
   "name": "python",
   "nbconvert_exporter": "python",
   "pygments_lexer": "ipython3",
   "version": "3.8.8"
  },
  "toc": {
   "base_numbering": 1,
   "nav_menu": {},
   "number_sections": false,
   "sideBar": true,
   "skip_h1_title": false,
   "title_cell": "Table of Contents",
   "title_sidebar": "Contents",
   "toc_cell": false,
   "toc_position": {},
   "toc_section_display": true,
   "toc_window_display": false
  }
 },
 "nbformat": 4,
 "nbformat_minor": 4
}
