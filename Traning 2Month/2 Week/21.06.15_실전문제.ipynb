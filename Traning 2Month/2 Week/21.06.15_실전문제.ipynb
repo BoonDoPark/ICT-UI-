{
 "cells": [
  {
   "cell_type": "markdown",
   "metadata": {},
   "source": [
    "### 1. 다음 리스트에서 40, 50을 삭제하는 코드를 입력하세요\n"
   ]
  },
  {
   "cell_type": "code",
   "execution_count": 7,
   "metadata": {},
   "outputs": [
    {
     "data": {
      "text/plain": [
       "[10, 20, 30]"
      ]
     },
     "execution_count": 7,
     "metadata": {},
     "output_type": "execute_result"
    }
   ],
   "source": [
    "nums = [10,20,30,40,50]\n",
    "nums.pop(4)\n",
    "nums.remove(40)\n",
    "nums"
   ]
  },
  {
   "cell_type": "markdown",
   "metadata": {},
   "source": [
    "### 2. \\<pass> 부분에 리스트 내장함수를 insert를 이용하여 코드를 입력하고 다음과 같이 출력되게 하세요"
   ]
  },
  {
   "cell_type": "code",
   "execution_count": 8,
   "metadata": {},
   "outputs": [
    {
     "name": "stdout",
     "output_type": "stream",
     "text": [
      "[200, 100, 1000, 300]\n"
     ]
    }
   ],
   "source": [
    "list_a = [200, 100, 300]\n",
    "list_a.insert(2, 1000)\n",
    "print(list_a)\n",
    "\n",
    "# 출력결과 [200, 100, 10000, 300]"
   ]
  },
  {
   "cell_type": "markdown",
   "metadata": {},
   "source": [
    "### 3. 몇 번째 행성인가요?\n",
    "- 우리 태양계를 이루고 있는 행성은 수성, 금성, 지구, 화성, 목성, 토성, 천왕성, 해왕성으로 총 8개입니다. \n",
    "- 입력으로 행성의 순서를 나타는 숫자 n이 입력되면 해당하는 행성을 출력합니다. 예) 입력 1 -> 수성"
   ]
  },
  {
   "cell_type": "code",
   "execution_count": 130,
   "metadata": {},
   "outputs": [
    {
     "name": "stdout",
     "output_type": "stream",
     "text": [
      "1\n",
      "수성\n"
     ]
    }
   ],
   "source": [
    "a = ['수성', '금성', '지구', '화성', '목성', '토성', '천왕성', '해왕성']\n",
    "\n",
    "\n",
    "n = int(input())-1\n",
    "print(a[n])"
   ]
  },
  {
   "cell_type": "markdown",
   "metadata": {},
   "source": [
    "### 4. 행성의 한글이름을 입력하면 영어 이름으로 반환하는 프로그램을 만드시오.\n",
    "- 영어이름 : Mercury, Venus, Earth, Mars, Jupiter, Saturn, Uranus, Neptune 예) 지구 -> Earth"
   ]
  },
  {
   "cell_type": "code",
   "execution_count": 50,
   "metadata": {},
   "outputs": [
    {
     "name": "stdout",
     "output_type": "stream",
     "text": [
      "지구\n"
     ]
    },
    {
     "data": {
      "text/plain": [
       "'Earth'"
      ]
     },
     "execution_count": 50,
     "metadata": {},
     "output_type": "execute_result"
    }
   ],
   "source": [
    "a = {'수성':'Mercury', '금성':'Venus', '지구':'Earth', '화성':'Mars', '목성':'Jupiter', '토성':'Saturn', '천왕성':'Uranus',\n",
    "     '해왕성':'Neptune'}\n",
    "b = input()\n",
    "\n",
    "a[b]"
   ]
  },
  {
   "cell_type": "markdown",
   "metadata": {},
   "source": [
    "### 5. 문장이 입력되면 거꾸로 출력하는 프로그램을 만드시오. 예) 거꾸로 -> 로꾸거"
   ]
  },
  {
   "cell_type": "code",
   "execution_count": 132,
   "metadata": {},
   "outputs": [
    {
     "name": "stdout",
     "output_type": "stream",
     "text": [
      "거꾸로\n",
      "로꾸거"
     ]
    }
   ],
   "source": [
    "a = input()\n",
    "for i in range(-1, -(len(a)+1), -1):\n",
    "    print(a[i], end='')\n"
   ]
  },
  {
   "cell_type": "markdown",
   "metadata": {},
   "source": [
    "### 6. 입력으로 문자열이 주어지면 2-gram으로 출력하는 프로그램을 작성하시오.\n",
    "- 2-gram이란 문자열에서 2개의 연속된 요소를 출력하는 방법\n",
    "- 예 'Python' 입력하면\n",
    "- Py\n",
    "- yt\n",
    "- th\n",
    "- ho\n",
    "- on"
   ]
  },
  {
   "cell_type": "code",
   "execution_count": 146,
   "metadata": {},
   "outputs": [
    {
     "name": "stdout",
     "output_type": "stream",
     "text": [
      "python\n",
      "py\n",
      "yt\n",
      "th\n",
      "ho\n",
      "on\n"
     ]
    }
   ],
   "source": [
    "a = input()\n",
    "for i in range(len(a)-1):\n",
    "    print(a[i], a[i+1],sep='')\n"
   ]
  },
  {
   "cell_type": "markdown",
   "metadata": {},
   "source": [
    "### 7. sort 구현하기\n",
    "- 승찬이는 체육부장으로 체육시간이 되면 반 친구들이 제대로 키 순서대로 모였는지를 확인해야 한다.\n",
    "- 그런데 승찬이는 그것이 너무 번거롭게 느껴져 한번에 확인하고 싶어한다.\n",
    "- 승찬이를 위해 키가 주어지면 순서대로 제대로 섰는지 확인하는 프로그램을 작성하시오\n",
    "- 입력 : 173 156 165 166 169\n",
    "- 출력 : NO"
   ]
  },
  {
   "cell_type": "code",
   "execution_count": 45,
   "metadata": {},
   "outputs": [
    {
     "name": "stdout",
     "output_type": "stream",
     "text": [
      "173 156 165 166 169\n",
      "NO\n"
     ]
    }
   ],
   "source": [
    "a = input().split()\n",
    "b = a.sort()\n",
    "\n",
    "if a == b:\n",
    "    print('yes')\n",
    "else:\n",
    "    print('NO')"
   ]
  },
  {
   "cell_type": "markdown",
   "metadata": {},
   "source": [
    "### 8. 문장이 입력되면 모든 q를 e로 바꾸는 프로그램을 작성하시오.\n",
    "- 혜원이는 문서를 작성하면서 모든 문장의 e를 q로 잘못 입력한 것을 발견했다. 파이썬으로 재빠르게 q를 e로 바꾸는 프로그램을 작성하려고 한다.\n",
    "- 입력 : querty    / 출력 : euerty\n",
    "- 입력 : La viq qn rosq / 출력 : La vie en rose"
   ]
  },
  {
   "cell_type": "code",
   "execution_count": 152,
   "metadata": {},
   "outputs": [
    {
     "name": "stdout",
     "output_type": "stream",
     "text": [
      "querty\n",
      "euerty\n"
     ]
    }
   ],
   "source": [
    "a = input()\n",
    "print(a.replace('q', 'e'))"
   ]
  },
  {
   "cell_type": "markdown",
   "metadata": {},
   "source": [
    "### 9. 숫자가 주어지면 소수인지 아닌지 판별하는 프로그램을 작성하시오.\n",
    "- 소수 : 1과 자기자신으로만 나누어 떨어지는 1보다 큰 양의 정수\n",
    "- 입력 : 11 / 출력 : YES\n",
    "- 입력 : 6 / 출력 : No"
   ]
  },
  {
   "cell_type": "code",
   "execution_count": 110,
   "metadata": {},
   "outputs": [
    {
     "name": "stdout",
     "output_type": "stream",
     "text": [
      "6\n",
      "no\n"
     ]
    }
   ],
   "source": [
    "a = int(input())\n",
    "if (a / a == 1) and not (a%2==0):\n",
    "    print('yes')\n",
    "else:\n",
    "    print('no')"
   ]
  },
  {
   "cell_type": "code",
   "execution_count": 155,
   "metadata": {},
   "outputs": [
    {
     "name": "stdout",
     "output_type": "stream",
     "text": [
      "6\n",
      "no\n"
     ]
    }
   ],
   "source": [
    "def a(num):\n",
    "    for i in range(2, num):\n",
    "        if num%i == 0: return 'no'\n",
    "        return 'yes'\n",
    "\n",
    "num = int(input())\n",
    "print(a(num))"
   ]
  },
  {
   "cell_type": "markdown",
   "metadata": {},
   "source": [
    "### 10. 10진수가 입력되면 2진수로 출력하도록 프로그래밍 하시오\n",
    "- 입력 : 13 / 출력 1101"
   ]
  },
  {
   "cell_type": "code",
   "execution_count": 160,
   "metadata": {},
   "outputs": [
    {
     "name": "stdout",
     "output_type": "stream",
     "text": [
      "13\n"
     ]
    },
    {
     "data": {
      "text/plain": [
       "'1101'"
      ]
     },
     "execution_count": 160,
     "metadata": {},
     "output_type": "execute_result"
    }
   ],
   "source": [
    "a = int(input())\n",
    "bin(a)[2::]\n"
   ]
  },
  {
   "cell_type": "markdown",
   "metadata": {},
   "source": [
    "### 11. 숫자, n진법을 입력 받아서 10진수로 변환하기\n",
    "- 입력 : 10 5 / 출력 : 5\n"
   ]
  },
  {
   "cell_type": "code",
   "execution_count": 121,
   "metadata": {},
   "outputs": [
    {
     "name": "stdout",
     "output_type": "stream",
     "text": [
      "10, 5\n"
     ]
    },
    {
     "data": {
      "text/plain": [
       "5"
      ]
     },
     "execution_count": 121,
     "metadata": {},
     "output_type": "execute_result"
    }
   ],
   "source": [
    "a = input().split(',')\n",
    "b = int(a[0], base=int(a[1]))\n",
    "b"
   ]
  },
  {
   "cell_type": "markdown",
   "metadata": {},
   "source": [
    "### 12. str 자료형의 응용\n",
    "- 1~100까지의(100포함) 모든 숫자를 일렬로 놓고 모든 자릿수의 총 합을 구하시오\n",
    "- 예) 10~15 사이의 모든 숫자를 일렬로 놓으면 101112131415이고 각 자리의 숫자를 더하면 25이다."
   ]
  },
  {
   "cell_type": "code",
   "execution_count": 49,
   "metadata": {},
   "outputs": [
    {
     "name": "stdout",
     "output_type": "stream",
     "text": [
      "0123456789101112131415161718192021222324252627282930313233343536373839404142434445464748495051525354555657585960616263646566676869707172737475767778798081828384858687888990919293949596979899100\n",
      "901\n"
     ]
    }
   ],
   "source": [
    "num = ''\n",
    "\n",
    "for i in range(101):\n",
    "    num += str(i)\n",
    "    \n",
    "result = 0\n",
    "for i in num:\n",
    "    result += int(i)\n",
    "\n",
    "print(num)\n",
    "print(result)\n",
    "\n"
   ]
  },
  {
   "cell_type": "markdown",
   "metadata": {},
   "source": [
    "### 13. 아래 요구사항에 맞는 프로그램을 작성하시오.\n",
    "- 새학기 되어 이름을 가나다 순서대로 배정하고 번호를 매기려고 한다. \n",
    "- 코드에 입력된 이름을  아래와 같이 출력하시오.\n"
   ]
  },
  {
   "cell_type": "code",
   "execution_count": 185,
   "metadata": {
    "scrolled": true
   },
   "outputs": [
    {
     "name": "stdout",
     "output_type": "stream",
     "text": [
      "번호 : 1, 이름 : 강은지\n",
      "번호 : 2, 이름 : 김유정\n",
      "번호 : 3, 이름 : 박현서\n",
      "번호 : 4, 이름 : 최성훈\n",
      "번호 : 5, 이름 : 홍유진\n",
      "번호 : 6, 이름 : 박지호\n",
      "번호 : 7, 이름 : 권윤일\n",
      "번호 : 8, 이름 : 김채리\n",
      "번호 : 9, 이름 : 한지호\n",
      "번호 : 10, 이름 : 김진이\n",
      "번호 : 11, 이름 : 김민호\n",
      "번호 : 12, 이름 : 강채연\n"
     ]
    }
   ],
   "source": [
    "students = ['강은지', '김유정','박현서', '최성훈','홍유진','박지호','권윤일','김채리','한지호','김진이','김민호','강채연']\n",
    "\n",
    "for i in range(len(students)):\n",
    "    print('번호 : {}, 이름 : {}'.format(i+1, students[i]))\n"
   ]
  },
  {
   "cell_type": "code",
   "execution_count": null,
   "metadata": {},
   "outputs": [],
   "source": []
  },
  {
   "cell_type": "markdown",
   "metadata": {},
   "source": [
    "### 14. 문자열을 입력받고 연속되는 문자열을 압축해서 표현하는 프로그램을 작성하시오\n",
    "- 입력 : aaabbbbcdddd\n",
    "- 출력 : a3b4c1d4"
   ]
  },
  {
   "cell_type": "code",
   "execution_count": 50,
   "metadata": {},
   "outputs": [
    {
     "name": "stdout",
     "output_type": "stream",
     "text": [
      "aaaabbbccdd\n",
      "a4b3c2d2\n"
     ]
    }
   ],
   "source": [
    "a = input()\n",
    "b = a[0]\n",
    "num = 0\n",
    "s = ''\n",
    "\n",
    "for i in a:\n",
    "    if i == b: num+=1\n",
    "    else:\n",
    "        s += b + str(num)\n",
    "        b = i\n",
    "        num = 1\n",
    "\n",
    "s += b + str(num)\n",
    "print(s)"
   ]
  },
  {
   "cell_type": "code",
   "execution_count": 53,
   "metadata": {},
   "outputs": [
    {
     "name": "stdout",
     "output_type": "stream",
     "text": [
      "aowkjfsa\n",
      "{'a': 2, 'o': 1, 'w': 1, 'k': 1, 'j': 1, 'f': 1, 's': 1}\n",
      "a2f1j1k1o1s1w1"
     ]
    }
   ],
   "source": [
    "# 알파벳순서를 순서대로 정렬하고 싶을 때\n",
    "user_input = input()\n",
    "wordDict = {}\n",
    "\n",
    "for word in user_input:\n",
    "    wordDict[word] = wordDict.get(word, 0)+1\n",
    "    \n",
    "print(wordDict)\n",
    "sortWord = sorted(wordDict.keys())\n",
    "#print(sortWord)\n",
    "\n",
    "for i in sortWord:\n",
    "    print(i, wordDict[i], sep='', end='')"
   ]
  },
  {
   "cell_type": "markdown",
   "metadata": {},
   "source": [
    "### 15. 아래 질문에 알맞은 프로그램을 작성하시오.\n",
    "- 아빠는 딸과 친과 친해지기 위해 줄임말을 배우기로 했습니다. \n",
    "- 딸은 '복잡한 세상 편하게 살자'라는 문장을 '복세편살'로 줄여 말합니다.\n",
    "- 아빠가 줄임말을 배우기 위해 아래와 같이 어떤 입력이 주어지면 앞 글자만 줄어 출력되도록 프로그래밍 하시오."
   ]
  },
  {
   "cell_type": "code",
   "execution_count": 187,
   "metadata": {},
   "outputs": [
    {
     "name": "stdout",
     "output_type": "stream",
     "text": [
      "복잡한 세상 편하게 살자\n",
      "복세편살\n"
     ]
    }
   ],
   "source": [
    "a = input().split(' ')\n",
    "b = ''\n",
    "\n",
    "for i in a:\n",
    "    b += i[0]\n",
    "\n",
    "print(b)\n"
   ]
  },
  {
   "cell_type": "markdown",
   "metadata": {},
   "source": [
    "### 중간 공백 없애기"
   ]
  },
  {
   "cell_type": "code",
   "execution_count": 62,
   "metadata": {},
   "outputs": [
    {
     "name": "stdout",
     "output_type": "stream",
     "text": [
      "hello world\n",
      "helloworld\n",
      "helloworld\n"
     ]
    }
   ],
   "source": [
    "a =input()\n",
    "\n",
    "# join\n",
    "b = ''.join(a.strip().split())\n",
    "print(b)\n",
    "\n",
    "# replace\n",
    "c = a.replace(' ', '')\n",
    "print(c)"
   ]
  },
  {
   "cell_type": "code",
   "execution_count": null,
   "metadata": {},
   "outputs": [],
   "source": []
  }
 ],
 "metadata": {
  "kernelspec": {
   "display_name": "Python 3",
   "language": "python",
   "name": "python3"
  },
  "language_info": {
   "codemirror_mode": {
    "name": "ipython",
    "version": 3
   },
   "file_extension": ".py",
   "mimetype": "text/x-python",
   "name": "python",
   "nbconvert_exporter": "python",
   "pygments_lexer": "ipython3",
   "version": "3.8.8"
  },
  "toc": {
   "base_numbering": 1,
   "nav_menu": {},
   "number_sections": false,
   "sideBar": true,
   "skip_h1_title": false,
   "title_cell": "Table of Contents",
   "title_sidebar": "Contents",
   "toc_cell": false,
   "toc_position": {},
   "toc_section_display": true,
   "toc_window_display": false
  }
 },
 "nbformat": 4,
 "nbformat_minor": 4
}
