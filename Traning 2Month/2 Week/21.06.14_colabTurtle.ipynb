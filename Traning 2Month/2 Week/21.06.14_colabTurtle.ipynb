{
  "nbformat": 4,
  "nbformat_minor": 0,
  "metadata": {
    "colab": {
      "name": "019. colabTurtle_before",
      "provenance": [],
      "collapsed_sections": []
    },
    "kernelspec": {
      "name": "python3",
      "display_name": "Python 3"
    },
    "language_info": {
      "name": "python"
    }
  },
  "cells": [
    {
      "cell_type": "code",
      "metadata": {
        "id": "lK3v3F-fEcA5",
        "colab": {
          "base_uri": "https://localhost:8080/"
        },
        "outputId": "96c22ed1-866a-4095-ec71-daa47c09ff83"
      },
      "source": [
        "!pip install ColabTurtle"
      ],
      "execution_count": null,
      "outputs": [
        {
          "output_type": "stream",
          "text": [
            "Collecting ColabTurtle\n",
            "  Downloading https://files.pythonhosted.org/packages/08/6f/619066317c24cd988979ad1b8c7b324c09ee1c408bfd88926889d6a62d99/ColabTurtle-2.1.0.tar.gz\n",
            "Building wheels for collected packages: ColabTurtle\n",
            "  Building wheel for ColabTurtle (setup.py) ... \u001b[?25l\u001b[?25hdone\n",
            "  Created wheel for ColabTurtle: filename=ColabTurtle-2.1.0-cp37-none-any.whl size=7659 sha256=fbdc4b6d352708522e8d1d284b9d8267ff936c1c5d680a099ddc04c41a7f6e32\n",
            "  Stored in directory: /root/.cache/pip/wheels/df/e9/3f/df3fccd8971c5473dc0c6450984cd057de8c9a1271069ebf18\n",
            "Successfully built ColabTurtle\n",
            "Installing collected packages: ColabTurtle\n",
            "Successfully installed ColabTurtle-2.1.0\n"
          ],
          "name": "stdout"
        }
      ]
    },
    {
      "cell_type": "code",
      "metadata": {
        "id": "Gs0TMs_yNOf-"
      },
      "source": [
        ""
      ],
      "execution_count": null,
      "outputs": []
    },
    {
      "cell_type": "code",
      "metadata": {
        "id": "0eAcdz4XvO4B"
      },
      "source": [
        ""
      ],
      "execution_count": null,
      "outputs": []
    },
    {
      "cell_type": "markdown",
      "metadata": {
        "id": "ctpn0sn04eHl"
      },
      "source": [
        "t.initializeTurtle()로 설정되는 초기값\n",
        "- 화면 크기 : 800 x 500\n",
        "- 좌표가 (0, 0)에서 오른쪽 아래가 (800, 500)\n",
        "- 펜 위치 : 화면의 중앙\n",
        "- 펜의 방향 : 위\n",
        "- 펜을 내린다 : pendown ()\n",
        "- 펜이 움직이는 속도 : speed = 4\n",
        "- 펜의 크기 : width (4)\n",
        "- 펜 색상 : color ( \"white\")\n",
        "- 배경색 : bgcolor ( \"black\")\n",
        "- 터틀보기 : showturtle ()"
      ]
    },
    {
      "cell_type": "code",
      "metadata": {
        "id": "5UR6Jl8INTEv"
      },
      "source": [
        "# 사각형 그리기\n",
        "\n"
      ],
      "execution_count": null,
      "outputs": []
    },
    {
      "cell_type": "code",
      "metadata": {
        "id": "weSFSr_AN27k"
      },
      "source": [
        "# 별그리기\n",
        "\n",
        "import ColabTurtle.Turtle as t\n",
        "\n"
      ],
      "execution_count": null,
      "outputs": []
    },
    {
      "cell_type": "code",
      "metadata": {
        "id": "MzOMJkOW-iia"
      },
      "source": [
        "# 원\n"
      ],
      "execution_count": null,
      "outputs": []
    },
    {
      "cell_type": "code",
      "metadata": {
        "id": "LueVprBn2cMZ"
      },
      "source": [
        "# 암모나이트\n",
        "\n"
      ],
      "execution_count": null,
      "outputs": []
    },
    {
      "cell_type": "code",
      "metadata": {
        "id": "olzj7Axd6h5w"
      },
      "source": [
        "t.initializeTurtle(5)\n",
        "t.color('orange')\n",
        "t.bgcolor('white')\n",
        "t.width(1)\n",
        "for i in range(36):\n",
        "    t.forward(200)\n",
        "    t.left(170)\n"
      ],
      "execution_count": null,
      "outputs": []
    },
    {
      "cell_type": "code",
      "metadata": {
        "id": "_aMOwITi2hxn"
      },
      "source": [
        ""
      ],
      "execution_count": null,
      "outputs": []
    },
    {
      "cell_type": "code",
      "metadata": {
        "id": "2IhDy_0K-k4T"
      },
      "source": [
        ""
      ],
      "execution_count": null,
      "outputs": []
    }
  ]
}