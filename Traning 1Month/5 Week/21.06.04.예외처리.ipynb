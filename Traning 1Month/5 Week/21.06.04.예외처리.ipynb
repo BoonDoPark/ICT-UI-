{
 "cells": [
  {
   "cell_type": "markdown",
   "metadata": {},
   "source": [
    "# 오류의 종류\n",
    "- 프로그램 실행전에 발생하는 오류 : 구문오류(SyntaxError)\n",
    "- 프로그램 실행 중에 발생하는 오류 : 예외(exception) or 런타임 오류(runtime error)\n"
   ]
  },
  {
   "cell_type": "markdown",
   "metadata": {},
   "source": [
    "## 1. 구문오류\n",
    "- 해결하지 않으면 프로그램 자체가 실행되지 않는다."
   ]
  },
  {
   "cell_type": "code",
   "execution_count": 1,
   "metadata": {},
   "outputs": [
    {
     "ename": "SyntaxError",
     "evalue": "EOL while scanning string literal (<ipython-input-1-912c0275941d>, line 2)",
     "output_type": "error",
     "traceback": [
      "\u001b[1;36m  File \u001b[1;32m\"<ipython-input-1-912c0275941d>\"\u001b[1;36m, line \u001b[1;32m2\u001b[0m\n\u001b[1;33m    print('예외툴 발생시켜볼께요)\u001b[0m\n\u001b[1;37m                       ^\u001b[0m\n\u001b[1;31mSyntaxError\u001b[0m\u001b[1;31m:\u001b[0m EOL while scanning string literal\n"
     ]
    }
   ],
   "source": [
    "print('프로그램이 실행되었습니다.')\n",
    "print('예외툴 발생시켜볼께요)\n",
    "      # 이럴 경우 syntaxerror가 뜬다."
   ]
  },
  {
   "cell_type": "markdown",
   "metadata": {},
   "source": [
    "## 2. 예외\n",
    "- 프로그램이 실행된 다음, 실행중에 발생\n",
    "- 조건문을 사용하는 방법\n",
    "- try 구문을 사용하는 방법"
   ]
  },
  {
   "cell_type": "code",
   "execution_count": 2,
   "metadata": {},
   "outputs": [
    {
     "name": "stdout",
     "output_type": "stream",
     "text": [
      "프로그램이 실행되었습니다.\n"
     ]
    },
    {
     "ename": "NameError",
     "evalue": "name 'list_a' is not defined",
     "output_type": "error",
     "traceback": [
      "\u001b[1;31m---------------------------------------------------------------------------\u001b[0m",
      "\u001b[1;31mNameError\u001b[0m                                 Traceback (most recent call last)",
      "\u001b[1;32m<ipython-input-2-fcf7752ec63d>\u001b[0m in \u001b[0;36m<module>\u001b[1;34m\u001b[0m\n\u001b[0;32m      1\u001b[0m \u001b[0mprint\u001b[0m\u001b[1;33m(\u001b[0m\u001b[1;34m'프로그램이 실행되었습니다.'\u001b[0m\u001b[1;33m)\u001b[0m\u001b[1;33m\u001b[0m\u001b[1;33m\u001b[0m\u001b[0m\n\u001b[1;32m----> 2\u001b[1;33m \u001b[0mlist_a\u001b[0m\u001b[1;33m[\u001b[0m\u001b[1;36m0\u001b[0m\u001b[1;33m]\u001b[0m\u001b[1;33m\u001b[0m\u001b[1;33m\u001b[0m\u001b[0m\n\u001b[0m",
      "\u001b[1;31mNameError\u001b[0m: name 'list_a' is not defined"
     ]
    }
   ],
   "source": [
    "print('프로그램이 실행되었습니다.')\n",
    "list_a[0]\n",
    "# nameerror list_a라는 이름이 정의되지않았다."
   ]
  },
  {
   "cell_type": "code",
   "execution_count": 4,
   "metadata": {},
   "outputs": [
    {
     "name": "stdout",
     "output_type": "stream",
     "text": [
      "정수 입력 : 4\n",
      "원의 반지름 :  4\n",
      "지름 :  25.12\n",
      "넚이 :  50.24\n"
     ]
    }
   ],
   "source": [
    "user = int(input('정수 입력 : '))\n",
    "\n",
    "print('원의 반지름 : ', user) \n",
    "print('지름 : ', 2*3.14*user)\n",
    "print('넚이 : ', 3.14*user*user)"
   ]
  },
  {
   "cell_type": "markdown",
   "metadata": {},
   "source": [
    "### 2.1 조건문으로 예외처리하기"
   ]
  },
  {
   "cell_type": "code",
   "execution_count": 6,
   "metadata": {},
   "outputs": [
    {
     "name": "stdout",
     "output_type": "stream",
     "text": [
      "정수 입력 : 4.5\n",
      "정수를 입력하지 않았습니다.\n"
     ]
    }
   ],
   "source": [
    "user = input('정수 입력 : ')\n",
    "\n",
    "if user.isdigit(): # 정수가 변환이 안되면 에러가 뜨지만 if문으로 예외처리를 시켜주었다.\n",
    "    num = int(user)\n",
    "    print('원의 반지름 : ', num) \n",
    "    print('지름 : ', 2*3.14*num)\n",
    "    print('넚이 : ', 3.14*num*num)\n",
    "else:\n",
    "    print('정수를 입력하지 않았습니다.')"
   ]
  },
  {
   "cell_type": "markdown",
   "metadata": {},
   "source": [
    "### 2.2 try except 구문\n",
    "\n",
    "try:\n",
    ">예외가 발생할 가능성이 있는 코드\n",
    "\n",
    "except :\n",
    ">예외가 발생했을 때 실행할 코드\n"
   ]
  },
  {
   "cell_type": "code",
   "execution_count": 9,
   "metadata": {},
   "outputs": [
    {
     "name": "stdout",
     "output_type": "stream",
     "text": [
      "정수 입력 : 마너얍ㅈ만어ㅣ\n",
      "무언가 잘못되었습니다.\n"
     ]
    }
   ],
   "source": [
    "try:\n",
    "    user = int(input('정수 입력 : '))\n",
    "    print('원의 반지름 : ', user) \n",
    "    print('지름 : ', 2*3.14*user)\n",
    "    print('넚이 : ', 3.14*user*user)\n",
    "except:\n",
    "    print('무언가 잘못되었습니다.')"
   ]
  },
  {
   "cell_type": "markdown",
   "metadata": {},
   "source": [
    "**try except 구문2**\n",
    "- 발생오류별로 처리를 달리하고 싶을 때 : except 발생오류\n",
    "- 오류 메시지 내용까지 알고 싶을 때 :  except 발생오류 as 오류 메시지 변수\n",
    "\n",
    "try:\n",
    ">예외가 발생할 가능성이 있는 코드\n",
    "\n",
    "except 발생오류 :\n",
    ">예외가 발생했을 때 실행할 코드\n",
    "\n",
    "except 발생오류 as 오류 메시지 변수 :\n",
    ">예외가 발생했을 때 실행할 코드\n",
    "...\n",
    "- ValueError, ZeroDivisionError, IndexError, Exception..."
   ]
  },
  {
   "cell_type": "code",
   "execution_count": 34,
   "metadata": {},
   "outputs": [
    {
     "name": "stdout",
     "output_type": "stream",
     "text": [
      "정수 입력 : 10\n"
     ]
    },
    {
     "ename": "IndexError",
     "evalue": "list index out of range",
     "output_type": "error",
     "traceback": [
      "\u001b[1;31m---------------------------------------------------------------------------\u001b[0m",
      "\u001b[1;31mIndexError\u001b[0m                                Traceback (most recent call last)",
      "\u001b[1;32m<ipython-input-34-191d05271bbb>\u001b[0m in \u001b[0;36m<module>\u001b[1;34m\u001b[0m\n\u001b[0;32m      1\u001b[0m \u001b[0mnumber\u001b[0m \u001b[1;33m=\u001b[0m \u001b[1;33m[\u001b[0m\u001b[1;34m'asd'\u001b[0m\u001b[1;33m,\u001b[0m \u001b[1;34m'w'\u001b[0m\u001b[1;33m,\u001b[0m \u001b[1;34m'123'\u001b[0m\u001b[1;33m,\u001b[0m \u001b[1;34m'wqe'\u001b[0m\u001b[1;33m,\u001b[0m \u001b[1;34m'2'\u001b[0m\u001b[1;33m]\u001b[0m\u001b[1;33m\u001b[0m\u001b[1;33m\u001b[0m\u001b[0m\n\u001b[0;32m      2\u001b[0m \u001b[0muser\u001b[0m \u001b[1;33m=\u001b[0m \u001b[0mint\u001b[0m\u001b[1;33m(\u001b[0m\u001b[0minput\u001b[0m\u001b[1;33m(\u001b[0m\u001b[1;34m'정수 입력 : '\u001b[0m\u001b[1;33m)\u001b[0m\u001b[1;33m)\u001b[0m\u001b[1;33m\u001b[0m\u001b[1;33m\u001b[0m\u001b[0m\n\u001b[1;32m----> 3\u001b[1;33m \u001b[0mprint\u001b[0m\u001b[1;33m(\u001b[0m\u001b[1;34m'{}번째 요소: {}'\u001b[0m\u001b[1;33m.\u001b[0m\u001b[0mformat\u001b[0m\u001b[1;33m(\u001b[0m\u001b[0muser\u001b[0m\u001b[1;33m,\u001b[0m \u001b[0mnumber\u001b[0m\u001b[1;33m[\u001b[0m\u001b[0muser\u001b[0m\u001b[1;33m]\u001b[0m\u001b[1;33m)\u001b[0m\u001b[1;33m)\u001b[0m\u001b[1;33m\u001b[0m\u001b[1;33m\u001b[0m\u001b[0m\n\u001b[0m",
      "\u001b[1;31mIndexError\u001b[0m: list index out of range"
     ]
    }
   ],
   "source": [
    "number = ['asd', 'w', '123', 'wqe', '2']\n",
    "user = int(input('정수 입력 : '))\n",
    "print('{}번째 요소: {}'.format(user, number[user]))"
   ]
  },
  {
   "cell_type": "code",
   "execution_count": 50,
   "metadata": {},
   "outputs": [
    {
     "name": "stdout",
     "output_type": "stream",
     "text": [
      "정수 입력 : 123\n",
      "인덱스를 벗어났어요 list index out of range\n"
     ]
    }
   ],
   "source": [
    "number = ['asd', 'w', '123', 'wqe', '2']\n",
    "\n",
    "try:\n",
    "    user = int(input('정수 입력 : '))\n",
    "    print('{}번째 요소 : {}'.format(user, number[user]))\n",
    "\n",
    "except ValueError:\n",
    "    print('ValueError!!!!')\n",
    "    \n",
    "except IndexError as error:\n",
    "    print('인덱스를 벗어났어요', error)\n",
    "    \n",
    "except Exception:\n",
    "    print('미리 파악하지 못한 에러가 발생했습니다.')\n"
   ]
  },
  {
   "cell_type": "markdown",
   "metadata": {},
   "source": [
    "**try except 와 pass 키워드 조합하기**\n",
    "\n",
    "try:\n",
    ">예외가 발생할 가능성이 있는 코드\n",
    "\n",
    "except :\n",
    ">pass\n",
    "\n",
    "\n",
    "- try except 구문은 if 구문에 비해 약간 느리다."
   ]
  },
  {
   "cell_type": "code",
   "execution_count": 42,
   "metadata": {},
   "outputs": [
    {
     "name": "stdout",
     "output_type": "stream",
     "text": [
      "['asd', 'w', '123', 'wqe', '2'] 내부에 있는 숫자는\n",
      "['123', '2']입니다.\n"
     ]
    }
   ],
   "source": [
    "number = ['asd', 'w', '123', 'wqe', '2']\n",
    "\n",
    "list_number = []\n",
    "for item in number:\n",
    "    try:\n",
    "        int(item)\n",
    "        list_number.append(item)\n",
    "    except:\n",
    "        pass\n",
    "    \n",
    "print('{} 내부에 있는 숫자는'.format(number))\n",
    "print('{}입니다.'.format(list_number))"
   ]
  },
  {
   "cell_type": "markdown",
   "metadata": {},
   "source": [
    "**try except else 구문**\n",
    "\n",
    "try:\n",
    ">예외가 발생할 가능성이 있는 코드\n",
    "\n",
    "except :\n",
    ">예외가 발생했을 때 실행할 코드\n",
    "\n",
    "else :\n",
    ">예외가 발생하지 않았을 때 실행할 코드\n"
   ]
  },
  {
   "cell_type": "code",
   "execution_count": 57,
   "metadata": {},
   "outputs": [
    {
     "name": "stdout",
     "output_type": "stream",
     "text": [
      "정수 입력 : 5\n",
      "원의 반지름 :  5\n",
      "지름 :  31.400000000000002\n",
      "넚이 :  78.5\n"
     ]
    }
   ],
   "source": [
    "# try except else 구문으로 예외를 처리합니다.\n",
    "try:\n",
    "    user = int(input('정수 입력 : '))\n",
    "    \n",
    "    \n",
    "except:\n",
    "    print('무언가 잘못되었습니다.') # 문자를 넣었을때 출력된다.\n",
    "    \n",
    "else:\n",
    "    print('원의 반지름 : ', user) \n",
    "    print('지름 : ', 2*3.14*user)\n",
    "    print('넚이 : ', 3.14*user*user)"
   ]
  },
  {
   "cell_type": "markdown",
   "metadata": {},
   "source": [
    "**finally 구문**\n",
    "\n",
    "try:\n",
    ">예외가 발생할 가능성이 있는 코드\n",
    "\n",
    "except :\n",
    ">예외가 발생했을 때 실행할 코드\n",
    "\n",
    "else :\n",
    ">예외가 발생하지 않았을 때 실행할 코드\n",
    "\n",
    "finally :\n",
    ">무조건 실행할 코드\n"
   ]
  },
  {
   "cell_type": "code",
   "execution_count": 56,
   "metadata": {},
   "outputs": [
    {
     "name": "stdout",
     "output_type": "stream",
     "text": [
      "정수 입력 : 5\n",
      "원의 반지름 :  5\n",
      "지름 :  31.400000000000002\n",
      "넚이 :  78.5\n",
      "예외가 발생하지 않았습니다\n",
      "일단 프로그램이 아떻게든 끝이 났습니다.\n"
     ]
    }
   ],
   "source": [
    "try:\n",
    "    user = int(input('정수 입력 : '))\n",
    "    print('원의 반지름 : ', user) \n",
    "    print('지름 : ', 2*3.14*user)\n",
    "    print('넚이 : ', 3.14*user*user)\n",
    "    \n",
    "except:\n",
    "    print('무언가 잘못되었습니다.')\n",
    "\n",
    "else:\n",
    "    print('예외가 발생하지 않았습니다')\n",
    "    \n",
    "finally:\n",
    "    print('일단 프로그램이 아떻게든 끝이 났습니다.')"
   ]
  },
  {
   "cell_type": "markdown",
   "metadata": {},
   "source": [
    "**try, except, finally 구문의 조합**\n",
    "- try는 단독으로 사용할 수 없으며, 반드시 except or finally와 함께 사용해야 한다.\n",
    "- else 구문은 except 구문뒤에 사용해야 한다.\n",
    "- try + except\n",
    "- try + except + else \n",
    "- try + except + finally\n",
    "- try + except+ else + finally\n",
    "- try + finally"
   ]
  },
  {
   "cell_type": "markdown",
   "metadata": {},
   "source": [
    "**raise**\n",
    "- 사용자가 강제로 예외를 발생시길때 사용"
   ]
  },
  {
   "cell_type": "code",
   "execution_count": 60,
   "metadata": {},
   "outputs": [
    {
     "name": "stdout",
     "output_type": "stream",
     "text": [
      "정수 입력 : 0\n",
      "무언가 잘못되었습니다.\n"
     ]
    }
   ],
   "source": [
    "try:\n",
    "    user = int(input('정수 입력 : '))\n",
    "    \n",
    "    if user <= 0:\n",
    "        raise ValueError\n",
    "        \n",
    "    print('원의 반지름 : ', user) \n",
    "    print('지름 : ', 2*3.14*user)\n",
    "    print('넚이 : ', 3.14*user*user)\n",
    "    \n",
    "except ValueError:\n",
    "    print('무언가 잘못되었습니다.')"
   ]
  },
  {
   "cell_type": "markdown",
   "metadata": {},
   "source": [
    "**연습문제1) 다음 코드는 숫자가 아닌 값이 들어오면 에러가 발생합니다. 예외처리를 통해 에러가 발생시에 적절한 메시지를 출력하시오**"
   ]
  },
  {
   "cell_type": "code",
   "execution_count": 30,
   "metadata": {},
   "outputs": [
    {
     "name": "stdout",
     "output_type": "stream",
     "text": [
      "첫 번째 숫자 : 123\n",
      "두 번째 숫자 : 쟈ㅐㅐㅁㄴㅇ\n"
     ]
    },
    {
     "ename": "ValueError",
     "evalue": "invalid literal for int() with base 10: '쟈ㅐㅐㅁㄴㅇ'",
     "output_type": "error",
     "traceback": [
      "\u001b[1;31m---------------------------------------------------------------------------\u001b[0m",
      "\u001b[1;31mValueError\u001b[0m                                Traceback (most recent call last)",
      "\u001b[1;32m<ipython-input-30-3b24ac214cbe>\u001b[0m in \u001b[0;36m<module>\u001b[1;34m\u001b[0m\n\u001b[0;32m      1\u001b[0m \u001b[0mnum1\u001b[0m \u001b[1;33m=\u001b[0m \u001b[0mint\u001b[0m\u001b[1;33m(\u001b[0m\u001b[0minput\u001b[0m\u001b[1;33m(\u001b[0m\u001b[1;34m'첫 번째 숫자 : '\u001b[0m\u001b[1;33m)\u001b[0m\u001b[1;33m)\u001b[0m\u001b[1;33m\u001b[0m\u001b[1;33m\u001b[0m\u001b[0m\n\u001b[1;32m----> 2\u001b[1;33m \u001b[0mnum2\u001b[0m \u001b[1;33m=\u001b[0m \u001b[0mint\u001b[0m\u001b[1;33m(\u001b[0m\u001b[0minput\u001b[0m\u001b[1;33m(\u001b[0m\u001b[1;34m'두 번째 숫자 : '\u001b[0m\u001b[1;33m)\u001b[0m\u001b[1;33m)\u001b[0m\u001b[1;33m\u001b[0m\u001b[1;33m\u001b[0m\u001b[0m\n\u001b[0m\u001b[0;32m      3\u001b[0m \u001b[0mprint\u001b[0m\u001b[1;33m(\u001b[0m\u001b[1;34m'{}/{}={}'\u001b[0m\u001b[1;33m.\u001b[0m\u001b[0mformat\u001b[0m\u001b[1;33m(\u001b[0m\u001b[0mnum1\u001b[0m\u001b[1;33m,\u001b[0m \u001b[0mnum2\u001b[0m\u001b[1;33m,\u001b[0m \u001b[0mint\u001b[0m\u001b[1;33m(\u001b[0m\u001b[0mnum1\u001b[0m\u001b[1;33m/\u001b[0m\u001b[0mnum2\u001b[0m\u001b[1;33m)\u001b[0m\u001b[1;33m)\u001b[0m\u001b[1;33m)\u001b[0m\u001b[1;33m\u001b[0m\u001b[1;33m\u001b[0m\u001b[0m\n",
      "\u001b[1;31mValueError\u001b[0m: invalid literal for int() with base 10: '쟈ㅐㅐㅁㄴㅇ'"
     ]
    }
   ],
   "source": [
    "num1 = int(input('첫 번째 숫자 : '))\n",
    "num2 = int(input('두 번째 숫자 : '))\n",
    "print('{}/{}={}'.format(num1, num2, int(num1/num2)))"
   ]
  },
  {
   "cell_type": "code",
   "execution_count": 69,
   "metadata": {},
   "outputs": [
    {
     "name": "stdout",
     "output_type": "stream",
     "text": [
      "첫 번째 숫자 : 4\n",
      "두 번째 숫자 : 0\n",
      "division by zero\n"
     ]
    }
   ],
   "source": [
    "try: \n",
    "    num1 = int(input('첫 번째 숫자 : '))\n",
    "    num2 = int(input('두 번째 숫자 : '))\n",
    "    print('{}/{}={}'.format(num1, num2, int(num1/num2)))\n",
    "\n",
    "except ValueError:\n",
    "    print('ValueError!!!!')\n",
    "    \n",
    "except ZeroDivisionError as error:\n",
    "    print(error)\n",
    "    \n",
    "except:\n",
    "    print('알수없는 오류가 발생했습니다.')\n",
    "    \n"
   ]
  },
  {
   "cell_type": "markdown",
   "metadata": {},
   "source": [
    "**연습문제2)**\n",
    "- 동네에 항상 대기 손님이 있는 맛있는 치킨집이 있습니다.대기손님의 치킨요리 시간을 줄이고자 자동 주문 시스템을 제작하였습니다.  시스템 코드를 확인하고 적절한 예외처를 구문을 넣으시오.\n",
    "\n",
    "- 조건 1 : 대기 소님이 주문할 수 있는 총 치킨량은 10마리로 한정 치킨 소진시 '재료가 부족합니다'메시지 출력후 **프로그램 종료**.\n",
    "- 조건 2 : 1보다 작거나 숫자가 아닌 입력값이 들어올때는 ValueError로 처리\n",
    "- ValueError 메시지 : '잘못된 값을 입력하였습니다.'\n",
    "\n"
   ]
  },
  {
   "cell_type": "code",
   "execution_count": 28,
   "metadata": {},
   "outputs": [
    {
     "name": "stdout",
     "output_type": "stream",
     "text": [
      "[남은치킨:10]\n",
      "치킨 몇 마리 주문하시겠습니까?lasdk\n"
     ]
    },
    {
     "ename": "ValueError",
     "evalue": "invalid literal for int() with base 10: 'lasdk'",
     "output_type": "error",
     "traceback": [
      "\u001b[1;31m---------------------------------------------------------------------------\u001b[0m",
      "\u001b[1;31mValueError\u001b[0m                                Traceback (most recent call last)",
      "\u001b[1;32m<ipython-input-28-1a07e618e7f3>\u001b[0m in \u001b[0;36m<module>\u001b[1;34m\u001b[0m\n\u001b[0;32m      3\u001b[0m \u001b[1;32mwhile\u001b[0m \u001b[1;32mTrue\u001b[0m \u001b[1;33m:\u001b[0m\u001b[1;33m\u001b[0m\u001b[1;33m\u001b[0m\u001b[0m\n\u001b[0;32m      4\u001b[0m     \u001b[0mprint\u001b[0m\u001b[1;33m(\u001b[0m\u001b[1;34m'[남은치킨:{}]'\u001b[0m\u001b[1;33m.\u001b[0m\u001b[0mformat\u001b[0m\u001b[1;33m(\u001b[0m\u001b[0mchicken\u001b[0m\u001b[1;33m)\u001b[0m\u001b[1;33m)\u001b[0m\u001b[1;33m\u001b[0m\u001b[1;33m\u001b[0m\u001b[0m\n\u001b[1;32m----> 5\u001b[1;33m     \u001b[0morder\u001b[0m \u001b[1;33m=\u001b[0m \u001b[0mint\u001b[0m\u001b[1;33m(\u001b[0m\u001b[0minput\u001b[0m\u001b[1;33m(\u001b[0m\u001b[1;34m'치킨 몇 마리 주문하시겠습니까?'\u001b[0m\u001b[1;33m)\u001b[0m\u001b[1;33m)\u001b[0m\u001b[1;33m\u001b[0m\u001b[1;33m\u001b[0m\u001b[0m\n\u001b[0m\u001b[0;32m      6\u001b[0m     \u001b[0mprint\u001b[0m\u001b[1;33m(\u001b[0m\u001b[1;34m'[대기번호{}] {}마리 주문이 완료되었습니다.'\u001b[0m\u001b[1;33m.\u001b[0m\u001b[0mformat\u001b[0m\u001b[1;33m(\u001b[0m\u001b[0mwaiting\u001b[0m\u001b[1;33m,\u001b[0m \u001b[0morder\u001b[0m\u001b[1;33m)\u001b[0m\u001b[1;33m)\u001b[0m\u001b[1;33m\u001b[0m\u001b[1;33m\u001b[0m\u001b[0m\n\u001b[0;32m      7\u001b[0m     \u001b[0mwaiting\u001b[0m \u001b[1;33m+=\u001b[0m\u001b[1;36m1\u001b[0m\u001b[1;33m\u001b[0m\u001b[1;33m\u001b[0m\u001b[0m\n",
      "\u001b[1;31mValueError\u001b[0m: invalid literal for int() with base 10: 'lasdk'"
     ]
    }
   ],
   "source": [
    "chicken = 10\n",
    "waiting = 1\n",
    "while True :\n",
    "    print('[남은치킨:{}]'.format(chicken))\n",
    "    order = int(input('치킨 몇 마리 주문하시겠습니까?'))\n",
    "    print('[대기번호{}] {}마리 주문이 완료되었습니다.'.format(waiting, order))\n",
    "    waiting +=1\n",
    "    chicken -= order"
   ]
  },
  {
   "cell_type": "code",
   "execution_count": 102,
   "metadata": {},
   "outputs": [
    {
     "name": "stdout",
     "output_type": "stream",
     "text": [
      "[남은치킨:10]\n",
      "치킨 몇 마리 주문하시겠습니까?asdg\n",
      "잘 못 입력했습니다.\n",
      "다음에 또 찾아주세요.\n",
      "[남은치킨:10]\n",
      "치킨 몇 마리 주문하시겠습니까?0\n",
      "잘 못 입력했습니다.\n",
      "다음에 또 찾아주세요.\n",
      "[남은치킨:10]\n",
      "치킨 몇 마리 주문하시겠습니까?5\n",
      "[대기번호1] 5마리 주문이 완료되었습니다.\n",
      "다음에 또 찾아주세요.\n",
      "[남은치킨:5]\n",
      "치킨 몇 마리 주문하시겠습니까?5\n",
      "[대기번호2] 5마리 주문이 완료되었습니다.\n",
      "다음에 또 찾아주세요.\n"
     ]
    }
   ],
   "source": [
    "chicken = 10\n",
    "waiting = 1\n",
    "\n",
    "while True :\n",
    "    try:\n",
    "        print('[남은치킨:{}]'.format(chicken))\n",
    "        order = int(input('치킨 몇 마리 주문하시겠습니까?'))\n",
    "        if order <= 0:\n",
    "            raise ValueError\n",
    "            \n",
    "        print('[대기번호{}] {}마리 주문이 완료되었습니다.'.format(waiting, order))\n",
    "        waiting +=1\n",
    "        chicken -= order\n",
    "        if chicken <= 0:\n",
    "            break\n",
    "    except ValueError:\n",
    "            print('잘 못 입력했습니다.')\n",
    "    \n",
    "    finally:\n",
    "        print('다음에 또 찾아주세요.')\n",
    "\n",
    "    "
   ]
  },
  {
   "cell_type": "code",
   "execution_count": null,
   "metadata": {},
   "outputs": [],
   "source": [
    "chicken = 10\n",
    "waiting = 1\n",
    "\n",
    "while True :\n",
    "    try:\n",
    "        print('[남은치킨:{}]'.format(chicken))\n",
    "        order = int(input('치킨 몇 마리 주문하시겠습니까?'))\n",
    "        \n",
    "        if order > chicken:\n",
    "            print('재료가 부족합니다.')\n",
    "            break\n",
    "        elif order <= 0:\n",
    "            raise ValueError\n",
    "        else:\n",
    "            print('[대기번호{}] {}마리 주문이 완료되었습니다.'.format(waiting, order))\n",
    "            waiting +=1\n",
    "            chicken -= order\n",
    "            \n",
    "    except ValueError:\n",
    "            print('잘 못 입력했습니다.')"
   ]
  },
  {
   "cell_type": "markdown",
   "metadata": {},
   "source": [
    "### enumerate()"
   ]
  },
  {
   "cell_type": "code",
   "execution_count": 10,
   "metadata": {},
   "outputs": [
    {
     "name": "stdout",
     "output_type": "stream",
     "text": [
      "0 1\n",
      "1 2\n",
      "2 3\n",
      "3 4\n",
      "4 5\n",
      "5 6\n",
      "6 7\n",
      "7 8\n",
      "--------------------\n",
      "(0, 1) <class 'tuple'>\n",
      "(1, 2) <class 'tuple'>\n",
      "(2, 3) <class 'tuple'>\n",
      "(3, 4) <class 'tuple'>\n",
      "(4, 5) <class 'tuple'>\n",
      "(5, 6) <class 'tuple'>\n",
      "(6, 7) <class 'tuple'>\n",
      "(7, 8) <class 'tuple'>\n",
      "--------------------\n",
      "0 1\n",
      "1 2\n",
      "2 3\n",
      "3 4\n",
      "4 5\n",
      "5 6\n",
      "6 7\n",
      "7 8\n",
      "--------------------\n",
      "0 8\n",
      "1 7\n",
      "2 6\n",
      "3 5\n",
      "4 4\n",
      "5 3\n",
      "6 2\n",
      "7 1\n"
     ]
    }
   ],
   "source": [
    "a = [1, 2, 3, 4, 5, 6, 7, 8]\n",
    "\n",
    "for i in range(len(a)):\n",
    "    print(i, a[i])\n",
    "    \n",
    "print('-'*20)\n",
    "\n",
    "for i in enumerate(a):\n",
    "    print(i, type(i))\n",
    "    \n",
    "print('-'*20)\n",
    "\n",
    "for idx, value in enumerate(a):\n",
    "    print(idx, value)\n",
    "    \n",
    "print('-'*20)\n",
    "\n",
    "for idx, value in enumerate(a[::-1]):\n",
    "    print(idx, value)"
   ]
  },
  {
   "cell_type": "markdown",
   "metadata": {},
   "source": [
    "**연습문제3)**\n",
    "\n",
    "base 진법으로 표기된 숫자를 10진법 숫자 출력해보세요.\n",
    "\n",
    "- 입력 : 공백으로 구분된 숫자가 두 개 주어집니다. 첫 번째 숫자는 **num**을 나타내며, 두 번째 숫자는 **base**를 나타냅니다.\n",
    "- 출력 : **base** 진법으로 표기된 **num**을 10진법 숫자로 출력해보세요.\n",
    "- 제한 조건 : base는 10 이하인 자연수입니다.num은 3000 이하인 자연수입니다.\n",
    "- 입력 : 12 3 --> 출력 : 5\n",
    "- 입력 : 444 5 --> 출력 : 124\n"
   ]
  },
  {
   "cell_type": "code",
   "execution_count": 19,
   "metadata": {},
   "outputs": [
    {
     "name": "stdout",
     "output_type": "stream",
     "text": [
      "0\n",
      "5\n",
      "01\n",
      "2\n",
      "010\n",
      "1\n",
      "0101\n",
      "0\n",
      "[1, 0, 1, 0]\n"
     ]
    }
   ],
   "source": [
    "num = 10\n",
    "bin_num = ''\n",
    "\n",
    "\n",
    "while num != 0:\n",
    "    bin_num = bin_num+str(num%2)\n",
    "    num = num//2\n",
    "    print(bin_num)\n",
    "    print(num)\n",
    "    \n",
    "int(bin_num[::-1])\n",
    "\n",
    "m = 0\n",
    "bin_num = []\n",
    "num = 10\n",
    "\n",
    "while True:\n",
    "    num, n = divmod(num, 2)\n",
    "    # bin_num.append(n)\n",
    "    bin_num.insert(0, n)\n",
    "    \n",
    "    if num ==0:\n",
    "        break\n",
    "        \n",
    "print(bin_num)\n"
   ]
  },
  {
   "cell_type": "code",
   "execution_count": 15,
   "metadata": {},
   "outputs": [
    {
     "name": "stdout",
     "output_type": "stream",
     "text": [
      "(5, 0)\n",
      "(2, 1)\n",
      "(1, 0)\n",
      "(0, 1)\n"
     ]
    }
   ],
   "source": [
    "print(divmod(10,2))\n",
    "print(divmod(5,2))\n",
    "print(divmod(2,2))\n",
    "print(divmod(1,2))"
   ]
  },
  {
   "cell_type": "code",
   "execution_count": 22,
   "metadata": {},
   "outputs": [
    {
     "name": "stdout",
     "output_type": "stream",
     "text": [
      "0b1010\n",
      "0o12\n",
      "0xa\n"
     ]
    }
   ],
   "source": [
    "print(bin(10))\n",
    "print(oct(10))\n",
    "print(hex(10))"
   ]
  },
  {
   "cell_type": "code",
   "execution_count": 34,
   "metadata": {},
   "outputs": [
    {
     "name": "stdout",
     "output_type": "stream",
     "text": [
      "0 0\n",
      "1 1\n",
      "2 0\n",
      "3 1\n",
      "10\n",
      "10\n"
     ]
    }
   ],
   "source": [
    "#\n",
    "bin_num = 1010\n",
    "\n",
    "answer = 0\n",
    "\n",
    "for idx, number in enumerate(str(bin_num)[::-1]):\n",
    "    print(idx, number)\n",
    "    answer = answer + (int(number) * (2 ** idx))\n",
    "\n",
    "print(answer)\n",
    "print(int('1010', base =2))"
   ]
  },
  {
   "cell_type": "code",
   "execution_count": 54,
   "metadata": {},
   "outputs": [
    {
     "name": "stdout",
     "output_type": "stream",
     "text": [
      "300 5\n",
      "0 0\n",
      "0 0\n",
      "0 3\n",
      "75\n"
     ]
    }
   ],
   "source": [
    "num, base = input().split(' ')\n",
    "\n",
    "\n",
    "n = 0\n",
    "\n",
    "for idx, number in enumerate(num[::-1]):\n",
    "    print(i, number)\n",
    "    n += int(number) * (int(base) ** idx)\n",
    "    \n",
    "print(n)"
   ]
  },
  {
   "cell_type": "code",
   "execution_count": 52,
   "metadata": {},
   "outputs": [
    {
     "name": "stdout",
     "output_type": "stream",
     "text": [
      "4 2\n"
     ]
    },
    {
     "ename": "ValueError",
     "evalue": "invalid literal for int() with base 2: '4'",
     "output_type": "error",
     "traceback": [
      "\u001b[1;31m---------------------------------------------------------------------------\u001b[0m",
      "\u001b[1;31mValueError\u001b[0m                                Traceback (most recent call last)",
      "\u001b[1;32m<ipython-input-52-4fd9c1791e76>\u001b[0m in \u001b[0;36m<module>\u001b[1;34m\u001b[0m\n\u001b[0;32m      1\u001b[0m \u001b[0mnum\u001b[0m\u001b[1;33m,\u001b[0m \u001b[0mbase\u001b[0m \u001b[1;33m=\u001b[0m \u001b[0minput\u001b[0m\u001b[1;33m(\u001b[0m\u001b[1;33m)\u001b[0m\u001b[1;33m.\u001b[0m\u001b[0msplit\u001b[0m\u001b[1;33m(\u001b[0m\u001b[1;34m' '\u001b[0m\u001b[1;33m)\u001b[0m\u001b[1;33m\u001b[0m\u001b[1;33m\u001b[0m\u001b[0m\n\u001b[0;32m      2\u001b[0m \u001b[1;33m\u001b[0m\u001b[0m\n\u001b[1;32m----> 3\u001b[1;33m \u001b[0mprint\u001b[0m\u001b[1;33m(\u001b[0m\u001b[0mint\u001b[0m\u001b[1;33m(\u001b[0m\u001b[0mnum\u001b[0m\u001b[1;33m,\u001b[0m \u001b[0mint\u001b[0m\u001b[1;33m(\u001b[0m\u001b[0mbase\u001b[0m\u001b[1;33m)\u001b[0m\u001b[1;33m)\u001b[0m\u001b[1;33m)\u001b[0m\u001b[1;33m\u001b[0m\u001b[1;33m\u001b[0m\u001b[0m\n\u001b[0m",
      "\u001b[1;31mValueError\u001b[0m: invalid literal for int() with base 2: '4'"
     ]
    }
   ],
   "source": [
    "num, base = input().split(' ')\n",
    "\n",
    "print(int(num, int(base)))"
   ]
  }
 ],
 "metadata": {
  "kernelspec": {
   "display_name": "Python 3",
   "language": "python",
   "name": "python3"
  },
  "language_info": {
   "codemirror_mode": {
    "name": "ipython",
    "version": 3
   },
   "file_extension": ".py",
   "mimetype": "text/x-python",
   "name": "python",
   "nbconvert_exporter": "python",
   "pygments_lexer": "ipython3",
   "version": "3.8.8"
  },
  "toc": {
   "base_numbering": 1,
   "nav_menu": {},
   "number_sections": false,
   "sideBar": true,
   "skip_h1_title": false,
   "title_cell": "Table of Contents",
   "title_sidebar": "Contents",
   "toc_cell": false,
   "toc_position": {},
   "toc_section_display": true,
   "toc_window_display": false
  }
 },
 "nbformat": 4,
 "nbformat_minor": 4
}
