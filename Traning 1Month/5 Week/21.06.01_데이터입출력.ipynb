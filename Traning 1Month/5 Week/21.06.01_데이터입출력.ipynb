{
 "cells": [
  {
   "cell_type": "markdown",
   "metadata": {
    "id": "7KaEFFwmaz9f"
   },
   "source": [
    "# I/O (Input / Output) "
   ]
  },
  {
   "cell_type": "markdown",
   "metadata": {
    "id": "WyMfCdGSaz9n"
   },
   "source": [
    "- 프로그램 입장에서 들어오는 모든 데이터를 input, 나가는 모든 데이터를 output이라고 한다.\n",
    "> 메인 메모리 입장에서 생각하는 들어오고 나가는 모든 데이터에 대해서 I/O 처리라고 부릅니다. (단, CPU와의 소통은 제외)\n",
    "\n",
    "\n",
    "- 사용자로 부터 키보드로 입력받는 것을 stdin이라고 하며, 사용자에게 다시 모니터로 출력되는 것을 stdout이라고 한다.\n",
    "\n",
    "> 통상적으로는 Unix 환경(터미널 환경)에서 부르던 용어인데, 프로그래밍에 자주 등장하기 때문에 소개한다.\n",
    "\n",
    "\n",
    "- 프로그램은 메인 메모리 상에 존재하기 때문에, 스토리지로부터 파일을 불러오는 것도 input이고, 프로그램의 결과를 스토리지에 저장하는 것도 output이다. 이러한 작업을 file I/O로 통칭한다.\n",
    "> 스토리지와 프로그램 사이의 I/O를 file I/O라고 합니다.\n",
    "\n",
    "> cf. CPU(속도는 빠르나 저장소가 없음) ------------ Main Memory ------------ HDD[SDD](속도는 느리지만 저장소가 있음)\\\n",
    "　　　　　　　　　　　　　　　　(input)↑<코딩이 이루어지는 곳>↓(output)\n",
    "\n",
    "- 파이썬에서 stdin/out을 사용하는 방법과 file I/O를 사용하는 방법에 대해 간단하게 알아본다."
   ]
  },
  {
   "cell_type": "markdown",
   "metadata": {
    "id": "Ob-m8XQbaz9o"
   },
   "source": [
    "## 1. STDIN / STDOUT (Standard IN, Standard OUT)"
   ]
  },
  {
   "cell_type": "markdown",
   "metadata": {
    "id": "I9B1Br_0az9o"
   },
   "source": [
    "- 파이썬은 input()을 통해서 stdin을 사용자로부터 입력받을 수 있다.\n",
    "- 파이썬에서는 stdin은 무조건 문자열 타입으로 들어온다. 이를 type casting을 통해서 다른 데이터 타입으로 바꾸어 사용해야 한다.\n",
    "\n",
    "- 파이썬은 print()를 통해서 stdout을 사용자에게 출력할 수 있다."
   ]
  },
  {
   "cell_type": "markdown",
   "metadata": {
    "id": "tBbqGRPDvLzs"
   },
   "source": [
    "**Q. 만약에 stdin으로 여러 개의 숫자가 들어오는 경우, 입력의 format을 알고 있다고 가정했을 때, 이를 효과적으로 처리할 수 있을까?**"
   ]
  },
  {
   "cell_type": "code",
   "execution_count": 12,
   "metadata": {
    "id": "BRI76sFkvLzs"
   },
   "outputs": [
    {
     "name": "stdout",
     "output_type": "stream",
     "text": [
      "콤마를 기준으로 숫자 여러 개 입력해주세요: 3, 4, 8, 9, 1, 45\n",
      "<class 'list'>\n",
      "[1, 3, 4, 8, 9, 45]\n"
     ]
    }
   ],
   "source": [
    "list_a = []\n",
    "list_b = input('콤마를 기준으로 숫자 여러 개 입력해주세요: ').split(',')\n",
    "print(type(list_b))\n",
    "\n",
    "for i in list_b :\n",
    "    list_a.append(int(i)) # .append() 함수는 뒤에 새로 추가되는 함수 - cf. strip() 함수는 기존의 값을 버리고 새로 넣어주는 함수\n",
    "\n",
    "list_a.sort() # 오름차순으로 정렬\n",
    "print(list_a)\n",
    "\n",
    "#list_a = [] "
   ]
  },
  {
   "cell_type": "code",
   "execution_count": 10,
   "metadata": {},
   "outputs": [
    {
     "name": "stdout",
     "output_type": "stream",
     "text": [
      "콤마를 기준으로 숫자 여러 개 입력해주세요: 3, 4, 8, 9, 1, 45\n",
      "[1, 3, 4, 8, 9, 45]\n"
     ]
    }
   ],
   "source": [
    "# 위의 코딩을 줄여보기.\n",
    "\n",
    "list_a = []\n",
    "\n",
    "for i in input('콤마를 기준으로 숫자 여러 개 입력해주세요: ').split(',') :\n",
    "    list_a.append(int(i))\n",
    "\n",
    "list_a.sort() # 오름차순으로 정렬\n",
    "print(list_a)"
   ]
  },
  {
   "cell_type": "code",
   "execution_count": 9,
   "metadata": {},
   "outputs": [
    {
     "name": "stdout",
     "output_type": "stream",
     "text": [
      "콤마를 기준으로 숫자 여러 개 입력해주세요: 3, 4, 8, 9, 1, 45\n",
      "[1, 3, 4, 8, 9, 45]\n"
     ]
    }
   ],
   "source": [
    "# 리스트 내포로 다시 줄여보기.\n",
    "\n",
    "list_a = [int(i) for i in input('콤마를 기준으로 숫자 여러 개 입력해주세요: ').split(',')]\n",
    "# list_a.append(int(i)) 의 역할을 for문이 해주고 있음.\n",
    "# '='는 대입 연산자이므로, 오른쪽의 값이 list_a에 들어감.\n",
    "\n",
    "list_a.sort() # 오름차순으로 정렬\n",
    "print(list_a)\n"
   ]
  },
  {
   "cell_type": "markdown",
   "metadata": {
    "id": "DPYlwZhEaz9t"
   },
   "source": [
    "## 2. File I/O"
   ]
  },
  {
   "cell_type": "markdown",
   "metadata": {
    "id": "eVNcSf2iaz9t"
   },
   "source": [
    "- 파이썬에서는 내장함수 open()을 이용해서 파일을 손쉽게 열 수 있다.\n",
    "- open()을 통해 파일을 열고 난 뒤엔, close()를 통해서 닫아줘야 한다. ( close를 하지 않으면 jupyter가 계속해서 파일을 점유하고 있게 되어, 시스템 낭비가 일어난다. )\n",
    "- open() 함수는 다양한 옵션을 제공하지만 기본적으로는 txt파일을 여는 것을 기본으로 가정한다.\\\n",
    ": 메모장에서 열 수 있는 모든 파일이 txt파일(text파일), 그림 파일은 메모장에서 열 수 없는 2진 파일\n",
    "- 다른 타입의 파일을 열기 위해선 다른 라이브러리들이 필요하다. (csv, excel → pandas / png, jpg → PIL, opencv...)\\\n",
    ": 우리는 .csv 타입의 파일을 많이 쓰게 될 것임.\\\n",
    ": 콤마(,)를 통해 구분하면 csv 타입 파일을 → excel 파일로, excel 파일을 → csv 파일로 가져올 수 있음."
   ]
  },
  {
   "cell_type": "markdown",
   "metadata": {
    "id": "BGNX1KElaz9t"
   },
   "source": [
    "> 텍스트 파일을 여는 방법에는 read(), readline(), readlines(), for문을 이용한 방법이 있다. 코드를 통해 각 방법의 차이를 알아보자.\\\n",
    "> - 되도록이면, 파일명은 '영문으로 작성'한다."
   ]
  },
  {
   "cell_type": "markdown",
   "metadata": {
    "id": "MroLmHvjvLzu"
   },
   "source": [
    "\n",
    "- **open('파일경로', '모드')**\n",
    "- 모드 : w(wirte, 덮어쓰기 모드),a(append, 이어붙이기 모드),r(read, 읽기 모드)\n",
    "- **파일객체.close()**"
   ]
  },
  {
   "cell_type": "code",
   "execution_count": 16,
   "metadata": {
    "id": "ZPI2ZWf-vLzu"
   },
   "outputs": [],
   "source": [
    "file = open('data/basic.txt', 'w') # 기존 data 폴더에 해당 파일이 없으면, 이 파일이 data 폴더에 생성됨.\n",
    "# 상대경로[상대주소]: data 폴더/파일 이름 → 다른 사람 컴퓨터에서도 실행 가능. 그래서 '상대경로'로 작성하는 게 좋다.\n",
    "# 절대경로[절대주소]: c:/폴더 이름/…/파일 이름 → 처음부터 주소 경로를 적음. 본인 컴퓨터에서만 돌아감.\n",
    "\n",
    "file.write('Hello Python Programming\\n') # print() 함수는 기본값(default)로 end=\\n 이 들어가 있는데, 여기는 반드시 '\\n'을 써야 한다.\n",
    "file.write('Life is Short!!\\nYou need Python!!!\\n') # 스트링(string, 문자열)로 출력됨.\n",
    "\n",
    "file.close()"
   ]
  },
  {
   "cell_type": "code",
   "execution_count": 19,
   "metadata": {
    "id": "plFtn-3WvLzu"
   },
   "outputs": [],
   "source": [
    "# a(append) 는 실행한 만큼 뒤에 계속 글이 추가된다.\n",
    "\n",
    "file = open('data/basic.txt','a')\n",
    "\n",
    "file.write(\"I'm still hungry!\\n\")\n",
    "\n",
    "file.close()"
   ]
  },
  {
   "cell_type": "code",
   "execution_count": 21,
   "metadata": {},
   "outputs": [],
   "source": [
    "# 절대경로 (항상 슬래시 '/'로 구분해준다. ~ 마지막에 확장자(.txt) 꼭 쓰기!)\n",
    "\n",
    "file = open('C:/Users/ICT_03/Documents/NohPython/data/basic.txt', 'a')\n",
    "\n",
    "file.write('Are you?\\n') # 뒤에 반드시 '\\n'을 쓰도록 주의!\n",
    "\n",
    "file.close()"
   ]
  },
  {
   "cell_type": "markdown",
   "metadata": {
    "id": "SxJCTKwzvLzu"
   },
   "source": [
    "- **with open('파일경로', '모드') as 별명 :**\\\n",
    ": 이렇게 'with' 를 적으면 '파일객체.close()' 하지 않아도 됨."
   ]
  },
  {
   "cell_type": "code",
   "execution_count": 22,
   "metadata": {
    "id": "dIxrwT50vLzv"
   },
   "outputs": [],
   "source": [
    "with open('data/basic2.txt', 'w') as file :\n",
    "    file.write('Life is short!') # 삽입하는 글 마지막에는 반드시 '\\n'을 붙여야 다음 줄에 출력되어 나온다!"
   ]
  },
  {
   "cell_type": "code",
   "execution_count": 25,
   "metadata": {},
   "outputs": [],
   "source": [
    "with open('data/basic.txt', 'a') as file :\n",
    "    file.write('Life is short!\\n')"
   ]
  },
  {
   "cell_type": "markdown",
   "metadata": {
    "id": "x88MT1lWvLzv"
   },
   "source": [
    "텍스트 읽기 **read(), readline(), readlines(), 반복문...**\n",
    "- read(): 파일에 있는 모든 글자를 가져와서 하나의 **String**으로 저장한다.\n",
    "- readline(): 파일에 있는 **첫번째 줄만** 가져온다.\n",
    "- readlines() 함수는 txt 파일에 있는 모든 텍스트를 한줄 단위로 끊어서 **리스트**에 저장"
   ]
  },
  {
   "cell_type": "code",
   "execution_count": 1,
   "metadata": {
    "id": "aGRARgXPvLzv"
   },
   "outputs": [
    {
     "name": "stdout",
     "output_type": "stream",
     "text": [
      "Hello Python Programming\n",
      "Life is Short!!\n",
      "You need Python!!!\n",
      "I'm still hungry!\n",
      "I'm still hungry!\n",
      "I'm still hungry!\n",
      "Are you?Life is short!Life is short!\n",
      "Life is short!\n",
      " <class 'str'>\n"
     ]
    }
   ],
   "source": [
    "# 파일을 읽어야 하므로, 'r'이 온다.\n",
    "\n",
    "with open('data/basic.txt', 'r') as file : \n",
    "    contents = file.read()\n",
    "    \n",
    "print(contents, type(contents))"
   ]
  },
  {
   "cell_type": "code",
   "execution_count": 2,
   "metadata": {},
   "outputs": [
    {
     "name": "stdout",
     "output_type": "stream",
     "text": [
      "Hello Python Programming\n",
      " <class 'str'>\n"
     ]
    }
   ],
   "source": [
    "with open('data/basic.txt', 'r') as file : \n",
    "    contents = file.readline()\n",
    "    \n",
    "print(contents, type(contents))"
   ]
  },
  {
   "cell_type": "code",
   "execution_count": 3,
   "metadata": {
    "scrolled": true
   },
   "outputs": [
    {
     "name": "stdout",
     "output_type": "stream",
     "text": [
      "['Hello Python Programming\\n', 'Life is Short!!\\n', 'You need Python!!!\\n', \"I'm still hungry!\\n\", \"I'm still hungry!\\n\", \"I'm still hungry!\\n\", 'Are you?Life is short!Life is short!\\n', 'Life is short!\\n'] <class 'list'>\n"
     ]
    }
   ],
   "source": [
    "with open('data/basic.txt', 'r') as file : \n",
    "    contents = file.readlines()\n",
    "    \n",
    "print(contents, type(contents)) # '\\n'까지 반환된다."
   ]
  },
  {
   "cell_type": "code",
   "execution_count": 8,
   "metadata": {},
   "outputs": [
    {
     "name": "stdout",
     "output_type": "stream",
     "text": [
      "Hello Python Programming\n",
      "\n",
      "Life is Short!!\n",
      "\n",
      "You need Python!!!\n",
      "\n",
      "I'm still hungry!\n",
      "\n",
      "I'm still hungry!\n",
      "\n",
      "I'm still hungry!\n",
      "\n",
      "Are you?Life is short!Life is short!\n",
      "\n",
      "Life is short!\n",
      "\n"
     ]
    }
   ],
   "source": [
    "with open('data/basic.txt', 'r') as file : \n",
    "#    contents = file.readlines()\n",
    "\n",
    "    for line in file :\n",
    "        print(line)"
   ]
  },
  {
   "cell_type": "markdown",
   "metadata": {
    "id": "yDyDP0HCvLzv"
   },
   "source": [
    "**연습문제1) 신체정보 파일(info.txt)를 열어서 BMI를 계산하여 info2.txt 생성하기**"
   ]
  },
  {
   "cell_type": "code",
   "execution_count": 41,
   "metadata": {
    "id": "T2-v2CA6vLzv"
   },
   "outputs": [],
   "source": [
    "# 데이터 생성\n",
    "\n",
    "import random\n",
    "\n",
    "hangeuls = '가나다라마바사아자차카타파하' # 영어(아스키 코드), 한글(유니코드, 메모장 아래에 보이는 UTF-8)\n",
    "\n",
    "with open('data/info.txt', 'w', encoding = 'UTF-8') as file :\n",
    "    for i in range(100) :\n",
    "        name = random.choice(hangeuls) + random.choice(hangeuls) + random.choice(hangeuls)\n",
    "        # name = random.choices(hangeuls = 3) : sample 과 비슷한 효과가 나오나, 겹치는 값이 나옴.\n",
    "        # name = random.sample(hangeuls = 3) : hangeuls에서 겹치지 않는 3개 출력\n",
    "        weight = random.randrange(40, 100)\n",
    "        height = random.randrange(140, 200)\n",
    "        \n",
    "        #file.write('{}.{}.{}.{}\\n'.format(i, name, weight, height)) # i를 넣으면, 인덱스 번호가 들어가게 됨\n",
    "        file.write('{},{},{},{}\\n'.format(str(i).zfill(3), name, weight, height))\n",
    "                                             # .zfill() 함수는 세 자릿수 확보하고, 숫자로 채워지지 않고 남은 자릿수는 0으로 채워넣음."
   ]
  },
  {
   "cell_type": "code",
   "execution_count": 42,
   "metadata": {
    "id": "Bb4VIGoyvLzw"
   },
   "outputs": [],
   "source": [
    "# 데이터 업데이트\n",
    "                           # 'a(append)' 로 바꿔줌.\n",
    "with open('data/info.txt', 'a', encoding = 'UTF-8') as file :\n",
    "    for i in range(100) :\n",
    "        name = random.choice(hangeuls) + random.choice(hangeuls) + random.choice(hangeuls)\n",
    "        # name = random.choices(hangeuls = 3) : sample 과 비슷한 효과가 나오나, 겹치는 값이 나옴.\n",
    "        # name = random.sample(hangeuls = 3) : hangeuls에서 겹치지 않는 3개 출력\n",
    "        \n",
    "        weight = random.randrange(40, 100)\n",
    "        height = random.randrange(140, 200)\n",
    "        \n",
    "        #file.write('{}.{}.{}.{}\\n'.format(i, name, weight, height)) # i를 넣으면, 인덱스 번호가 들어가게 됨    \n",
    "                    # 따옴표 안의 쉼표(,)는 의미 없는 쉼표(,)\n",
    "        file.write('{},{},{},{}\\n'.format(str(100+i).zfill(3), name, weight, height))\n",
    "                                          # 데이터 생성과 번호가 같으면 보기 어려우므로, 100+i로 만들기\n",
    "                                         # append로 추가되므로, 이 코딩을 실행할 때마다 str(200+i) → str(300+i) … 으로 바꿔줘야 한다."
   ]
  },
  {
   "cell_type": "code",
   "execution_count": 2,
   "metadata": {
    "id": "KcX00UqMvLzw"
   },
   "outputs": [
    {
     "name": "stdout",
     "output_type": "stream",
     "text": [
      "[['000', '마타파', '76', '181', '23.198315069747565', '정상체중\\n'], ['001', '카나타', '50', '175', '16.3265306122449', '저체중\\n'], ['002', '가카사', '77', '199', '19.443953435519305', '정상체중\\n'], ['003', '가차아', '40', '190', '11.0803324099723', '저체중\\n'], ['004', '자파타', '78', '152', '33.76038781163435', '과체중\\n'], ['005', '마카다', '73', '159', '28.875440053795337', '과체중\\n'], ['006', '파바아', '63', '185', '18.407596785975162', '저체중\\n'], ['007', '라나파', '50', '173', '16.70620468441979', '저체중\\n'], ['008', '아바하', '54', '167', '19.362472659471475', '정상체중\\n'], ['009', '사다차', '57', '162', '21.719250114311837', '정상체중\\n'], ['010', '카다자', '95', '168', '33.6592970521542', '과체중\\n'], ['011', '자다마', '49', '153', '20.932120124738347', '정상체중\\n'], ['012', '다가자', '67', '177', '21.38593635289987', '정상체중\\n'], ['013', '타카라', '45', '172', '15.210924824229314', '저체중\\n'], ['014', '아라아', '68', '164', '25.282569898869724', '과체중\\n'], ['015', '마파가', '48', '157', '19.473406629072173', '정상체중\\n'], ['016', '파가다', '85', '177', '27.13141179099237', '과체중\\n'], ['017', '카하바', '66', '192', '17.903645833333332', '저체중\\n'], ['018', '사다나', '86', '149', '38.7369938291068', '과체중\\n'], ['019', '아타사', '68', '169', '23.80869017191275', '정상체중\\n'], ['020', '파다마', '68', '168', '24.092970521541954', '정상체중\\n'], ['021', '파아차', '70', '153', '29.903028749626213', '과체중\\n'], ['022', '파타나', '94', '158', '37.6542220797949', '과체중\\n'], ['023', '라나파', '87', '178', '27.458654210326976', '과체중\\n'], ['024', '나다하', '89', '190', '24.653739612188367', '정상체중\\n'], ['025', '자차마', '95', '144', '45.814043209876544', '과체중\\n'], ['026', '카자마', '69', '145', '32.81807372175981', '과체중\\n'], ['027', '하하자', '73', '181', '22.282592106468055', '정상체중\\n'], ['028', '카가아', '60', '151', '26.314635323012148', '과체중\\n'], ['029', '라바차', '53', '195', '13.93819855358317', '저체중\\n'], ['030', '카아카', '75', '148', '34.240321402483566', '과체중\\n'], ['031', '다차타', '74', '149', '33.331831899463985', '과체중\\n'], ['032', '카사타', '59', '198', '15.049484746454445', '저체중\\n'], ['033', '마파아', '89', '178', '28.089887640449437', '과체중\\n'], ['034', '카아라', '64', '194', '17.004995217345098', '저체중\\n'], ['035', '나마라', '76', '165', '27.915518824609737', '과체중\\n'], ['036', '가타하', '55', '171', '18.80920625149619', '정상체중\\n'], ['037', '나가아', '82', '160', '32.03124999999999', '과체중\\n'], ['038', '사라라', '45', '196', '11.713869221157852', '저체중\\n'], ['039', '하바자', '45', '151', '19.735976492259113', '정상체중\\n'], ['040', '자타하', '67', '181', '20.45114617990904', '정상체중\\n'], ['041', '라라파', '46', '154', '19.396188227357058', '정상체중\\n'], ['042', '가타라', '71', '144', '34.23996913580247', '과체중\\n'], ['043', '파가라', '43', '172', '14.534883720930234', '저체중\\n'], ['044', '타아아', '63', '159', '24.919900320398717', '정상체중\\n'], ['045', '마타차', '97', '194', '25.77319587628866', '과체중\\n'], ['046', '아가카', '80', '163', '30.11027889645828', '과체중\\n'], ['047', '바다타', '75', '159', '29.666548000474663', '과체중\\n'], ['048', '차사카', '89', '173', '29.737044338267232', '과체중\\n'], ['049', '나마하', '77', '183', '22.99262444384723', '정상체중\\n'], ['050', '아다타', '64', '183', '19.1107527844964', '정상체중\\n'], ['051', '다파아', '84', '199', '21.21158556602106', '정상체중\\n'], ['052', '타차라', '91', '158', '36.45249158788655', '과체중\\n'], ['053', '사아바', '61', '166', '22.136739730004358', '정상체중\\n'], ['054', '하마자', '83', '174', '27.414453692693883', '과체중\\n'], ['055', '타라하', '51', '144', '24.59490740740741', '정상체중\\n'], ['056', '마마아', '48', '183', '14.333064588372299', '저체중\\n'], ['057', '가하바', '74', '167', '26.533758829646096', '과체중\\n'], ['058', '나타다', '72', '185', '21.0372534696859', '정상체중\\n'], ['059', '마자타', '67', '190', '18.559556786703602', '정상체중\\n'], ['060', '가카차', '43', '147', '19.899116109028647', '정상체중\\n'], ['061', '라차바', '53', '160', '20.703124999999996', '정상체중\\n'], ['062', '아자사', '43', '154', '18.13121942992073', '저체중\\n'], ['063', '차파라', '54', '149', '24.32322868339264', '정상체중\\n'], ['064', '타바아', '50', '151', '21.928862769176792', '정상체중\\n'], ['065', '다가타', '62', '141', '31.18555404657714', '과체중\\n'], ['066', '차사마', '43', '170', '14.878892733564015', '저체중\\n'], ['067', '카타사', '59', '171', '20.177148524332274', '정상체중\\n'], ['068', '아카타', '65', '160', '25.390624999999996', '과체중\\n'], ['069', '차나타', '55', '163', '20.70081674131507', '정상체중\\n'], ['070', '사사차', '59', '148', '26.93571950328707', '과체중\\n'], ['071', '라다다', '40', '144', '19.290123456790123', '정상체중\\n'], ['072', '마카다', '70', '179', '21.847008520333322', '정상체중\\n'], ['073', '다카가', '96', '194', '25.507492826017643', '과체중\\n'], ['074', '바카파', '55', '168', '19.48696145124717', '정상체중\\n'], ['075', '차파타', '54', '152', '23.372576177285318', '정상체중\\n'], ['076', '다타카', '40', '161', '15.43150341422013', '저체중\\n'], ['077', '나사라', '94', '146', '44.0983298930381', '과체중\\n'], ['078', '타차사', '79', '181', '24.114038033027075', '정상체중\\n'], ['079', '파하아', '93', '197', '23.963513617975213', '정상체중\\n'], ['080', '마차사', '69', '190', '19.113573407202217', '정상체중\\n'], ['081', '타나바', '44', '184', '12.996219281663516', '저체중\\n'], ['082', '아하마', '79', '198', '20.15100499948985', '정상체중\\n'], ['083', '아아사', '59', '175', '19.26530612244898', '정상체중\\n'], ['084', '마라자', '74', '151', '32.45471689838165', '과체중\\n'], ['085', '마나다', '68', '147', '31.468369660789488', '과체중\\n'], ['086', '아자아', '89', '171', '30.436715570602924', '과체중\\n'], ['087', '사라카', '79', '184', '23.334120982986768', '정상체중\\n'], ['088', '타차라', '44', '157', '17.85062274331616', '저체중\\n'], ['089', '차라나', '71', '174', '23.450918219051392', '정상체중\\n'], ['090', '아파나', '46', '199', '11.61586828615439', '저체중\\n'], ['091', '사카카', '82', '170', '28.373702422145332', '과체중\\n'], ['092', '자사파', '44', '156', '18.080210387902692', '저체중\\n'], ['093', '차마라', '85', '155', '35.37981269510926', '과체중\\n'], ['094', '카타타', '66', '148', '30.131482834185537', '과체중\\n'], ['095', '가차다', '63', '185', '18.407596785975162', '저체중\\n'], ['096', '타나자', '69', '179', '21.534908398614277', '정상체중\\n'], ['097', '카가나', '57', '151', '24.998903556861542', '정상체중\\n'], ['098', '차라차', '51', '184', '15.063799621928165', '저체중\\n'], ['099', '마아라', '88', '179', '27.46481071127618', '과체중\\n']]\n"
     ]
    }
   ],
   "source": [
    "# 파일 읽어오기\n",
    "# BMI지수= 몸무게(kg) ÷ (신장(m) × 신장(m))\n",
    "\n",
    "with open('data/info.txt', 'r', encoding = 'UTF-8') as file :\n",
    "    new_vals = [] # 새로운 데이터를 저장할 리스트를 만듦. (1번 ~200번까지의 데이터가 들어가므로, 변수명-s가 됨.)\n",
    "    lines = file.readlines() # 200개의 문자열 요소로 구성된 리스트가 line에 반환됨. line 단위로 값을 가져옴.\n",
    "    for val in lines : # lines에 있는 요소 하나 하나를 val에 넣어줌. # 데이터 앞에 인덱스 값을 넣었으므로, ineumalate() 함수를 쓰지 않음.\n",
    "        new_val = val.split(',') # 위에서 {}, {}, {} 이렇게 구분한 경우, ', '(쉼표, 스페이스바)로 나눠야 한다. 리스트로 만들어짐.\n",
    "        #print(new_val) # new_val은 200개의 요소 중에서 한 줄만 가져온 것.\n",
    "        new_val[3] = new_val[3][:3] # 맨 끝에 '\\n(new line)'도 출력되므로, bmi 계산을 위해 \\n을 없애주는 작업을 할 것임.\n",
    "        #print(new_val)\n",
    "        \n",
    "        # BMI지수 계산\n",
    "        #bmi = new_val[2] / (new_val[3] **2) # ** 이렇게 두 번 하면, 제곱의 의미. 즉, '키의 제곱' \n",
    "        bmi = int(new_val[2]) / ((int(new_val[3])/100) **2) # 이제 정수로 캐스팅을 해야 한다. 키의 단위가 meter이므로, 100으로 나눠야 한다.\n",
    "        new_val.append(str(bmi)) # 다시 string(문자열) 로 변환해서 넣어줘야 한다.\n",
    "        #print(new_val) \n",
    "        \n",
    "        # 입력된 bmi 지수를 통해서 '과체중, 저체중, 정상체중' 으로 구분하는 코딩을 세움.\n",
    "        if 25 <= float(new_val[4]) : new_val.append('과체중\\n') # bmi 지수가 소수점이므로, 다시 실수(float)로 변환해줘야 함.\n",
    "        elif 18.5 <= float(new_val[4]) : new_val.append('정상체중\\n')\n",
    "        else : new_val.append('저체중\\n') # 항상 데이터의 끝에는 '\\n'을 붙여야 결과값이 다음 줄(다음 행)로 출력이 된다. \n",
    "        #print(new_val) # 이것은 한 명의 데이터이므로, 완성된 한 명의 데이터를 append를 써서 new_vals 안에 넣어줘야 한다.\n",
    "        \n",
    "        new_vals.append(new_val)\n",
    "        #print(new_val) # for문 안에서 돌고 있는 print\n",
    "    print(new_vals) # for문이 다 돌고 난 후, 전체 값을 보여주는 print\n",
    "        \n",
    "        \n",
    "        \n",
    "# info2.txt에 새로운 파일 생성 : 원데이터는 살림.\n",
    "                    # 쓰기모드(w)로 가져옴.\n",
    "with open('data/info2.txt', 'w', encoding = 'UTF-8') as file2 :\n",
    "    for val in new_vals : # 한 줄씩 val에 들어가서 여러 줄이 출력되므로,\n",
    "        file2.write(','.join(val)) # 콤마로 구분되는 각각의 리스트를 문자열로 출력하기 위해 join 함수 사용\n"
   ]
  },
  {
   "cell_type": "markdown",
   "metadata": {
    "id": "3n1sf5DsvLzw"
   },
   "source": [
    "**연습문제2) 파일 암호와 및 암호해독**\n",
    "- 일반파일을 열어서 암호화 시키기\n",
    "- 암호화 된 파일을 열어서 해독하기"
   ]
  },
  {
   "cell_type": "code",
   "execution_count": null,
   "metadata": {
    "id": "h15Z61lCvLzw",
    "outputId": "cb8b0c8f-19f9-4aa9-facb-7ec80e8bf36b"
   },
   "outputs": [
    {
     "name": "stdout",
     "output_type": "stream",
     "text": [
      " 1. 암호화  2. 암호 해석 중 선택 : 2\n",
      "입력 파일명을 입력하세요 : security.txt\n",
      "출력 파일명을 입력하세요 : normal.txt\n",
      " data/security.txt --> data/normal.txt 변환 완료\n"
     ]
    }
   ],
   "source": [
    "## 메인 코드 부분 ##\n",
    "secuYN = input(\" 1. 암호화  2. 암호 해석 중 선택 : \")\n",
    "inFname = 'data/'+input(\"입력 파일명을 입력하세요 : \") # 파일 경로를 만들어 놓은 것임.\n",
    "outFname = 'data/'+input(\"출력 파일명을 입력하세요 : \")\n",
    "\n",
    "if secuYN == \"1\" : # 1번이면, 암호화\n",
    "    secu = 100\n",
    "elif secuYN == \"2\" : # 2번이면, 복호화\n",
    "    secu = -100\n",
    "\n",
    "\n"
   ]
  },
  {
   "cell_type": "code",
   "execution_count": 6,
   "metadata": {},
   "outputs": [
    {
     "name": "stdout",
     "output_type": "stream",
     "text": [
      " 1. 암호화  2. 암호 해석 중 선택 : 1\n",
      "입력 파일명을 입력하세요 : a\n",
      "출력 파일명을 입력하세요 : b\n",
      "data/a.txt → data/b.txt 변환 완료\n"
     ]
    }
   ],
   "source": [
    "## 메인 코드 부분 ##\n",
    "secuYN = input(\" 1. 암호화  2. 암호 해석 중 선택 : \")\n",
    "inFname = 'data/'+input(\"입력 파일명을 입력하세요 : \")+'.txt'\n",
    "outFname = 'data/'+input(\"출력 파일명을 입력하세요 : \")+'.txt'\n",
    "\n",
    "if secuYN == \"1\" :\n",
    "    secu = 100\n",
    "elif secuYN == \"2\" :\n",
    "    secu = -100\n",
    "    \n",
    "    \n",
    "inFp = open(inFname, 'r', encoding = 'UTF-8')\n",
    "outFp = open(outFname, 'w', encoding = 'UTF-8')\n",
    "\n",
    "while True :\n",
    "    inStr = inFp.readline() # 한 줄만 읽어와서, inStr에 넣음.\n",
    "    \n",
    "    if not inStr: # inStr에 값이 있느냐(True), 없느냐(False) → 값이 없으면, break\n",
    "        break \n",
    "        \n",
    "    outStr = ''\n",
    "    \n",
    "    for i in range(len(inStr)) : # 글자 개수만큼 for문이 돌아감. 예: '안녕하세요' → 5번 돌게 됨.\n",
    "        ch = inStr[i] # 예: '안' 하나만 ch변수에 들어감.\n",
    "        chNum = ord(ch) # ch를 고유한 유니코드 값으로 바꿔줌. (∵모든 글자들은 고유한 번호를 가지고 있기 때문에)\n",
    "        chNum = chNum + secu # secu 변수가 암호화를 하느냐(100), 복호화를 하느냐(-100)에 따라 값이 달라짐.\n",
    "                             # 예: '안'의 유니코드 값이 '97'이고, 암호화(100) 한다면 197이 되어 유니코드 197에 해당하는 글자가 출력됨\n",
    "        ch2 = chr(chNum) # 197에 해당하는 유니코드를 다시 '안'과 같은 글자로 출력해주는 함수 chr(), 예: 안 → 뿅\n",
    "        outStr = outStr + ch2 # '안녕하세요' 각각에 해당하는 암효화된 글자를 옆으로 이어서 출력하기 위해 outStr + ch2 로 적은 것임.\n",
    "                            # 즉, '안녕하세요' → 뿅+빵+킥…\n",
    "                            # outStr = ch2 로 적으면, '뿅 \\n 빵 \\n 킥'으로 각각의 글씨가 새로운 줄에 출력됨.\n",
    "                \n",
    "    outFp.write(outStr)\n",
    "                  \n",
    "        \n",
    "\n",
    "inFp.close() # open을 사용하여 파일을 열어줬으므로, close로 닫아줘야 한다.\n",
    "outFp.close()\n",
    "\n",
    "print('%s → %s 변환 완료'%(inFname, outFname))"
   ]
  },
  {
   "cell_type": "code",
   "execution_count": null,
   "metadata": {
    "id": "uCauugV7vLzx",
    "outputId": "b8863de3-414d-40df-a908-4555294314a8"
   },
   "outputs": [
    {
     "name": "stdout",
     "output_type": "stream",
     "text": [
      "50504\n"
     ]
    }
   ],
   "source": []
  },
  {
   "cell_type": "markdown",
   "metadata": {
    "id": "lUDE_pQ-vLzx"
   },
   "source": [
    "**연습문제3) 당신의 회사에서는 매주 1회 작성해야 하는 보고서가 있습니다.**\n",
    "**보고서는 항상 아래와 같은 형식으로 출력되어야 합니다.**\n",
    "\n",
    "-X 주차 주간보고-\n",
    "\n",
    "부서 :\n",
    "\n",
    "이름 :\n",
    "\n",
    "업무요약\n",
    "\n",
    "**1주차부터 10주차까지의** 보고서 파일을 만든는 프로그램을 작성하시오.\n",
    "\n",
    "- 조건 : 파일명은 '1주차.txt', '2주차.txt', ....와 같이 만듭니다"
   ]
  },
  {
   "cell_type": "code",
   "execution_count": 16,
   "metadata": {
    "id": "YkVwvCOvvLzx"
   },
   "outputs": [],
   "source": [
    "import random\n",
    "\n",
    "korean = '가다나다라마바사아자차카타파하'\n",
    "count = 1\n",
    "\n",
    "while count <=10:\n",
    "    \n",
    "    with open('{}주차.txt'.format(count), 'w', encoding = 'UTF-8') as file:\n",
    "        department = random.choice(korean)+random.choice(korean)+' 부'\n",
    "        name = random.choice(korean)+random.choice(korean) + random.choice(korean)\n",
    "        file.write('부서 : {}\\n이름 : {}\\n업무요약'.format(department, name))\n",
    "            \n",
    "    \n",
    "    count += 1\n",
    "\n",
    "\n",
    "    \n",
    "    "
   ]
  },
  {
   "cell_type": "code",
   "execution_count": 12,
   "metadata": {
    "id": "1to7vD1CvLzx"
   },
   "outputs": [],
   "source": [
    "for i in range(1, 11):\n",
    "    with open('data/{}주차.txt'.format(i), 'w', encoding = 'UTF-8') as report:\n",
    "        report.write('-{}주차 주간보고-'.format(i))\n",
    "        report.write('\\n부서 : ')\n",
    "        report.write('\\n이름 : ')\n",
    "        report.write('\\n업무요약')\n",
    "        \n",
    "    "
   ]
  }
 ],
 "metadata": {
  "colab": {
   "name": "014. 데이터입출력_before.ipynb",
   "provenance": []
  },
  "kernelspec": {
   "display_name": "Python 3",
   "language": "python",
   "name": "python3"
  },
  "toc": {
   "base_numbering": 1,
   "nav_menu": {},
   "number_sections": false,
   "sideBar": true,
   "skip_h1_title": false,
   "title_cell": "Table of Contents",
   "title_sidebar": "Contents",
   "toc_cell": false,
   "toc_position": {
    "height": "calc(100% - 180px)",
    "left": "10px",
    "top": "150px",
    "width": "309.091px"
   },
   "toc_section_display": true,
   "toc_window_display": true
  }
 },
 "nbformat": 4,
 "nbformat_minor": 1
}
