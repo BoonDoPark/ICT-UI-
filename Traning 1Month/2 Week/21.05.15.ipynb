{
 "cells": [
  {
   "cell_type": "code",
   "execution_count": 28,
   "metadata": {},
   "outputs": [
    {
     "name": "stdout",
     "output_type": "stream",
     "text": [
      "11\n",
      "INFORMATION\n",
      "True\n",
      "polytec\n",
      "True\n",
      "Aaa Bbb Ccc Bbb Ddd Aaa Bbb Eee\n",
      "Aaa bbb ccc bbb ddd aaa bbb eee\n",
      "3\n",
      "8\n",
      "16\n",
      "True\n",
      "True\n",
      "['aaa', 'bbb', 'ccc', 'bbb', 'ddd', 'aaa', 'bbb', 'eee']\n",
      "['a', 'b', 'c', 'd']\n",
      "Welcome Python\n",
      "           Welcome Python\n",
      "Welcome Python      \n",
      "True\n"
     ]
    }
   ],
   "source": [
    "str1 = 'information'\n",
    "\n",
    "print(len(str1))\n",
    "print(str1.upper())\n",
    "print(str1.islower())\n",
    "\n",
    "str2 = 'POLYTEC'\n",
    "print(str2.lower())\n",
    "print(str2.isupper())\n",
    "\n",
    "str3 = 'aaa bbb ccc bbb ddd aaa bbb eee'\n",
    "print(str3.title())\n",
    "print(str3.capitalize())\n",
    "print(str3.count('bbb'))\n",
    "print(str3.find('ccc'))\n",
    "print(str3.rfind('ddd'))\n",
    "print(str3.startswith('aaa'))\n",
    "print(str3.endswith('eee'))\n",
    "print(str3.split())\n",
    "\n",
    "str4 = 'a : b : c : d'\n",
    "print(str4.split(' : '))\n",
    "\n",
    "str5 = '           Welcome Python      '\n",
    "print(str5.strip())\n",
    "print(str5.rstrip())\n",
    "print(str5.lstrip())\n",
    "\n",
    "\n",
    "str6 = '123'\n",
    "print(str6.isdigit())"
   ]
  },
  {
   "cell_type": "code",
   "execution_count": 29,
   "metadata": {},
   "outputs": [
    {
     "ename": "NameError",
     "evalue": "name 'prt' is not defined",
     "output_type": "error",
     "traceback": [
      "\u001b[1;31m---------------------------------------------------------------------------\u001b[0m",
      "\u001b[1;31mNameError\u001b[0m                                 Traceback (most recent call last)",
      "\u001b[1;32m<ipython-input-29-5ed6b3de5c02>\u001b[0m in \u001b[0;36m<module>\u001b[1;34m\u001b[0m\n\u001b[0;32m      1\u001b[0m \u001b[1;31m# 문제 1.\u001b[0m\u001b[1;33m\u001b[0m\u001b[1;33m\u001b[0m\u001b[1;33m\u001b[0m\u001b[0m\n\u001b[1;32m----> 2\u001b[1;33m \u001b[0mprt\u001b[0m\u001b[1;33m(\u001b[0m\u001b[1;33m)\u001b[0m\u001b[1;33m\u001b[0m\u001b[1;33m\u001b[0m\u001b[0m\n\u001b[0m\u001b[0;32m      3\u001b[0m \u001b[1;33m\u001b[0m\u001b[0m\n\u001b[0;32m      4\u001b[0m \u001b[1;32mdef\u001b[0m \u001b[0mprt\u001b[0m\u001b[1;33m(\u001b[0m\u001b[1;33m)\u001b[0m\u001b[1;33m:\u001b[0m\u001b[1;33m\u001b[0m\u001b[1;33m\u001b[0m\u001b[0m\n\u001b[0;32m      5\u001b[0m     \u001b[0mprint\u001b[0m\u001b[1;33m(\u001b[0m\u001b[1;34m'Hello World'\u001b[0m\u001b[1;33m)\u001b[0m\u001b[1;33m\u001b[0m\u001b[1;33m\u001b[0m\u001b[0m\n",
      "\u001b[1;31mNameError\u001b[0m: name 'prt' is not defined"
     ]
    }
   ],
   "source": [
    "# 문제 1.\n",
    "prt()\n",
    "\n",
    "def prt():\n",
    "    print('Hello World')\n",
    "\n",
    "print('Welcome')"
   ]
  },
  {
   "cell_type": "code",
   "execution_count": 128,
   "metadata": {},
   "outputs": [
    {
     "name": "stdout",
     "output_type": "stream",
     "text": [
      "4\n",
      "None\n"
     ]
    }
   ],
   "source": [
    "# 문제 2.\n",
    "def n_plus(n):\n",
    "    result = n + 1\n",
    "    print(result)\n",
    "    \n",
    "print(n_plus(3))"
   ]
  },
  {
   "cell_type": "code",
   "execution_count": 121,
   "metadata": {},
   "outputs": [
    {
     "data": {
      "text/plain": [
       "4"
      ]
     },
     "execution_count": 121,
     "metadata": {},
     "output_type": "execute_result"
    }
   ],
   "source": [
    "# 문제 2.\n",
    "def n_plus(n):\n",
    "    result = n + 1\n",
    "    return result\n",
    "\n",
    "print(n_plus(3))"
   ]
  },
  {
   "cell_type": "code",
   "execution_count": 126,
   "metadata": {},
   "outputs": [
    {
     "name": "stdout",
     "output_type": "stream",
     "text": [
      "0\n"
     ]
    }
   ],
   "source": [
    "n = 0\n",
    "\n",
    "def n_plus(n):\n",
    "    n = n + 1\n",
    "    return n\n",
    "    \n",
    "n_plus(3)\n",
    "print(n)"
   ]
  },
  {
   "cell_type": "code",
   "execution_count": 114,
   "metadata": {},
   "outputs": [
    {
     "name": "stdout",
     "output_type": "stream",
     "text": [
      "12\n",
      "35\n",
      "12\n",
      "15\n"
     ]
    }
   ],
   "source": [
    "# 문제 3.\n",
    "def func_1():\n",
    "    print(5 + 7)\n",
    "def func_2(x, y):\n",
    "    print(x * y)\n",
    "def func_3():\n",
    "    return (3*4)\n",
    "def func_4(x, y):\n",
    "    mul = x * y\n",
    "    return mul\n",
    "\n",
    "func_1()\n",
    "func_2(5, 7)\n",
    "num_1 = func_3()\n",
    "print(num_1)\n",
    "print(func_4(3, 5))"
   ]
  },
  {
   "cell_type": "code",
   "execution_count": 77,
   "metadata": {},
   "outputs": [
    {
     "name": "stdout",
     "output_type": "stream",
     "text": [
      "1 번 입니다\n",
      "2 번 입니다\n",
      "3 번 입니다\n",
      "4 번 입니다\n",
      "5 번 입니다\n",
      "6 번 입니다\n",
      "7 번 입니다\n",
      "8 번 입니다\n",
      "9 번 입니다\n",
      "10 번 입니다\n",
      "11 번 입니다\n",
      "12 번 입니다\n",
      "13 번 입니다\n",
      "14 번 입니다\n",
      "15 번 입니다\n"
     ]
    }
   ],
   "source": [
    "def fun(a):\n",
    "    print(a, '번 입니다', sep = ' ')\n",
    "        \n",
    "for k in range(1, 16):\n",
    "    fun(k)"
   ]
  },
  {
   "cell_type": "code",
   "execution_count": 173,
   "metadata": {},
   "outputs": [
    {
     "name": "stdout",
     "output_type": "stream",
     "text": [
      "<class 'tuple'>\n",
      "합 :  7\n",
      "뺄 :  -1\n",
      "곱 :  12\n",
      "나 :  0.75\n"
     ]
    }
   ],
   "source": [
    "# 문제 4. ver.1\n",
    "def a(a, b):\n",
    "    result = a+b, a-b, a*b, a/b\n",
    "    print(type(result))\n",
    "    return result\n",
    "\n",
    "key = a(3, 4)\n",
    "print('합 : ', key[0])\n",
    "print('뺄 : ', key[1])\n",
    "print('곱 : ', key[2])\n",
    "print('나 : ', key[3])"
   ]
  },
  {
   "cell_type": "code",
   "execution_count": 135,
   "metadata": {},
   "outputs": [
    {
     "name": "stdout",
     "output_type": "stream",
     "text": [
      "숫자 : 100\n",
      "숫자 : 5\n",
      "더하기 :  105\n",
      "빼기 :  95\n",
      "곱하기 :  500\n",
      "나누기 :  20.0\n"
     ]
    }
   ],
   "source": [
    "# 문제 4 ver.2\n",
    "def operation(a, b):\n",
    "    add = a + b\n",
    "    sub = a - b\n",
    "    mul = a * b\n",
    "    div = a / b\n",
    "    return add, sub, mul, div\n",
    "\n",
    "\n",
    "a = int(input('숫자 : '))\n",
    "b = int(input('숫자 : '))\n",
    "\n",
    "print('더하기 : ', add(a, b))\n",
    "print('빼기 : ', sub(a, b))\n",
    "print('곱하기 : ', mul(a, b))\n",
    "print('나누기 : ', div(a, b))"
   ]
  },
  {
   "cell_type": "code",
   "execution_count": 161,
   "metadata": {},
   "outputs": [
    {
     "name": "stdout",
     "output_type": "stream",
     "text": [
      "숫자 : 50\n",
      "숫자 : 5\n",
      "더하기 :  55\n",
      "빼기 :  45\n",
      "곱하기 :  250\n",
      "나누기 :  10.0\n"
     ]
    }
   ],
   "source": [
    "# 문제 4 ver.3\n",
    "a = int(input('숫자 : '))\n",
    "b = int(input('숫자 : '))\n",
    "\n",
    "def operation1(a, b):\n",
    "    return a + b\n",
    "def operation2(a, b):\n",
    "    return a - b\n",
    "def operation3(a, b):\n",
    "    return a * b\n",
    "def operation4(a, b):\n",
    "    return a / b\n",
    "\n",
    "print('더하기 : ', operation1(a,b))\n",
    "print('빼기 : ', operation2(a,b))\n",
    "print('곱하기 : ', operation3(a,b))\n",
    "print('나누기 : ', operation4(a,b))"
   ]
  },
  {
   "cell_type": "code",
   "execution_count": 190,
   "metadata": {},
   "outputs": [
    {
     "name": "stdout",
     "output_type": "stream",
     "text": [
      "0.47896282733751483\n",
      "4\n",
      "4\n",
      "1\n",
      "배\n",
      "[1, 6, 3, 4, 7, 8]\n",
      "[7, 9, 6, 2, 1, 4]\n",
      "[5, 1, 9, 2, 6, 7]\n",
      "[3, 1, 9, 6, 8, 5]\n",
      "[6, 4, 5, 8, 9, 7]\n",
      "[3, 4, 5, 9, 2, 8]\n",
      "[3, 1, 6, 9, 7, 2, 5, 8, 4]\n"
     ]
    }
   ],
   "source": [
    "# 문제 5.\n",
    "# Random : 임의의 무작위를 발생\n",
    "import random\n",
    "\n",
    "print(random.random()) # 0 ~ 1\n",
    "print(random.randint(1, 5)) # 1 ~ 5중에 중복 발생 가능\n",
    "for i in range(1, 3):\n",
    "    print(random.randint(1, 4))\n",
    "print(random.choice(['사과', '배', '귤']))\n",
    "print(random.sample(range(1, 10), 6)) # 중복 없이 발생\n",
    "for i2 in range(1, 6):\n",
    "    print(random.sample(range(1, 10), 6))\n",
    "l = [1, 2, 3, 4, 5, 6, 7, 8, 9]\n",
    "random.shuffle(l)\n",
    "print(l)\n",
    "\n"
   ]
  },
  {
   "cell_type": "code",
   "execution_count": 246,
   "metadata": {},
   "outputs": [
    {
     "name": "stdout",
     "output_type": "stream",
     "text": [
      "입력 : 1\n",
      "[3, 7, 12, 26, 36, 39]\n"
     ]
    }
   ],
   "source": [
    "# 문제 5.\n",
    "import random\n",
    "\n",
    "lotto = int(input('입력 : '))\n",
    "for i3 in range(0, lotto):\n",
    "    a = i3+1\n",
    "    b = random.sample(range(a, 46), 6)\n",
    "    b.sort()\n",
    "    print(b)"
   ]
  }
 ],
 "metadata": {
  "kernelspec": {
   "display_name": "Python 3",
   "language": "python",
   "name": "python3"
  },
  "language_info": {
   "codemirror_mode": {
    "name": "ipython",
    "version": 3
   },
   "file_extension": ".py",
   "mimetype": "text/x-python",
   "name": "python",
   "nbconvert_exporter": "python",
   "pygments_lexer": "ipython3",
   "version": "3.8.5"
  }
 },
 "nbformat": 4,
 "nbformat_minor": 4
}
