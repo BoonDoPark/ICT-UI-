{
 "cells": [
  {
   "cell_type": "code",
   "execution_count": 1,
   "metadata": {},
   "outputs": [
    {
     "name": "stdout",
     "output_type": "stream",
     "text": [
      "['imformation communication technologies polytec college']\n"
     ]
    }
   ],
   "source": [
    "# 문제 1. 다음 a.txt 파일의 내용을 읽어들여 출력하시오.\n",
    "# readlines : 리스트로 바꿔준다.\n",
    "f = open('a.txt', 'r')\n",
    "str = f.readlines()\n",
    "f.close()\n",
    "print(str)"
   ]
  },
  {
   "cell_type": "code",
   "execution_count": 110,
   "metadata": {},
   "outputs": [
    {
     "name": "stdout",
     "output_type": "stream",
     "text": [
      "imformation communication technologies polytec college how are you\n",
      "['imformation', 'communication', 'technologies', 'polytec', 'college', 'how', 'are', 'you']\n"
     ]
    }
   ],
   "source": [
    "# 문제 2. 다음 b.txt 파리의 내용을 읽어들여 다음 결과와 같이 출력하시오.\n",
    "# readline 첫번째 줄을 문자열로 돌려준다.\n",
    "f = open('b.txt', 'r')\n",
    "str = f.readline()\n",
    "f.close()\n",
    "print(str)\n",
    "a = str.split()\n",
    "print(a)"
   ]
  },
  {
   "cell_type": "code",
   "execution_count": 112,
   "metadata": {},
   "outputs": [
    {
     "name": "stdout",
     "output_type": "stream",
     "text": [
      "imformation communication technologies polytec college how are you\n"
     ]
    }
   ],
   "source": [
    "# 문제 2. read : 내용전체를 문자열로 돌려준다.\n",
    "f = open('b.txt', 'r')\n",
    "str = f.read()\n",
    "f.close()\n",
    "print(str)"
   ]
  },
  {
   "cell_type": "code",
   "execution_count": 15,
   "metadata": {},
   "outputs": [],
   "source": [
    "# 문제 3. 다음 문자열 'hello python'을 파일 python.txt에 저장하시오.\n",
    "f = open('python.txt', 'w')\n",
    "a = f.writelines('hello python')\n",
    "f.close()"
   ]
  },
  {
   "cell_type": "code",
   "execution_count": 21,
   "metadata": {},
   "outputs": [
    {
     "name": "stdout",
     "output_type": "stream",
     "text": [
      "imformation communication technologies polytec college how are you\n"
     ]
    }
   ],
   "source": [
    "# 문제 4. 파일 b.txt의 내용을 읽어들여 파일 sample.txt에 추가하시오.\n",
    "f = open('b.txt', 'r')\n",
    "b = f.readline()\n",
    "f.close()\n",
    "print(b)\n",
    "f2 = open('sample.txt', 'w')\n",
    "f2.write(b)\n",
    "f2.close()"
   ]
  },
  {
   "cell_type": "code",
   "execution_count": 95,
   "metadata": {},
   "outputs": [
    {
     "name": "stdout",
     "output_type": "stream",
     "text": [
      "hello python\n",
      "12\n"
     ]
    }
   ],
   "source": [
    "# 문제 5. 파일 python.txt의 내용을 읽어들여 파일 sample.txt에 추가하시오.\n",
    "f =  open('python.txt', 'r')\n",
    "a = f.read()\n",
    "f.close()\n",
    "print(a)\n",
    "\n",
    "f1 = open('sample.txt', 'a')\n",
    "b = f1.write(a)\n",
    "f.close()"
   ]
  },
  {
   "cell_type": "code",
   "execution_count": 143,
   "metadata": {},
   "outputs": [
    {
     "name": "stdout",
     "output_type": "stream",
     "text": [
      "Documentation for python is standard library\n",
      "along with tutorials and guides\n",
      "are available online\n",
      "4\n",
      "Documentation for PYTHON is standard library\n",
      "along with tutorials and guides\n",
      "are available online\n",
      "14\n"
     ]
    }
   ],
   "source": [
    "# 문제 6. 다음 ex.txt 파일에 있는 내용을 읽어들여 다음 조건에 따라 답을 구하시오.\n",
    "f = open('ex.txt', 'r')\n",
    "a = f.read()\n",
    "f.close()\n",
    "print(a)\n",
    "print(a.count('on'))\n",
    "print(a.replace('python', 'PYTHON'))\n",
    "\n",
    "b = a.split()\n",
    "print(len(b))\n"
   ]
  },
  {
   "cell_type": "code",
   "execution_count": 103,
   "metadata": {},
   "outputs": [
    {
     "name": "stdout",
     "output_type": "stream",
     "text": [
      "['10', '20', '30', '15', '24', '65', '28', '32', '56', '47', '22', '30', '24', '65', '84', '22', '14']\n",
      "588\n",
      "34\n"
     ]
    }
   ],
   "source": [
    "# 문제 7. 다음 number.txt의 내용을 읽어들여 합과 평균을 구하는 프로그램을 작성하시오.\n",
    "f = open('number.txt', 'r')\n",
    "n = f.read()\n",
    "f.close()\n",
    "n = n.split()\n",
    "print(n)\n",
    "\n",
    "sum = 0\n",
    "\n",
    "for i in range(0, len(n), 1):\n",
    "    sum = sum + int(n[i])\n",
    "\n",
    "print(sum)\n",
    "b = sum // len(n)\n",
    "print(b)"
   ]
  },
  {
   "cell_type": "code",
   "execution_count": null,
   "metadata": {},
   "outputs": [],
   "source": []
  }
 ],
 "metadata": {
  "kernelspec": {
   "display_name": "Python 3",
   "language": "python",
   "name": "python3"
  },
  "language_info": {
   "codemirror_mode": {
    "name": "ipython",
    "version": 3
   },
   "file_extension": ".py",
   "mimetype": "text/x-python",
   "name": "python",
   "nbconvert_exporter": "python",
   "pygments_lexer": "ipython3",
   "version": "3.8.5"
  }
 },
 "nbformat": 4,
 "nbformat_minor": 4
}
