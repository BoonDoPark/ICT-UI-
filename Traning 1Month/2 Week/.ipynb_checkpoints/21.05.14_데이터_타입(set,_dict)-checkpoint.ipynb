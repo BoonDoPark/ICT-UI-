{
 "cells": [
  {
   "cell_type": "markdown",
   "metadata": {
    "id": "pDp3mQUnRFpU"
   },
   "source": [
    "# 1. 집합(set)\n",
    "\n",
    "- 집합(set)은 파이썬 2.3부터 지원하기 시작한 자료형으로, 집합에 관련된 것을 쉽게 처리하기 위해 만든 자료형이다.\n",
    "\n",
    "- 공집합을 생성할 때는 *반드시* set()으로 생성해야 한다. {}로 생성하면 빈 dictionary가 생성된다.\n",
    "\n",
    "- {1, 2, 3} -> set, {'a':1, 'b':2} -> dictionary\n",
    "\n",
    "- 집합의 연산자인 교집합, 합집합, 차집합을 모두 지원한다.\n",
    "\n",
    "- set의 특징이 2가지 있는데, 이 특징이 리스트와의 차이점이라 사용한다. 첫번째 특징이 set 자료형을 사용하는 주된 이유이다.\n",
    "\n",
    "1) set은 **원소의 중복을 허용하지 않는다.** 즉, **원소의 종류**를 나타내기 좋다.\n",
    "\n",
    "2) set은 **원소의 순서가 존재하지 않는다.** 즉, 원소의 index가 없다."
   ]
  },
  {
   "cell_type": "code",
   "execution_count": 4,
   "metadata": {
    "id": "VtwHlx-ERFpa"
   },
   "outputs": [
    {
     "data": {
      "text/plain": [
       "set"
      ]
     },
     "execution_count": 4,
     "metadata": {},
     "output_type": "execute_result"
    }
   ],
   "source": [
    "my_set = set()\n",
    "type(my_set)\n",
    "\n",
    "my_set = {1, 2, 3, 4}\n",
    "type(my_set)"
   ]
  },
  {
   "cell_type": "code",
   "execution_count": 8,
   "metadata": {},
   "outputs": [
    {
     "name": "stdout",
     "output_type": "stream",
     "text": [
      "{1, 2, 3, 4}\n"
     ]
    },
    {
     "ename": "TypeError",
     "evalue": "'set' object is not subscriptable",
     "output_type": "error",
     "traceback": [
      "\u001b[1;31m---------------------------------------------------------------------------\u001b[0m",
      "\u001b[1;31mTypeError\u001b[0m                                 Traceback (most recent call last)",
      "\u001b[1;32m<ipython-input-8-8841d8824bee>\u001b[0m in \u001b[0;36m<module>\u001b[1;34m\u001b[0m\n\u001b[0;32m      4\u001b[0m \u001b[1;33m\u001b[0m\u001b[0m\n\u001b[0;32m      5\u001b[0m \u001b[1;31m# 원소의 순서가 존재하지않는다.\u001b[0m\u001b[1;33m\u001b[0m\u001b[1;33m\u001b[0m\u001b[1;33m\u001b[0m\u001b[0m\n\u001b[1;32m----> 6\u001b[1;33m \u001b[0mprint\u001b[0m\u001b[1;33m(\u001b[0m\u001b[0mmy_set\u001b[0m\u001b[1;33m[\u001b[0m\u001b[1;36m1\u001b[0m\u001b[1;33m]\u001b[0m\u001b[1;33m)\u001b[0m\u001b[1;33m\u001b[0m\u001b[1;33m\u001b[0m\u001b[0m\n\u001b[0m",
      "\u001b[1;31mTypeError\u001b[0m: 'set' object is not subscriptable"
     ]
    }
   ],
   "source": [
    "# 중복허용하지 않음\n",
    "my_set = {1, 2, 2,2 , 2, 2, 2, 3, 3, 3, 3, 3, 3, 4}\n",
    "print(my_set)\n",
    "\n",
    "# 원소의 순서가 존재하지않는다.\n",
    "print(my_set[1])"
   ]
  },
  {
   "cell_type": "markdown",
   "metadata": {
    "id": "RMjka6StRFpb"
   },
   "source": [
    "## 1.1 set의 연산\n",
    "- 교집합, 합집합, 차집합 등 지원"
   ]
  },
  {
   "cell_type": "code",
   "execution_count": 11,
   "metadata": {
    "id": "5ISdcNkBRFpb"
   },
   "outputs": [
    {
     "name": "stdout",
     "output_type": "stream",
     "text": [
      "{1, 2, 3, 4, 5, 6, 7}\n",
      "{3, 4, 5}\n",
      "{1, 2}\n"
     ]
    }
   ],
   "source": [
    "s1 = {1, 2, 3, 4, 5}\n",
    "s2 = {3, 4, 5, 6, 7}\n",
    "\n",
    "print(s1.union(s2)) # 합집합 = union\n",
    "\n",
    "print(s1.intersection(s2)) # 교집합 = intersection\n",
    "\n",
    "print(s1.difference(s2)) # 차집합 = intersection\n"
   ]
  },
  {
   "cell_type": "markdown",
   "metadata": {
    "id": "iDt7EL7rRFpc"
   },
   "source": [
    "## 1.2 집합 관련 함수"
   ]
  },
  {
   "cell_type": "markdown",
   "metadata": {
    "id": "g0YanwDvRFpc"
   },
   "source": [
    "#### 집합에 원소 하나 추가하기 add()"
   ]
  },
  {
   "cell_type": "code",
   "execution_count": 14,
   "metadata": {
    "id": "eeoVi2fcRFpd"
   },
   "outputs": [
    {
     "name": "stdout",
     "output_type": "stream",
     "text": [
      "{3}\n"
     ]
    }
   ],
   "source": [
    "s = set()\n",
    "\n",
    "s.add(3)\n",
    "print(s)"
   ]
  },
  {
   "cell_type": "markdown",
   "metadata": {
    "id": "UJdsQW6GRFpd"
   },
   "source": [
    "#### 집합에 여러 원소 추가하기 update({})"
   ]
  },
  {
   "cell_type": "code",
   "execution_count": 15,
   "metadata": {
    "id": "a3eISlw4RFpd"
   },
   "outputs": [
    {
     "name": "stdout",
     "output_type": "stream",
     "text": [
      "{1, 2, 3, 4, 5}\n"
     ]
    }
   ],
   "source": [
    "s = {1, 2, 3}\n",
    "s.update({4, 5})\n",
    "print(s)"
   ]
  },
  {
   "cell_type": "markdown",
   "metadata": {
    "id": "UwEIL4OsRFpd"
   },
   "source": [
    "#### 집합에서 원소 제거하기 remove()"
   ]
  },
  {
   "cell_type": "code",
   "execution_count": 16,
   "metadata": {
    "id": "xsXY20O6RFpd"
   },
   "outputs": [
    {
     "name": "stdout",
     "output_type": "stream",
     "text": [
      "{1, 2, 4, 5}\n"
     ]
    }
   ],
   "source": [
    "s.remove(3)\n",
    "print(s)"
   ]
  },
  {
   "cell_type": "markdown",
   "metadata": {
    "id": "nP2zvopIRFpe"
   },
   "source": [
    "# 2. Dictionary (**)\n",
    "\n",
    "\n",
    "\n",
    "**파이썬에서 리스트와 함께 굉장히 많이 사용되는 구조.**\n",
    "\n",
    "- key - value 방법을 통해 저장한다.\n",
    "\n",
    "| 자료형 | 의미 | 가리키는 위치 | 선언형식 |\n",
    "|:---:|:---|:---:|---|\n",
    "| list | 인덱스를 기반으로 값을 저장 | 인덱스 | a = [ ] |\n",
    "| dictionary | 키를 기반으로 값을 저장 | 키 | a = { } |\n",
    "\n",
    "\n",
    "- dictionary를 표현할 때는 {key : value, key2 : value2, ... } 형태로 표현한다.\n",
    "\n",
    "- dict_a = {'Korea' : 'Seoul', 'Japan' : 'Tokyo', 'Chana' : 'Beijing'}\n",
    "\n",
    "- 순서를 따지지 않음. 즉, 인덱스가 없음\n",
    "\n",
    "- **key : immutable / value : mutable**\n",
    "\n",
    "- 파이썬에서 가장 자주쓰는 데이터 형 중 하나"
   ]
  },
  {
   "cell_type": "markdown",
   "metadata": {
    "id": "k26TWzmARFpe"
   },
   "source": [
    "## 2.1 dictionary 기본사용법"
   ]
  },
  {
   "cell_type": "markdown",
   "metadata": {
    "id": "_rHsnhtIRFpf"
   },
   "source": [
    "### 2.1.1 dictionary 생성"
   ]
  },
  {
   "cell_type": "code",
   "execution_count": 34,
   "metadata": {
    "id": "2anWqtskRFpf"
   },
   "outputs": [
    {
     "name": "stdout",
     "output_type": "stream",
     "text": [
      "<class 'dict'>\n",
      "{'Korea': 'Seoul', 'Japan': 'Tokyo', 'Chana': 'Beijing'}\n"
     ]
    }
   ],
   "source": [
    "a = {'Korea' : 'Seoul', 'Japan' : 'Tokyo', 'Chana' : 'Beijing'}\n",
    "print(type(a))\n",
    "print(a)"
   ]
  },
  {
   "cell_type": "markdown",
   "metadata": {
    "id": "MPT7Z0JtRFpf"
   },
   "source": [
    "### 2.1.2 dictionary 원소 추가"
   ]
  },
  {
   "cell_type": "code",
   "execution_count": 35,
   "metadata": {
    "id": "9UdZMwo2RFpf"
   },
   "outputs": [
    {
     "name": "stdout",
     "output_type": "stream",
     "text": [
      "{'Korea': 'Ottawa', 'Japan': 'Tokyo', 'Chana': 'Beijing', 'Canada': 'Ottawa'}\n"
     ]
    }
   ],
   "source": [
    "a['Canada'] = 'Ottawa'\n",
    "a['Korea'] = 'Ottawa' # 원래 있던 key값은 중복불가능이다. 하지만, value값은 중복가능\n",
    "print(a)"
   ]
  },
  {
   "cell_type": "markdown",
   "metadata": {
    "id": "tyBftvc0RFpf"
   },
   "source": [
    "### 2.1.3 dictionary 원소 삭제"
   ]
  },
  {
   "cell_type": "code",
   "execution_count": 36,
   "metadata": {
    "id": "MRB4ydTmRFpg"
   },
   "outputs": [
    {
     "name": "stdout",
     "output_type": "stream",
     "text": [
      "{'Korea': 'Ottawa', 'Chana': 'Beijing', 'Canada': 'Ottawa'}\n"
     ]
    }
   ],
   "source": [
    "a = {'Korea': 'Ottawa', 'Japan': 'Tokyo', 'Chana': 'Beijing', 'Canada': 'Ottawa'}\n",
    "del a['Japan']\n",
    "print(a)"
   ]
  },
  {
   "cell_type": "markdown",
   "metadata": {
    "id": "NQCb8U7JRFpg"
   },
   "source": [
    "### 2.1.4 dictionary 접근"
   ]
  },
  {
   "cell_type": "code",
   "execution_count": 40,
   "metadata": {
    "id": "nK1rXjRKRFpg"
   },
   "outputs": [
    {
     "data": {
      "text/plain": [
       "'Ottawa'"
      ]
     },
     "execution_count": 40,
     "metadata": {},
     "output_type": "execute_result"
    }
   ],
   "source": [
    "a['Korea']"
   ]
  },
  {
   "cell_type": "code",
   "execution_count": 45,
   "metadata": {},
   "outputs": [
    {
     "ename": "KeyError",
     "evalue": "2",
     "output_type": "error",
     "traceback": [
      "\u001b[1;31m---------------------------------------------------------------------------\u001b[0m",
      "\u001b[1;31mKeyError\u001b[0m                                  Traceback (most recent call last)",
      "\u001b[1;32m<ipython-input-45-8cef76cc7f91>\u001b[0m in \u001b[0;36m<module>\u001b[1;34m\u001b[0m\n\u001b[0;32m      1\u001b[0m \u001b[0mb\u001b[0m \u001b[1;33m=\u001b[0m \u001b[1;33m{\u001b[0m\u001b[1;36m0\u001b[0m \u001b[1;33m:\u001b[0m \u001b[1;36m1\u001b[0m\u001b[1;33m,\u001b[0m \u001b[1;36m1\u001b[0m \u001b[1;33m:\u001b[0m \u001b[1;36m6\u001b[0m\u001b[1;33m,\u001b[0m \u001b[1;36m8\u001b[0m \u001b[1;33m:\u001b[0m \u001b[1;36m9\u001b[0m\u001b[1;33m}\u001b[0m\u001b[1;33m\u001b[0m\u001b[1;33m\u001b[0m\u001b[0m\n\u001b[1;32m----> 2\u001b[1;33m \u001b[0mb\u001b[0m\u001b[1;33m[\u001b[0m\u001b[1;36m2\u001b[0m\u001b[1;33m]\u001b[0m \u001b[1;31m# 인덱스가 아닌 key값을 쓴다.\u001b[0m\u001b[1;33m\u001b[0m\u001b[1;33m\u001b[0m\u001b[0m\n\u001b[0m",
      "\u001b[1;31mKeyError\u001b[0m: 2"
     ]
    }
   ],
   "source": [
    "b = {0 : 1, 1 : 6, 8 : 9}\n",
    "b[2] # 인덱스가 아닌 key값을 쓴다."
   ]
  },
  {
   "cell_type": "markdown",
   "metadata": {
    "id": "wayU7l0tRFpg"
   },
   "source": [
    "### 2.1.5 dictionary 수정\n",
    "- dict.update(수정할 dict)"
   ]
  },
  {
   "cell_type": "code",
   "execution_count": 48,
   "metadata": {},
   "outputs": [
    {
     "data": {
      "text/plain": [
       "{'Korea': 'Busan', 'Japan': 'Tokyo', 'Chana': 'Beijing', 'Canada': 'Ottawa'}"
      ]
     },
     "execution_count": 48,
     "metadata": {},
     "output_type": "execute_result"
    }
   ],
   "source": [
    "a['Korea'] = 'Busan'\n",
    "a"
   ]
  },
  {
   "cell_type": "code",
   "execution_count": 53,
   "metadata": {},
   "outputs": [
    {
     "name": "stdout",
     "output_type": "stream",
     "text": [
      "{'A': 1, 'B': 7, 'C': 5, 'D': 1}\n",
      "{'A': 1, 'B': 15, 'C': 2, 'D': 9}\n",
      "{'A': 1, 'B': 15, 'C': 2, 'D': 9, 'E': 8, 'F': 2}\n"
     ]
    }
   ],
   "source": [
    "b = {'A' : 2, 'B' : 7, 'C' : 5, 'D' : 1}\n",
    "\n",
    "b['A'] = 1\n",
    "print(b)\n",
    "\n",
    "b.update({'A' : 1, 'B' : 15, 'C' : 2, 'D' : 9})\n",
    "print(b)\n",
    "\n",
    "b.update({'A' : 1, 'B' : 15, 'E' : 8, 'F' : 2})\n",
    "print(b)"
   ]
  },
  {
   "cell_type": "code",
   "execution_count": 68,
   "metadata": {
    "id": "KThMcVJhRFpg"
   },
   "outputs": [
    {
     "name": "stdout",
     "output_type": "stream",
     "text": [
      "name :  BTS\n",
      "member : 7명 \n",
      "name :  환불원정대\n",
      "{'name': '환불원정대', 'member': 3, '데뷔곡': '데인저', '대표곡': ['IDOL', '봄날', '불타오르네', 'Dynamite'], 'reader': 'RM'}\n",
      "대표곡 :  봄날\n"
     ]
    }
   ],
   "source": [
    "singer = {\n",
    "    'name' : 'BTS',\n",
    "    'member' : 7,\n",
    "    '데뷔곡' : '데인저',\n",
    "    '대표곡' : ['IDOL','봄날','불타오르네','Dynamite']\n",
    "    \n",
    "}\n",
    "\n",
    "print('name : ', singer['name'])\n",
    "print('member : {}명 '.format(singer['member']))\n",
    "\n",
    "singer['name'] = '환불원정대'\n",
    "print('name : ', singer['name'])\n",
    "\n",
    "singer.update({'member' : 3, 'reader' : 'RM'})\n",
    "print(singer)\n",
    "\n",
    "print('대표곡 : ', singer['대표곡'][1])"
   ]
  },
  {
   "cell_type": "code",
   "execution_count": 79,
   "metadata": {},
   "outputs": [
    {
     "name": "stdout",
     "output_type": "stream",
     "text": [
      "{'탄산음료': ['콜라', '사이다'], '이온음료': ['포카리스웨트', '파워에이드'], '커피': '아이스아메리카노', '차': '녹차'}\n",
      "콜라\n",
      "{'탄산음료': ['콜라', '사이다'], '이온음료': ['포카리스웨트', '파워에이드'], '커피': '라떼', '차': '녹차', '그밖에': '갈아만든배'}\n"
     ]
    }
   ],
   "source": [
    "beverage = {'탄산음료' : ['콜라', '사이다'], '이온음료' : ['포카리스웨트', '파워에이드'], '커피' : '아이스아메리카노', '차' : '녹차'}\n",
    "\n",
    "print(beverage)\n",
    "\n",
    "print(beverage['탄산음료'][0])\n",
    "\n",
    "beverage.update({'그밖에' : '갈아만든배', '커피' : '라떼'})\n",
    "print(beverage)"
   ]
  },
  {
   "cell_type": "markdown",
   "metadata": {
    "id": "mSer5RRIRFph"
   },
   "source": [
    "> **TIP** dictionary를 만들 때 key는 중복이 있으면 절대 안된다."
   ]
  },
  {
   "cell_type": "markdown",
   "metadata": {
    "id": "eERtr-EsRFph"
   },
   "source": [
    "## 2.2 dictionary 관련 함수"
   ]
  },
  {
   "cell_type": "markdown",
   "metadata": {
    "id": "kwn7Tj-SRFph"
   },
   "source": [
    "### 2.2.1 dictionary의 모든 key값들 보기 keys()"
   ]
  },
  {
   "cell_type": "code",
   "execution_count": 127,
   "metadata": {
    "id": "qaXuINaHRFph"
   },
   "outputs": [
    {
     "name": "stdout",
     "output_type": "stream",
     "text": [
      "dict_keys(['name', 'member', '데뷔곡', '대표곡'])\n",
      "['name', 'member', '데뷔곡', '대표곡']\n",
      "name\n",
      "member\n",
      "데뷔곡\n",
      "대표곡\n"
     ]
    }
   ],
   "source": [
    "singer = {\n",
    "    'name' : 'BTS',\n",
    "    'member' : 7,\n",
    "    '데뷔곡' : '데인저',\n",
    "    '대표곡' : ['IDOL','봄날','불타오르네','Dynamite']\n",
    "    \n",
    "}\n",
    "\n",
    "print(singer.keys())\n",
    "\n",
    "a = list(singer.keys())\n",
    "print(a)\n",
    "\n",
    "for i in range(0, len(a), 1):\n",
    "    print(a[i])"
   ]
  },
  {
   "cell_type": "markdown",
   "metadata": {
    "id": "NljN-6YwRFph"
   },
   "source": [
    "### 2.2.2 dictionary의 모든 value들 보기 values()"
   ]
  },
  {
   "cell_type": "code",
   "execution_count": 4,
   "metadata": {
    "id": "jVhQPkO_RFph"
   },
   "outputs": [
    {
     "name": "stdout",
     "output_type": "stream",
     "text": [
      "['BTS', 7, '데인저', ['IDOL', '봄날', '불타오르네', 'Dynamite']]\n",
      "IDOL\n",
      "봄날\n",
      "불타오르네\n",
      "Dynamite\n"
     ]
    }
   ],
   "source": [
    "# ver. 1\n",
    "singer = {\n",
    "    'name' : 'BTS',\n",
    "    'member' : 7,\n",
    "    '데뷔곡' : '데인저',\n",
    "    '대표곡' : ['IDOL' ,'봄날' ,'불타오르네' ,'Dynamite']\n",
    "\n",
    "}\n",
    "\n",
    "b = list(singer.values())\n",
    "\n",
    "a = ['IDOL' ,'봄날' ,'불타오르네' ,'Dynamite']\n",
    "\n",
    "for i in range(0, len(b), 1):\n",
    "    if type(a[i]) == list:\n",
    "        for j in range(0, len(b), 1):\n",
    "            print(a[i][j])\n",
    "    else:\n",
    "        print(a[i])"
   ]
  },
  {
   "cell_type": "code",
   "execution_count": 18,
   "metadata": {},
   "outputs": [
    {
     "name": "stdout",
     "output_type": "stream",
     "text": [
      "BTS\n",
      "7\n",
      "데인저\n",
      "IDOL\n",
      "봄날\n",
      "불타오르네\n",
      "Dynamite\n"
     ]
    }
   ],
   "source": [
    "# ver. 2\n",
    "singer = {\n",
    "    'name' : 'BTS',\n",
    "    'member' : 7,\n",
    "    '데뷔곡' : '데인저',\n",
    "    '대표곡' : ['IDOL' ,'봄날' ,'불타오르네' ,'Dynamite']\n",
    "\n",
    "}\n",
    "\n",
    "b = list(singer.values())\n",
    "\n",
    "for i in range(0, len(b), 1):\n",
    "    if type(b[i]) == list:\n",
    "        for j in range(0, len(b[i]), 1):\n",
    "            print(b[i][j])\n",
    "    else:\n",
    "        print(b[i])"
   ]
  },
  {
   "cell_type": "code",
   "execution_count": 19,
   "metadata": {},
   "outputs": [
    {
     "name": "stdout",
     "output_type": "stream",
     "text": [
      "BTS\n",
      "7\n",
      "데인저\n",
      "IDOL\n",
      "봄날\n",
      "불타오르네\n",
      "Dynamite\n"
     ]
    }
   ],
   "source": [
    "# ver. 3\n",
    "singer = {\n",
    "    'name' : 'BTS',\n",
    "    'member' : 7,\n",
    "    '데뷔곡' : '데인저',\n",
    "    '대표곡' : ['IDOL' ,'봄날' ,'불타오르네' ,'Dynamite']\n",
    "\n",
    "}\n",
    "\n",
    "b = list(singer.values())\n",
    "\n",
    "for i in range(0, len(b), 1):\n",
    "    if isinstance(b[i], list):\n",
    "        for j in range(0, len(b[i]), 1):\n",
    "            print(b[i][j])\n",
    "    else:\n",
    "        print(b[i])"
   ]
  },
  {
   "cell_type": "markdown",
   "metadata": {
    "id": "tSTHPn7xRFpi"
   },
   "source": [
    "### 2.2.3 dictionary의 모든 key, value 쌍 보기 items() -> tuple 형태로 반환된다"
   ]
  },
  {
   "cell_type": "code",
   "execution_count": 129,
   "metadata": {
    "id": "fLyfOzwYRFpi"
   },
   "outputs": [
    {
     "data": {
      "text/plain": [
       "[('name', 'BTS'),\n",
       " ('member', 7),\n",
       " ('데뷔곡', '데인저'),\n",
       " ('대표곡', ['IDOL', '봄날', '불타오르네', 'Dynamite'])]"
      ]
     },
     "execution_count": 129,
     "metadata": {},
     "output_type": "execute_result"
    }
   ],
   "source": [
    "list(singer.items())"
   ]
  },
  {
   "cell_type": "markdown",
   "metadata": {
    "id": "z1qE2mCuRFpi"
   },
   "source": [
    "### 2.2.4 dictionary의 원소 가져오기 get() : key로 value 구하기"
   ]
  },
  {
   "cell_type": "code",
   "execution_count": 130,
   "metadata": {
    "id": "BJTsQt1pRFpi",
    "outputId": "e8e012e2-a1ab-4710-9ed5-97a69000269e"
   },
   "outputs": [
    {
     "data": {
      "text/plain": [
       "'BTS'"
      ]
     },
     "execution_count": 130,
     "metadata": {},
     "output_type": "execute_result"
    }
   ],
   "source": [
    "singer = {\n",
    "    'name' : 'BTS',\n",
    "    'member' : 7,\n",
    "    '데뷔곡' : '데인저',\n",
    "    '대표곡' : ['IDOL','봄날','불타오르네','Dynamite']\n",
    "    \n",
    "}\n",
    "\n",
    "singer.get('name')"
   ]
  },
  {
   "cell_type": "code",
   "execution_count": 1,
   "metadata": {},
   "outputs": [
    {
     "ename": "NameError",
     "evalue": "name 'company' is not defined",
     "output_type": "error",
     "traceback": [
      "\u001b[1;31m---------------------------------------------------------------------------\u001b[0m",
      "\u001b[1;31mNameError\u001b[0m                                 Traceback (most recent call last)",
      "\u001b[1;32m<ipython-input-1-37c887e796b3>\u001b[0m in \u001b[0;36m<module>\u001b[1;34m\u001b[0m\n\u001b[0;32m      7\u001b[0m }\n\u001b[0;32m      8\u001b[0m \u001b[1;33m\u001b[0m\u001b[0m\n\u001b[1;32m----> 9\u001b[1;33m \u001b[0msinger\u001b[0m\u001b[1;33m[\u001b[0m\u001b[0mcompany\u001b[0m\u001b[1;33m]\u001b[0m \u001b[1;33m=\u001b[0m \u001b[1;34m'하이브'\u001b[0m\u001b[1;33m\u001b[0m\u001b[1;33m\u001b[0m\u001b[0m\n\u001b[0m\u001b[0;32m     10\u001b[0m \u001b[0mprint\u001b[0m\u001b[1;33m(\u001b[0m\u001b[0msinger\u001b[0m\u001b[1;33m)\u001b[0m\u001b[1;33m\u001b[0m\u001b[1;33m\u001b[0m\u001b[0m\n",
      "\u001b[1;31mNameError\u001b[0m: name 'company' is not defined"
     ]
    }
   ],
   "source": [
    "singer = {\n",
    "    'name' : 'BTS',\n",
    "    'member' : 7,\n",
    "    '데뷔곡' : '데인저',\n",
    "    '대표곡' : ['IDOL','봄날','불타오르네','Dynamite']\n",
    "    \n",
    "}\n",
    "\n",
    "singer[company] = '하이브'\n",
    "print(singer)"
   ]
  },
  {
   "cell_type": "markdown",
   "metadata": {
    "id": "KPSMJ66NRFpj"
   },
   "source": [
    "### 2.2.5 dictionary에 해당 key값이 존재하는지 확인하기 in\n",
    "\n",
    "\n",
    "- in이라는 operator는 dictionary뿐만 아니라 모든 연속형 데이터 타입에 사용할 수 있다.\n",
    "\n",
    "\n",
    "- dictionary의 경우에는 key를 대상으로 하고, 리스트, 튜플, 집합, 문자열에 대해서는 해당 원소가 존재하는지 찾아서 True / False 를 알려준다."
   ]
  },
  {
   "cell_type": "code",
   "execution_count": 131,
   "metadata": {},
   "outputs": [
    {
     "data": {
      "text/plain": [
       "True"
      ]
     },
     "execution_count": 131,
     "metadata": {},
     "output_type": "execute_result"
    }
   ],
   "source": [
    "'name' in singer"
   ]
  },
  {
   "cell_type": "code",
   "execution_count": 132,
   "metadata": {},
   "outputs": [
    {
     "data": {
      "text/plain": [
       "False"
      ]
     },
     "execution_count": 132,
     "metadata": {},
     "output_type": "execute_result"
    }
   ],
   "source": [
    "'소속사' in singer"
   ]
  }
 ],
 "metadata": {
  "colab": {
   "name": "006. 데이터 타입(set, dict)_before.ipynb",
   "provenance": []
  },
  "kernelspec": {
   "display_name": "Python 3",
   "language": "python",
   "name": "python3"
  },
  "language_info": {
   "codemirror_mode": {
    "name": "ipython",
    "version": 3
   },
   "file_extension": ".py",
   "mimetype": "text/x-python",
   "name": "python",
   "nbconvert_exporter": "python",
   "pygments_lexer": "ipython3",
   "version": "3.8.5"
  },
  "toc": {
   "base_numbering": 1,
   "nav_menu": {},
   "number_sections": false,
   "sideBar": true,
   "skip_h1_title": false,
   "title_cell": "Table of Contents",
   "title_sidebar": "Contents",
   "toc_cell": false,
   "toc_position": {
    "height": "calc(100% - 180px)",
    "left": "10px",
    "top": "150px",
    "width": "304.475px"
   },
   "toc_section_display": true,
   "toc_window_display": false
  }
 },
 "nbformat": 4,
 "nbformat_minor": 1
}
