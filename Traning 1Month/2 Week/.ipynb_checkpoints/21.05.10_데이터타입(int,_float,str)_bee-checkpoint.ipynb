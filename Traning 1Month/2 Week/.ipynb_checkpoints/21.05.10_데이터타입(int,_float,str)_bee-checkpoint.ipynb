{
 "cells": [
  {
   "cell_type": "markdown",
   "metadata": {
    "id": "CD8i540hsxnY"
   },
   "source": [
    "# 1. 파이썬 기본용어"
   ]
  },
  {
   "cell_type": "markdown",
   "metadata": {
    "id": "5ccLVDYIsxne"
   },
   "source": [
    "## 1.1 변수\n",
    "\n",
    "- 값이 변하는 수를 저장하는 그릇. 모든 프로그래밍 언어가 데이터를 다루기 위해 필요한 약속.\n",
    "\n",
    "\n",
    "- 프로그래밍 언어마다 조금씩 다르며, 어떤 프로그래밍 언어에 대해 배울 때 제일 먼저 익혀야 하는 필수 관문.\n",
    "\n",
    "\n",
    "- 프로그래밍 언어에서는 변수(Variable)에서 데이터를 저장/관리 하며 변수에 대한 개념을 통해 데이터를 사용할 수 있다.\n",
    "\n",
    "\n",
    "- 변수라는 그릇에 정수를 담을 수도 있고, 긴 글을 담을 수도 있고, file을 담을 수도 있다. 우리가 재사용 하기 쉽게 **별명**을 지어준 것.\n",
    "\n",
    "\n",
    "- 변수에 데이터를 저장할 때는 <kbd>=</kbd>를 사용한다."
   ]
  },
  {
   "cell_type": "markdown",
   "metadata": {
    "id": "p-kDiW1Jsxnf"
   },
   "source": [
    "case1. 변수의 이름 : 알파벳(대소문자), 한글도 가능(비추)"
   ]
  },
  {
   "cell_type": "code",
   "execution_count": 1,
   "metadata": {
    "id": "NVHf96wBsxng"
   },
   "outputs": [
    {
     "data": {
      "text/plain": [
       "1"
      ]
     },
     "execution_count": 1,
     "metadata": {},
     "output_type": "execute_result"
    }
   ],
   "source": [
    "a = 1\n",
    "a"
   ]
  },
  {
   "cell_type": "markdown",
   "metadata": {
    "id": "5PeoKBS5sxng"
   },
   "source": [
    "case2. 알파벳 + 숫자 (가능)"
   ]
  },
  {
   "cell_type": "code",
   "execution_count": 2,
   "metadata": {
    "id": "JJVt_YsDsxng"
   },
   "outputs": [
    {
     "data": {
      "text/plain": [
       "1"
      ]
     },
     "execution_count": 2,
     "metadata": {},
     "output_type": "execute_result"
    }
   ],
   "source": [
    "a1 = 1\n",
    "a1"
   ]
  },
  {
   "cell_type": "markdown",
   "metadata": {
    "id": "JKpOJ_gmsxnh"
   },
   "source": [
    "case3. 알파벳 + 언더바_(가능)"
   ]
  },
  {
   "cell_type": "code",
   "execution_count": 3,
   "metadata": {
    "id": "FGp9_CRbsxnh"
   },
   "outputs": [
    {
     "data": {
      "text/plain": [
       "'zoo'"
      ]
     },
     "execution_count": 3,
     "metadata": {},
     "output_type": "execute_result"
    }
   ],
   "source": [
    "a_name = 'zoo'\n",
    "a_name"
   ]
  },
  {
   "cell_type": "markdown",
   "metadata": {
    "id": "8qtlc3ytsxnh"
   },
   "source": [
    "case4. 언더바_ + 알파벳 (가능)  "
   ]
  },
  {
   "cell_type": "code",
   "execution_count": 4,
   "metadata": {
    "id": "nA7-TeQPsxnh"
   },
   "outputs": [
    {
     "data": {
      "text/plain": [
       "1"
      ]
     },
     "execution_count": 4,
     "metadata": {},
     "output_type": "execute_result"
    }
   ],
   "source": [
    "_for = 1\n",
    "_for"
   ]
  },
  {
   "cell_type": "markdown",
   "metadata": {
    "id": "c7F3K4V3sxni"
   },
   "source": [
    "case5. 숫자 + 알파벳 (불가능)"
   ]
  },
  {
   "cell_type": "code",
   "execution_count": 5,
   "metadata": {
    "id": "uEshrm0Gsxni"
   },
   "outputs": [
    {
     "ename": "SyntaxError",
     "evalue": "invalid syntax (<ipython-input-5-55c9879cd997>, line 1)",
     "output_type": "error",
     "traceback": [
      "\u001b[1;36m  File \u001b[1;32m\"<ipython-input-5-55c9879cd997>\"\u001b[1;36m, line \u001b[1;32m1\u001b[0m\n\u001b[1;33m    1a = 1\u001b[0m\n\u001b[1;37m     ^\u001b[0m\n\u001b[1;31mSyntaxError\u001b[0m\u001b[1;31m:\u001b[0m invalid syntax\n"
     ]
    }
   ],
   "source": [
    "1a = 1\n",
    "1a"
   ]
  },
  {
   "cell_type": "markdown",
   "metadata": {
    "id": "Z5mRKIgysxni"
   },
   "source": [
    "case6. 언더바를 제외한 특수문자(불가능)"
   ]
  },
  {
   "cell_type": "code",
   "execution_count": 6,
   "metadata": {
    "id": "JBIx3pTJsxni"
   },
   "outputs": [
    {
     "ename": "SyntaxError",
     "evalue": "invalid syntax (<ipython-input-6-3ef9262abf93>, line 1)",
     "output_type": "error",
     "traceback": [
      "\u001b[1;36m  File \u001b[1;32m\"<ipython-input-6-3ef9262abf93>\"\u001b[1;36m, line \u001b[1;32m1\u001b[0m\n\u001b[1;33m    a- = 1\u001b[0m\n\u001b[1;37m       ^\u001b[0m\n\u001b[1;31mSyntaxError\u001b[0m\u001b[1;31m:\u001b[0m invalid syntax\n"
     ]
    }
   ],
   "source": [
    "a- = 1\n",
    "a-"
   ]
  },
  {
   "cell_type": "markdown",
   "metadata": {
    "id": "qGtelfx2sxnj"
   },
   "source": [
    " case7. 변수 이름 사이에 공백 (불가능)"
   ]
  },
  {
   "cell_type": "code",
   "execution_count": 7,
   "metadata": {
    "id": "5ZjR26A-sxnj"
   },
   "outputs": [
    {
     "ename": "SyntaxError",
     "evalue": "invalid syntax (<ipython-input-7-4758083e3dc5>, line 1)",
     "output_type": "error",
     "traceback": [
      "\u001b[1;36m  File \u001b[1;32m\"<ipython-input-7-4758083e3dc5>\"\u001b[1;36m, line \u001b[1;32m1\u001b[0m\n\u001b[1;33m    a name = 'zoo'\u001b[0m\n\u001b[1;37m      ^\u001b[0m\n\u001b[1;31mSyntaxError\u001b[0m\u001b[1;31m:\u001b[0m invalid syntax\n"
     ]
    }
   ],
   "source": [
    "a name = 'zoo'\n",
    "a name"
   ]
  },
  {
   "cell_type": "markdown",
   "metadata": {
    "id": "8IKgKY8Nsxnj"
   },
   "source": [
    "주로 변수는 **소문자 알파벳으로 생성**하고, 필요시에 숫자를 붙히는 방식이 일반적"
   ]
  },
  {
   "cell_type": "code",
   "execution_count": 8,
   "metadata": {
    "id": "SEzMlGSVsxnj"
   },
   "outputs": [
    {
     "data": {
      "text/plain": [
       "2"
      ]
     },
     "execution_count": 8,
     "metadata": {},
     "output_type": "execute_result"
    }
   ],
   "source": [
    "a = 1\n",
    "a1 = 1\n",
    "a + a1"
   ]
  },
  {
   "cell_type": "markdown",
   "metadata": {
    "id": "sClmEs62sxnj"
   },
   "source": [
    "## 1.2 comment(주석)\n",
    "\n",
    "  - 코드에서 #으로 시작하는 뒷 부분은 실행되지 않음\n",
    "  \n",
    "  \n",
    "  - python이 소스코드를 실행하면서 #를 만나면 무시\n",
    "  \n",
    "  \n",
    "  - 개발자(사람)가 보기 위한 용도로 사용"
   ]
  },
  {
   "cell_type": "code",
   "execution_count": 9,
   "metadata": {
    "id": "o7B7GPnCsxnk"
   },
   "outputs": [],
   "source": [
    "# 이건 주석이다."
   ]
  },
  {
   "cell_type": "markdown",
   "metadata": {
    "id": "qoErsRSksxnk"
   },
   "source": [
    "## 1.3 indent(들여쓰기)\n",
    "- indent(들여쓰기)는 파이썬에서 굉장히 중요합니다. 단순히, 코드를 깔끔히 정리하기 위해서 들여쓰기를 하는 것은 아닙니다\n",
    "- 본인이 맞게 코드를 짰다고 한다면, indent는 자동으로 해줄 것입니다.\n",
    "- [tab]키를 한 번 누르면 indent가 1번 한 효과입니다."
   ]
  },
  {
   "cell_type": "code",
   "execution_count": 10,
   "metadata": {
    "id": "nshsjHYesxnk"
   },
   "outputs": [
    {
     "name": "stdout",
     "output_type": "stream",
     "text": [
      "홀수\n"
     ]
    }
   ],
   "source": [
    "num = 5\n",
    "\n",
    "if a % 2 == 1 :\n",
    "    print('홀수')\n",
    "else :\n",
    "    print('짝수')"
   ]
  },
  {
   "cell_type": "markdown",
   "metadata": {
    "id": "5RiWCnt3sxnk"
   },
   "source": [
    "## 1.4 intput(), print()\n",
    "\n",
    "-  **input()** \n",
    "    - 사용자 입력값을 받을 수 있다. 입력 받는 값은 문자열(str)이다.\n",
    "    - 정수로 사용하고 싶다면 int()사용\n",
    "    - int(intput())\n",
    "    \n",
    "\n",
    "- **print()**\n",
    "    - 각종 자료를 출력해주는 함수\n",
    "    - print() 구문 사이에 값을 넣으면, 바로 값이 출력\n",
    "    - print() 구문 사이에 변수이름을 넣으면, 변수 값이 출력\n",
    "    - print() : 빈줄 출력\n",
    "    - sep=’ ‘,  end = ‘\\n’ 이 기본으로 설정되어 있다. "
   ]
  },
  {
   "cell_type": "code",
   "execution_count": 12,
   "metadata": {
    "id": "DZoRMTf3sxnk"
   },
   "outputs": [
    {
     "name": "stdout",
     "output_type": "stream",
     "text": [
      "첫번째숫자 : 6\n",
      "두번째숫자 : 2\n",
      "8\n"
     ]
    }
   ],
   "source": [
    "a = int(input('첫번째숫자 : '))\n",
    "b = int(input('두번째숫자 : '))\n",
    "print(a+b)"
   ]
  },
  {
   "cell_type": "markdown",
   "metadata": {
    "id": "AqhR3WPUsxnl"
   },
   "source": [
    "# 2. Python Data types"
   ]
  },
  {
   "cell_type": "markdown",
   "metadata": {
    "id": "gvrQX-a0sxnl"
   },
   "source": [
    "## 2.1 Data Type이란?\n",
    "\n",
    "- 모든 프로그래밍 언어가 데이터를 다루기 위해 필요한 약속.\n",
    "\n",
    "\n",
    "- 프로그래밍 언어마다 조금씩 다르며, 어떤 프로그래밍 언어에 대해 배울 때 제일 먼저 익혀야 하는 필수 관문.\n",
    "\n",
    "\n",
    "- 프로그래밍 언어에서는 변수(Variable)에서 데이터를 저장/관리 하며 변수에 대한 개념을 통해 데이터를 사용할 수 있다.\n",
    "\n",
    "\n",
    "- type() 함수를 통해 데이터의 타입을 알수 있다."
   ]
  },
  {
   "cell_type": "code",
   "execution_count": 13,
   "metadata": {},
   "outputs": [
    {
     "data": {
      "text/plain": [
       "int"
      ]
     },
     "execution_count": 13,
     "metadata": {},
     "output_type": "execute_result"
    }
   ],
   "source": [
    "a = 1\n",
    "type(a)"
   ]
  },
  {
   "cell_type": "markdown",
   "metadata": {
    "id": "jDP7Bp2gsxnm"
   },
   "source": [
    "## 2.2 숫자 데이터 (Numeric Data Types)"
   ]
  },
  {
   "cell_type": "markdown",
   "metadata": {
    "id": "srxeJMnUsxnm"
   },
   "source": [
    "* 숫자형 데이터란, 정수/실수/복소수/2진수/8진수/16진수를 포함하며 가장 많이 사용하는 데이터 타입중에 하나다.\n",
    "\n",
    "\n",
    "* 파이썬은 숫자의 표현 범위가 무한대이다.\n",
    "\n",
    "\n",
    "* 숫자 데이터는 우리가 알고 있는 대부분의 연산을 그대로 지원한다. 사칙연산, 나머지 구하기, 몫 구하기, 거듭제곱 등"
   ]
  },
  {
   "cell_type": "markdown",
   "metadata": {
    "id": "HA8PUdLHsxnm"
   },
   "source": [
    "### 2.2.1 정수형 (Int) "
   ]
  },
  {
   "cell_type": "code",
   "execution_count": 16,
   "metadata": {
    "id": "_mlVnjRNsxnm"
   },
   "outputs": [
    {
     "name": "stdout",
     "output_type": "stream",
     "text": [
      "a는 참\n"
     ]
    }
   ],
   "source": [
    "a = 1\n",
    "# 숫자 1은 true, 0은 false 그래서 a는 참으로 인식을 함.\n",
    "if a :\n",
    "    print('a는 참')\n",
    "else :\n",
    "    print('a는 거짓')"
   ]
  },
  {
   "cell_type": "markdown",
   "metadata": {
    "id": "_kRoqpLBsxnm"
   },
   "source": [
    "### 2.2.2 실수형 (float)"
   ]
  },
  {
   "cell_type": "code",
   "execution_count": 20,
   "metadata": {
    "id": "iFv0h_tZsxnm"
   },
   "outputs": [
    {
     "name": "stdout",
     "output_type": "stream",
     "text": [
      "원의 둘레,  62.800000000000004\n",
      "원의 넓이,  314.0\n"
     ]
    }
   ],
   "source": [
    "c = 3.14\n",
    "r = 10\n",
    "\n",
    "# 원을 둘레는 2파이r\n",
    "# 원의 넓이는 파이r제곱\n",
    "\n",
    "print('원의 둘레, ', 2*c*r)\n",
    "print('원의 넓이, ', c*r*r)"
   ]
  },
  {
   "cell_type": "markdown",
   "metadata": {
    "id": "ojkXJAeJsxnn"
   },
   "source": [
    "## 2.3 불형(bool)\n",
    "- 참(True)이나 거짓(False)만 저장, 논리형이라고 한다."
   ]
  },
  {
   "cell_type": "code",
   "execution_count": 21,
   "metadata": {},
   "outputs": [
    {
     "data": {
      "text/plain": [
       "bool"
      ]
     },
     "execution_count": 21,
     "metadata": {},
     "output_type": "execute_result"
    }
   ],
   "source": [
    "a = True\n",
    "type(a)"
   ]
  },
  {
   "cell_type": "markdown",
   "metadata": {
    "id": "sEVSn47lsxnn"
   },
   "source": [
    "**연습문제1) 구구단 역순으로 출력하기**"
   ]
  },
  {
   "cell_type": "code",
   "execution_count": 25,
   "metadata": {},
   "outputs": [
    {
     "name": "stdout",
     "output_type": "stream",
     "text": [
      "9 * 9 = 81\n",
      "9 * 8 = 72\n",
      "9 * 7 = 63\n",
      "9 * 6 = 54\n",
      "9 * 5 = 45\n",
      "9 * 4 = 36\n",
      "9 * 3 = 27\n",
      "9 * 2 = 18\n",
      "9 * 1 = 9\n",
      "9 * 0 = 0\n",
      "8 * 9 = 72\n",
      "8 * 8 = 64\n",
      "8 * 7 = 56\n",
      "8 * 6 = 48\n",
      "8 * 5 = 40\n",
      "8 * 4 = 32\n",
      "8 * 3 = 24\n",
      "8 * 2 = 16\n",
      "8 * 1 = 8\n",
      "8 * 0 = 0\n",
      "7 * 9 = 63\n",
      "7 * 8 = 56\n",
      "7 * 7 = 49\n",
      "7 * 6 = 42\n",
      "7 * 5 = 35\n",
      "7 * 4 = 28\n",
      "7 * 3 = 21\n",
      "7 * 2 = 14\n",
      "7 * 1 = 7\n",
      "7 * 0 = 0\n",
      "6 * 9 = 54\n",
      "6 * 8 = 48\n",
      "6 * 7 = 42\n",
      "6 * 6 = 36\n",
      "6 * 5 = 30\n",
      "6 * 4 = 24\n",
      "6 * 3 = 18\n",
      "6 * 2 = 12\n",
      "6 * 1 = 6\n",
      "6 * 0 = 0\n",
      "5 * 9 = 45\n",
      "5 * 8 = 40\n",
      "5 * 7 = 35\n",
      "5 * 6 = 30\n",
      "5 * 5 = 25\n",
      "5 * 4 = 20\n",
      "5 * 3 = 15\n",
      "5 * 2 = 10\n",
      "5 * 1 = 5\n",
      "5 * 0 = 0\n",
      "4 * 9 = 36\n",
      "4 * 8 = 32\n",
      "4 * 7 = 28\n",
      "4 * 6 = 24\n",
      "4 * 5 = 20\n",
      "4 * 4 = 16\n",
      "4 * 3 = 12\n",
      "4 * 2 = 8\n",
      "4 * 1 = 4\n",
      "4 * 0 = 0\n",
      "3 * 9 = 27\n",
      "3 * 8 = 24\n",
      "3 * 7 = 21\n",
      "3 * 6 = 18\n",
      "3 * 5 = 15\n",
      "3 * 4 = 12\n",
      "3 * 3 = 9\n",
      "3 * 2 = 6\n",
      "3 * 1 = 3\n",
      "3 * 0 = 0\n",
      "2 * 9 = 18\n",
      "2 * 8 = 16\n",
      "2 * 7 = 14\n",
      "2 * 6 = 12\n",
      "2 * 5 = 10\n",
      "2 * 4 = 8\n",
      "2 * 3 = 6\n",
      "2 * 2 = 4\n",
      "2 * 1 = 2\n",
      "2 * 0 = 0\n",
      "1 * 9 = 9\n",
      "1 * 8 = 8\n",
      "1 * 7 = 7\n",
      "1 * 6 = 6\n",
      "1 * 5 = 5\n",
      "1 * 4 = 4\n",
      "1 * 3 = 3\n",
      "1 * 2 = 2\n",
      "1 * 1 = 1\n",
      "1 * 0 = 0\n",
      "0 * 9 = 0\n",
      "0 * 8 = 0\n",
      "0 * 7 = 0\n",
      "0 * 6 = 0\n",
      "0 * 5 = 0\n",
      "0 * 4 = 0\n",
      "0 * 3 = 0\n",
      "0 * 2 = 0\n",
      "0 * 1 = 0\n",
      "0 * 0 = 0\n"
     ]
    }
   ],
   "source": [
    "for i in range(9, -1, -1) :\n",
    "    for i2 in range(9, -1, -1) :\n",
    "        print(i, '*', i2, '=', i*i2)"
   ]
  },
  {
   "cell_type": "markdown",
   "metadata": {
    "id": "1GXkU4yHsxnn"
   },
   "source": [
    "**연습문제 2) 연도를 입력받아서 윤년인지 아닌지를 구분하는 프로그램**\n",
    "- 4로 나누어 떨어지는 해는 윤년으로 한다. (1988년, 1992년, 1996년, 2004년, 2008년, 2012년, 2016년, 2020년, 2024년, 2028년, 2032년, 2036년, 2040년, 2044년 ...)\n",
    "- 4, 100 으로 나누어 떨어지는 해는 평년으로 한다. (1900년, 2100년, 2200년, 2300년, 2500년...)\n",
    "- 4, 100, 400 으로 나누어 떨어지는 해는 윤년으로 둔다. (2000년, 2400년...)\n",
    "출처: 위키백과"
   ]
  },
  {
   "cell_type": "code",
   "execution_count": 57,
   "metadata": {},
   "outputs": [
    {
     "name": "stdout",
     "output_type": "stream",
     "text": [
      "원하는 해 : 600\n",
      "평년\n"
     ]
    }
   ],
   "source": [
    "# 버전 1\n",
    "year = int(input('원하는 해 : '))\n",
    "\n",
    "if year % 400 ==0 :\n",
    "    print('윤년')\n",
    "else :\n",
    "    if year % 100 == 0 :\n",
    "        print('평년')\n",
    "    else :\n",
    "        if year % 4 == 0 :\n",
    "            print('윤년')\n",
    "        else :\n",
    "            print('평년')"
   ]
  },
  {
   "cell_type": "code",
   "execution_count": 54,
   "metadata": {},
   "outputs": [
    {
     "name": "stdout",
     "output_type": "stream",
     "text": [
      "원하는 해 : 600\n",
      "평년\n"
     ]
    }
   ],
   "source": [
    "# 버전 2\n",
    "year = int(input('원하는 해 : '))\n",
    "\n",
    "if year % 400 == 0 :\n",
    "    print('윤년')\n",
    "elif year % 100 == 0 :\n",
    "    print('평년')\n",
    "elif year % 4 == 0 :\n",
    "    print('윤년')\n",
    "else : \n",
    "    print('평년')"
   ]
  },
  {
   "cell_type": "markdown",
   "metadata": {
    "id": "gqJuQU__sxnn"
   },
   "source": [
    "## 2.4 문자열(str)"
   ]
  },
  {
   "cell_type": "markdown",
   "metadata": {
    "id": "02LEqsgmsxnn"
   },
   "source": [
    "* 문자열 데이터란, 문자(character)의 나열을 의미한다. e.g. \"Hello world\"\n",
    "\n",
    "\n",
    "* 파이썬에 다룰 수 있는 문자열의 크기도 제한이 없다.\n",
    "\n",
    "\n",
    "* 파이썬에선 <kbd>'</kbd>와 <kbd>\"</kbd> 두 가지의 기호를 통해 문자열을 나타낸다. 즉 ' 부터 ' 까지 또는 \" 부터 \" 까지 하나의 문자열이다.\n",
    "e.g. 'Hello', \"World\"\n"
   ]
  },
  {
   "cell_type": "markdown",
   "metadata": {
    "id": "gF-ccfCdsxno"
   },
   "source": [
    "### 2.4.1 문자열을 만드는 여러가지 방법"
   ]
  },
  {
   "cell_type": "markdown",
   "metadata": {
    "id": "rIU3OZnGsxno"
   },
   "source": [
    "### 2.4.2 특수 문자 표현 (escape code) 익히기 \n",
    "- \\n, \\t, \\\", \\', \\b, \\\\"
   ]
  },
  {
   "cell_type": "code",
   "execution_count": 62,
   "metadata": {
    "id": "hikdq7k0sxno"
   },
   "outputs": [
    {
     "name": "stdout",
     "output_type": "stream",
     "text": [
      "동해물과 백두산이 마르고\n",
      "닳도록 하느님이 보우하사\n",
      "우리나라 만세 무궁화 삼천리\b\\화려강산 대한사람 대한으로 길이 보전하세\n"
     ]
    }
   ],
   "source": [
    "print('동해물과 백두산이 마르고\\n닳도록 하느님이 보우하사\\n우리나라 만세 무궁화 삼천리\\b\\화려강산 대한사람 대한으로 길이 보전하세')"
   ]
  },
  {
   "cell_type": "code",
   "execution_count": 64,
   "metadata": {},
   "outputs": [
    {
     "name": "stdout",
     "output_type": "stream",
     "text": [
      "동해물과 백두산이 마르고 닳도록 \n",
      "      하느님이 보우하사 우리나라 만세 \n",
      "      무궁화 삼천리 화려강산 대한사람 \n",
      "      대한으로 길이 보전하세\n"
     ]
    }
   ],
   "source": [
    "print('''동해물과 백두산이 마르고 닳도록 \n",
    "      하느님이 보우하사 우리나라 만세 \n",
    "      무궁화 삼천리 화려강산 대한사람 \n",
    "      대한으로 길이 보전하세''')"
   ]
  },
  {
   "cell_type": "code",
   "execution_count": 66,
   "metadata": {},
   "outputs": [
    {
     "data": {
      "text/plain": [
       "(\"i'm a boy\", '\"Python is very easy\" he says')"
      ]
     },
     "execution_count": 66,
     "metadata": {},
     "output_type": "execute_result"
    }
   ],
   "source": [
    "a = \"i'm a boy\"\n",
    "a2 = '\"Python is very easy\" he says'\n",
    "a, a2"
   ]
  },
  {
   "cell_type": "markdown",
   "metadata": {
    "id": "CIN4AQQTsxno"
   },
   "source": [
    "### 2.4.3 문자열 연산하기 \n",
    "- 문자열 연결 연산자 : +\n",
    "- 문자열 반복 연산자 : *\n",
    "- **문자열 선택 연산자(인덱싱) : [ ]**\n",
    "\n",
    "\n",
    "| H | e | l | l | o |   | W | o | r | l | d |\n",
    "| ---- | ---- | ---- | ---- | ---- | ---- | ---- | ---- |---- | ---- | ---- |\n",
    "|  [0] |  [1] |  [2] |  [3] |  [4] |  [5] |  [6] |  [7] | [8] |  [9] | [10] |\n",
    "|  [-11] |  [-10] |  [-9] |  [-8] |  [-7] |  [-6] |  [-5] |  [-4] | [-3] |  [-2] | [-1] |"
   ]
  },
  {
   "cell_type": "code",
   "execution_count": 77,
   "metadata": {},
   "outputs": [
    {
     "data": {
      "text/plain": [
       "'Hello Hello Hello '"
      ]
     },
     "execution_count": 77,
     "metadata": {},
     "output_type": "execute_result"
    }
   ],
   "source": [
    "s1 = 'Hello'\n",
    "s2 = 'World'\n",
    "\n",
    "s1 + ' ' + s2\n",
    "\n",
    "(s1 + ' ') * 3"
   ]
  },
  {
   "cell_type": "code",
   "execution_count": 4,
   "metadata": {},
   "outputs": [
    {
     "data": {
      "text/plain": [
       "'d'"
      ]
     },
     "execution_count": 4,
     "metadata": {},
     "output_type": "execute_result"
    }
   ],
   "source": [
    "s3 = 'hello world'\n",
    "s3[7]\n",
    "len(s3)\n",
    "s3[len(s3) - 1]"
   ]
  },
  {
   "cell_type": "markdown",
   "metadata": {
    "id": "IfTaawxFsxno"
   },
   "source": [
    "**연습문제2) 문자열을 입력 받아서 거꾸로 출력하는 프로그램**"
   ]
  },
  {
   "cell_type": "code",
   "execution_count": 7,
   "metadata": {},
   "outputs": [
    {
     "name": "stdout",
     "output_type": "stream",
     "text": [
      "dlrow olleh"
     ]
    }
   ],
   "source": [
    "# a = 'hello world'\n",
    "# b = len(a)\n",
    "\n",
    "# for i in range(0, b, 1) : \n",
    "#     print(s[i], end = '')\n",
    "    \n",
    "# for i in range(-1, -12, -1):\n",
    "#    print(s[i], end = '')\n",
    "a = 'hello world'\n",
    "b = len(a)\n",
    "\n",
    "for i in range(-1, -12, -1):\n",
    "    print(a[i], end = '')"
   ]
  },
  {
   "cell_type": "code",
   "execution_count": 160,
   "metadata": {
    "scrolled": true
   },
   "outputs": [
    {
     "name": "stdout",
     "output_type": "stream",
     "text": [
      "hello\n",
      "el\n",
      "lo wo\n",
      "llo world\n",
      "he\n",
      " worl\n",
      "hello world\n"
     ]
    }
   ],
   "source": [
    "a = 'hello world'\n",
    "\n",
    "print(a[0:5])\n",
    "print(a[1:3])\n",
    "print(a[3:8])\n",
    "print(a[2:])\n",
    "print(a[ :2])\n",
    "print(a[-6:-1])\n",
    "print(a[-11:])"
   ]
  },
  {
   "cell_type": "markdown",
   "metadata": {
    "id": "vjdD9mYUsxnp"
   },
   "source": [
    "### 2.4.4 문자열 숫자로 바꾸기\n",
    "- 문자열 -> 숫자형으로 변환해야 하는 경우는 많다. 캐스트(cast) 라고 한다.\n",
    "- type() : 자료형을 알아보는 함수\n",
    "- int(문자열) : 문자열 -> int\n",
    "- float(문자열) : 문자열 -> float"
   ]
  },
  {
   "cell_type": "code",
   "execution_count": 17,
   "metadata": {},
   "outputs": [
    {
     "name": "stdout",
     "output_type": "stream",
     "text": [
      "3.143.143.143.143.143.143.143.143.143.143.143.143.143.143.143.143.143.143.143.14\n",
      "62.800000000000004\n"
     ]
    },
    {
     "ename": "ValueError",
     "evalue": "invalid literal for int() with base 10: 'hello'",
     "output_type": "error",
     "traceback": [
      "\u001b[1;31m---------------------------------------------------------------------------\u001b[0m",
      "\u001b[1;31mValueError\u001b[0m                                Traceback (most recent call last)",
      "\u001b[1;32m<ipython-input-17-dab859287f31>\u001b[0m in \u001b[0;36m<module>\u001b[1;34m\u001b[0m\n\u001b[0;32m     14\u001b[0m \u001b[0mprint\u001b[0m\u001b[1;33m(\u001b[0m\u001b[1;36m2\u001b[0m\u001b[1;33m*\u001b[0m\u001b[0mfloat_c\u001b[0m\u001b[1;33m*\u001b[0m\u001b[1;36m10\u001b[0m\u001b[1;33m)\u001b[0m\u001b[1;33m\u001b[0m\u001b[1;33m\u001b[0m\u001b[0m\n\u001b[0;32m     15\u001b[0m \u001b[1;33m\u001b[0m\u001b[0m\n\u001b[1;32m---> 16\u001b[1;33m \u001b[0mint_a\u001b[0m \u001b[1;33m=\u001b[0m \u001b[0mint\u001b[0m\u001b[1;33m(\u001b[0m\u001b[0ma\u001b[0m\u001b[1;33m)\u001b[0m\u001b[1;33m\u001b[0m\u001b[1;33m\u001b[0m\u001b[0m\n\u001b[0m\u001b[0;32m     17\u001b[0m \u001b[0mprint\u001b[0m\u001b[1;33m(\u001b[0m\u001b[0mint_a\u001b[0m\u001b[1;33m)\u001b[0m\u001b[1;33m\u001b[0m\u001b[1;33m\u001b[0m\u001b[0m\n",
      "\u001b[1;31mValueError\u001b[0m: invalid literal for int() with base 10: 'hello'"
     ]
    }
   ],
   "source": [
    "a = 'hello'\n",
    "b = '10'\n",
    "c = '3.14'\n",
    "\n",
    "type(a)\n",
    "\n",
    "b * 3\n",
    "\n",
    "int_b = int(b)\n",
    "type(int_b)\n",
    "\n",
    "float_c = float(c)\n",
    "print(2*c*10)\n",
    "print(2*float_c*10)\n",
    "\n",
    "# 문자는 숫자로 전환되지 않는다.\n",
    "int_a = int(a)\n",
    "print(int_a)"
   ]
  },
  {
   "cell_type": "markdown",
   "metadata": {
    "id": "5olf4Ovlsxnp"
   },
   "source": [
    "### 2.4.5 문자열 Formatting "
   ]
  },
  {
   "cell_type": "markdown",
   "metadata": {
    "id": "kXwPjOrysxnp"
   },
   "source": [
    "- 문자열을 출력할 때(print 함수를 이용하여) 특정 format을 지정하고 싶은 경우에는 어떻게 해야할까?\n",
    "\n",
    "e.g. OOO님의 주민등록번호는 XXXXXXX-XXXXXXX입니다."
   ]
  },
  {
   "cell_type": "markdown",
   "metadata": {
    "id": "eVuXu39dsxnp"
   },
   "source": [
    "- 문자열 포맷에는 크게 3가지가 있다. (기호에 맞게 사용하면 됩니다)\n",
    "\n",
    "\n",
    "1) print format 사용( %s : 문자열, %d : 십진수)\n",
    "\n",
    "> print(\"%s는 %d개 있다.\" % (\"사과\", 4))\n",
    "\n",
    "2) str.format 함수 사용\n",
    "\n",
    "> print(\"{}는 {}개 있다.\".format(\"사과\", 4))\n",
    "\n",
    "3) f-string (**)\n",
    "\n",
    "> apple = \"사과\", count = 4\n",
    "\n",
    "> print(f\"{apple}는 {count}개 있다.\")"
   ]
  },
  {
   "cell_type": "code",
   "execution_count": 30,
   "metadata": {},
   "outputs": [
    {
     "name": "stdout",
     "output_type": "stream",
     "text": [
      "사과는 45개 있다.\n"
     ]
    }
   ],
   "source": [
    "# 1.\n",
    "apple = '사과'\n",
    "count = 45\n",
    "\n",
    "print('%s는 %d개 있다.' %(apple, count))"
   ]
  },
  {
   "cell_type": "code",
   "execution_count": 32,
   "metadata": {},
   "outputs": [
    {
     "name": "stdout",
     "output_type": "stream",
     "text": [
      "원숭이 엉덩이는 빨개\n"
     ]
    }
   ],
   "source": [
    "# 원숭이 엉덩이는 빨개\n",
    "print('%s %s는 %s'%('원숭이', '엉덩이', '빨개'))"
   ]
  },
  {
   "cell_type": "code",
   "execution_count": 36,
   "metadata": {},
   "outputs": [
    {
     "name": "stdout",
     "output_type": "stream",
     "text": [
      "사과는 45개 있다.\n",
      "원숭이 엉덩이는 빨개\n",
      "사과는 45개 있다.\n"
     ]
    }
   ],
   "source": [
    "# 2.\n",
    "apple = '사과'\n",
    "count = 45\n",
    "\n",
    "print('{}는 {}개 있다.' .format('사과', 45))\n",
    "\n",
    "print('{} {}는 {}' .format('원숭이', '엉덩이', '빨개'))"
   ]
  },
  {
   "cell_type": "code",
   "execution_count": 37,
   "metadata": {},
   "outputs": [
    {
     "name": "stdout",
     "output_type": "stream",
     "text": [
      "사과는 45개 있다.\n"
     ]
    }
   ],
   "source": [
    "# 3.\n",
    "\n",
    "print(f'{apple}는 {count}개 있다.')"
   ]
  },
  {
   "cell_type": "markdown",
   "metadata": {
    "id": "OzKwaS_Bsxnp"
   },
   "source": [
    "**연습문제3) 개인정보를 사용자로부터 입력받아, 주민등록등본을 출력해주는 키오스크(Kiosk)용 프로그램을 제작하려고 한다. 입력받은 이름을 name이라는 변수에, 주민번호 앞자리를 id라는 변수에 입력받았다면, 주민등록등본에 어떻게 출력해야 할까?**"
   ]
  },
  {
   "cell_type": "code",
   "execution_count": 43,
   "metadata": {},
   "outputs": [
    {
     "name": "stdout",
     "output_type": "stream",
     "text": [
      "이름 : Tom\n",
      "주민번호 앞자리 : 201004\n",
      "이름 : Tom, 주민번호 : 2*******\n"
     ]
    }
   ],
   "source": [
    "name = input('이름 : ')\n",
    "id = input('주민번호 앞자리 : ')\n",
    "int_id = id[0]\n",
    "\n",
    "print('이름 : {}, 주민번호 : {}*******' .format(name, int_id))"
   ]
  },
  {
   "cell_type": "markdown",
   "metadata": {
    "id": "xHfbmA-1sxnq"
   },
   "source": [
    "### 2.4.6 문자열 관련 함수들  "
   ]
  },
  {
   "cell_type": "markdown",
   "metadata": {
    "id": "geHafss8sxnq"
   },
   "source": [
    "#### (영어) 대소문자 바꾸기 upper(), lower()"
   ]
  },
  {
   "cell_type": "code",
   "execution_count": 46,
   "metadata": {},
   "outputs": [
    {
     "data": {
      "text/plain": [
       "'HI'"
      ]
     },
     "execution_count": 46,
     "metadata": {},
     "output_type": "execute_result"
    }
   ],
   "source": [
    "s = 'hi'\n",
    "s.upper()"
   ]
  },
  {
   "cell_type": "code",
   "execution_count": 47,
   "metadata": {},
   "outputs": [
    {
     "data": {
      "text/plain": [
       "'hi'"
      ]
     },
     "execution_count": 47,
     "metadata": {},
     "output_type": "execute_result"
    }
   ],
   "source": [
    "s = 'HI'\n",
    "s.lower()"
   ]
  },
  {
   "cell_type": "markdown",
   "metadata": {
    "id": "402B1x8Msxnq"
   },
   "source": [
    "#### 문자 공백 지우기 strip() "
   ]
  },
  {
   "cell_type": "code",
   "execution_count": 49,
   "metadata": {
    "id": "FDyrueT3sxnq"
   },
   "outputs": [
    {
     "data": {
      "text/plain": [
       "'hi'"
      ]
     },
     "execution_count": 49,
     "metadata": {},
     "output_type": "execute_result"
    }
   ],
   "source": [
    "s = '          hi        '\n",
    "s.strip()"
   ]
  },
  {
   "cell_type": "markdown",
   "metadata": {
    "id": "GM8LJtRvsxnq"
   },
   "source": [
    "#### 문자열 삽입 join()"
   ]
  },
  {
   "cell_type": "code",
   "execution_count": 53,
   "metadata": {
    "id": "7Va4Rzm1sxnq"
   },
   "outputs": [
    {
     "name": "stdout",
     "output_type": "stream",
     "text": [
      "a**b**c**d\n",
      "ab**cd**ef\n",
      "ab\n",
      "cd\n",
      "ef\n"
     ]
    }
   ],
   "source": [
    "s = '**'\n",
    "print(s.join('abcd'))\n",
    "print(s.join(['ab', 'cd', 'ef']))\n",
    "print('\\n'.join(['ab', 'cd', 'ef']))"
   ]
  },
  {
   "cell_type": "markdown",
   "metadata": {
    "id": "R5Qp9JsQsxnr"
   },
   "source": [
    "#### 문자열  나누기 split()"
   ]
  },
  {
   "cell_type": "code",
   "execution_count": 54,
   "metadata": {
    "id": "fnCUoRwdsxnr"
   },
   "outputs": [
    {
     "data": {
      "text/plain": [
       "['life', 'is', 'too', 'short']"
      ]
     },
     "execution_count": 54,
     "metadata": {},
     "output_type": "execute_result"
    }
   ],
   "source": [
    "s = 'life is too short'\n",
    "s.split()"
   ]
  },
  {
   "cell_type": "code",
   "execution_count": 62,
   "metadata": {},
   "outputs": [
    {
     "name": "stdout",
     "output_type": "stream",
     "text": [
      "삼성전자/애플/샤오미\n",
      "['삼성전자', '애플', '샤오미']\n",
      "삼성전자,애플,샤오미\n"
     ]
    }
   ],
   "source": [
    "s1 = '삼성전자/애플/샤오미'\n",
    "print(s1)\n",
    "\n",
    "s2 = s1.split('/')\n",
    "print(s2)\n",
    "s3 = ',' .join(s2)\n",
    "print(s3)"
   ]
  },
  {
   "cell_type": "markdown",
   "metadata": {
    "id": "WXLOtMDKsxnr"
   },
   "source": [
    "#### 문자열 바꾸기 replace() "
   ]
  },
  {
   "cell_type": "code",
   "execution_count": 69,
   "metadata": {
    "id": "63cCTm2Rsxnr"
   },
   "outputs": [
    {
     "data": {
      "text/plain": [
       "'This pencil is too sort'"
      ]
     },
     "execution_count": 69,
     "metadata": {},
     "output_type": "execute_result"
    }
   ],
   "source": [
    "s = 'life is too sort'\n",
    "s.replace('life', 'This pencil')"
   ]
  },
  {
   "cell_type": "markdown",
   "metadata": {
    "id": "9-e7rNkhsxnr"
   },
   "source": [
    "#### format() 함수의 다양한 기능"
   ]
  },
  {
   "cell_type": "code",
   "execution_count": 107,
   "metadata": {
    "id": "RHApcQ-Msxns"
   },
   "outputs": [
    {
     "name": "stdout",
     "output_type": "stream",
     "text": [
      "2 + 2 * 4\n",
      "52\n"
     ]
    }
   ],
   "source": [
    "a = '{} + {} * {}'.format(2, 2, 2*2)\n",
    "print(a)\n",
    "\n",
    "b = '{:d}' .format(52)\n",
    "print(b)"
   ]
  },
  {
   "cell_type": "code",
   "execution_count": 81,
   "metadata": {},
   "outputs": [
    {
     "name": "stdout",
     "output_type": "stream",
     "text": [
      "   52\n",
      "        52\n",
      "00052\n",
      "-0052\n"
     ]
    }
   ],
   "source": [
    "# 특정 칸에 출력\n",
    "b = '{:5d}' .format(52)\n",
    "print(b)\n",
    "\n",
    "b = '{:10d}' .format(52)\n",
    "print(b)\n",
    "\n",
    "#빈칸을 0을 채우기\n",
    "b = '{:05d}' .format(52)\n",
    "print(b)\n",
    "\n",
    "b = '{:05d}' .format(-52)\n",
    "print(b)"
   ]
  },
  {
   "cell_type": "code",
   "execution_count": 102,
   "metadata": {},
   "outputs": [
    {
     "name": "stdout",
     "output_type": "stream",
     "text": [
      "52\n",
      "-52\n",
      "  +52\n",
      "  -52\n",
      "+  52\n",
      "-  52\n",
      "+0052\n",
      "-0052\n"
     ]
    }
   ],
   "source": [
    "# 조합하기\n",
    "\n",
    "b = '{:d}' .format(52)\n",
    "print(b)\n",
    "\n",
    "b = '{:d}' .format(-52)\n",
    "print(b)\n",
    "\n",
    "# 부호를 뒤로 밀기\n",
    "b = '{:+5d}' .format(52)\n",
    "print(b)\n",
    "\n",
    "b = '{:5d}' .format(-52)\n",
    "print(b)\n",
    "\n",
    "# 부호를 앞으로 밀기\n",
    "b = '{:=+5d}' .format(52)\n",
    "print(b)\n",
    "\n",
    "b = '{:=5d}' .format(-52)\n",
    "print(b)\n",
    "\n",
    "# 부호를 앞으로 밀고 그 빈칸에 0을 채우기\n",
    "b = '{:+05d}' .format(52)\n",
    "print(b)\n",
    "\n",
    "b = '{:05d}' .format(-52)\n",
    "print(b)"
   ]
  },
  {
   "cell_type": "code",
   "execution_count": 124,
   "metadata": {},
   "outputs": [
    {
     "name": "stdout",
     "output_type": "stream",
     "text": [
      "52.334000\n",
      "      52.334000\n",
      "     +52.334000\n",
      "+0000052.334000\n"
     ]
    }
   ],
   "source": [
    "# 소수점으로 출력\n",
    "a = '{:f}' .format(52.334)\n",
    "print(a)\n",
    "\n",
    "a = '{:15f}' .format(52.334)\n",
    "print(a)\n",
    "\n",
    "a = '{:+15f}' .format(52.334)\n",
    "print(a)\n",
    "\n",
    "a = '{:+015f}' .format(52.334)\n",
    "print(a)"
   ]
  },
  {
   "cell_type": "code",
   "execution_count": 118,
   "metadata": {},
   "outputs": [
    {
     "name": "stdout",
     "output_type": "stream",
     "text": [
      "        +52.337\n",
      "         +52.34\n",
      "          +52.3\n"
     ]
    }
   ],
   "source": [
    "a = '{:+15.3f}' .format(52.337)\n",
    "print(a)\n",
    "\n",
    "a = '{:+15.2f}' .format(52.337)\n",
    "print(a)\n",
    "\n",
    "a = '{:+15.1f}' .format(52.337)\n",
    "print(a)"
   ]
  },
  {
   "cell_type": "code",
   "execution_count": 125,
   "metadata": {},
   "outputs": [
    {
     "name": "stdout",
     "output_type": "stream",
     "text": [
      "52.0\n",
      "52\n"
     ]
    }
   ],
   "source": [
    "# 의미없는 소수점 제거하기\n",
    "a = 52.0\n",
    "b = '{:g}' .format(a)\n",
    "\n",
    "print(a)\n",
    "print(b)"
   ]
  },
  {
   "cell_type": "markdown",
   "metadata": {
    "id": "N51Kq8hcsxns"
   },
   "source": [
    "# 3. 실전문제"
   ]
  },
  {
   "cell_type": "markdown",
   "metadata": {
    "id": "fpPrZGA6sxns"
   },
   "source": [
    "**실전1. 학점계산기**\n",
    "- andy는 1학기 중간고사의 학점을 알고싶다.\n",
    "- andy가 중간고사 때 수강한 과목과 학점은 다음과 같다.\n",
    "| 기초수학(3) | 프로그래밍(3) | 자료구조(2) | 글쓰기(3) |\n",
    "| --- | --- | --- | --- |\n",
    "| A | C | B+ | A+ |\n",
    "\n",
    "\n",
    "- 과목이름 옆 괄호에 있는 숫자는 학점 수이고, 4.5만점 기준으로 성적이 계산된다.\n",
    "> e.g. <b>A+ : 4.5,   A : 4.0,   B+ : 3.5,   B : 3.0,   C+ : 2.5,   C : 2.0,   F : 0</b>\n",
    "\n",
    "- 계산 공식은 다음과 같다.\n",
    "> (3 x A + 3 x C + 2 x B+ + 3 x A+) / (3+3+2+3) = (3 x 4.5 + 3 x 2.0 + 2 x 3.5 + 3 x 4.0) / 학점의 합계"
   ]
  },
  {
   "cell_type": "code",
   "execution_count": 126,
   "metadata": {
    "id": "oQO7_48rsxns"
   },
   "outputs": [
    {
     "name": "stdout",
     "output_type": "stream",
     "text": [
      "3.5\n"
     ]
    }
   ],
   "source": [
    "grade = {'A+' : 4.5, 'A' : 4.0, 'B+' : 3.5, 'B' : 3.0, 'C+' : 2.5, 'C' : 2.0, 'F' : 0}\n",
    "point = {'기초수학' : 3, '프로그래밍' : 3, '자료구조' : 2, '글쓰기' : 3}\n",
    "\n",
    "m = grade['A']*3\n",
    "s = grade['C']*3\n",
    "p = grade['B+']*2\n",
    "w = grade['A+']*3\n",
    "\n",
    "add_point = point['기초수학'] + point['프로그래밍'] + point['자료구조'] + point['글쓰기']\n",
    "\n",
    "andy_grade = (m+s+p+w) / add_point\n",
    "print(andy_grade)"
   ]
  },
  {
   "cell_type": "markdown",
   "metadata": {
    "id": "fNCDSYg6sxns"
   },
   "source": [
    "**실전2 : 십의 자리 구하기**\n",
    "- 숫자 하나를 입력 받는다.(숫자는 무조건 두 자리 이상의 자연수\n",
    "- 입력받은 숫자의 십의 자리수를 출력한다.\n",
    "- hint : str인덱스를 이용하여 구하는 방법, 숫자 연산을 통해 구하는 방법"
   ]
  },
  {
   "cell_type": "code",
   "execution_count": 128,
   "metadata": {
    "id": "7kCLMtYKsxnt"
   },
   "outputs": [
    {
     "name": "stdout",
     "output_type": "stream",
     "text": [
      "숫자 : 2356\n",
      "5\n",
      "숫자 : 21029457\n",
      "5\n"
     ]
    }
   ],
   "source": [
    "a = input('숫자 : ')\n",
    "\n",
    "print(a[-2])\n",
    "\n",
    "b = int(input('숫자 : '))\n",
    "\n",
    "c = b % 100 // 10\n",
    "print(c)"
   ]
  },
  {
   "cell_type": "markdown",
   "metadata": {
    "id": "zdZzfUtWsxnt"
   },
   "source": [
    "**실전3 : 주민등록번호 가리기**\n",
    "- 주민등록번호가 하나 주어집니다.\n",
    "- 뒤에 6자리를 *로 만들어서 소중한 정보를 지키세요"
   ]
  },
  {
   "cell_type": "code",
   "execution_count": 1,
   "metadata": {
    "id": "rvpMHf1osxnt"
   },
   "outputs": [
    {
     "name": "stdout",
     "output_type": "stream",
     "text": [
      "주민번호 : 201123-1111111\n"
     ]
    },
    {
     "ename": "AttributeError",
     "evalue": "'str' object has no attribute 'foramt'",
     "output_type": "error",
     "traceback": [
      "\u001b[1;31m---------------------------------------------------------------------------\u001b[0m",
      "\u001b[1;31mAttributeError\u001b[0m                            Traceback (most recent call last)",
      "\u001b[1;32m<ipython-input-1-838ef9864f01>\u001b[0m in \u001b[0;36m<module>\u001b[1;34m\u001b[0m\n\u001b[0;32m      3\u001b[0m \u001b[1;31m#s_id = id[:-6]+ '*' * 6\u001b[0m\u001b[1;33m\u001b[0m\u001b[1;33m\u001b[0m\u001b[1;33m\u001b[0m\u001b[0m\n\u001b[0;32m      4\u001b[0m \u001b[1;31m#print(s_id)\u001b[0m\u001b[1;33m\u001b[0m\u001b[1;33m\u001b[0m\u001b[1;33m\u001b[0m\u001b[0m\n\u001b[1;32m----> 5\u001b[1;33m \u001b[0ms_id\u001b[0m \u001b[1;33m=\u001b[0m \u001b[1;34m'{}'\u001b[0m \u001b[1;33m.\u001b[0m\u001b[0mforamt\u001b[0m\u001b[1;33m(\u001b[0m\u001b[0mid\u001b[0m\u001b[1;33m[\u001b[0m\u001b[1;33m:\u001b[0m\u001b[1;33m-\u001b[0m\u001b[1;36m6\u001b[0m\u001b[1;33m]\u001b[0m\u001b[1;33m+\u001b[0m\u001b[1;34m'*'\u001b[0m\u001b[1;33m*\u001b[0m\u001b[1;36m6\u001b[0m\u001b[1;33m)\u001b[0m\u001b[1;33m\u001b[0m\u001b[1;33m\u001b[0m\u001b[0m\n\u001b[0m",
      "\u001b[1;31mAttributeError\u001b[0m: 'str' object has no attribute 'foramt'"
     ]
    }
   ],
   "source": [
    "id = input('주민번호 : ')\n",
    "\n",
    "#s_id = id[:-6]+ '*' * 6\n",
    "#print(s_id)\n",
    "s_id = '{}' .foramt(id[:-6]+'*'*6)"
   ]
  },
  {
   "cell_type": "code",
   "execution_count": null,
   "metadata": {},
   "outputs": [],
   "source": []
  }
 ],
 "metadata": {
  "colab": {
   "name": "002. 데이터타입(int, float,str)_before.ipynb",
   "provenance": []
  },
  "kernelspec": {
   "display_name": "Python 3",
   "language": "python",
   "name": "python3"
  },
  "language_info": {
   "codemirror_mode": {
    "name": "ipython",
    "version": 3
   },
   "file_extension": ".py",
   "mimetype": "text/x-python",
   "name": "python",
   "nbconvert_exporter": "python",
   "pygments_lexer": "ipython3",
   "version": "3.8.5"
  },
  "toc": {
   "base_numbering": 1,
   "nav_menu": {},
   "number_sections": false,
   "sideBar": true,
   "skip_h1_title": false,
   "title_cell": "Table of Contents",
   "title_sidebar": "Contents",
   "toc_cell": false,
   "toc_position": {
    "height": "calc(100% - 180px)",
    "left": "10px",
    "top": "150px",
    "width": "384px"
   },
   "toc_section_display": true,
   "toc_window_display": true
  }
 },
 "nbformat": 4,
 "nbformat_minor": 1
}
