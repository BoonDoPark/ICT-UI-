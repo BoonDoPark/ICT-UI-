{
 "cells": [
  {
   "cell_type": "markdown",
   "metadata": {
    "id": "LEnEM8rNmWZm"
   },
   "source": [
    "# 1. 산술연산자\n",
    "\n",
    "## 1.1 가장 기본적인 연산자. 사칙연산(+, - , *, /)이 기본\n",
    "\n",
    "## 1.2 조금 생소할 수 있는 연산자\n",
    "- % : 몫을 나눈 나머지를 구함\n",
    "- // : 나눔셈에 대한 몫을 정수형으로 구함\n",
    "- ** : 제곱연산"
   ]
  },
  {
   "cell_type": "code",
   "execution_count": 1,
   "metadata": {
    "id": "_kkDlpmjmWZs"
   },
   "outputs": [
    {
     "data": {
      "text/plain": [
       "1"
      ]
     },
     "execution_count": 1,
     "metadata": {},
     "output_type": "execute_result"
    }
   ],
   "source": [
    "a = 10\n",
    "b = 3\n",
    "a % b"
   ]
  },
  {
   "cell_type": "code",
   "execution_count": 5,
   "metadata": {},
   "outputs": [
    {
     "data": {
      "text/plain": [
       "3.3333333333333335"
      ]
     },
     "execution_count": 5,
     "metadata": {},
     "output_type": "execute_result"
    }
   ],
   "source": [
    "a / b"
   ]
  },
  {
   "cell_type": "code",
   "execution_count": 3,
   "metadata": {},
   "outputs": [
    {
     "data": {
      "text/plain": [
       "3"
      ]
     },
     "execution_count": 3,
     "metadata": {},
     "output_type": "execute_result"
    }
   ],
   "source": [
    "a // b"
   ]
  },
  {
   "cell_type": "code",
   "execution_count": 4,
   "metadata": {},
   "outputs": [
    {
     "data": {
      "text/plain": [
       "1000"
      ]
     },
     "execution_count": 4,
     "metadata": {},
     "output_type": "execute_result"
    }
   ],
   "source": [
    "a ** b"
   ]
  },
  {
   "cell_type": "markdown",
   "metadata": {
    "id": "BaY-wkq1mWZt"
   },
   "source": [
    "## 1.3 산술연산자의 우선 순위\n",
    "- *, /를 먼저 계산하며, ()를 활용할 수 있다."
   ]
  },
  {
   "cell_type": "code",
   "execution_count": 6,
   "metadata": {
    "id": "iV3fC7XdmWZt",
    "outputId": "51bdba4a-53b0-4e0b-d410-72d98ad042f3"
   },
   "outputs": [
    {
     "data": {
      "text/plain": [
       "550"
      ]
     },
     "execution_count": 6,
     "metadata": {},
     "output_type": "execute_result"
    }
   ],
   "source": [
    "(100 + 10) *5"
   ]
  },
  {
   "cell_type": "markdown",
   "metadata": {
    "id": "jXQOWzV-mWZv"
   },
   "source": [
    "## 1.4 산술연산자와 대입연산자\n",
    "\n",
    "| 연산자 | 사용 예 | 설명 | 연산자 | 사용 예 | 설명 | \n",
    "| --- | --- | --- | --- | --- | --- | \n",
    "| += | a += 3 | a = a+3 | -= | a -= 3 | a = a-3 \n",
    "| *= | a *= 3 | a = a*3 | /= | a /= 3 | a = a/3 |\n",
    "| //= | a //= 3 | a = a//3 |  %= | a %= 3 | a = a%3 |\n",
    "| **= | a **= 3 | a = a**3 |\n"
   ]
  },
  {
   "cell_type": "markdown",
   "metadata": {
    "id": "KRrOrlpfmWZv"
   },
   "source": [
    "**연습문제1) 동전교환 프로그램**\n",
    "- 금액을 입력 받아서 동전으로 바꿔주는 프로그램"
   ]
  },
  {
   "cell_type": "code",
   "execution_count": 28,
   "metadata": {
    "id": "MrjCNsaOmWZv"
   },
   "outputs": [
    {
     "name": "stdout",
     "output_type": "stream",
     "text": [
      "금액을 입력하세요 : 3782\n",
      "500원 : 7개\n",
      "100원 : 2개\n",
      "50원 : 1개\n",
      "10원 : 3개\n",
      "남은 금액은 2입니다.\n"
     ]
    }
   ],
   "source": [
    "# 입력 : 금액(정수형)\n",
    "# 처리 : 전체 금액 \n",
    "# 출력 : 500원 : 개, 100원 : 100개,.....\n",
    "money = int(input(\"금액을 입력하세요 : \"))\n",
    "\n",
    "coin500 = money // 500\n",
    "money %= 500\n",
    "coin100 = money // 100\n",
    "money %= 100\n",
    "coin50 = money // 50\n",
    "money %= 50\n",
    "coin10 =  money // 10\n",
    "money %= 10\n",
    "\n",
    "print('500원 : {0}개\\n100원 : {1}개\\n50원 : {2}개\\n10원 : {3}개' .format(coin500, coin100, coin50, coin10))\n",
    "print('남은 금액은 {}입니다.' .format(money))"
   ]
  },
  {
   "cell_type": "markdown",
   "metadata": {
    "id": "hE-YGV5rmWZw"
   },
   "source": [
    "# 2. 비교(관계)연산자\n",
    "- == : 같다.\n",
    "- != : 같지 않다."
   ]
  },
  {
   "cell_type": "code",
   "execution_count": 38,
   "metadata": {
    "id": "K5zSbDq5mWZw"
   },
   "outputs": [
    {
     "name": "stdout",
     "output_type": "stream",
     "text": [
      "False\n",
      "True\n",
      "False True False False True True\n"
     ]
    }
   ],
   "source": [
    "a, b = 100, 200\n",
    "\n",
    "if a == b :\n",
    "    print('True')\n",
    "else :\n",
    "    print('False')\n",
    "    \n",
    "    \n",
    "a, b = 100, 200\n",
    "\n",
    "if a != b :\n",
    "    print('True')\n",
    "else :\n",
    "    print('False')\n",
    "    \n",
    "print(a == b, a != b, a >= b, a > b, a < b, a <= b)"
   ]
  },
  {
   "cell_type": "markdown",
   "metadata": {
    "id": "UjeeQGCKmWZw"
   },
   "source": [
    "# 3. 논리연산자\n",
    "\n",
    "| 연산자 | 의미 | 설명   | 사용 예   |\n",
    "| --- | --- | --- | --- |\n",
    "| and(논리곱) | ~이고, 그리고 | 둘 다 참이어야 함 | (a>100) and (a<200)\n",
    "| or(논리합) | ~이거나, 또는 | 둘 중 하나만 참이어도 참 | (a==100) or (a==200)\n",
    "| not(논리부정) | ~아니다. 부정 | 참이면 거짓, 거짓이면 참 | not(a>100)"
   ]
  },
  {
   "cell_type": "code",
   "execution_count": 47,
   "metadata": {
    "id": "T2DXjK4NmWZx"
   },
   "outputs": [
    {
     "name": "stdout",
     "output_type": "stream",
     "text": [
      "False\n",
      "True\n"
     ]
    },
    {
     "data": {
      "text/plain": [
       "False"
      ]
     },
     "execution_count": 47,
     "metadata": {},
     "output_type": "execute_result"
    }
   ],
   "source": [
    "a = 99\n",
    "\n",
    "print((a > 100) and (a < 200))\n",
    "print((a > 100) or (a < 200))\n",
    "not (a == 99)"
   ]
  },
  {
   "cell_type": "markdown",
   "metadata": {
    "id": "AI5KIt0qmWZx"
   },
   "source": [
    "# 4. 연산자 우선순위\n",
    "\n",
    "| 순위 | <center>연산자</center> | <center>의미</center>  |\n",
    "|---:|:--- |:---| \n",
    "| 1 | ( )  [ ]  { }| 괄호, 리스트, 딕셔너리, 세트 등 |\n",
    "| 2 | ** | 지수 |\n",
    "| 3 | + -  | 단항연산자(숫자나, 변수앞에 붙는 +, - 부호)  |\n",
    "| 4 | * / % // | 산술연산자  |\n",
    "| 5 | + - | 산술연산자 |\n",
    "| 6 | < > >= <= | 관계연산자 |\n",
    "| 7 | == != | 관계연산자 |\n",
    "| 8 | = %= /= //= -= += \\*= \\*\\*= | 대입연산자 |\n",
    "| 9 | not | 논리연산자 |\n",
    "| 10 | and | 논리연산자 |\n",
    "| 11 | or | 논리연산자 |\n",
    "| 12 | if ~ else | 비교식 |\n"
   ]
  },
  {
   "cell_type": "markdown",
   "metadata": {
    "id": "00lzCVBNmWZx"
   },
   "source": [
    "# 4.실전문제"
   ]
  },
  {
   "cell_type": "markdown",
   "metadata": {
    "id": "ztpVuyiDmWZx"
   },
   "source": [
    "**실전1 : 돈(예 : 7777777)을 입력하면 5만원, 1만원, 5천원, 천원 지폐로 교환하는 프로그램 만들기**"
   ]
  },
  {
   "cell_type": "code",
   "execution_count": 105,
   "metadata": {
    "id": "zQybDILLmWZy"
   },
   "outputs": [
    {
     "name": "stdout",
     "output_type": "stream",
     "text": [
      "넣을 금액 : 245665\n",
      "5만원 : 4개\n",
      "1만원 : 4개\n",
      "오천원 : 1개\n",
      "천원 : 0개\n",
      "남은 금액은 665원입니다.\n"
     ]
    }
   ],
   "source": [
    "money = int(input('넣을 금액 : '))\n",
    "\n",
    "money50000 = money // 50000\n",
    "money %= 50000\n",
    "money10000 = money // 10000\n",
    "money %= 10000\n",
    "money5000 = money // 5000\n",
    "money %= 5000\n",
    "money1000 = money // 1000\n",
    "money %= 1000\n",
    "\n",
    "print('5만원 : {0}개\\n1만원 : {1}개\\n오천원 : {2}개\\n천원 : {3}개' .format(money50000, money10000, money5000, money1000))\n",
    "print('남은 금액은 {}원입니다.' .format(money))"
   ]
  },
  {
   "cell_type": "code",
   "execution_count": 106,
   "metadata": {},
   "outputs": [
    {
     "name": "stdout",
     "output_type": "stream",
     "text": [
      "넣을 금액 : 1050000\n",
      "5만원 : 1개\n",
      "1만원 : 100개\n",
      "오천원 : 0개\n",
      "천원 : 0개\n",
      "남은 금액은 0원입니다.\n"
     ]
    }
   ],
   "source": [
    "# 만원만 100장먼저 뜨게 하고 싶을때를 전제로 출력하자.\n",
    "money = int(input('넣을 금액 : '))\n",
    "\n",
    "if 10000 * 100 > money :\n",
    "    print('금액이 부족합니다.')\n",
    "else : \n",
    "    money10000 = 100\n",
    "money = money - (money10000 * 10000)\n",
    "\n",
    "money50000 = money // 50000\n",
    "money %= 50000\n",
    "money5000 = money // 5000\n",
    "money %= 5000\n",
    "money1000 = money // 1000\n",
    "money %= 1000\n",
    "\n",
    "print('5만원 : {0}개\\n1만원 : {1}개\\n오천원 : {2}개\\n천원 : {3}개' .format(money50000, money10000, money5000, money1000))\n",
    "print('남은 금액은 {}원입니다.' .format(money))"
   ]
  },
  {
   "cell_type": "markdown",
   "metadata": {
    "id": "6IM7ghvBmWZy"
   },
   "source": [
    "**실전 2 : 윤년 계산하기 프로그램**\n",
    "- 논리 연산자를 이용하여 업그레이드 된 윤년 계산기 만들기\n",
    "- 4로 나누어 떨어지는 해는 윤년으로 한다. (1988년, 1992년, 1996년, 2004년, 2008년, 2012년, 2016년, 2020년, 2024년, 2028년, 2032년, 2036년, 2040년, 2044년 ...)\n",
    "- 4, 100 으로 나누어 떨어지는 해는 평년으로 한다. (1900년, 2100년, 2200년, 2300년, 2500년...)\n",
    "- 4, 100, 400 으로 나누어 떨어지는 해는 윤년으로 둔다. (2000년, 2400년...)\n",
    "출처: 위키백과\n",
    "\n",
    "==> 종합하면 **4의 배수이면서 100의 배수가 아니거나**, **400의 배수**면 윤년이다."
   ]
  },
  {
   "cell_type": "code",
   "execution_count": 107,
   "metadata": {
    "id": "Li8yA7unmWZy"
   },
   "outputs": [
    {
     "name": "stdout",
     "output_type": "stream",
     "text": [
      "년도 : 1917\n",
      "1917년은 평년입니다.\n"
     ]
    }
   ],
   "source": [
    "y = int(input('년도 : '))\n",
    "\n",
    "if y % 4 == 0 and y % 100 != 0 or y % 400 == 0 :\n",
    "    print('%d년은 윤년입니다.' % y)\n",
    "else :\n",
    "    print('%d년은 평년입니다.' % y)"
   ]
  }
 ],
 "metadata": {
  "colab": {
   "name": "003.연산자_before.ipynb",
   "provenance": []
  },
  "kernelspec": {
   "display_name": "Python 3",
   "language": "python",
   "name": "python3"
  },
  "language_info": {
   "codemirror_mode": {
    "name": "ipython",
    "version": 3
   },
   "file_extension": ".py",
   "mimetype": "text/x-python",
   "name": "python",
   "nbconvert_exporter": "python",
   "pygments_lexer": "ipython3",
   "version": "3.8.5"
  },
  "toc": {
   "base_numbering": 1,
   "nav_menu": {},
   "number_sections": false,
   "sideBar": true,
   "skip_h1_title": false,
   "title_cell": "Table of Contents",
   "title_sidebar": "Contents",
   "toc_cell": false,
   "toc_position": {
    "height": "calc(100% - 180px)",
    "left": "10px",
    "top": "150px",
    "width": "253.729px"
   },
   "toc_section_display": true,
   "toc_window_display": false
  }
 },
 "nbformat": 4,
 "nbformat_minor": 1
}
