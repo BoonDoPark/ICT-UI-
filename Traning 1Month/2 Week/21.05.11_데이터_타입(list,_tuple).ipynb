{
 "cells": [
  {
   "cell_type": "markdown",
   "metadata": {
    "id": "2FH0Z7enmWax"
   },
   "source": [
    "# 연속형 데이터 (Sequential Data Types)"
   ]
  },
  {
   "cell_type": "markdown",
   "metadata": {
    "id": "VJuhLu-ymWaz"
   },
   "source": [
    "**Q. 숫자 100개를 한번에 다루려고 한다. <=> 하나의 변수에 숫자 100개를 저장하고 싶다. 어떻게 해야할까?**\n",
    "\n",
    "*A. 연속형 데이터 타입을 사용하자!*"
   ]
  },
  {
   "cell_type": "markdown",
   "metadata": {
    "id": "Kr1Ty7FymWa0"
   },
   "source": [
    " "
   ]
  },
  {
   "cell_type": "markdown",
   "metadata": {
    "id": "nMxcVCJHmWa0"
   },
   "source": [
    "* 연속형 데이터란, 하나의 변수가 하나의 데이터를 가지고 있던 숫자형 데이터와 달리, 여러개의 데이터를 하나의 변수에 가지고 있는 데이터 타입이다.\n",
    "\n",
    "\n",
    "* 연속형 데이터 타입에는 list, tuple, set, dict(dictionary), str(string)이 있다. (문자열을 문자들의 나열로 인식하기 때문에, 연속형 데이터이다.)\n",
    "\n",
    "\n",
    "* 연속형 데이터의 크기 제한은 없다. 하지만, 사용하는 컴퓨터의 가용 메모리 용량을 인지하며 사용해야 한다.\n",
    "\n",
    "\n",
    "* 각 연속형 데이터 타입마다 특징이 다르다. 그 특징을 파악하여 용도에 맞는 데이터 타입을 사용하는 것이 중요하다."
   ]
  },
  {
   "cell_type": "markdown",
   "metadata": {
    "id": "AN4qrixsmWa0"
   },
   "source": [
    "# 1. 리스트(list)\n",
    "\n",
    "\n",
    "* 가장 많이 사용되는 연속형 데이터 타입이자, 굉장히 유연한 구조를 가지고 있어 대부분의 데이터를 편하게 다룰 수 있다.\n",
    "\n",
    "\n",
    "* 파이썬에서 <kbd>[</kbd> 와 <kbd>]</kbd>를 이용하여 표현한다. a = [1, 2, 3]\n",
    "\n",
    "\n",
    "* 리스트의 원소는 쉼표로 구분되며, 리스트의 원소(요소, 값..)는 아무 데이터 타입이나 가능하다. 리스트조차 가능하다.\n",
    "\n",
    "\n",
    "* 리스트를 이용하면 파이썬에서 다루는 대부분의 데이터는 아무 무리없이 다룰 수 있다. 하지만 수정이 자유롭기 때문에 수정을 하면 안되는 경우에는 사용하면 안된다."
   ]
  },
  {
   "cell_type": "markdown",
   "metadata": {
    "id": "JlQxTp6omWa1"
   },
   "source": [
    "## 1.1 리스트를 만드는 방법"
   ]
  },
  {
   "cell_type": "code",
   "execution_count": 8,
   "metadata": {
    "id": "6UxJpB8nmWa1"
   },
   "outputs": [
    {
     "data": {
      "text/plain": [
       "[]"
      ]
     },
     "execution_count": 8,
     "metadata": {},
     "output_type": "execute_result"
    }
   ],
   "source": [
    "list_a = [10, 20, 30, 40, 50]\n",
    "list_a\n",
    "\n",
    "# 빈 리스트\n",
    "# 1.\n",
    "list_b = []\n",
    "list_b\n",
    "type(list_b)\n",
    "\n",
    "# 2.\n",
    "list_c = list()\n",
    "list_c"
   ]
  },
  {
   "cell_type": "code",
   "execution_count": 15,
   "metadata": {},
   "outputs": [
    {
     "data": {
      "text/plain": [
       "[[1, 2], [3, 4]]"
      ]
     },
     "execution_count": 15,
     "metadata": {},
     "output_type": "execute_result"
    }
   ],
   "source": [
    "# 리스트에는 다양한 타비의 원소를 포함할 수 있다.\n",
    "list_d = [1, 2, 'hello', 3.14, [10, 20, 30]]\n",
    "list_d\n",
    "\n",
    "list_e = [[1, 2],\n",
    "        [3, 4]]\n",
    "list_e"
   ]
  },
  {
   "cell_type": "markdown",
   "metadata": {
    "id": "yji9xKExmWa1"
   },
   "source": [
    "### 1.1.1  Indexing (**) "
   ]
  },
  {
   "cell_type": "markdown",
   "metadata": {
    "id": "x94GEvATmWa2"
   },
   "source": [
    "- 연속형 데이터들은 하나의 변수에 여러가지 데이터를 가지기 때문에 여러 데이터를 접근하는 방법이 필요하다.\n",
    "\n",
    "\n",
    "- 이를 위해 indexing이라는 기법이 있다. 말그대로 index를 통해 접근(access)하는 방법이다.\n",
    "\n",
    "\n",
    "- 리스트의 index는 맨 앞부터 0으로 시작하며, 1씩 증가하는 정수 index를 사용한다.\n",
    "\n",
    "\n",
    "- list_a = [ 10, 20, 30, 40, 50 ] 이면 첫번째 원소는 index가 0이고, 두번째 원소는 index가 1이다.\n",
    "\n",
    " \n",
    "- 파이썬에서는 음수 index도 제공하는데, 이는 뒤쪽부터 접근할 수 있는 방법이다. \n",
    "\n",
    "\n",
    "- 뒤에서 첫번째(맨 마지막)원소는 index가 -1이고, 뒤에서 두번째 원소는 index가 -2이다.\n",
    "\n",
    "\n",
    "- index를 통해 접근하는 방법은 해당 변수이름에 []를 사용하며, []안에 index를 넣어서 접근할 수 있다.\n",
    "\n",
    "\n",
    "| 10 | 20 | 30 | 40 | 50 | \n",
    "| ---- | ---- | ---- | ---- | ---- |\n",
    "|  [0] |  [1] |  [2] |  [3] |  [4] | \n",
    "|  [-5] |  [-4] |  [-3] |  [-2] |  [-1] | "
   ]
  },
  {
   "cell_type": "code",
   "execution_count": 95,
   "metadata": {
    "id": "h_y2auefmWa2"
   },
   "outputs": [
    {
     "name": "stdout",
     "output_type": "stream",
     "text": [
      "10\n",
      "50\n",
      "50\n",
      "50\n",
      "50\n"
     ]
    }
   ],
   "source": [
    "list_a = [10, 20 ,30, 40, 50]\n",
    "list_a\n",
    "\n",
    "# 첫번째 원소 인덱싱\n",
    "print(list_a[0])\n",
    "\n",
    "# 다섯번째 원소 인덱싱\n",
    "print(list_a[4])\n",
    "print(list_a[-1])\n",
    "\n",
    "# 리스트의 마지막 원소\n",
    "print(list_a[-1])\n",
    "print(list_a[len(list_a)-1])"
   ]
  },
  {
   "cell_type": "code",
   "execution_count": 41,
   "metadata": {},
   "outputs": [
    {
     "data": {
      "text/plain": [
       "40"
      ]
     },
     "execution_count": 41,
     "metadata": {},
     "output_type": "execute_result"
    }
   ],
   "source": [
    "list_a[0] + list_a[2]"
   ]
  },
  {
   "cell_type": "code",
   "execution_count": 43,
   "metadata": {},
   "outputs": [
    {
     "data": {
      "text/plain": [
       "8"
      ]
     },
     "execution_count": 43,
     "metadata": {},
     "output_type": "execute_result"
    }
   ],
   "source": [
    "list_b = [1, 2, [3, 4], 5, [6, 7, 8]]\n",
    "list_b\n",
    "\n",
    "# 3\n",
    "list_b[2][0]\n",
    "\n",
    "# 8\n",
    "list_b[4][2]"
   ]
  },
  {
   "cell_type": "markdown",
   "metadata": {
    "id": "TIB295awmWa2"
   },
   "source": [
    "### 1.1.2 Slicing (**) "
   ]
  },
  {
   "cell_type": "markdown",
   "metadata": {
    "id": "VO-QLxIJmWa3"
   },
   "source": [
    "**슬라이싱은 리스트에서 뿐만 아니라, 리스트와 비슷한 구조인 numpy array와 pandas series, dataframe에서도 많이 이용되니 꼭 알아두어야 한다.**\n",
    "\n",
    "- 슬라이싱은 리스트의 일부분만 잘라낸다는 의미이다. (말그대로 슬라이싱)\n",
    "\n",
    "\n",
    "- 리스트의 일부만 사용하고 싶을 때 쓰는 기법이며, indexing을 범위로 하는 느낌이다.\n",
    "\n",
    "\n",
    "- 리스트의 index와 <kbd>:</kbd>를 사용하여 슬라이싱을 할 수 있다.\n",
    "\n",
    "\n",
    "- 리스트[시작인덱스 : 끝인덱스+1 : 증가값)\n",
    "\n",
    "\n",
    "- list_a = [10, 20, 30, 40]일때list_a[0:2:1]는 [10, 20]이다."
   ]
  },
  {
   "cell_type": "code",
   "execution_count": 68,
   "metadata": {
    "id": "asoYwvIEmWa3"
   },
   "outputs": [
    {
     "name": "stdout",
     "output_type": "stream",
     "text": [
      "[10, 20]\n",
      "[10, 20]\n",
      "[10, 20]\n"
     ]
    }
   ],
   "source": [
    "lsit_a = [10, 20, 30, 40, 50]\n",
    "list_a\n",
    "\n",
    "print(list_a[0 : 2 : 1])\n",
    "print(list_a[0 : 2])\n",
    "print(list_a[ : 2])"
   ]
  },
  {
   "cell_type": "code",
   "execution_count": 67,
   "metadata": {},
   "outputs": [
    {
     "name": "stdout",
     "output_type": "stream",
     "text": [
      "[10, 20, 30, 40, 50]\n",
      "[30, 40, 50]\n",
      "[30, 40, 50]\n"
     ]
    }
   ],
   "source": [
    "print(list_a[:len(list_a):1])\n",
    "print(list_a[2:len(list_a)])\n",
    "print(list_a[2:])"
   ]
  },
  {
   "cell_type": "code",
   "execution_count": 76,
   "metadata": {},
   "outputs": [
    {
     "name": "stdout",
     "output_type": "stream",
     "text": [
      "[1, 2, 3, 4, 5, 6, 7, 8, 9, 10]\n",
      "[1, 3, 5, 7, 9]\n",
      "[1, 3, 5, 7, 9]\n",
      "[2, 4, 6, 8, 10]\n"
     ]
    }
   ],
   "source": [
    "list_b = [1, 2, 3, 4, 5, 6, 7, 8, 9, 10]\n",
    "print(list_b)\n",
    "\n",
    "print(list_b[0:len(list_b):2])\n",
    "print(list_b[::2])\n",
    "print(list_b[1::2])"
   ]
  },
  {
   "cell_type": "markdown",
   "metadata": {
    "id": "hg6mXnCBmWa3"
   },
   "source": [
    "## 1.2 리스트 연산하기 "
   ]
  },
  {
   "cell_type": "markdown",
   "metadata": {
    "id": "5N0VE06PmWa3"
   },
   "source": [
    "> 문자열때와 마찬가지로, 리스트도 더하기, 곱하기 연산이 존재한다. 어떤 의미일지 생각해보자."
   ]
  },
  {
   "cell_type": "markdown",
   "metadata": {
    "id": "kdlJa-O4mWa4"
   },
   "source": [
    "### 1.2.1 리스트 더하기  -> 연결"
   ]
  },
  {
   "cell_type": "code",
   "execution_count": 79,
   "metadata": {
    "id": "R_Tb44BomWa4"
   },
   "outputs": [
    {
     "name": "stdout",
     "output_type": "stream",
     "text": [
      "[10, 20, 30, 40, 50, 60]\n"
     ]
    }
   ],
   "source": [
    "list_a = [10, 20, 30]\n",
    "list_b = [40, 50, 60]\n",
    "print(list_a + list_b)"
   ]
  },
  {
   "cell_type": "markdown",
   "metadata": {
    "id": "7njYhqJLmWa4"
   },
   "source": [
    "- 리스트명.extend(추가할 리스트)"
   ]
  },
  {
   "cell_type": "code",
   "execution_count": 81,
   "metadata": {
    "id": "Rer4Bt_WmWa4"
   },
   "outputs": [
    {
     "name": "stdout",
     "output_type": "stream",
     "text": [
      "[10, 20, 30]\n",
      "[10, 20, 30, 60, 70]\n"
     ]
    }
   ],
   "source": [
    "list_a = [10, 20, 30]\n",
    "print(list_a)\n",
    "\n",
    "list_a.extend([60, 70])\n",
    "print(list_a)"
   ]
  },
  {
   "cell_type": "markdown",
   "metadata": {
    "id": "0S542sdmmWa4"
   },
   "source": [
    "### 1.2.2 리스트 곱하기 -> 반복"
   ]
  },
  {
   "cell_type": "code",
   "execution_count": 82,
   "metadata": {
    "id": "fCdrfr_2mWa5"
   },
   "outputs": [
    {
     "data": {
      "text/plain": [
       "[10, 20, 30, 60, 70, 10, 20, 30, 60, 70, 10, 20, 30, 60, 70]"
      ]
     },
     "execution_count": 82,
     "metadata": {},
     "output_type": "execute_result"
    }
   ],
   "source": [
    "list_a*3"
   ]
  },
  {
   "cell_type": "markdown",
   "metadata": {
    "id": "g6-oYlwgmWa5"
   },
   "source": [
    "### 1.2.3 리스트 수정하기 "
   ]
  },
  {
   "cell_type": "code",
   "execution_count": 85,
   "metadata": {
    "id": "5XQ8t6NPmWa5"
   },
   "outputs": [
    {
     "data": {
      "text/plain": [
       "[1000, 20, 30, 40, 50]"
      ]
     },
     "execution_count": 85,
     "metadata": {},
     "output_type": "execute_result"
    }
   ],
   "source": [
    "list_a [0] = 1000\n",
    "list_a"
   ]
  },
  {
   "cell_type": "markdown",
   "metadata": {
    "id": "Z_SRhT-CmWa5"
   },
   "source": [
    "## 1.3 리스트 관련 함수"
   ]
  },
  {
   "cell_type": "markdown",
   "metadata": {
    "id": "cSDliK91mWa5"
   },
   "source": [
    "### 1.3.1 리스트에 원소 추가하기 : \n",
    "- 리스트명.append(값)\n",
    "- 리스트명.insert(인덱스, 값)"
   ]
  },
  {
   "cell_type": "code",
   "execution_count": 90,
   "metadata": {
    "id": "5LsByC24mWa6"
   },
   "outputs": [
    {
     "data": {
      "text/plain": [
       "[10, 20, 30, 40, 50]"
      ]
     },
     "execution_count": 90,
     "metadata": {},
     "output_type": "execute_result"
    }
   ],
   "source": [
    "a = []\n",
    "a.append(10)\n",
    "a.append(20)\n",
    "a.append(30)\n",
    "a.append(40)\n",
    "a.append(50)\n",
    "a"
   ]
  },
  {
   "cell_type": "code",
   "execution_count": 93,
   "metadata": {},
   "outputs": [
    {
     "data": {
      "text/plain": [
       "[10, 20, 30, 100, 40, 50]"
      ]
     },
     "execution_count": 93,
     "metadata": {},
     "output_type": "execute_result"
    }
   ],
   "source": [
    "# 출력할때마다 100이 생기는 오류발생\n",
    "a.insert(3, 100)\n",
    "a"
   ]
  },
  {
   "cell_type": "code",
   "execution_count": null,
   "metadata": {},
   "outputs": [],
   "source": [
    "# 오류를 해결\n",
    "a = [10, 20, 30, 40, 50]\n",
    "a.insert(3, 100)\n",
    "a"
   ]
  },
  {
   "cell_type": "markdown",
   "metadata": {
    "id": "Ggv3An3AmWa6"
   },
   "source": [
    "### 1.3.2 리스트에 원소 삭제하기 \n",
    "\n",
    "- 리스트명.remove(값)\n",
    "- del(리스트명[인덱스])\n",
    "- 리스트명.pop(인덱스), 리스트명.pop()\n",
    "- 리스트.clear() : 모두 제거"
   ]
  },
  {
   "cell_type": "code",
   "execution_count": 123,
   "metadata": {
    "id": "TQQvrTj9mWa6"
   },
   "outputs": [
    {
     "name": "stdout",
     "output_type": "stream",
     "text": [
      "[10, 20, 30, 50, 60, 70, 80, 90]\n",
      "[20, 30, 50, 60, 70, 80, 90]\n",
      "[20, 30, 60, 70, 80, 90]\n",
      "[20, 30, 60, 70, 80]\n",
      "[]\n"
     ]
    }
   ],
   "source": [
    "a = [10, 20, 30, 40, 50, 60, 70, 80, 90]\n",
    "\n",
    "a.remove(40)\n",
    "print(a)\n",
    "\n",
    "del(a[0])\n",
    "print(a)\n",
    "\n",
    "a.pop(2)\n",
    "print(a)\n",
    "\n",
    "a.pop()\n",
    "print(a)\n",
    "\n",
    "a.clear()\n",
    "print(a)"
   ]
  },
  {
   "cell_type": "markdown",
   "metadata": {
    "id": "0s1CKfhJmWa6"
   },
   "source": [
    "### 1.3.3 리스트 원소 정렬하기 : 리스트명.sort() "
   ]
  },
  {
   "cell_type": "code",
   "execution_count": 165,
   "metadata": {
    "id": "TKwjISjmmWa6"
   },
   "outputs": [
    {
     "name": "stdout",
     "output_type": "stream",
     "text": [
      "[10, 40, 50, 20, 90, 70]\n",
      "[10, 20, 40, 50, 70, 90]\n",
      "[90, 70, 50, 40, 20, 10]\n"
     ]
    }
   ],
   "source": [
    "a = [10, 40, 50, 20, 90, 70]\n",
    "print(a)\n",
    "\n",
    "# 오름차순\n",
    "a.sort()\n",
    "print(a)\n",
    "\n",
    "# 내림차순\n",
    "a = [10, 40, 50, 20, 90, 70]\n",
    "a.sort(reverse = True)\n",
    "print(a)"
   ]
  },
  {
   "cell_type": "code",
   "execution_count": 190,
   "metadata": {},
   "outputs": [
    {
     "name": "stdout",
     "output_type": "stream",
     "text": [
      "1번째 수 : 2\n",
      "2번째 수 : 6\n",
      "3번째 수 : 5\n",
      "4번째 수 : 9\n",
      "5번째 수 : 1\n",
      "입력받은 데이터 :  [2, 6, 5, 9, 1]\n",
      "정렬결과 :  [1, 2, 5, 6, 9]\n"
     ]
    }
   ],
   "source": [
    "# 5개의 숫자를 입력받아서 오름차순으로 정렬하기\n",
    "a = []\n",
    "for i in range(1, 6):\n",
    "    a.append(int(input('{}번째 수 : '.format(i))))\n",
    "\n",
    "print('입력받은 데이터 : ', a)\n",
    "a.sort()\n",
    "print('정렬결과 : ', a)"
   ]
  },
  {
   "cell_type": "code",
   "execution_count": 5,
   "metadata": {},
   "outputs": [
    {
     "name": "stdout",
     "output_type": "stream",
     "text": [
      "[10, 20, 30, 40, 50]\n",
      "[10, 20, 30, 40, 50] [10, 30, 50, 40, 20]\n"
     ]
    }
   ],
   "source": [
    "d = [10, 30, 50, 40, 20]\n",
    "d.sort()\n",
    "print(d)\n",
    "\n",
    "# 원래의 데이터를 건드리지않고 싶은 경우sorted\n",
    "d = [10, 30, 50, 40, 20]\n",
    "a = sorted(d)\n",
    "print(a, d)"
   ]
  },
  {
   "cell_type": "markdown",
   "metadata": {
    "id": "PkSWs1lumWa6"
   },
   "source": [
    "### 1.3.4 리스트 뒤집기(정렬 X) reverse()"
   ]
  },
  {
   "cell_type": "code",
   "execution_count": 6,
   "metadata": {},
   "outputs": [
    {
     "name": "stdout",
     "output_type": "stream",
     "text": [
      "[42, 'hello', 4, 34]\n"
     ]
    }
   ],
   "source": [
    "a =[34, 4, 'hello', 42]\n",
    "\n",
    "a.reverse()\n",
    "print(a)"
   ]
  },
  {
   "cell_type": "markdown",
   "metadata": {
    "id": "5CVndas1mWa7"
   },
   "source": [
    "#### 2. 튜플(Tuple)\n",
    "\n",
    "- tuple은 list과 거의 같다.\n",
    "\n",
    "\n",
    "- 거의 같은데, 다른 점이 딱 2가지 있다. 읽기 전용\n",
    "\n",
    "\n",
    "\n",
    "\n",
    "**1) 리스트는 []를 사용하고, 튜플은 ()을 사용한다.**\n",
    "\n",
    "**2) 리스트는 생성 후에 변경이 가능하고(mutable) 튜플은 생성 후에 변경이 불가능하다.(immutable)**\n",
    "\n",
    " "
   ]
  },
  {
   "cell_type": "code",
   "execution_count": 7,
   "metadata": {
    "id": "EcgJ3RGOmWa7"
   },
   "outputs": [
    {
     "data": {
      "text/plain": [
       "tuple"
      ]
     },
     "execution_count": 7,
     "metadata": {},
     "output_type": "execute_result"
    }
   ],
   "source": [
    "tuple_a = (1, 2, 3, 4, 5)\n",
    "type(tuple_a)"
   ]
  },
  {
   "cell_type": "code",
   "execution_count": 8,
   "metadata": {},
   "outputs": [
    {
     "data": {
      "text/plain": [
       "tuple"
      ]
     },
     "execution_count": 8,
     "metadata": {},
     "output_type": "execute_result"
    }
   ],
   "source": [
    "tuple_a = 1, 2, 3, 4, 5\n",
    "type(tuple_a)"
   ]
  },
  {
   "cell_type": "code",
   "execution_count": 10,
   "metadata": {},
   "outputs": [
    {
     "data": {
      "text/plain": [
       "(1, 'korea', 3.5, 6)"
      ]
     },
     "execution_count": 10,
     "metadata": {},
     "output_type": "execute_result"
    }
   ],
   "source": [
    "a = (1, 'korea', 3.5, 6)\n",
    "a"
   ]
  },
  {
   "cell_type": "code",
   "execution_count": 11,
   "metadata": {},
   "outputs": [
    {
     "data": {
      "text/plain": [
       "(1, 'korea', 3.5, 4.5)"
      ]
     },
     "execution_count": 11,
     "metadata": {},
     "output_type": "execute_result"
    }
   ],
   "source": [
    "a = (1, 'korea', 3.5, (4.5))\n",
    "a"
   ]
  },
  {
   "cell_type": "code",
   "execution_count": 14,
   "metadata": {},
   "outputs": [
    {
     "data": {
      "text/plain": [
       "tuple"
      ]
     },
     "execution_count": 14,
     "metadata": {},
     "output_type": "execute_result"
    }
   ],
   "source": [
    "b = (3,)\n",
    "type(b)"
   ]
  },
  {
   "cell_type": "code",
   "execution_count": 15,
   "metadata": {},
   "outputs": [
    {
     "data": {
      "text/plain": [
       "10"
      ]
     },
     "execution_count": 15,
     "metadata": {},
     "output_type": "execute_result"
    }
   ],
   "source": [
    "tuple_a = 1, 4, 5, 10\n",
    "\n",
    "tuple_a[-1]"
   ]
  },
  {
   "cell_type": "code",
   "execution_count": 16,
   "metadata": {},
   "outputs": [
    {
     "ename": "TypeError",
     "evalue": "'tuple' object does not support item assignment",
     "output_type": "error",
     "traceback": [
      "\u001b[1;31m---------------------------------------------------------------------------\u001b[0m",
      "\u001b[1;31mTypeError\u001b[0m                                 Traceback (most recent call last)",
      "\u001b[1;32m<ipython-input-16-ea5796ef463c>\u001b[0m in \u001b[0;36m<module>\u001b[1;34m\u001b[0m\n\u001b[1;32m----> 1\u001b[1;33m \u001b[0mtuple_a\u001b[0m\u001b[1;33m[\u001b[0m\u001b[1;36m0\u001b[0m\u001b[1;33m]\u001b[0m \u001b[1;33m=\u001b[0m \u001b[1;36m100\u001b[0m\u001b[1;33m\u001b[0m\u001b[1;33m\u001b[0m\u001b[0m\n\u001b[0m",
      "\u001b[1;31mTypeError\u001b[0m: 'tuple' object does not support item assignment"
     ]
    }
   ],
   "source": [
    "tuple_a[0] = 100"
   ]
  },
  {
   "cell_type": "code",
   "execution_count": 18,
   "metadata": {},
   "outputs": [
    {
     "ename": "AttributeError",
     "evalue": "'tuple' object has no attribute 'append'",
     "output_type": "error",
     "traceback": [
      "\u001b[1;31m---------------------------------------------------------------------------\u001b[0m",
      "\u001b[1;31mAttributeError\u001b[0m                            Traceback (most recent call last)",
      "\u001b[1;32m<ipython-input-18-26509c1c3694>\u001b[0m in \u001b[0;36m<module>\u001b[1;34m\u001b[0m\n\u001b[1;32m----> 1\u001b[1;33m \u001b[0mtuple_a\u001b[0m\u001b[1;33m.\u001b[0m\u001b[0mappend\u001b[0m\u001b[1;33m(\u001b[0m\u001b[1;36m1\u001b[0m\u001b[1;33m)\u001b[0m\u001b[1;33m\u001b[0m\u001b[1;33m\u001b[0m\u001b[0m\n\u001b[0m",
      "\u001b[1;31mAttributeError\u001b[0m: 'tuple' object has no attribute 'append'"
     ]
    }
   ],
   "source": [
    "tuple_a.append(1)"
   ]
  },
  {
   "cell_type": "code",
   "execution_count": 19,
   "metadata": {},
   "outputs": [
    {
     "ename": "AttributeError",
     "evalue": "'tuple' object has no attribute 'remove'",
     "output_type": "error",
     "traceback": [
      "\u001b[1;31m---------------------------------------------------------------------------\u001b[0m",
      "\u001b[1;31mAttributeError\u001b[0m                            Traceback (most recent call last)",
      "\u001b[1;32m<ipython-input-19-bbc123eccc7d>\u001b[0m in \u001b[0;36m<module>\u001b[1;34m\u001b[0m\n\u001b[1;32m----> 1\u001b[1;33m \u001b[0mtuple_a\u001b[0m\u001b[1;33m.\u001b[0m\u001b[0mremove\u001b[0m\u001b[1;33m(\u001b[0m\u001b[1;36m1\u001b[0m\u001b[1;33m)\u001b[0m\u001b[1;33m\u001b[0m\u001b[1;33m\u001b[0m\u001b[0m\n\u001b[0m",
      "\u001b[1;31mAttributeError\u001b[0m: 'tuple' object has no attribute 'remove'"
     ]
    }
   ],
   "source": [
    "tuple_a.remove(1)"
   ]
  },
  {
   "cell_type": "code",
   "execution_count": 23,
   "metadata": {},
   "outputs": [
    {
     "name": "stdout",
     "output_type": "stream",
     "text": [
      "('a', 'b') 1622812740608\n",
      "('A', 'B') 1622812844480\n"
     ]
    }
   ],
   "source": [
    "# 값이 변화한 것 같지만 사실은 id주소가 다른 튜플이다.\n",
    "tuple_a = ('a', 'b')\n",
    "print(tuple_a, id(tuple_a))\n",
    "\n",
    "tuple_a = ('A', 'B')\n",
    "print(tuple_a, id(tuple_a))\n"
   ]
  },
  {
   "cell_type": "code",
   "execution_count": 27,
   "metadata": {},
   "outputs": [
    {
     "name": "stdout",
     "output_type": "stream",
     "text": [
      "100 200 hello\n"
     ]
    }
   ],
   "source": [
    "a, b, c = 100, 200, 'hello'\n",
    "print(a, b, c)"
   ]
  },
  {
   "cell_type": "code",
   "execution_count": 26,
   "metadata": {},
   "outputs": [
    {
     "name": "stdout",
     "output_type": "stream",
     "text": [
      "<class 'int'>\n",
      "<class 'int'>\n",
      "<class 'str'>\n"
     ]
    }
   ],
   "source": [
    "print(type(a))\n",
    "print(type(b))\n",
    "print(type(c))"
   ]
  }
 ],
 "metadata": {
  "colab": {
   "name": "004. 데이터 타입(list, tuple)_before.ipynb",
   "provenance": []
  },
  "kernelspec": {
   "display_name": "Python 3",
   "language": "python",
   "name": "python3"
  },
  "language_info": {
   "codemirror_mode": {
    "name": "ipython",
    "version": 3
   },
   "file_extension": ".py",
   "mimetype": "text/x-python",
   "name": "python",
   "nbconvert_exporter": "python",
   "pygments_lexer": "ipython3",
   "version": "3.8.5"
  },
  "toc": {
   "base_numbering": 1,
   "nav_menu": {},
   "number_sections": false,
   "sideBar": true,
   "skip_h1_title": false,
   "title_cell": "Table of Contents",
   "title_sidebar": "Contents",
   "toc_cell": false,
   "toc_position": {
    "height": "calc(100% - 180px)",
    "left": "10px",
    "top": "150px",
    "width": "203px"
   },
   "toc_section_display": true,
   "toc_window_display": true
  }
 },
 "nbformat": 4,
 "nbformat_minor": 1
}
