{
 "cells": [
  {
   "cell_type": "code",
   "execution_count": 21,
   "metadata": {},
   "outputs": [
    {
     "name": "stdout",
     "output_type": "stream",
     "text": [
      "[1, 2, 3, 4, 5, 6]\n",
      "[1, 2, 3, 4, 5]\n",
      "[1, 2, 3, 4, 'a', 5]\n",
      "[1, 2, 4, 'a', 5]\n",
      "[1, 2, 4, 'a']\n",
      "[1, 2, 4, 'a', 10, 11, 12]\n"
     ]
    }
   ],
   "source": [
    "list = [1, 2, 3, 4, 5]\n",
    "\n",
    "dlist = list\n",
    "\n",
    "dlist.append(6)\n",
    "print(dlist)\n",
    "\n",
    "dlist.pop()\n",
    "print(dlist)\n",
    "\n",
    "dlist.insert(4, 'a')\n",
    "print(dlist)\n",
    "\n",
    "dlist.remove(3)\n",
    "print(dlist)\n",
    "\n",
    "del dlist[4]\n",
    "print(dlist)\n",
    "\n",
    "dlist.extend([10, 11, 12])\n",
    "print(dlist)"
   ]
  },
  {
   "cell_type": "code",
   "execution_count": 35,
   "metadata": {},
   "outputs": [
    {
     "name": "stdout",
     "output_type": "stream",
     "text": [
      "deque([1, 2, 3])\n",
      "2\n"
     ]
    }
   ],
   "source": [
    "import queue\n",
    "\n",
    "q = queue.Queue()\n",
    "\n",
    "q.put(1)\n",
    "q.put(2)\n",
    "q.put(3)\n",
    "print(q.queue)\n",
    "q.get()\n",
    "a = q.get()\n",
    "print(a)\n",
    "\n"
   ]
  },
  {
   "cell_type": "code",
   "execution_count": 38,
   "metadata": {},
   "outputs": [
    {
     "name": "stdout",
     "output_type": "stream",
     "text": [
      "<queue.Queue object at 0x00000216C5BC4E20>\n"
     ]
    }
   ],
   "source": [
    "from queue import Queue\n",
    "q = Queue()\n",
    "print(q)"
   ]
  },
  {
   "cell_type": "code",
   "execution_count": 43,
   "metadata": {},
   "outputs": [
    {
     "name": "stdout",
     "output_type": "stream",
     "text": [
      "deque([3])\n"
     ]
    }
   ],
   "source": [
    "from collections import deque\n",
    "dq = deque()\n",
    "dq.append(1)\n",
    "dq.appendleft(3)\n",
    "dq.pop()\n",
    "# dq.popleft()\n",
    "print(dq)"
   ]
  },
  {
   "cell_type": "code",
   "execution_count": 49,
   "metadata": {},
   "outputs": [
    {
     "name": "stdout",
     "output_type": "stream",
     "text": [
      "deque([5, 1, 4, 10])\n"
     ]
    }
   ],
   "source": [
    "import collections\n",
    "\n",
    "dq = collections.deque()\n",
    "dq.append(5)\n",
    "dq.extend([1, 4, 10])\n",
    "\n",
    "print(dq)"
   ]
  },
  {
   "cell_type": "code",
   "execution_count": 5,
   "metadata": {},
   "outputs": [
    {
     "name": "stdout",
     "output_type": "stream",
     "text": [
      "<class 'tuple'>\n",
      "[1, 2, 3, 3]\n",
      "(1, 2, 3, 3)\n"
     ]
    }
   ],
   "source": [
    "t1 = tuple()\n",
    "t1 = (1, 2, 3)\n",
    "print(type(t1))\n",
    "# t1[2] = 'A'\n",
    "# t1.append(3)\n",
    "\n",
    "t1 = list(t1)\n",
    "t1.append(3)\n",
    "print(t1)\n",
    "\n",
    "t1 = tuple(t1)\n",
    "print(t1)"
   ]
  },
  {
   "cell_type": "code",
   "execution_count": 27,
   "metadata": {},
   "outputs": [
    {
     "name": "stdout",
     "output_type": "stream",
     "text": [
      "{1, 2, 3, 4, 5, 6, 7, 8, 9}\n",
      "set()\n"
     ]
    }
   ],
   "source": [
    "s1 = set([1, 2, 3, 4, 5, 8, 9, 7])\n",
    "\n",
    "s1.add(1)\n",
    "s1.add(4)\n",
    "s1.remove(1)\n",
    "s1.update([1, 3, 5, 6,])\n",
    "print(s1)\n",
    "s1.clear()\n",
    "print(s1)"
   ]
  },
  {
   "cell_type": "code",
   "execution_count": 38,
   "metadata": {},
   "outputs": [
    {
     "name": "stdout",
     "output_type": "stream",
     "text": [
      "{1, 2, 3, 4, 5, 6, 7}\n",
      "{3, 4, 5}\n",
      "{1, 2}\n",
      "{1, 2, 3, 4, 5, 6, 7}\n",
      "{3, 4, 5}\n",
      "{1, 2, 6, 7}\n"
     ]
    }
   ],
   "source": [
    "s1 = set([1, 2, 3, 4, 5])\n",
    "s2 = set([3, 4, 5, 6, 7])\n",
    "\n",
    "key1 = s1.union(s2)\n",
    "print(key1)\n",
    "\n",
    "key2 = s1.intersection(s2)\n",
    "print(key2)\n",
    "\n",
    "key3 = s1.difference(s2)\n",
    "print(key3)\n",
    "\n",
    "print(key1 | key2)\n",
    "print(key1 & key2)\n",
    "print(key1 - key2)"
   ]
  },
  {
   "cell_type": "code",
   "execution_count": 39,
   "metadata": {},
   "outputs": [
    {
     "name": "stdout",
     "output_type": "stream",
     "text": [
      "{'012': 'Jang', '013': 'Kim', '014': 'Choi', '015': 'Min'}\n",
      "Choi\n",
      "{'012': 'Jang', '013': 'Kim', '014': 'Choi', '015': 'Min', '016': 'Park'}\n",
      "dict_keys(['012', '013', '014', '015', '016'])\n",
      "dict_values(['Jang', 'Kim', 'Choi', 'Min', 'Park'])\n",
      "dict_items([('012', 'Jang'), ('013', 'Kim'), ('014', 'Choi'), ('015', 'Min'), ('016', 'Park')])\n",
      "key :  012\n",
      "value :  Jang\n",
      "key :  013\n",
      "value :  Kim\n",
      "key :  014\n",
      "value :  Choi\n",
      "key :  015\n",
      "value :  Min\n",
      "key :  016\n",
      "value :  Park\n",
      "True\n",
      "False\n"
     ]
    }
   ],
   "source": [
    "a = {'012' : 'Jang', '013' : 'Kim', '014' : 'Choi', '015' : 'Min'}\n",
    "\n",
    "print(a)\n",
    "print(a['014'])\n",
    "\n",
    "a['016'] = 'Park'\n",
    "print(a)\n",
    "\n",
    "print(a.keys())\n",
    "print(a.values())\n",
    "print(a.items())\n",
    "\n",
    "\n",
    "for i, v in a.items():\n",
    "    print('key : ', i)\n",
    "    print('value : ', v)\n",
    "    \n",
    "print('Min' in a.values())\n",
    "print('017' in a.keys())"
   ]
  },
  {
   "cell_type": "code",
   "execution_count": 78,
   "metadata": {},
   "outputs": [
    {
     "name": "stdout",
     "output_type": "stream",
     "text": [
      "2\n",
      "kim\n",
      "{'one': (1, 2, 3), 'two': [1, 2, 300, 4], 'three': {'01': 'kim', '02': 'park'}}\n",
      "{'one': (1, 2, 3), 'two': [1, 2, 300, 4], 'three': {'01': 'Hong', '02': 'park'}}\n",
      "<class 'list'>\n",
      "{'one': (1, 2, 300), 'two': [1, 2, 300, 4], 'three': {'01': 'Hong', '02': 'park'}}\n"
     ]
    }
   ],
   "source": [
    "b = {'one' : (1, 2, 3), 'two' : [1, 2, 3, 4], 'three' : {'01' : 'kim', '02' : 'park'}}\n",
    "\n",
    "dlist = b['two'][1]\n",
    "print(dlist)\n",
    "name = b['three']['01']\n",
    "print(name)\n",
    "b['two'][2] = 300\n",
    "print(b)\n",
    "\n",
    "b['three']['01'] = 'Hong'\n",
    "print(b)\n",
    "\n",
    "a = list(b['one'])\n",
    "print(type(a))\n",
    "a[2] = 300\n",
    "b['one'] = tuple(a)\n",
    "print(b)\n",
    "\n"
   ]
  },
  {
   "cell_type": "code",
   "execution_count": null,
   "metadata": {},
   "outputs": [],
   "source": []
  }
 ],
 "metadata": {
  "kernelspec": {
   "display_name": "Python 3",
   "language": "python",
   "name": "python3"
  },
  "language_info": {
   "codemirror_mode": {
    "name": "ipython",
    "version": 3
   },
   "file_extension": ".py",
   "mimetype": "text/x-python",
   "name": "python",
   "nbconvert_exporter": "python",
   "pygments_lexer": "ipython3",
   "version": "3.8.5"
  },
  "toc": {
   "base_numbering": 1,
   "nav_menu": {},
   "number_sections": true,
   "sideBar": true,
   "skip_h1_title": false,
   "title_cell": "Table of Contents",
   "title_sidebar": "Contents",
   "toc_cell": false,
   "toc_position": {},
   "toc_section_display": true,
   "toc_window_display": false
  }
 },
 "nbformat": 4,
 "nbformat_minor": 4
}
