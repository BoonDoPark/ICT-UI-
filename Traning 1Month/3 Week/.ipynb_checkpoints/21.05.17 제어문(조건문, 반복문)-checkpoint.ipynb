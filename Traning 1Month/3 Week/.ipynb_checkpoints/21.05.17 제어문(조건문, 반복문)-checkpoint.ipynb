{
 "cells": [
  {
   "cell_type": "markdown",
   "metadata": {},
   "source": [
    "## Control statement란?\n",
    "\n",
    "- 프로그램의 흐름을 제어하는 명령어를 말한다.\n",
    "> 프로그램의 흐름 = 컴퓨터가 어떤 일을 해야하는지에 대한 과정.\n",
    "\n",
    "- 조건과 반복에 따라서 프로그램의 진행 과정이 바뀌게 된다.\n",
    "> 프로그램은 조건과 반복의 나열이다.\n",
    "\n",
    "- 조건문(Conditional Statement)에는 if문이 있다.\n",
    "> if, elif, else\n",
    "\n",
    "\n",
    "- 반복문(Iterative Statement)에는 while, for문이 있다.\n",
    "> while, for\n",
    "\n",
    "- 사실상 프로그래밍이란 데이터를 사용자가 원하는대로 제어하여 원하는 결과를 내는 과정을 얘기한다."
   ]
  },
  {
   "cell_type": "markdown",
   "metadata": {},
   "source": [
    "# 1. If statement (조건문)"
   ]
  },
  {
   "cell_type": "markdown",
   "metadata": {},
   "source": [
    "- 프로그램에서 가장 중요한 조건 판단이다.\n",
    "\n",
    "\n",
    "- 모든 프로그램은 조건을 판단하여 다음 진행 과정을 결정한다.\n",
    "\n",
    "\n",
    "- 파이썬은 if, elif, else 구문을 이용하여 조건을 사용할 수 있다."
   ]
  },
  {
   "cell_type": "markdown",
   "metadata": {},
   "source": [
    "## 1.1 파이썬에서 if문을 사용하는 방법"
   ]
  },
  {
   "cell_type": "code",
   "execution_count": 1,
   "metadata": {},
   "outputs": [
    {
     "name": "stdout",
     "output_type": "stream",
     "text": [
      "True\n",
      "False\n"
     ]
    }
   ],
   "source": [
    "a = 5\n",
    "# a가 5인데, a가 5와 같으면, True를 출력하고 싶다.\n",
    "if a == 5:\n",
    "    print(\"True\")\n",
    "print(\"False\")"
   ]
  },
  {
   "cell_type": "code",
   "execution_count": 3,
   "metadata": {},
   "outputs": [
    {
     "name": "stdout",
     "output_type": "stream",
     "text": [
      "True\n"
     ]
    }
   ],
   "source": [
    "a = 5\n",
    "# a가 5인데, a가 5와 같으면, True를 출력하고 싶다.\n",
    "if a == 5:\n",
    "    print('True')\n",
    "else :\n",
    "    print('False')"
   ]
  },
  {
   "cell_type": "code",
   "execution_count": 5,
   "metadata": {},
   "outputs": [
    {
     "name": "stdout",
     "output_type": "stream",
     "text": [
      "False\n"
     ]
    }
   ],
   "source": [
    "if 0 :\n",
    "    print('True')\n",
    "else :\n",
    "    print('False')"
   ]
  },
  {
   "cell_type": "code",
   "execution_count": 6,
   "metadata": {},
   "outputs": [
    {
     "name": "stdout",
     "output_type": "stream",
     "text": [
      "True\n",
      "True\n"
     ]
    }
   ],
   "source": [
    "a = 5\n",
    "if a == 5:\n",
    "    print('True')\n",
    "if a < 5 :\n",
    "    print('False')\n",
    "    \n",
    "if a >=5 :\n",
    "    print('True')\n",
    "else :\n",
    "    print('False')"
   ]
  },
  {
   "cell_type": "markdown",
   "metadata": {},
   "source": [
    "## 1.2 조건문을 사용하기 위해선, 비교연산과 논리연산을 알아야 한다."
   ]
  },
  {
   "cell_type": "markdown",
   "metadata": {},
   "source": [
    "- 비교연산 : 같다, 다르다, 크다, 작다, 크거나 같다, 작거나 같다. \n",
    "- a == b, a != b, a > b, a < b, a >= b, a <= b \n",
    "\n",
    "- 논리연산 : \n",
    "    - a and b : a와 b가 둘다 만족\n",
    "    - a or b : a와 b 중에 하나 이상 만족\n",
    "    - not a : a가 아닌 것.\n",
    "    \n",
    "**- 비교연산과 논리연산의 공통점은 결과가 참(True) 또는 거짓(False)라는 것이다.**"
   ]
  },
  {
   "cell_type": "markdown",
   "metadata": {},
   "source": [
    "**커피 자판기 프로그램** \n",
    "- 300원보다 적은 경우엔 돈을 그냥 돌려주고,\n",
    "- 자판기에 입력된 돈이 300원이면 커피를 주고, \n",
    "- 300원보다 많은 경우에는 커피와 함께 거스름돈을 주어야 한다. 이를 어떻게 구현할 수 있을까?"
   ]
  },
  {
   "cell_type": "code",
   "execution_count": 12,
   "metadata": {},
   "outputs": [
    {
     "name": "stdout",
     "output_type": "stream",
     "text": [
      "돈을 넣어주세요 : 200\n",
      "잔액이 부족합니다. 200원을 돌려줍니다.\n"
     ]
    }
   ],
   "source": [
    "m = int(input('돈을 넣어주세요 : '))\n",
    "\n",
    "if m >= 300:\n",
    "    print('감사합니다. 거스름돈은 %d입니다' % (m - 300))\n",
    "else :\n",
    "    print('잔액이 부족합니다. %d원을 돌려줍니다.' %m)"
   ]
  },
  {
   "cell_type": "code",
   "execution_count": 16,
   "metadata": {},
   "outputs": [
    {
     "name": "stdout",
     "output_type": "stream",
     "text": [
      "돈을 넣어주세요 : 200\n",
      "잔액이 부족합니다. 200원을 돌려줍니다.\n"
     ]
    }
   ],
   "source": [
    "m = int(input('돈을 넣어주세요 : '))\n",
    "\n",
    "if m > 300:\n",
    "    print('감사합니다. 거스름돈은 %d입니다' % (m - 300))\n",
    "elif m == 300:\n",
    "    print('감사합니다.')\n",
    "else :\n",
    "    print('잔액이 부족합니다. %d원을 돌려줍니다.' %m)"
   ]
  },
  {
   "cell_type": "markdown",
   "metadata": {},
   "source": [
    "## 1.3 삼항연산자를 사용한 if\n",
    "- <참인경우 값> **if 조건 else** <거짓인경우 값>\n"
   ]
  },
  {
   "cell_type": "code",
   "execution_count": 23,
   "metadata": {},
   "outputs": [
    {
     "name": "stdout",
     "output_type": "stream",
     "text": [
      "불합격\n"
     ]
    }
   ],
   "source": [
    "# 60 점 이상이면 합겹, 아니면 불합격\n",
    "\n",
    "score = 50\n",
    "reshult = ' '\n",
    "\n",
    "if score >= 60:\n",
    "    result = '합격'\n",
    "else :\n",
    "    result = '불합격'\n",
    "    \n",
    "print(result)"
   ]
  },
  {
   "cell_type": "code",
   "execution_count": 22,
   "metadata": {},
   "outputs": [
    {
     "name": "stdout",
     "output_type": "stream",
     "text": [
      "불합격\n"
     ]
    }
   ],
   "source": [
    "score = 50\n",
    "result = '합격' if score >= 60 else '불합격'\n",
    "\n",
    "print(result)\n"
   ]
  },
  {
   "cell_type": "code",
   "execution_count": 27,
   "metadata": {},
   "outputs": [
    {
     "name": "stdout",
     "output_type": "stream",
     "text": [
      "7\n",
      "7\n"
     ]
    }
   ],
   "source": [
    "# 최대값 구하기\n",
    "a, b, c = 5, 7, 2\n",
    "\n",
    "max = a if a > b else b\n",
    "print(max)\n",
    "max = max if max > c else c\n",
    "print(max)"
   ]
  },
  {
   "cell_type": "markdown",
   "metadata": {},
   "source": [
    "## 1.4 기타"
   ]
  },
  {
   "cell_type": "markdown",
   "metadata": {},
   "source": [
    "**list의 in** 키워드"
   ]
  },
  {
   "cell_type": "code",
   "execution_count": 6,
   "metadata": {},
   "outputs": [
    {
     "name": "stdout",
     "output_type": "stream",
     "text": [
      "['사과', '배', '포도', '딸기']\n",
      "딸기가 있었습니다.\n"
     ]
    }
   ],
   "source": [
    "fruit = ['사과', '배', '포도', '딸기']\n",
    "print(fruit)\n",
    "\n",
    "if '딸기' in fruit:\n",
    "    print('{}가 있었습니다.'.format(fruit[3]))"
   ]
  },
  {
   "cell_type": "markdown",
   "metadata": {},
   "source": [
    "**연습문제1) 점수를 입력받아서 점수에 따라 학점을 출력하는 프로그램**\n",
    "(score >= 90:A , >=80:B,  >=70:C, >=60:D, < 60:F)\n",
    "1. 중첩 (if-else) 구조로 프로그래밍\n",
    "2. if-elif-else 구조로 프로그래밍"
   ]
  },
  {
   "cell_type": "code",
   "execution_count": 6,
   "metadata": {},
   "outputs": [
    {
     "name": "stdout",
     "output_type": "stream",
     "text": [
      "점수 : 80\n",
      "B\n"
     ]
    }
   ],
   "source": [
    "score = int(input('점수 : '))\n",
    "\n",
    "if score >= 90:\n",
    "    print('A')\n",
    "else :\n",
    "    if score >= 80:\n",
    "        print('B')\n",
    "    else :\n",
    "        if score >= 70:\n",
    "            print('C')\n",
    "        else :\n",
    "            if score >= 60 :\n",
    "                print('D')\n",
    "            else :\n",
    "                print('F')"
   ]
  },
  {
   "cell_type": "code",
   "execution_count": 8,
   "metadata": {},
   "outputs": [
    {
     "name": "stdout",
     "output_type": "stream",
     "text": [
      "점수 : 40\n",
      "F\n"
     ]
    }
   ],
   "source": [
    "score = int(input('점수 : '))\n",
    "\n",
    "if score >= 90:\n",
    "    print('A')\n",
    "elif score >= 80:\n",
    "    print('B')\n",
    "elif score >= 70:\n",
    "    print('C')\n",
    "elif score >= 60:\n",
    "    print('D')\n",
    "else :\n",
    "    print('F')"
   ]
  },
  {
   "cell_type": "markdown",
   "metadata": {},
   "source": [
    "# 2. 반복문\n",
    "- 컴퓨터는 단순 작업의 반복에 최적화 된 기계 -> 반복문이 중요한 이유!!\n",
    "- while, for 2가지 형태를 제공"
   ]
  },
  {
   "cell_type": "markdown",
   "metadata": {},
   "source": [
    "## 2.1 while문\n",
    "### 2.1.1 기본구조\n",
    "- 조건을 만족하는 동안 반복 \n",
    "\n",
    "\n",
    "- **while 조건 :**\n",
    "        문장1\n",
    "        문장2...\n",
    "        \n",
    "- 조건이 만족하는 동안 문장1, 문장2를 반복한다."
   ]
  },
  {
   "cell_type": "code",
   "execution_count": 10,
   "metadata": {},
   "outputs": [
    {
     "name": "stdout",
     "output_type": "stream",
     "text": [
      "55\n"
     ]
    }
   ],
   "source": [
    "# 1~10까지의 합계 구하기\n",
    "num = 0\n",
    "\n",
    "for i in range(1, 11):\n",
    "    num = num + i\n",
    "\n",
    "print(num)"
   ]
  },
  {
   "cell_type": "code",
   "execution_count": 12,
   "metadata": {},
   "outputs": [
    {
     "name": "stdout",
     "output_type": "stream",
     "text": [
      "55\n"
     ]
    }
   ],
   "source": [
    "i = 1\n",
    "num = 0\n",
    "\n",
    "while i < 11:\n",
    "    num = num + i\n",
    "    i = i + 1\n",
    "    \n",
    "print(num)"
   ]
  },
  {
   "cell_type": "code",
   "execution_count": 36,
   "metadata": {},
   "outputs": [
    {
     "name": "stdout",
     "output_type": "stream",
     "text": [
      "1+...+10 = 55\n"
     ]
    }
   ],
   "source": [
    "# 두 수를 입력해서 합계를 출력하는 프로그램\n",
    "num = 0\n",
    "num1 = 1 # int(input('1st digit : '))\n",
    "num2 = 10 # int(input('1st digit : '))\n",
    "\n",
    "\n",
    "for i in range(num1, num2+1):\n",
    "    num = num + i\n",
    "\n",
    "print('{}+...+{} = {}'.format(num1, num2, num))"
   ]
  },
  {
   "cell_type": "code",
   "execution_count": 39,
   "metadata": {},
   "outputs": [
    {
     "name": "stdout",
     "output_type": "stream",
     "text": [
      "1+...+10 = 55\n"
     ]
    }
   ],
   "source": [
    "num1 = 1 \n",
    "num2 = 10\n",
    "\n",
    "num = 0\n",
    "i = num1\n",
    "\n",
    "while i < num2 + 1:\n",
    "    num = num + i\n",
    "    i = i + 1\n",
    "    \n",
    "print('{}+...+{} = {}'.format(num1, num2, num))"
   ]
  },
  {
   "cell_type": "markdown",
   "metadata": {},
   "source": [
    "**커피 자판기** \n",
    "- 돈을 입력 받아서 커피를 주는 프로그램\n",
    "- 종료조건(작동이 안되는 경우) : 재료가 다 떨어졌을때"
   ]
  },
  {
   "cell_type": "code",
   "execution_count": 46,
   "metadata": {},
   "outputs": [
    {
     "name": "stdout",
     "output_type": "stream",
     "text": [
      "돈을 넣어주세요 : 200\n",
      "☕\n",
      "잔액이 부족합니다. 200원을 돌려줍니다.\n",
      "돈을 넣어주세요 : 300\n",
      "감사합니다.\n",
      "돈을 넣어주세요 : 400\n",
      "감사합니다. 거스름돈은 100입니다\n",
      "돈을 넣어주세요 : 500\n",
      "감사합니다. 거스름돈은 200입니다\n",
      "돈을 넣어주세요 : 600\n",
      "감사합니다. 거스름돈은 300입니다\n",
      "돈을 넣어주세요 : 10000\n",
      "감사합니다. 거스름돈은 9700입니다\n",
      "커피가 모두 소진되었습니다.\n"
     ]
    }
   ],
   "source": [
    "# 커피5잔뽑고 종료하는 프로그램\n",
    "coffee = 5\n",
    "\n",
    "while coffee > 0:\n",
    "    m = int(input('돈을 넣어주세요 : '))\n",
    "    if m > 300:\n",
    "        coffee = coffee - 1\n",
    "        print('감사합니다. 거스름돈은 %d입니다' % (m - 300))\n",
    "    elif m == 300:\n",
    "        coffee = coffee - 1\n",
    "        print('감사합니다.')\n",
    "    else :\n",
    "        print('\\u2615')\n",
    "        print('잔액이 부족합니다. %d원을 돌려줍니다.' %m)\n",
    "        \n",
    "print('커피가 모두 소진되었습니다.')"
   ]
  },
  {
   "cell_type": "markdown",
   "metadata": {},
   "source": [
    "###### 2.1.2 무한반복(무한루프)\n",
    "- 프로그램 상에서 무한루프가 도는건 좋지않다.\n",
    "- break를 이용해서 무한 루프를 빠져나올 수 있는 코드를 짜야 한다"
   ]
  },
  {
   "cell_type": "code",
   "execution_count": 50,
   "metadata": {},
   "outputs": [
    {
     "name": "stdout",
     "output_type": "stream",
     "text": [
      "ㅋ "
     ]
    }
   ],
   "source": [
    "# 무한루프\n",
    "while True :\n",
    "    print('ㅋ', end = ' ')\n",
    "    break\n",
    "\n",
    "    "
   ]
  },
  {
   "cell_type": "markdown",
   "metadata": {},
   "source": [
    "**연습문제2) 별모양 직각 삼각형 만들기**\n",
    "- 1~n행까지 각 행마다 행번호만큼 ★(\\u2605) 찍기"
   ]
  },
  {
   "cell_type": "code",
   "execution_count": 78,
   "metadata": {
    "scrolled": true
   },
   "outputs": [
    {
     "name": "stdout",
     "output_type": "stream",
     "text": [
      "★\n",
      "★★\n",
      "★★★\n",
      "★★★★\n",
      "★★★★★\n"
     ]
    }
   ],
   "source": [
    "a = 1\n",
    "\n",
    "while a < 6:\n",
    "    print('\\u2605'*a) # a값 개수만큼 ★을 출력한다.\n",
    "    a = a + 1"
   ]
  },
  {
   "cell_type": "markdown",
   "metadata": {},
   "source": [
    "**연습문제3)이등변 삼각형 만들기**\n"
   ]
  },
  {
   "cell_type": "code",
   "execution_count": 18,
   "metadata": {},
   "outputs": [
    {
     "name": "stdout",
     "output_type": "stream",
     "text": [
      "        ★\n",
      "      ★★★\n",
      "    ★★★★★\n",
      "  ★★★★★★★\n",
      "★★★★★★★★★\n"
     ]
    }
   ],
   "source": [
    "a = 0\n",
    "\n",
    "\n",
    "while a < 5:\n",
    "    \n",
    "    b = 0\n",
    "    while b < 4 - a:\n",
    "        print('  ', end = '')\n",
    "        b = b + 1\n",
    "        \n",
    "    b = 0\n",
    "    while b < (a * 2) + 1:\n",
    "        print('\\u2605', end = '')\n",
    "        b = b + 1\n",
    "    \n",
    "    print()\n",
    "    a = a + 1"
   ]
  },
  {
   "cell_type": "code",
   "execution_count": 28,
   "metadata": {},
   "outputs": [
    {
     "name": "stdout",
     "output_type": "stream",
     "text": [
      "        ★\n",
      "      ★★★\n",
      "    ★★★★★\n",
      "  ★★★★★★★\n",
      "★★★★★★★★★\n"
     ]
    }
   ],
   "source": [
    "# for문 이용해서 만들기\n",
    "\n",
    "for i in range(0, 5, 1):\n",
    "    for k in range(0, 4 - i, 1):\n",
    "        print('  ', end = '')\n",
    "        \n",
    "    for k in range((i*2)+1):\n",
    "        print('\\u2605', end = '')\n",
    "    \n",
    "    print()"
   ]
  },
  {
   "cell_type": "code",
   "execution_count": 2,
   "metadata": {},
   "outputs": [
    {
     "name": "stdout",
     "output_type": "stream",
     "text": [
      "        ★\n",
      "      ★★★\n",
      "    ★★★★★\n",
      "  ★★★★★★★\n",
      "★★★★★★★★★\n",
      "  ★★★★★★★\n",
      "    ★★★★★\n",
      "      ★★★\n",
      "        ★\n"
     ]
    }
   ],
   "source": [
    "# 마름모 만들기 ver. 1\n",
    "\n",
    "a = 0\n",
    "\n",
    "\n",
    "while a < 5:\n",
    "    \n",
    "    b = 0\n",
    "    while b < 4 - a:\n",
    "        print('  ', end = '')\n",
    "        b = b + 1\n",
    "        \n",
    "    b = 0\n",
    "    while b < (a * 2) + 1:\n",
    "        print('\\u2605', end = '')\n",
    "        b = b + 1\n",
    "    \n",
    "    print()\n",
    "    a = a + 1\n",
    "\n",
    "    \n",
    "a = 0\n",
    "\n",
    "while a < 4:        \n",
    "\n",
    "    b = 0    \n",
    "    while b < 1 + a :\n",
    "        print('  ', end = '')\n",
    "        b = b + 1\n",
    "    \n",
    "    b = 0\n",
    "    while b < 7 - (2 * a):\n",
    "        print('\\u2605', end = '')\n",
    "        b = b + 1\n",
    "        \n",
    "    \n",
    "    print()\n",
    "    a = a + 1"
   ]
  },
  {
   "cell_type": "code",
   "execution_count": 3,
   "metadata": {},
   "outputs": [
    {
     "name": "stdout",
     "output_type": "stream",
     "text": [
      "        ★\n",
      "      ★★★\n",
      "    ★★★★★\n",
      "  ★★★★★★★\n",
      "★★★★★★★★★\n",
      "  ★★★★★★★\n",
      "    ★★★★★\n",
      "      ★★★\n",
      "        ★\n"
     ]
    }
   ],
   "source": [
    "# 마름모 만들기 ver. 2\n",
    "\n",
    "i,k =0,0\n",
    "\n",
    "while i<9:\n",
    "    if i<5:\n",
    "        k=0\n",
    "        while k<4-i:\n",
    "            print('  ',end='')\n",
    "            k+=1\n",
    "        k=0\n",
    "        while k<(i*2)+1:\n",
    "            print('\\u2605', end = '')\n",
    "            k+=1\n",
    "    else:\n",
    "        k=0\n",
    "        while k<i-4:\n",
    "            print('  ',end='')\n",
    "            k+=1\n",
    "        k=0\n",
    "        while k<(9-i)*2 -1:\n",
    "            print('\\u2605', end = '')\n",
    "            k+=1\n",
    "            \n",
    "    print()\n",
    "    i+=1"
   ]
  },
  {
   "cell_type": "markdown",
   "metadata": {},
   "source": [
    "## 2.2 for 문"
   ]
  },
  {
   "cell_type": "markdown",
   "metadata": {},
   "source": [
    "- 지정된 횟수동안 반복 수행\n",
    "- for 변수 in range(시작값, 끝값+1, 증가값) :"
   ]
  },
  {
   "cell_type": "markdown",
   "metadata": {},
   "source": [
    "### 2.2.1 range()\n",
    "- 지정된 범위의 값을 반환\n",
    "- range(시작값, 끝값+1, 증가값)\n",
    "- 끝값 +1 : +1의 의미는 끝나고자 하는 값에서 반복을 한번 더 해야 한다는 의미"
   ]
  },
  {
   "cell_type": "code",
   "execution_count": 229,
   "metadata": {},
   "outputs": [
    {
     "name": "stdout",
     "output_type": "stream",
     "text": [
      "0 1 2 3 4 \n",
      "0 1 2 3 4 \n",
      "0 1 2 3 4 \n"
     ]
    }
   ],
   "source": [
    "for i in range(0, 5, 1):\n",
    "    print(i, end=' ')\n",
    "    \n",
    "print()\n",
    "\n",
    "for i in range(0, 5):\n",
    "    print(i, end=' ')\n",
    "\n",
    "print()\n",
    "\n",
    "for i in range(5):\n",
    "    print(i, end=' ')\n",
    "\n",
    "print()"
   ]
  },
  {
   "cell_type": "code",
   "execution_count": 238,
   "metadata": {},
   "outputs": [
    {
     "name": "stdout",
     "output_type": "stream",
     "text": [
      "[0, 1, 2, 3, 4, 5, 6, 7, 8, 9]\n",
      "[1, 3, 5, 7, 9]\n",
      "[0, 1, 2, 3, 4]\n",
      "[0, 1, 2, 3, 4, 5]\n"
     ]
    }
   ],
   "source": [
    "print(list(range(10)))\n",
    "print(list(range(1, 10, 2)))\n",
    "\n",
    "n = 10\n",
    "\n",
    "a = range(0, n//2)\n",
    "print(list(a))\n",
    "\n",
    "a = range(0, 6)\n",
    "print(list(a))"
   ]
  },
  {
   "cell_type": "markdown",
   "metadata": {},
   "source": [
    "**연습문제4) 0과 100 사이에 있는 7의 배수 합계 구하기**"
   ]
  },
  {
   "cell_type": "code",
   "execution_count": 192,
   "metadata": {},
   "outputs": [
    {
     "name": "stdout",
     "output_type": "stream",
     "text": [
      "735\n"
     ]
    }
   ],
   "source": [
    "a = 0\n",
    "\n",
    "for i in range(0, 100, 7):\n",
    "    a = i + a\n",
    "\n",
    "print(a)"
   ]
  },
  {
   "cell_type": "markdown",
   "metadata": {},
   "source": [
    "**연습문제5) 두수 사이의 모든 수의 합 구하기** 예) 1, 10 -> 55 출력"
   ]
  },
  {
   "cell_type": "code",
   "execution_count": 244,
   "metadata": {},
   "outputs": [
    {
     "name": "stdout",
     "output_type": "stream",
     "text": [
      "첫번째 숫자 : 1\n",
      "마지막 숫자 : 10\n",
      "55\n"
     ]
    }
   ],
   "source": [
    "first = int(input('첫번째 숫자 : '))\n",
    "second = int(input('마지막 숫자 : '))\n",
    "num = 0\n",
    "\n",
    "\n",
    "if first > second :\n",
    "    print('오류')\n",
    "else :\n",
    "    for i in range(first, second+1):\n",
    "        num = num + i\n",
    "        \n",
    "print(num)"
   ]
  },
  {
   "cell_type": "markdown",
   "metadata": {},
   "source": [
    "### 2.2.2 중첩 for 문"
   ]
  },
  {
   "cell_type": "code",
   "execution_count": 117,
   "metadata": {},
   "outputs": [
    {
     "name": "stdout",
     "output_type": "stream",
     "text": [
      " #2단#  #3단#  #4단#  #5단#  #6단#  #7단#  #8단#  #9단# \n",
      "2x0= 0 3x0= 0 4x0= 0 5x0= 0 6x0= 0 7x0= 0 8x0= 0 9x0= 0 \n",
      "2x1= 2 3x1= 3 4x1= 4 5x1= 5 6x1= 6 7x1= 7 8x1= 8 9x1= 9 \n",
      "2x2= 4 3x2= 6 4x2= 8 5x2=10 6x2=12 7x2=14 8x2=16 9x2=18 \n",
      "2x3= 6 3x3= 9 4x3=12 5x3=15 6x3=18 7x3=21 8x3=24 9x3=27 \n",
      "2x4= 8 3x4=12 4x4=16 5x4=20 6x4=24 7x4=28 8x4=32 9x4=36 \n",
      "2x5=10 3x5=15 4x5=20 5x5=25 6x5=30 7x5=35 8x5=40 9x5=45 \n",
      "2x6=12 3x6=18 4x6=24 5x6=30 6x6=36 7x6=42 8x6=48 9x6=54 \n",
      "2x7=14 3x7=21 4x7=28 5x7=35 6x7=42 7x7=49 8x7=56 9x7=63 \n",
      "2x8=16 3x8=24 4x8=32 5x8=40 6x8=48 7x8=56 8x8=64 9x8=72 \n",
      "2x9=18 3x9=27 4x9=36 5x9=45 6x9=54 7x9=63 8x9=72 9x9=81 \n"
     ]
    }
   ],
   "source": [
    "# 구구단 한 화면에 출력하기\n",
    "num = 0\n",
    "\n",
    "for i in range(1, 9):\n",
    "    for i2 in range(1, 9):\n",
    "        "
   ]
  },
  {
   "cell_type": "code",
   "execution_count": 268,
   "metadata": {
    "scrolled": true
   },
   "outputs": [
    {
     "name": "stdout",
     "output_type": "stream",
     "text": [
      "2*1= 2   3*1= 3   4*1= 4   5*1= 5   6*1= 6   7*1= 7   8*1= 8   9*1= 9   \n",
      "2*2= 4   3*2= 6   4*2= 8   5*2=10   6*2=12   7*2=14   8*2=16   9*2=18   \n",
      "2*3= 6   3*3= 9   4*3=12   5*3=15   6*3=18   7*3=21   8*3=24   9*3=27   \n",
      "2*4= 8   3*4=12   4*4=16   5*4=20   6*4=24   7*4=28   8*4=32   9*4=36   \n",
      "2*5=10   3*5=15   4*5=20   5*5=25   6*5=30   7*5=35   8*5=40   9*5=45   \n",
      "2*6=12   3*6=18   4*6=24   5*6=30   6*6=36   7*6=42   8*6=48   9*6=54   \n",
      "2*7=14   3*7=21   4*7=28   5*7=35   6*7=42   7*7=49   8*7=56   9*7=63   \n",
      "2*8=16   3*8=24   4*8=32   5*8=40   6*8=48   7*8=56   8*8=64   9*8=72   \n",
      "2*9=18   3*9=27   4*9=36   5*9=45   6*9=54   7*9=63   8*9=72   9*9=81   \n"
     ]
    }
   ],
   "source": [
    "# 구구단 정렬\n",
    "\n",
    "for i in range(1, 10):\n",
    "    num = ''\n",
    "    for i2 in range(2, 10):\n",
    "        num = num + str('%d*%d=%2d ' %(i2, i, i*i2)) + '  '\n",
    "    print(num)\n",
    "\n",
    "        \n"
   ]
  },
  {
   "cell_type": "code",
   "execution_count": 276,
   "metadata": {},
   "outputs": [
    {
     "name": "stdout",
     "output_type": "stream",
     "text": [
      "9*9=81  8*9=72  7*9=63  6*9=54  5*9=45  4*9=36  3*9=27  2*9=18  \n",
      "9*8=72  8*8=64  7*8=56  6*8=48  5*8=40  4*8=32  3*8=24  2*8=16  \n",
      "9*7=63  8*7=56  7*7=49  6*7=42  5*7=35  4*7=28  3*7=21  2*7=14  \n",
      "9*6=54  8*6=48  7*6=42  6*6=36  5*6=30  4*6=24  3*6=18  2*6=12  \n",
      "9*5=45  8*5=40  7*5=35  6*5=30  5*5=25  4*5=20  3*5=15  2*5=10  \n",
      "9*4=36  8*4=32  7*4=28  6*4=24  5*4=20  4*4=16  3*4=12  2*4= 8  \n",
      "9*3=27  8*3=24  7*3=21  6*3=18  5*3=15  4*3=12  3*3= 9  2*3= 6  \n",
      "9*2=18  8*2=16  7*2=14  6*2=12  5*2=10  4*2= 8  3*2= 6  2*2= 4  \n",
      "9*1= 9  8*1= 8  7*1= 7  6*1= 6  5*1= 5  4*1= 4  3*1= 3  2*1= 2  \n"
     ]
    }
   ],
   "source": [
    "# 구구단 역순\n",
    "\n",
    "for i in range(9, 0, -1):\n",
    "    num = ''\n",
    "    for i2 in range(9, 1, -1):\n",
    "        num = num + str('%d*%d=%2d' %(i2, i, i*i2)) + '  '\n",
    "    print(num)\n",
    "    \n",
    "    "
   ]
  },
  {
   "cell_type": "code",
   "execution_count": null,
   "metadata": {},
   "outputs": [],
   "source": []
  },
  {
   "cell_type": "markdown",
   "metadata": {},
   "source": [
    " "
   ]
  },
  {
   "cell_type": "markdown",
   "metadata": {},
   "source": [
    " "
   ]
  }
 ],
 "metadata": {
  "kernelspec": {
   "display_name": "Python 3",
   "language": "python",
   "name": "python3"
  },
  "language_info": {
   "codemirror_mode": {
    "name": "ipython",
    "version": 3
   },
   "file_extension": ".py",
   "mimetype": "text/x-python",
   "name": "python",
   "nbconvert_exporter": "python",
   "pygments_lexer": "ipython3",
   "version": "3.8.5"
  },
  "toc": {
   "base_numbering": 1,
   "nav_menu": {},
   "number_sections": false,
   "sideBar": true,
   "skip_h1_title": false,
   "title_cell": "Table of Contents",
   "title_sidebar": "Contents",
   "toc_cell": false,
   "toc_position": {
    "height": "calc(100% - 180px)",
    "left": "10px",
    "top": "150px",
    "width": "304.474px"
   },
   "toc_section_display": true,
   "toc_window_display": false
  }
 },
 "nbformat": 4,
 "nbformat_minor": 2
}
