{
 "cells": [
  {
   "cell_type": "code",
   "execution_count": 17,
   "metadata": {},
   "outputs": [
    {
     "name": "stdout",
     "output_type": "stream",
     "text": [
      "숫자 : 10\n",
      "숫자 : 1\n",
      "11\n"
     ]
    }
   ],
   "source": [
    "# test_operations라는 py파일을 만든 후 import로 파일을 불려들였다.\n",
    "\n",
    "import test_operation\n",
    "\n",
    "a = int(input('숫자 : '))\n",
    "b = int(input('숫자 : '))\n",
    "\n",
    "key = test_operation.sum(a, b)\n",
    "print(key)"
   ]
  },
  {
   "cell_type": "code",
   "execution_count": 3,
   "metadata": {},
   "outputs": [
    {
     "name": "stdout",
     "output_type": "stream",
     "text": [
      "숫자 : 50\n",
      "숫자 : 10\n",
      "40\n"
     ]
    }
   ],
   "source": [
    "# as : 이름을 다시 만들고 싶을때\n",
    "import test_operation as op\n",
    "\n",
    "a = int(input('숫자 : '))\n",
    "b = int(input('숫자 : '))\n",
    "\n",
    "key = op.sub(a, b)\n",
    "print(key)"
   ]
  },
  {
   "cell_type": "code",
   "execution_count": 5,
   "metadata": {},
   "outputs": [
    {
     "name": "stdout",
     "output_type": "stream",
     "text": [
      "숫자 : 10\n",
      "숫자 : 10\n",
      "100\n"
     ]
    }
   ],
   "source": [
    "# test_operations의 파일에 있는 mul를 직접 가져옴\n",
    "from test_operation import mul\n",
    "\n",
    "a = int(input('숫자 : '))\n",
    "b = int(input('숫자 : '))\n",
    "\n",
    "key = mul(a, b)\n",
    "print(key)"
   ]
  },
  {
   "cell_type": "code",
   "execution_count": 1,
   "metadata": {},
   "outputs": [
    {
     "name": "stdout",
     "output_type": "stream",
     "text": [
      "숫자 : 10\n",
      "숫자 : 5\n"
     ]
    },
    {
     "ename": "NameError",
     "evalue": "name 'div' is not defined",
     "output_type": "error",
     "traceback": [
      "\u001b[1;31m---------------------------------------------------------------------------\u001b[0m",
      "\u001b[1;31mNameError\u001b[0m                                 Traceback (most recent call last)",
      "\u001b[1;32m<ipython-input-1-c5b87ac4d5b9>\u001b[0m in \u001b[0;36m<module>\u001b[1;34m\u001b[0m\n\u001b[0;32m      4\u001b[0m \u001b[0mb\u001b[0m \u001b[1;33m=\u001b[0m \u001b[0mint\u001b[0m\u001b[1;33m(\u001b[0m\u001b[0minput\u001b[0m\u001b[1;33m(\u001b[0m\u001b[1;34m'숫자 : '\u001b[0m\u001b[1;33m)\u001b[0m\u001b[1;33m)\u001b[0m\u001b[1;33m\u001b[0m\u001b[1;33m\u001b[0m\u001b[0m\n\u001b[0;32m      5\u001b[0m \u001b[1;33m\u001b[0m\u001b[0m\n\u001b[1;32m----> 6\u001b[1;33m \u001b[0mkey\u001b[0m \u001b[1;33m=\u001b[0m \u001b[0mdiv\u001b[0m\u001b[1;33m(\u001b[0m\u001b[0ma\u001b[0m\u001b[1;33m,\u001b[0m \u001b[0mb\u001b[0m\u001b[1;33m)\u001b[0m\u001b[1;33m\u001b[0m\u001b[1;33m\u001b[0m\u001b[0m\n\u001b[0m\u001b[0;32m      7\u001b[0m \u001b[0mprint\u001b[0m\u001b[1;33m(\u001b[0m\u001b[0mkey\u001b[0m\u001b[1;33m)\u001b[0m\u001b[1;33m\u001b[0m\u001b[1;33m\u001b[0m\u001b[0m\n",
      "\u001b[1;31mNameError\u001b[0m: name 'div' is not defined"
     ]
    }
   ],
   "source": [
    "from test_operation import mul\n",
    "\n",
    "a = int(input('숫자 : '))\n",
    "b = int(input('숫자 : '))\n",
    "\n",
    "key = div(a, b)\n",
    "print(key)"
   ]
  },
  {
   "cell_type": "markdown",
   "metadata": {},
   "source": [
    "위의 코드를 보면 div를 하고 싶은데 파일에서 mul를 가져왔기 때문에, 실행오류가 뜬다. 이럴땐 import를 div로 바꿔주면되지만, 그 수가 많아졌을때는 매우 귀찮은 일이다. 그래서 아래의 파일처럼 import * 을 해주면 된다. "
   ]
  },
  {
   "cell_type": "code",
   "execution_count": 2,
   "metadata": {},
   "outputs": [
    {
     "name": "stdout",
     "output_type": "stream",
     "text": [
      "숫자 : 10\n",
      "숫자 : 5\n",
      "5\n"
     ]
    }
   ],
   "source": [
    "# * : 모두, 모든 이라는 뜻을 가지고 있다.\n",
    "from test_operation import *\n",
    "\n",
    "a = int(input('숫자 : '))\n",
    "b = int(input('숫자 : '))\n",
    "\n",
    "key = sub(a, b)\n",
    "print(key)"
   ]
  },
  {
   "cell_type": "markdown",
   "metadata": {},
   "source": [
    "파이썬에서 패키지(Pakage)란, 파일들을 묶어 놓은 폴더를 뜻한다."
   ]
  },
  {
   "cell_type": "code",
   "execution_count": 3,
   "metadata": {},
   "outputs": [
    {
     "name": "stdout",
     "output_type": "stream",
     "text": [
      "숫자 : 50\n",
      "숫자 : 49\n",
      "99\n"
     ]
    }
   ],
   "source": [
    "import sample.test_operation\n",
    "\n",
    "a = int(input('숫자 : '))\n",
    "b = int(input('숫자 : '))\n",
    "\n",
    "key = sample.test_operation.sum(a, b)\n",
    "print(key)"
   ]
  },
  {
   "cell_type": "code",
   "execution_count": null,
   "metadata": {},
   "outputs": [],
   "source": []
  }
 ],
 "metadata": {
  "kernelspec": {
   "display_name": "Python 3",
   "language": "python",
   "name": "python3"
  },
  "language_info": {
   "codemirror_mode": {
    "name": "ipython",
    "version": 3
   },
   "file_extension": ".py",
   "mimetype": "text/x-python",
   "name": "python",
   "nbconvert_exporter": "python",
   "pygments_lexer": "ipython3",
   "version": "3.8.5"
  },
  "toc": {
   "base_numbering": 1,
   "nav_menu": {},
   "number_sections": true,
   "sideBar": true,
   "skip_h1_title": false,
   "title_cell": "Table of Contents",
   "title_sidebar": "Contents",
   "toc_cell": false,
   "toc_position": {},
   "toc_section_display": true,
   "toc_window_display": false
  }
 },
 "nbformat": 4,
 "nbformat_minor": 4
}
