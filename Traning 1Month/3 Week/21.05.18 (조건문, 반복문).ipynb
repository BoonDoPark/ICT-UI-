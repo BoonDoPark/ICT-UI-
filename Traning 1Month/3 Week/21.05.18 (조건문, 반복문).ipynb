{
 "cells": [
  {
   "cell_type": "markdown",
   "metadata": {},
   "source": [
    "## Control statement란?\n",
    "\n",
    "- 프로그램의 흐름을 제어하는 명령어를 말한다.\n",
    "> 프로그램의 흐름 = 컴퓨터가 어떤 일을 해야하는지에 대한 과정.\n",
    "\n",
    "- 조건과 반복에 따라서 프로그램의 진행 과정이 바뀌게 된다.\n",
    "> 프로그램은 조건과 반복의 나열이다.\n",
    "\n",
    "- 조건문(Conditional Statement)에는 if문이 있다.\n",
    "> if, elif, else\n",
    "\n",
    "\n",
    "- 반복문(Iterative Statement)에는 while, for문이 있다.\n",
    "> while, for\n",
    "\n",
    "- 사실상 프로그래밍이란 데이터를 사용자가 원하는대로 제어하여 원하는 결과를 내는 과정을 얘기한다."
   ]
  },
  {
   "cell_type": "markdown",
   "metadata": {},
   "source": [
    "## 1.2 조건문을 사용하기 위해선, 비교연산과 논리연산을 알아야 한다."
   ]
  },
  {
   "cell_type": "markdown",
   "metadata": {},
   "source": [
    "- 비교연산 : 같다, 다르다, 크다, 작다, 크거나 같다, 작거나 같다. \n",
    "- a == b, a != b, a > b, a < b, a >= b, a <= b \n",
    "\n",
    "- 논리연산 : \n",
    "    - a and b : a와 b가 둘다 만족\n",
    "    - a or b : a와 b 중에 하나 이상 만족\n",
    "    - not a : a가 아닌 것.\n",
    "    \n",
    "**- 비교연산과 논리연산의 공통점은 결과가 참(True) 또는 거짓(False)라는 것이다.**"
   ]
  },
  {
   "cell_type": "markdown",
   "metadata": {},
   "source": [
    "# 2. 반복문\n",
    "- 컴퓨터는 단순 작업의 반복에 최적화 된 기계 -> 반복문이 중요한 이유!!\n",
    "- while, for 2가지 형태를 제공"
   ]
  },
  {
   "cell_type": "markdown",
   "metadata": {},
   "source": [
    "## 2.2 for 문"
   ]
  },
  {
   "cell_type": "markdown",
   "metadata": {},
   "source": [
    "- 지정된 횟수동안 반복 수행\n",
    "- for 변수 in range(시작값, 끝값+1, 증가값) :"
   ]
  },
  {
   "cell_type": "markdown",
   "metadata": {},
   "source": [
    "### 2.2.1 range()\n",
    "- 지정된 범위의 값을 반환\n",
    "- range(시작값, 끝값+1, 증가값)\n",
    "- 끝값 +1 : +1의 의미는 끝나고자 하는 값에서 반복을 한번 더 해야 한다는 의미"
   ]
  },
  {
   "cell_type": "markdown",
   "metadata": {},
   "source": [
    "**연습문제4) 0과 100 사이에 있는 7의 배수 합계 구하기**"
   ]
  },
  {
   "cell_type": "code",
   "execution_count": 35,
   "metadata": {},
   "outputs": [
    {
     "name": "stdout",
     "output_type": "stream",
     "text": [
      "735\n"
     ]
    }
   ],
   "source": [
    "num = 0\n",
    "for i in range(0, 101, 7):\n",
    "    num = num + i\n",
    "\n",
    "print(num)"
   ]
  },
  {
   "cell_type": "markdown",
   "metadata": {},
   "source": [
    "**연습문제5) 두수 사이의 모든 수의 합 구하기** 예) 1, 10 -> 55 출력"
   ]
  },
  {
   "cell_type": "code",
   "execution_count": 34,
   "metadata": {},
   "outputs": [
    {
     "name": "stdout",
     "output_type": "stream",
     "text": [
      "55\n"
     ]
    }
   ],
   "source": [
    "num = 0\n",
    "\n",
    "for i in range(1, 11):\n",
    "    num = num + i\n",
    "\n",
    "print(num)"
   ]
  },
  {
   "cell_type": "markdown",
   "metadata": {},
   "source": [
    "### 2.2.3 리스트와 range 조합하기"
   ]
  },
  {
   "cell_type": "code",
   "execution_count": 33,
   "metadata": {},
   "outputs": [
    {
     "name": "stdout",
     "output_type": "stream",
     "text": [
      "1\n",
      "6\n",
      "4\n",
      "43\n",
      "0번째 반복 : 1\n",
      "1번째 반복 : 6\n",
      "2번째 반복 : 4\n",
      "3번째 반복 : 43\n"
     ]
    }
   ],
   "source": [
    "a = [1, 6, 4, 43]\n",
    "\n",
    "for i in a:\n",
    "    print(i)\n",
    "    \n",
    "# for i in 'hello':\n",
    "    # print(i)\n",
    "    \n",
    "for i in range(len(a)):\n",
    "    print('{}번째 반복 : {}'.format(i, a[i]))"
   ]
  },
  {
   "cell_type": "markdown",
   "metadata": {},
   "source": [
    "### 2.2.4 dict items() 함수와 for문"
   ]
  },
  {
   "cell_type": "code",
   "execution_count": 2,
   "metadata": {},
   "outputs": [
    {
     "name": "stdout",
     "output_type": "stream",
     "text": [
      "dict_items([('name', 'BTS'), ('member', 7), ('데뷔곡', '데인저'), ('대표곡', ['IDOL', '봄날', '불타오르네', 'Dynamite'])])\n",
      "name BTS\n",
      "member 7\n",
      "데뷔곡 데인저\n",
      "대표곡 ['IDOL', '봄날', '불타오르네', 'Dynamite']\n"
     ]
    }
   ],
   "source": [
    "singer = {\n",
    "    'name' : 'BTS',\n",
    "    'member' : 7,\n",
    "    '데뷔곡' : '데인저',\n",
    "    '대표곡' : ['IDOL','봄날','불타오르네','Dynamite']\n",
    "    \n",
    "}\n",
    "\n",
    "print(singer.items())\n",
    "\n",
    "for i, j in singer.items():\n",
    "    print(i, j)"
   ]
  },
  {
   "cell_type": "markdown",
   "metadata": {},
   "source": [
    "### 2.2.5 리스트 내포(list comprehension)\n",
    "- list 안에 for문을 포함하는 list 내포(list comprehension)를 사용하면 좀 더 편리하고 직관적인 프로그램을 만들 수 있다.\n",
    "- 리스트 이름 = [표현식 for 반복자 in 반복할 수 있는 것]"
   ]
  },
  {
   "cell_type": "code",
   "execution_count": 3,
   "metadata": {},
   "outputs": [
    {
     "name": "stdout",
     "output_type": "stream",
     "text": [
      "[3, 6, 9, 12]\n",
      "[3, 6, 9, 12]\n"
     ]
    }
   ],
   "source": [
    "a = [1, 2, 3, 4]\n",
    "result = []\n",
    "\n",
    "for num in a:\n",
    "    result.append(num*3)\n",
    "print(result)\n",
    "\n",
    "result = [num*3 for num in a]\n",
    "print(result)"
   ]
  },
  {
   "cell_type": "code",
   "execution_count": 4,
   "metadata": {},
   "outputs": [
    {
     "name": "stdout",
     "output_type": "stream",
     "text": [
      "[1, 4, 9, 16, 25, 36, 49, 64, 81, 100]\n",
      "[1, 4, 9, 16, 25, 36, 49, 64, 81, 100]\n"
     ]
    }
   ],
   "source": [
    "# 1~10까지 제곱으로 이루어진 list\n",
    "\n",
    "a = []\n",
    "\n",
    "for i in range(1, 11):\n",
    "    a.append(i*i)\n",
    "print(a)\n",
    "\n",
    "a = [i*i for i in range(1, 11)]\n",
    "print(a)"
   ]
  },
  {
   "cell_type": "code",
   "execution_count": 5,
   "metadata": {},
   "outputs": [
    {
     "name": "stdout",
     "output_type": "stream",
     "text": [
      "['apple', 'banana', 'cherry']\n",
      "['apple', 'banana', 'cherry']\n"
     ]
    }
   ],
   "source": [
    "# candy가 아닌 fruit로 리스트 재조합\n",
    "c = ['apple', 'banana', 'cherry', 'candy']\n",
    "output = []\n",
    "\n",
    "for fruit in c: \n",
    "    if not fruit == 'candy':\n",
    "        output.append(fruit)\n",
    "print(output)\n",
    "\n",
    "output = [fruit for fruit in c if not fruit == 'candy']\n",
    "print(output)"
   ]
  },
  {
   "cell_type": "markdown",
   "metadata": {},
   "source": [
    "# 3. pass, break, countinue 키워드 \n",
    "## 3.1 pass\n",
    "- 프로그래밍 전체골격을 잡아 놓고 내부에서 처리할 내용은 차근차근 만들겠다는 의도.\n",
    "- 조건문, 반복문, 함수, 클래스 등...."
   ]
  },
  {
   "cell_type": "code",
   "execution_count": 6,
   "metadata": {},
   "outputs": [],
   "source": [
    "number =0\n",
    "\n",
    "if number > 0 :\n",
    "    pass\n",
    "else :\n",
    "    pass"
   ]
  },
  {
   "cell_type": "markdown",
   "metadata": {},
   "source": [
    "## 3.2 break\n",
    "- 반복문을 탈출시키는 키워드. \n",
    "- 반복문을 수행하다가 더 이상 반복이 필요없는 경우"
   ]
  },
  {
   "cell_type": "code",
   "execution_count": 7,
   "metadata": {},
   "outputs": [
    {
     "name": "stdout",
     "output_type": "stream",
     "text": [
      "첫번째 숫자 : 10\n",
      "두번째 숫자 : 5\n",
      "총합 : 15\n",
      "첫번째 숫자 : 10\n",
      "두번째 숫자 : 0\n",
      "0을 입력해서 반복문을 탈출했습니다.\n"
     ]
    }
   ],
   "source": [
    "# 두수를 입력 받아서 더하기 출력하기, 0 입력하면 종료\n",
    "while True:\n",
    "    a = int(input('첫번째 숫자 : '))\n",
    "    if a == 0:\n",
    "        break\n",
    "    b = int(input('두번째 숫자 : '))\n",
    "    if b == 0:\n",
    "        break\n",
    "    c = a + b\n",
    "    print('총합 : {}'.format(c))\n",
    "    \n",
    "print('0을 입력해서 반복문을 탈출했습니다.')"
   ]
  },
  {
   "cell_type": "code",
   "execution_count": 8,
   "metadata": {},
   "outputs": [
    {
     "name": "stdout",
     "output_type": "stream",
     "text": [
      "1 ~ 100의 누적합계가 1000이상이 되는 시작 숫자 :  45\n"
     ]
    }
   ],
   "source": [
    "# 누적 합계(hap)가 1000이상이 되는 시작 지점 알기\n",
    "hap = 0\n",
    "\n",
    "for i in range(1, 101):\n",
    "    hap += i\n",
    "    if hap >= 1000:\n",
    "        break\n",
    "        \n",
    "print('1 ~ 100의 누적합계가 1000이상이 되는 시작 숫자 : ', i)"
   ]
  },
  {
   "cell_type": "code",
   "execution_count": 9,
   "metadata": {},
   "outputs": [
    {
     "name": "stdout",
     "output_type": "stream",
     "text": [
      "★\n",
      "★★\n",
      "★★★\n",
      "★★★★\n",
      "★★★★★\n"
     ]
    }
   ],
   "source": [
    "# 무한루프로 ★(\\u2605)로 직각삼각형 출력하기\n",
    "a = 1\n",
    "\n",
    "while True:\n",
    "    print('\\u2605' * a)\n",
    "    a = a + 1\n",
    "    if a > 5:\n",
    "        break"
   ]
  },
  {
   "cell_type": "markdown",
   "metadata": {},
   "source": [
    "**무한루프를 활용한 자판기**"
   ]
  },
  {
   "cell_type": "code",
   "execution_count": 10,
   "metadata": {},
   "outputs": [
    {
     "name": "stdout",
     "output_type": "stream",
     "text": [
      "돈을 넣어주세요 : 500\n",
      "감사합니다. 거스름돈은 200입니다\n",
      "돈을 넣어주세요 : 200\n",
      "☕\n",
      "잔액이 부족합니다. 200원을 돌려줍니다.\n",
      "돈을 넣어주세요 : 300\n",
      "감사합니다.\n",
      "돈을 넣어주세요 : 500\n",
      "감사합니다. 거스름돈은 200입니다\n",
      "돈을 넣어주세요 : 400\n",
      "감사합니다. 거스름돈은 100입니다\n",
      "돈을 넣어주세요 : 800\n",
      "감사합니다. 거스름돈은 500입니다\n",
      "커피가 모두 소진되었습니다.\n",
      "운영을 종료합니다.\n"
     ]
    }
   ],
   "source": [
    "# 전시간에 한 자판기코드를 수정하여 무한루프 자판기를 만들어 보시오.\n",
    "coffee = 5\n",
    "\n",
    "while True:\n",
    "    m = int(input('돈을 넣어주세요 : '))\n",
    "    if m > 300:\n",
    "        coffee = coffee - 1\n",
    "        print('감사합니다. 거스름돈은 %d입니다' % (m - 300))\n",
    "    elif m == 300:\n",
    "        coffee = coffee - 1\n",
    "        print('감사합니다.')\n",
    "    else :\n",
    "        print('\\u2615')\n",
    "        print('잔액이 부족합니다. %d원을 돌려줍니다.' %m)\n",
    "    \n",
    "    if coffee == 0:\n",
    "        print('커피가 모두 소진되었습니다.')\n",
    "        break\n",
    "        \n",
    "print('운영을 종료합니다.')"
   ]
  },
  {
   "cell_type": "markdown",
   "metadata": {},
   "source": [
    "## 3.3 countinue\n",
    "- 해당 블록의 남은 부분을 무조건 건너띈 채 반복문의 처음으로 되돌아 가는 키워드\n",
    "- 반복문을 수행하다가 특정 조건에만 건너뛰고 싶은 경우"
   ]
  },
  {
   "cell_type": "code",
   "execution_count": 1,
   "metadata": {},
   "outputs": [
    {
     "name": "stdout",
     "output_type": "stream",
     "text": [
      "3367\n"
     ]
    }
   ],
   "source": [
    "#1~100의 합계를 구하되 3의 배수는 제외하고 더하기 -> 정답 : 3367\n",
    "hap = 0\n",
    "for i in range(1, 101):\n",
    "    if i % 3 == 0:\n",
    "        continue\n",
    "    hap += i\n",
    "    \n",
    "print(hap)"
   ]
  },
  {
   "cell_type": "markdown",
   "metadata": {},
   "source": [
    "**연습문제6) 음식궁합을 출력하는 프로그램을 만드시오.**\n",
    "- 아래 궁합 정보를 담고 있는 foods라는 변수를 만든다\n",
    "\n",
    "| 음식 | 궁합음식 |\n",
    "| ---- | ---- | \n",
    "| 떡볶이 |  튀김 |  \n",
    "| 짜장면| 단무지 | \n",
    "| 라면 | 김치 | \n",
    "| 피자 |  콜라 |\n",
    "| 치킨 |  맥주 |\n",
    "| 삼겹살 |  상추 |\n",
    "\n",
    "- 자신이 좋아하는 하는 음식을 입력하면 궁합음식을 출력한다.\n",
    "- foods에 없는 음식을 입력하면 '그런음식 없습니다. 확인해보세요'를 출력한다. \n",
    "- while을 이용한 무한반복문으로 만들고 'end'를 입력하면 프로그램이 종료되도록 한다.\n",
    "\n"
   ]
  },
  {
   "cell_type": "code",
   "execution_count": 28,
   "metadata": {},
   "outputs": [
    {
     "name": "stdout",
     "output_type": "stream",
     "text": [
      "음식 : 라면\n",
      "궁합음식은 김치\n",
      "음식 : 닭강정\n",
      "그런음식 없습니다. 확인해보세요\n",
      "음식 : end\n"
     ]
    }
   ],
   "source": [
    "foods = {'떡볶이' : '튀김', '짜장면' : '단무지', '라면' : '김치', '피자' : '콜라', '치킨' : '맥주', '삼겹살' : '쌈장'}\n",
    "\n",
    "while True:\n",
    "    food = input('음식 : ')\n",
    "    \n",
    "    if food in foods:\n",
    "        print('궁합음식은 {}'.format(foods[food]))\n",
    "    elif food == 'end':\n",
    "        break\n",
    "    else :\n",
    "        print('그런음식 없습니다. 확인해보세요')\n"
   ]
  },
  {
   "cell_type": "code",
   "execution_count": 32,
   "metadata": {},
   "outputs": [
    {
     "name": "stdout",
     "output_type": "stream",
     "text": [
      "['떡볶이', '짜장면', '라면', '피자', '치킨', '삼겹살']중 좋아하는 음식은 : 짜장면\n",
      "궁합음식은 단무지\n",
      "['떡볶이', '짜장면', '라면', '피자', '치킨', '삼겹살']중 좋아하는 음식은 : 치킨\n",
      "궁합음식은 맥주\n",
      "['떡볶이', '짜장면', '라면', '피자', '치킨', '삼겹살']중 좋아하는 음식은 : end\n"
     ]
    }
   ],
   "source": [
    "foods = {'떡볶이' : '튀김', '짜장면' : '단무지', '라면' : '김치', '피자' : '콜라', '치킨' : '맥주', '삼겹살' : '쌈장'}\n",
    "\n",
    "a = list(foods.keys())\n",
    "\n",
    "while True:\n",
    "    food = input(str(a)+ '중 좋아하는 음식은 : ')\n",
    "    \n",
    "    if food in foods:\n",
    "        print('궁합음식은 {}'.format(foods[food]))\n",
    "    elif food == 'end':\n",
    "        break\n",
    "    else :\n",
    "        print('그런음식 없습니다. 확인해보세요')"
   ]
  }
 ],
 "metadata": {
  "kernelspec": {
   "display_name": "Python 3",
   "language": "python",
   "name": "python3"
  },
  "language_info": {
   "codemirror_mode": {
    "name": "ipython",
    "version": 3
   },
   "file_extension": ".py",
   "mimetype": "text/x-python",
   "name": "python",
   "nbconvert_exporter": "python",
   "pygments_lexer": "ipython3",
   "version": "3.8.5"
  },
  "toc": {
   "base_numbering": 1,
   "nav_menu": {},
   "number_sections": false,
   "sideBar": true,
   "skip_h1_title": false,
   "title_cell": "Table of Contents",
   "title_sidebar": "Contents",
   "toc_cell": false,
   "toc_position": {
    "height": "calc(100% - 180px)",
    "left": "10px",
    "top": "150px",
    "width": "304.474px"
   },
   "toc_section_display": true,
   "toc_window_display": false
  }
 },
 "nbformat": 4,
 "nbformat_minor": 2
}
