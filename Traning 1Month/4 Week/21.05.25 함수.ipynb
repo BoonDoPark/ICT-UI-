{
 "cells": [
  {
   "cell_type": "markdown",
   "metadata": {},
   "source": [
    "# 함수\n"
   ]
  },
  {
   "cell_type": "markdown",
   "metadata": {},
   "source": [
    "### 1. 함수란?\n",
    "- 반복적으로 사용되는 부분을 묶어서, **재사용 가능하도록 만들어 주는 것**\n",
    "- 정해진 logic(규칙)에 따라, input -> output으로 효율적으로 바꿔주는 역할\n",
    "![function](https://drive.google.com/uc?id=1P1I19_Yft4ckZ52OULy6J0Sn0s18kAdZ)\n",
    "\n",
    "- range 함수는 정수를 입력으로 전달하면 [0, 정수) 로 이루어진 리스트를 생성하는 역할\n",
    "- sum 함수는 리스트, 튜플등을 입력으로 전달하면 전체 아이템의 합을 출력으로 전달\n",
    "- len 함수는 리스트, 튜플등을 입력으로 전달하면 아이템의 개수를 출력으로 전달\n",
    "- 위의 함수들은 모두 python 내부에 이미 정의(구현)이 되어 있다 ==> **내장함수(built-in function)**"
   ]
  },
  {
   "cell_type": "code",
   "execution_count": 10,
   "metadata": {},
   "outputs": [
    {
     "data": {
      "text/plain": [
       "5"
      ]
     },
     "execution_count": 10,
     "metadata": {},
     "output_type": "execute_result"
    }
   ],
   "source": [
    "str = 'hello'\n",
    "len(str)"
   ]
  },
  {
   "cell_type": "markdown",
   "metadata": {},
   "source": [
    "#### 1.1 함수 정의\n"
   ]
  },
  {
   "cell_type": "code",
   "execution_count": 11,
   "metadata": {},
   "outputs": [
    {
     "data": {
      "text/plain": [
       "15"
      ]
     },
     "execution_count": 11,
     "metadata": {},
     "output_type": "execute_result"
    }
   ],
   "source": [
    "# 입력받은 a, b를 더한 값을 돌려주는 함수\n",
    "def add(a, b):  # 매개변수(Parameter)\n",
    "    c = a + b\n",
    "    return c\n",
    "\n",
    "# 함수가 먼저 정의 되고 호출되야 한다.\n",
    "c, d = 10, 5\n",
    "add(c, d) # 인수(argments)\n"
   ]
  },
  {
   "cell_type": "markdown",
   "metadata": {},
   "source": [
    "**연습문제1) 두 수를 입력 받아서 사칙연산을 하는 함수를 각각(add, sub, mul, div) 만드시오.**"
   ]
  },
  {
   "cell_type": "code",
   "execution_count": 12,
   "metadata": {},
   "outputs": [
    {
     "name": "stdout",
     "output_type": "stream",
     "text": [
      "15\n",
      "5\n",
      "50\n",
      "2\n"
     ]
    }
   ],
   "source": [
    "def add(a, b):\n",
    "    return a + b\n",
    "\n",
    "def sub(a, b):\n",
    "    return a - b\n",
    "\n",
    "def mul(a, b):\n",
    "    return a * b\n",
    "\n",
    "def div(a, b):\n",
    "    if b == 0:\n",
    "        return 0\n",
    "    return a /b\n",
    "\n",
    "print(add(10, 5))\n",
    "print(sub(10, 5))\n",
    "print(mul(10, 5))\n",
    "print(int(div(10, 5)))"
   ]
  },
  {
   "cell_type": "code",
   "execution_count": null,
   "metadata": {},
   "outputs": [],
   "source": []
  },
  {
   "cell_type": "markdown",
   "metadata": {},
   "source": [
    "#### 참고1) 읽기 어려운 코드 예"
   ]
  },
  {
   "cell_type": "code",
   "execution_count": 20,
   "metadata": {},
   "outputs": [
    {
     "name": "stdout",
     "output_type": "stream",
     "text": [
      "A\n",
      "C\n",
      "B\n",
      "E\n",
      "D\n"
     ]
    }
   ],
   "source": [
    "print(\"A\")\n",
    "def message1() :\n",
    "    print(\"B\")\n",
    "print(\"C\")\n",
    "def message2() :\n",
    "    print(\"D\")\n",
    "message1()\n",
    "print(\"E\")\n",
    "message2()"
   ]
  },
  {
   "cell_type": "code",
   "execution_count": 9,
   "metadata": {},
   "outputs": [
    {
     "name": "stdout",
     "output_type": "stream",
     "text": [
      "A\n",
      "B\n",
      "C\n",
      "D\n",
      "E\n"
     ]
    }
   ],
   "source": [
    "# 함수 선언문\n",
    "def message1():\n",
    "    print(\"B\")\n",
    "\n",
    "def message2():\n",
    "    print(\"D\")\n",
    "\n",
    "# 메인프로그램\n",
    "print(\"A\")\n",
    "message1()\n",
    "print(\"C\")\n",
    "message2()\n",
    "print(\"E\")"
   ]
  },
  {
   "cell_type": "markdown",
   "metadata": {},
   "source": [
    "#### 1.2 parameter는 여러 개 만들 수 있지만, 함수에 넘겨 줄 때 순서가 중요!!"
   ]
  },
  {
   "cell_type": "code",
   "execution_count": 14,
   "metadata": {},
   "outputs": [
    {
     "name": "stdout",
     "output_type": "stream",
     "text": [
      "16\n",
      "21\n"
     ]
    }
   ],
   "source": [
    "def my_function(a, b, c):\n",
    "    return (a+b)*c\n",
    "\n",
    "a, b, c = 3, 5, 2\n",
    "print((a+b)*c)\n",
    "print(my_function(c, b, a))"
   ]
  },
  {
   "cell_type": "markdown",
   "metadata": {},
   "source": [
    "#### 1.3 지역변수, 전역변수\n",
    "- 변수 : Local 변수 / Global 변수"
   ]
  },
  {
   "cell_type": "code",
   "execution_count": 19,
   "metadata": {},
   "outputs": [
    {
     "name": "stdout",
     "output_type": "stream",
     "text": [
      "num :  100\n",
      "func1 에서 num :  10\n",
      "func2 에서 num :  100\n",
      "func2 에서 num :  50\n",
      "num :  50\n"
     ]
    }
   ],
   "source": [
    "num = 100\n",
    "\n",
    "def func1(): # 지역변수 : local 변수\n",
    "    num =10\n",
    "    print('func1 에서 num : ', num)\n",
    "    \n",
    "def func2():\n",
    "    print('func2 에서 num : ', num)\n",
    "    \n",
    "def func3():\n",
    "    global num # 전역변수 : global 변수\n",
    "    num = 50\n",
    "    print('func2 에서 num : ', num)\n",
    "    \n",
    "print('num : ', num)\n",
    "func1()\n",
    "func2()\n",
    "func3()\n",
    "print('num : ', num)"
   ]
  },
  {
   "cell_type": "markdown",
   "metadata": {},
   "source": [
    "### 2. 함수 정의 다양한 형태\n",
    "#### 2.1 함수 parameter와 return이 모두 존재하는 경우"
   ]
  },
  {
   "cell_type": "code",
   "execution_count": 20,
   "metadata": {},
   "outputs": [
    {
     "data": {
      "text/plain": [
       "15"
      ]
     },
     "execution_count": 20,
     "metadata": {},
     "output_type": "execute_result"
    }
   ],
   "source": [
    "def add(a, b):\n",
    "    c = a + b\n",
    "    return c\n",
    "\n",
    "add(10, 5)"
   ]
  },
  {
   "cell_type": "code",
   "execution_count": 27,
   "metadata": {},
   "outputs": [
    {
     "data": {
      "text/plain": [
       "(15, 5, 50, 2.0)"
      ]
     },
     "execution_count": 27,
     "metadata": {},
     "output_type": "execute_result"
    }
   ],
   "source": [
    "def cal(a, b):\n",
    "    return a + b, a - b, a * b, a / b\n",
    "\n",
    "cal(10, 5)"
   ]
  },
  {
   "cell_type": "markdown",
   "metadata": {},
   "source": [
    "#### 2.2 함수 parameter는 없고 return이 존재하는 경우"
   ]
  },
  {
   "cell_type": "code",
   "execution_count": 2,
   "metadata": {},
   "outputs": [
    {
     "name": "stdout",
     "output_type": "stream",
     "text": [
      "hello world\n"
     ]
    }
   ],
   "source": [
    "def say():\n",
    "    return 'hello'\n",
    "\n",
    "str1 = say() + ' world'\n",
    "print(str1)"
   ]
  },
  {
   "cell_type": "markdown",
   "metadata": {},
   "source": [
    "#### 2.3 함수 parameter는 있고 return이 없는 경우"
   ]
  },
  {
   "cell_type": "code",
   "execution_count": 29,
   "metadata": {},
   "outputs": [
    {
     "name": "stdout",
     "output_type": "stream",
     "text": [
      "hello\n",
      "hello\n",
      "hello\n",
      "hello\n",
      "hello\n"
     ]
    }
   ],
   "source": [
    "def  print_n(value, n):\n",
    "    for i in range(n):\n",
    "        print(value)\n",
    "        \n",
    "print_n('hello', 5)"
   ]
  },
  {
   "cell_type": "markdown",
   "metadata": {},
   "source": [
    "#### 2.4 함수 parameter, return 둘 다 없는 경우"
   ]
  },
  {
   "cell_type": "code",
   "execution_count": 30,
   "metadata": {},
   "outputs": [
    {
     "name": "stdout",
     "output_type": "stream",
     "text": [
      "hello\n",
      "hello\n",
      "hello\n",
      "hello\n",
      "hello\n"
     ]
    }
   ],
   "source": [
    "def say():\n",
    "    print('hello')\n",
    "    print('hello')\n",
    "    print('hello')\n",
    "    print('hello')\n",
    "    print('hello')\n",
    "    \n",
    "say()"
   ]
  },
  {
   "cell_type": "markdown",
   "metadata": {},
   "source": [
    "### 3. 매개변수(parameter)"
   ]
  },
  {
   "cell_type": "markdown",
   "metadata": {},
   "source": [
    "#### 3.1 함수관련 Error"
   ]
  },
  {
   "cell_type": "code",
   "execution_count": 47,
   "metadata": {},
   "outputs": [
    {
     "ename": "TypeError",
     "evalue": "print_n() missing 1 required positional argument: 'n'",
     "output_type": "error",
     "traceback": [
      "\u001b[1;31m---------------------------------------------------------------------------\u001b[0m",
      "\u001b[1;31mTypeError\u001b[0m                                 Traceback (most recent call last)",
      "\u001b[1;32m<ipython-input-47-9f0d1a7ff149>\u001b[0m in \u001b[0;36m<module>\u001b[1;34m\u001b[0m\n\u001b[0;32m      3\u001b[0m         \u001b[0mprint\u001b[0m\u001b[1;33m(\u001b[0m\u001b[0mvalue\u001b[0m\u001b[1;33m)\u001b[0m\u001b[1;33m\u001b[0m\u001b[1;33m\u001b[0m\u001b[0m\n\u001b[0;32m      4\u001b[0m \u001b[1;33m\u001b[0m\u001b[0m\n\u001b[1;32m----> 5\u001b[1;33m \u001b[0mprint_n\u001b[0m\u001b[1;33m(\u001b[0m\u001b[1;34m'hello'\u001b[0m\u001b[1;33m)\u001b[0m\u001b[1;33m\u001b[0m\u001b[1;33m\u001b[0m\u001b[0m\n\u001b[0m",
      "\u001b[1;31mTypeError\u001b[0m: print_n() missing 1 required positional argument: 'n'"
     ]
    }
   ],
   "source": [
    "def print_n(value, n) :\n",
    "    for i in range(n) :\n",
    "        print(value)\n",
    "\n",
    "print_n('hello') # 파라미터의 인수는 2개이지만, 출력하는 인수는 1개이므로 오류가 뜬다."
   ]
  },
  {
   "cell_type": "code",
   "execution_count": 48,
   "metadata": {},
   "outputs": [
    {
     "ename": "TypeError",
     "evalue": "print_n() takes 2 positional arguments but 3 were given",
     "output_type": "error",
     "traceback": [
      "\u001b[1;31m---------------------------------------------------------------------------\u001b[0m",
      "\u001b[1;31mTypeError\u001b[0m                                 Traceback (most recent call last)",
      "\u001b[1;32m<ipython-input-48-2f3179221862>\u001b[0m in \u001b[0;36m<module>\u001b[1;34m\u001b[0m\n\u001b[0;32m      3\u001b[0m         \u001b[0mprint\u001b[0m\u001b[1;33m(\u001b[0m\u001b[0mvalue\u001b[0m\u001b[1;33m)\u001b[0m\u001b[1;33m\u001b[0m\u001b[1;33m\u001b[0m\u001b[0m\n\u001b[0;32m      4\u001b[0m \u001b[1;33m\u001b[0m\u001b[0m\n\u001b[1;32m----> 5\u001b[1;33m \u001b[0mprint_n\u001b[0m\u001b[1;33m(\u001b[0m\u001b[1;34m'hello'\u001b[0m\u001b[1;33m,\u001b[0m\u001b[1;36m2\u001b[0m\u001b[1;33m,\u001b[0m\u001b[1;36m3\u001b[0m\u001b[1;33m)\u001b[0m\u001b[1;33m\u001b[0m\u001b[1;33m\u001b[0m\u001b[0m\n\u001b[0m",
      "\u001b[1;31mTypeError\u001b[0m: print_n() takes 2 positional arguments but 3 were given"
     ]
    }
   ],
   "source": [
    "def print_n(value, n) :\n",
    "    for i in range(n) :\n",
    "        print(value)\n",
    "\n",
    "print_n('hello',2,3) # 파라미터의 인수는 2개이지만, 출력하는 인수는 3개이므로 오류가 뜬다."
   ]
  },
  {
   "cell_type": "markdown",
   "metadata": {},
   "source": [
    "#### 3.2 가변매개변수\n",
    "- parameter의 개수를 모르는 경우\n",
    "- def 함수명(매개변수1, 매개변수2,....,*가변매개변수)\n",
    "- *를 앞에 붙이는 것으로 여러개의 parameter를 받아서 tuple로 변환하여 준다.  \n",
    "- agrs : arguments의 약자이며 관례적으로 *args를 쓴다\n",
    "- print() : 매개변수를 원하는 만큼 받을 수 있다."
   ]
  },
  {
   "cell_type": "code",
   "execution_count": 35,
   "metadata": {},
   "outputs": [
    {
     "name": "stdout",
     "output_type": "stream",
     "text": [
      "(1, 2, 3) <class 'tuple'>\n",
      "6\n"
     ]
    }
   ],
   "source": [
    "def add_many(*args):\n",
    "    print(args, type(args))\n",
    "    total = 0\n",
    "    \n",
    "    for num in args:\n",
    "        total += num\n",
    "        \n",
    "    return total\n",
    "    \n",
    "print(add_many(1, 2, 3))"
   ]
  },
  {
   "cell_type": "code",
   "execution_count": 48,
   "metadata": {},
   "outputs": [
    {
     "name": "stdout",
     "output_type": "stream",
     "text": [
      "0\n",
      "안녕하세요\n",
      "즐거운\n",
      "파이썬\n",
      "\n",
      "1\n",
      "안녕하세요\n",
      "즐거운\n",
      "파이썬\n",
      "\n",
      "2\n",
      "안녕하세요\n",
      "즐거운\n",
      "파이썬\n",
      "\n"
     ]
    }
   ],
   "source": [
    "def print_n_times(n, *args):\n",
    "    for i in range(n):\n",
    "        print(i)\n",
    "        for value in args:\n",
    "            print(value)\n",
    "        print()\n",
    "        \n",
    "print_n_times(3, '안녕하세요', '즐거운', '파이썬')"
   ]
  },
  {
   "cell_type": "code",
   "execution_count": 50,
   "metadata": {},
   "outputs": [
    {
     "ename": "TypeError",
     "evalue": "'str' object cannot be interpreted as an integer",
     "output_type": "error",
     "traceback": [
      "\u001b[1;31m---------------------------------------------------------------------------\u001b[0m",
      "\u001b[1;31mTypeError\u001b[0m                                 Traceback (most recent call last)",
      "\u001b[1;32m<ipython-input-50-6c8f994e136f>\u001b[0m in \u001b[0;36m<module>\u001b[1;34m\u001b[0m\n\u001b[0;32m      5\u001b[0m         \u001b[0mprint\u001b[0m\u001b[1;33m(\u001b[0m\u001b[1;33m)\u001b[0m\u001b[1;33m\u001b[0m\u001b[1;33m\u001b[0m\u001b[0m\n\u001b[0;32m      6\u001b[0m \u001b[1;33m\u001b[0m\u001b[0m\n\u001b[1;32m----> 7\u001b[1;33m \u001b[0mprint_n_times\u001b[0m\u001b[1;33m(\u001b[0m\u001b[1;34m'안녕하세요'\u001b[0m\u001b[1;33m,\u001b[0m \u001b[1;34m'즐거운'\u001b[0m\u001b[1;33m,\u001b[0m \u001b[1;34m'파이썬'\u001b[0m\u001b[1;33m,\u001b[0m \u001b[1;36m3\u001b[0m\u001b[1;33m)\u001b[0m\u001b[1;33m\u001b[0m\u001b[1;33m\u001b[0m\u001b[0m\n\u001b[0m",
      "\u001b[1;32m<ipython-input-50-6c8f994e136f>\u001b[0m in \u001b[0;36mprint_n_times\u001b[1;34m(n, *args)\u001b[0m\n\u001b[0;32m      1\u001b[0m \u001b[1;32mdef\u001b[0m \u001b[0mprint_n_times\u001b[0m\u001b[1;33m(\u001b[0m\u001b[0mn\u001b[0m\u001b[1;33m,\u001b[0m \u001b[1;33m*\u001b[0m\u001b[0margs\u001b[0m\u001b[1;33m)\u001b[0m\u001b[1;33m:\u001b[0m\u001b[1;33m\u001b[0m\u001b[1;33m\u001b[0m\u001b[0m\n\u001b[1;32m----> 2\u001b[1;33m     \u001b[1;32mfor\u001b[0m \u001b[0mi\u001b[0m \u001b[1;32min\u001b[0m \u001b[0mrange\u001b[0m\u001b[1;33m(\u001b[0m\u001b[0mn\u001b[0m\u001b[1;33m)\u001b[0m\u001b[1;33m:\u001b[0m\u001b[1;33m\u001b[0m\u001b[1;33m\u001b[0m\u001b[0m\n\u001b[0m\u001b[0;32m      3\u001b[0m         \u001b[1;32mfor\u001b[0m \u001b[0mvalue\u001b[0m \u001b[1;32min\u001b[0m \u001b[0margs\u001b[0m\u001b[1;33m:\u001b[0m\u001b[1;33m\u001b[0m\u001b[1;33m\u001b[0m\u001b[0m\n\u001b[0;32m      4\u001b[0m             \u001b[0mprint\u001b[0m\u001b[1;33m(\u001b[0m\u001b[0mvalue\u001b[0m\u001b[1;33m)\u001b[0m\u001b[1;33m\u001b[0m\u001b[1;33m\u001b[0m\u001b[0m\n\u001b[0;32m      5\u001b[0m         \u001b[0mprint\u001b[0m\u001b[1;33m(\u001b[0m\u001b[1;33m)\u001b[0m\u001b[1;33m\u001b[0m\u001b[1;33m\u001b[0m\u001b[0m\n",
      "\u001b[1;31mTypeError\u001b[0m: 'str' object cannot be interpreted as an integer"
     ]
    }
   ],
   "source": [
    "def print_n_times(n, *args):\n",
    "    for i in range(n):\n",
    "        for value in args:\n",
    "            print(value)\n",
    "        print()\n",
    "        \n",
    "print_n_times('안녕하세요', '즐거운', '파이썬', 3)"
   ]
  },
  {
   "cell_type": "code",
   "execution_count": 4,
   "metadata": {},
   "outputs": [
    {
     "name": "stdout",
     "output_type": "stream",
     "text": [
      "{'a': 1} <class 'dict'>\n",
      "{'라면': '순대', '짜장면': '단무지', '피자': '피클'} <class 'dict'>\n"
     ]
    }
   ],
   "source": [
    "# **은 딕셔너리형태로 받음\n",
    "def print_kwargs(**kwargs):\n",
    "    print(kwargs, type(kwargs))\n",
    "\n",
    "print_kwargs(a=1)\n",
    "print_kwargs(라면 = '순대', 짜장면 = '단무지', 피자 = '피클')"
   ]
  },
  {
   "cell_type": "markdown",
   "metadata": {},
   "source": [
    "#### 3.3 기본값이 있는 매개변수\n",
    "- print('Hello', sep = ' ', end = '\\n') 에서 sep, end에 값을 입력하지 않아도 매개변수에 들어가는 기본값이 정해져있다.\n",
    "- 기본매개변수 뒤에는 일반 매개변수가 올수없다.\n",
    "- **매개변수 이름을 명시하여 전달 ->키워드 매개변수(파라미터)**"
   ]
  },
  {
   "cell_type": "code",
   "execution_count": 54,
   "metadata": {},
   "outputs": [
    {
     "name": "stdout",
     "output_type": "stream",
     "text": [
      "안녕하세요\n",
      "안녕하세요\n",
      "\n",
      "안녕하세요\n",
      "안녕하세요\n",
      "안녕하세요\n",
      "안녕하세요\n",
      "안녕하세요\n",
      "안녕하세요\n"
     ]
    }
   ],
   "source": [
    "def print_n_times(value, n=2) :\n",
    "    for i in range(n):\n",
    "        print(value)\n",
    "        \n",
    "\n",
    "print_n_times('안녕하세요')\n",
    "print()\n",
    "print_n_times('안녕하세요', n=6) # 키워드 매개변수를 바꿔줘야 함. 코드가 길어지면 헷갈릴수도 있기 때문."
   ]
  },
  {
   "cell_type": "code",
   "execution_count": 8,
   "metadata": {},
   "outputs": [
    {
     "name": "stdout",
     "output_type": "stream",
     "text": [
      "22\n",
      "9\n",
      "16\n",
      "16\n",
      "5\n"
     ]
    }
   ],
   "source": [
    "def test(a, b = 10, c = 2):\n",
    "    print((a+b)*c)\n",
    "\n",
    "test(1)\n",
    "test(1, 2, 3)\n",
    "test(a = 1, b = 3, c = 4)\n",
    "test(c = 4, a = 1, b = 3)\n",
    "test(c = 1, a = 2, b = 3)"
   ]
  },
  {
   "cell_type": "code",
   "execution_count": 11,
   "metadata": {},
   "outputs": [
    {
     "name": "stdout",
     "output_type": "stream",
     "text": [
      "2\n",
      "안녕하세요 메롱\n",
      "안녕하세요 메롱\n",
      "\n",
      "5\n",
      "안녕하세요 까꿍\n",
      "안녕하세요 까꿍\n",
      "안녕하세요 까꿍\n",
      "안녕하세요 까꿍\n",
      "안녕하세요 까꿍\n",
      "\n",
      "3\n",
      "안녕하세요 까꿍\n",
      "안녕하세요 까꿍\n",
      "안녕하세요 까꿍\n"
     ]
    }
   ],
   "source": [
    "def print_n_times(value1, value2, n=2):\n",
    "    print(n)\n",
    "    for i in range(n):\n",
    "        print(value1, value2)\n",
    "        \n",
    "print_n_times('안녕하세요', '메롱')\n",
    "print()\n",
    "print_n_times(value1 = '안녕하세요', value2 = '까꿍', n= 5)\n",
    "print()\n",
    "print_n_times(value1 = '안녕하세요', n= 3, value2 = '까꿍')\n",
    "\n"
   ]
  },
  {
   "cell_type": "markdown",
   "metadata": {},
   "source": [
    "#### 3.4 매개변수 순서"
   ]
  },
  {
   "cell_type": "markdown",
   "metadata": {},
   "source": [
    "- 기본 매개변수가 가변 매개변수보다 앞에 올 때"
   ]
  },
  {
   "cell_type": "code",
   "execution_count": 14,
   "metadata": {},
   "outputs": [
    {
     "name": "stdout",
     "output_type": "stream",
     "text": [
      "안녕하세요\n",
      "뜨거운\n",
      "파이썬\n",
      "\n",
      "뜨거운\n",
      "파이썬\n",
      "\n",
      "뜨거운\n",
      "파이썬\n",
      "\n",
      "뜨거운\n",
      "파이썬\n",
      "\n",
      "뜨거운\n",
      "파이썬\n",
      "\n"
     ]
    }
   ],
   "source": [
    "def print_n_times(n='welcome', *args):\n",
    "    print(n)\n",
    "    for i in n:\n",
    "        for value in args:\n",
    "            print(value)\n",
    "        print()\n",
    "\n",
    "print_n_times('안녕하세요', '뜨거운', '파이썬')"
   ]
  },
  {
   "cell_type": "code",
   "execution_count": 16,
   "metadata": {},
   "outputs": [
    {
     "name": "stdout",
     "output_type": "stream",
     "text": [
      "3\n",
      "뜨거운\n",
      "파이썬\n",
      "\n",
      "뜨거운\n",
      "파이썬\n",
      "\n",
      "뜨거운\n",
      "파이썬\n",
      "\n"
     ]
    }
   ],
   "source": [
    "def print_n_times(n=2, *args):\n",
    "    print(n)\n",
    "    for i in range(n):\n",
    "        for value in args:\n",
    "            print(value)\n",
    "        print()\n",
    "\n",
    "print_n_times(3, '뜨거운', '파이썬')"
   ]
  },
  {
   "cell_type": "markdown",
   "metadata": {},
   "source": [
    "- 가변 매개변수가 기본 매개변수 보다 앞에 올때"
   ]
  },
  {
   "cell_type": "code",
   "execution_count": 19,
   "metadata": {},
   "outputs": [
    {
     "name": "stdout",
     "output_type": "stream",
     "text": [
      "2\n",
      "안녕하세요\n",
      "뜨거운\n",
      "파이썬\n",
      "\n",
      "안녕하세요\n",
      "뜨거운\n",
      "파이썬\n",
      "\n",
      "2\n",
      "안녕하세요\n",
      "뜨거운\n",
      "파이썬\n",
      "3\n",
      "\n",
      "안녕하세요\n",
      "뜨거운\n",
      "파이썬\n",
      "3\n",
      "\n",
      "3\n",
      "안녕하세요\n",
      "뜨거운\n",
      "파이썬\n",
      "\n",
      "안녕하세요\n",
      "뜨거운\n",
      "파이썬\n",
      "\n",
      "안녕하세요\n",
      "뜨거운\n",
      "파이썬\n",
      "\n"
     ]
    }
   ],
   "source": [
    "def print_n_times(*args, n=2):\n",
    "    print(n)\n",
    "    for i in range(n):\n",
    "        for value in args:\n",
    "            print(value)\n",
    "        print()\n",
    "\n",
    "print_n_times('안녕하세요', '뜨거운', '파이썬')\n",
    "print_n_times('안녕하세요', '뜨거운', '파이썬', 3)\n",
    "print_n_times('안녕하세요', '뜨거운', '파이썬', n=3)"
   ]
  },
  {
   "cell_type": "code",
   "execution_count": 27,
   "metadata": {},
   "outputs": [
    {
     "name": "stdout",
     "output_type": "stream",
     "text": [
      "초기값 n :  2\n",
      "안녕하세요 1\n",
      "뜨거운 1\n",
      "파이썬 1\n",
      "\n",
      "안녕하세요 1\n",
      "뜨거운 1\n",
      "파이썬 1\n",
      "\n",
      "--------------------\n",
      "초기값 n :  2\n",
      "안녕하세요 2\n",
      "뜨거운 2\n",
      "파이썬 2\n",
      "3 2\n",
      "\n",
      "안녕하세요 2\n",
      "뜨거운 2\n",
      "파이썬 2\n",
      "3 2\n",
      "\n",
      "--------------------\n",
      "초기값 n :  4\n",
      "안녕하세요 3\n",
      "뜨거운 3\n",
      "파이썬 3\n",
      "\n",
      "안녕하세요 3\n",
      "뜨거운 3\n",
      "파이썬 3\n",
      "\n",
      "안녕하세요 3\n",
      "뜨거운 3\n",
      "파이썬 3\n",
      "\n",
      "안녕하세요 3\n",
      "뜨거운 3\n",
      "파이썬 3\n",
      "\n",
      "--------------------\n",
      "초기값 n :  4\n",
      "안녕하세요 어렵다\n",
      "뜨거운 어렵다\n",
      "파이썬 어렵다\n",
      "\n",
      "안녕하세요 어렵다\n",
      "뜨거운 어렵다\n",
      "파이썬 어렵다\n",
      "\n",
      "안녕하세요 어렵다\n",
      "뜨거운 어렵다\n",
      "파이썬 어렵다\n",
      "\n",
      "안녕하세요 어렵다\n",
      "뜨거운 어렵다\n",
      "파이썬 어렵다\n",
      "\n",
      "--------------------\n"
     ]
    }
   ],
   "source": [
    "def print_n_times(para1, *args, n=2):\n",
    "    print('초기값 n : ', n)\n",
    "    for i in range(n):\n",
    "        for value in args:\n",
    "            print(value, para1)\n",
    "        print()\n",
    "        \n",
    "print_n_times(1, '안녕하세요', '뜨거운', '파이썬')\n",
    "print('-'*20)\n",
    "print_n_times(2, '안녕하세요', '뜨거운', '파이썬', 3)\n",
    "print('-'*20)\n",
    "print_n_times(3, '안녕하세요', '뜨거운', '파이썬', n=4)\n",
    "print('-'*20)\n",
    "print_n_times('어렵다', '안녕하세요', '뜨거운', '파이썬', n=4)\n",
    "print('-'*20)"
   ]
  },
  {
   "cell_type": "markdown",
   "metadata": {},
   "source": [
    "### 4.lambda\n",
    "- lambda : 함수를 생성할 때 사용하는 예약어로 def와 동일한 역할\n",
    "- 간단한 함수를 쉽게 선언하는 방법\n",
    "- **lambda 매개변수 : 리턴값**"
   ]
  },
  {
   "cell_type": "code",
   "execution_count": 28,
   "metadata": {},
   "outputs": [
    {
     "name": "stdout",
     "output_type": "stream",
     "text": [
      "7\n"
     ]
    }
   ],
   "source": [
    "def add(a, b):\n",
    "    return a+b\n",
    "\n",
    "print(add(3, 4))"
   ]
  },
  {
   "cell_type": "code",
   "execution_count": 36,
   "metadata": {},
   "outputs": [
    {
     "name": "stdout",
     "output_type": "stream",
     "text": [
      "7\n"
     ]
    }
   ],
   "source": [
    "add = lambda a, b: a + b\n",
    "print(add(3, 4))"
   ]
  },
  {
   "cell_type": "code",
   "execution_count": 38,
   "metadata": {},
   "outputs": [
    {
     "name": "stdout",
     "output_type": "stream",
     "text": [
      "12\n",
      "None\n"
     ]
    }
   ],
   "source": [
    "mul = lambda a, b: a * b\n",
    "print(mul(3, 4))"
   ]
  },
  {
   "cell_type": "markdown",
   "metadata": {},
   "source": [
    "- **lambda 함수는 단독으로도 사용되지만 map()와 더 많이 사용된다.**\n",
    "- map()는 리스트의 요소를 지정된 함수로 처리해주는 함수\n",
    "- **map(함수, 순회가능한 데이터)**"
   ]
  },
  {
   "cell_type": "code",
   "execution_count": 44,
   "metadata": {},
   "outputs": [
    {
     "name": "stdout",
     "output_type": "stream",
     "text": [
      "[11, 12, 13, 14, 15]\n"
     ]
    }
   ],
   "source": [
    "myList = [1,2,3,4,5]\n",
    "\n",
    "def add10(num):\n",
    "    return num+10\n",
    "\n",
    "for i in range(len(myList)) :\n",
    "    myList[i]=add10(myList[i])\n",
    "    \n",
    "print(myList)"
   ]
  },
  {
   "cell_type": "code",
   "execution_count": 45,
   "metadata": {},
   "outputs": [
    {
     "name": "stdout",
     "output_type": "stream",
     "text": [
      "[11, 12, 13, 14, 15]\n"
     ]
    }
   ],
   "source": [
    "myList = [1,2,3,4,5]\n",
    "\n",
    "def add10(num):\n",
    "    return num + 10\n",
    "\n",
    "myList2 = list(map(add10, myList))\n",
    "print(myList2)"
   ]
  },
  {
   "cell_type": "code",
   "execution_count": 48,
   "metadata": {},
   "outputs": [
    {
     "name": "stdout",
     "output_type": "stream",
     "text": [
      "[11, 12, 13, 14, 15]\n"
     ]
    }
   ],
   "source": [
    "myList = [1,2,3,4,5]\n",
    "\n",
    "myList2 = list(map(lambda num: num+10, myList))\n",
    "print(myList2)"
   ]
  },
  {
   "cell_type": "code",
   "execution_count": 50,
   "metadata": {},
   "outputs": [
    {
     "name": "stdout",
     "output_type": "stream",
     "text": [
      "{'first': 'Brett', 'last': 'Holland'}\n",
      "{'first': 'Madison', 'last': 'Martinez'}\n",
      "{'first': 'Michael', 'last': 'Jenkins'}\n",
      "{'first': 'Karen', 'last': 'Rodriguez'}\n",
      "{'first': 'Amber', 'last': 'Rhodes'}\n"
     ]
    }
   ],
   "source": [
    "# map()을 이용해서 각 유저의 이름과 성을 출력\n",
    "\n",
    "users = [{'mail': 'gregorythomas@gmail.com', 'name': 'Brett Holland', 'gender' : 'M'},\n",
    "         {'mail': 'hintoncynthia@hotmail.com', 'name': 'Madison Martinez', 'gender' : 'F'},\n",
    "         {'mail': 'wwagner@gmail.com', 'name': 'Michael Jenkins', 'gender' : 'M'},\n",
    "         {'mail': 'daniel79@gmail.com', 'name': 'Karen Rodriguez', 'gender' : 'F'},\n",
    "         {'mail': 'ujackson@gmail.com', 'name': 'Amber Rhodes', 'gender' : 'F'}]\n",
    "\n",
    "\n",
    "# dict를 매개변수로 받아서 이름과 성을 분리\n",
    "def converToname(user):\n",
    "    first, last = user['name'].split()\n",
    "    dictName = {'first' : first, 'last' : last}\n",
    "    return dictName\n",
    "\n",
    "for name in map(converToname, users):\n",
    "    print(name)"
   ]
  },
  {
   "cell_type": "code",
   "execution_count": 60,
   "metadata": {},
   "outputs": [
    {
     "ename": "SyntaxError",
     "evalue": "invalid syntax (<ipython-input-60-78c5d17100c0>, line 1)",
     "output_type": "error",
     "traceback": [
      "\u001b[1;36m  File \u001b[1;32m\"<ipython-input-60-78c5d17100c0>\"\u001b[1;36m, line \u001b[1;32m1\u001b[0m\n\u001b[1;33m    for name in map(lambda user: dictName : first, last = user['name'].split() dictNmae = {'first' : first, 'last' : last}, users)\u001b[0m\n\u001b[1;37m                                          ^\u001b[0m\n\u001b[1;31mSyntaxError\u001b[0m\u001b[1;31m:\u001b[0m invalid syntax\n"
     ]
    }
   ],
   "source": [
    "for name in map(lambda user: dictName first, last = user['name'].split() dictNmae = {'first' : first, 'last' : last}, users)"
   ]
  },
  {
   "cell_type": "code",
   "execution_count": 51,
   "metadata": {},
   "outputs": [
    {
     "name": "stdout",
     "output_type": "stream",
     "text": [
      "남\n",
      "여\n",
      "남\n",
      "여\n",
      "여\n"
     ]
    }
   ],
   "source": [
    "# map()을 이용해서 각 유저의 이름과 성을 출력\n",
    "\n",
    "users = [{'mail': 'gregorythomas@gmail.com', 'name': 'Brett Holland', 'gender' : 'M'},\n",
    "         {'mail': 'hintoncynthia@hotmail.com', 'name': 'Madison Martinez', 'gender' : 'F'},\n",
    "         {'mail': 'wwagner@gmail.com', 'name': 'Michael Jenkins', 'gender' : 'M'},\n",
    "         {'mail': 'daniel79@gmail.com', 'name': 'Karen Rodriguez', 'gender' : 'F'},\n",
    "         {'mail': 'ujackson@gmail.com', 'name': 'Amber Rhodes', 'gender' : 'F'}]\n",
    "\n",
    "\n",
    "# dict를 매개변수로 받아서 성별을 분리하고 한국어로 만드는 함수\n",
    "def gender_div(user):\n",
    "    if user['gender'] == 'M':\n",
    "        return '남'\n",
    "    else:\n",
    "        return '여'\n",
    "    \n",
    "for gender in map(gender_div, users):\n",
    "    print(gender)\n"
   ]
  },
  {
   "cell_type": "code",
   "execution_count": 58,
   "metadata": {},
   "outputs": [
    {
     "name": "stdout",
     "output_type": "stream",
     "text": [
      "남\n",
      "여\n",
      "남\n",
      "여\n",
      "여\n"
     ]
    }
   ],
   "source": [
    "# 삼합연산자 사용한 후 lambda함수로 변환.\n",
    "for gender in map(lambda user: '남' if user['gender'] == 'M' else '여', users): print(gender)\n"
   ]
  },
  {
   "cell_type": "code",
   "execution_count": 118,
   "metadata": {},
   "outputs": [
    {
     "name": "stdout",
     "output_type": "stream",
     "text": [
      "Brett Holland\n",
      "Madison Martinez\n",
      "Michael Jenkins\n",
      "Karen Rodriguez\n",
      "Amber Rhodes\n"
     ]
    }
   ],
   "source": [
    "users = [{'mail': 'gregorythomas@gmail.com', 'name': 'Brett Holland', 'gender' : 'M'},\n",
    "         {'mail': 'hintoncynthia@hotmail.com', 'name': 'Madison Martinez', 'gender' : 'F'},\n",
    "         {'mail': 'wwagner@gmail.com', 'name': 'Michael Jenkins', 'gender' : 'M'},\n",
    "         {'mail': 'daniel79@gmail.com', 'name': 'Karen Rodriguez', 'gender' : 'F'},\n",
    "         {'mail': 'ujackson@gmail.com', 'name': 'Amber Rhodes', 'gender' : 'F'}]\n",
    "\n",
    "for i, v in enumerate(users):\n",
    "    user = v['name'].split(' ')\n",
    "    print(user[0], user[1])\n",
    "    \n",
    "\n"
   ]
  },
  {
   "cell_type": "markdown",
   "metadata": {},
   "source": [
    "### 5. 재귀함수\n",
    "- 자기자신을 호출하는 함수\n",
    "- n! = n * (n-1) * (n-2) * .... * 1"
   ]
  },
  {
   "cell_type": "code",
   "execution_count": 125,
   "metadata": {},
   "outputs": [
    {
     "data": {
      "text/plain": [
       "6"
      ]
     },
     "execution_count": 125,
     "metadata": {},
     "output_type": "execute_result"
    }
   ],
   "source": [
    "# 반복문으로 팩토리얼 구하기\n",
    "def fanc(n):\n",
    "    result = 1\n",
    "    \n",
    "    for i in range(1, n+1):\n",
    "        result *= i\n",
    "    return result\n",
    "\n",
    "fanc(3)"
   ]
  },
  {
   "cell_type": "code",
   "execution_count": 126,
   "metadata": {},
   "outputs": [
    {
     "data": {
      "text/plain": [
       "6"
      ]
     },
     "execution_count": 126,
     "metadata": {},
     "output_type": "execute_result"
    }
   ],
   "source": [
    "# 재귀함수로 팩토리얼 구하기\n",
    "def fanc(n):\n",
    "    if n == 0:\n",
    "        return 1\n",
    "    else:\n",
    "        return n*fanc(n-1)\n",
    "\n",
    "fanc(3)"
   ]
  },
  {
   "cell_type": "markdown",
   "metadata": {},
   "source": [
    "### 6. 파이썬 내장 함수\n",
    "- 파이썬에서는 기본적으로 제공하는 다양한 내장함수가 있다.\n",
    "- 따로 설치할 필요없이, Python Interpreter를 설치하는 과정에서 함께 설치\n",
    "- abs,max, min,range, round, sum, type, len...등등 많은 내장 함수가 있다. 파이썬 라이브러리 참조!!\n"
   ]
  },
  {
   "cell_type": "markdown",
   "metadata": {},
   "source": [
    "#### **연습문제2) 아래코드가 에러가 나는 원인은?**\n"
   ]
  },
  {
   "cell_type": "markdown",
   "metadata": {},
   "source": [
    "hamsu()의 인수를 지정해주지 않았기 때문에, 인수를 지정해줘야한다. 즉, 매개변수가 없다."
   ]
  },
  {
   "cell_type": "code",
   "execution_count": 34,
   "metadata": {},
   "outputs": [
    {
     "ename": "TypeError",
     "evalue": "hamsu() missing 1 required positional argument: 'data'",
     "output_type": "error",
     "traceback": [
      "\u001b[1;31m---------------------------------------------------------------------------\u001b[0m",
      "\u001b[1;31mTypeError\u001b[0m                                 Traceback (most recent call last)",
      "\u001b[1;32m<ipython-input-34-56ec2003702b>\u001b[0m in \u001b[0;36m<module>\u001b[1;34m\u001b[0m\n\u001b[0;32m      2\u001b[0m     \u001b[0mprint\u001b[0m\u001b[1;33m(\u001b[0m\u001b[0mdata\u001b[0m\u001b[1;33m)\u001b[0m\u001b[1;33m\u001b[0m\u001b[1;33m\u001b[0m\u001b[0m\n\u001b[0;32m      3\u001b[0m \u001b[1;33m\u001b[0m\u001b[0m\n\u001b[1;32m----> 4\u001b[1;33m \u001b[0mhamsu\u001b[0m\u001b[1;33m(\u001b[0m\u001b[1;33m)\u001b[0m\u001b[1;33m\u001b[0m\u001b[1;33m\u001b[0m\u001b[0m\n\u001b[0m",
      "\u001b[1;31mTypeError\u001b[0m: hamsu() missing 1 required positional argument: 'data'"
     ]
    }
   ],
   "source": [
    "def hamsu(data) :\n",
    "    print(data)\n",
    "\n",
    "hamsu()"
   ]
  },
  {
   "cell_type": "code",
   "execution_count": 56,
   "metadata": {},
   "outputs": [
    {
     "name": "stdout",
     "output_type": "stream",
     "text": [
      "2\n"
     ]
    }
   ],
   "source": [
    "# 올바른 예시\n",
    "def hamsu(data) :\n",
    "    print(data)\n",
    "\n",
    "hamsu(2)"
   ]
  },
  {
   "cell_type": "markdown",
   "metadata": {},
   "source": [
    "#### **연습문제3) 문자열을 입력하면 문자열 끝에 ★(\\u2605)을 출력하는 함수를 만들고 호출하시오**\n",
    "- 예시) 파라미터 : 'Hello' -> 'Hello'★ 출력"
   ]
  },
  {
   "cell_type": "code",
   "execution_count": 62,
   "metadata": {},
   "outputs": [
    {
     "name": "stdout",
     "output_type": "stream",
     "text": [
      "hello ★\n"
     ]
    }
   ],
   "source": [
    "def add_a(value, n):\n",
    "    print(value, n)\n",
    "    \n",
    "add_a('hello', '\\u2605')"
   ]
  },
  {
   "cell_type": "code",
   "execution_count": 102,
   "metadata": {},
   "outputs": [
    {
     "data": {
      "text/plain": [
       "'hello ★'"
      ]
     },
     "execution_count": 102,
     "metadata": {},
     "output_type": "execute_result"
    }
   ],
   "source": [
    "def print_a(a):\n",
    "    return a + ' \\u2605'\n",
    "\n",
    "print_a('hello')"
   ]
  },
  {
   "cell_type": "markdown",
   "metadata": {},
   "source": [
    "**연습문제4) 주어진 자연수가 홀수인지 짝수 인지 판별해 주는 함수 is_odd를 작성해 보자**"
   ]
  },
  {
   "cell_type": "code",
   "execution_count": 106,
   "metadata": {},
   "outputs": [
    {
     "name": "stdout",
     "output_type": "stream",
     "text": [
      "True\n"
     ]
    }
   ],
   "source": [
    "def is_odd(a):\n",
    "    if a % 2 == 0:\n",
    "        return True\n",
    "    else:\n",
    "        return False\n",
    "\n",
    "print(is_odd(8))"
   ]
  },
  {
   "cell_type": "markdown",
   "metadata": {},
   "source": [
    "#### **연습문제5) 세 개의 숫자를 입력받아 가장 큰수를 return하는 max 함수를 정의하라. 단 if 문을 사용해서 수를 비교하라.**"
   ]
  },
  {
   "cell_type": "code",
   "execution_count": 89,
   "metadata": {},
   "outputs": [
    {
     "data": {
      "text/plain": [
       "6"
      ]
     },
     "execution_count": 89,
     "metadata": {},
     "output_type": "execute_result"
    }
   ],
   "source": [
    "def total_max(a, b, c):\n",
    "    if a < b and c < b:\n",
    "        return b\n",
    "    elif c < a:\n",
    "        return a\n",
    "    else:\n",
    "        return c\n",
    "\n",
    "total_max(1, 6, 5)\n"
   ]
  },
  {
   "cell_type": "code",
   "execution_count": 90,
   "metadata": {},
   "outputs": [
    {
     "data": {
      "text/plain": [
       "7"
      ]
     },
     "execution_count": 90,
     "metadata": {},
     "output_type": "execute_result"
    }
   ],
   "source": [
    "# ver. 1\n",
    "def total_max(a, b, c):\n",
    "    if a < b and c < b:\n",
    "        return b\n",
    "    elif c < a:\n",
    "        return a\n",
    "    else:\n",
    "        return c\n",
    "\n",
    "total_max(1, 6, 7)"
   ]
  },
  {
   "cell_type": "code",
   "execution_count": 112,
   "metadata": {},
   "outputs": [
    {
     "data": {
      "text/plain": [
       "5"
      ]
     },
     "execution_count": 112,
     "metadata": {},
     "output_type": "execute_result"
    }
   ],
   "source": [
    "# ver. 2\n",
    "def total_max(a, b, c):\n",
    "    maxval = 0\n",
    "    maxval = a if a > b else b\n",
    "    maxval = c if c > maxval else maxval\n",
    "    return maxval\n",
    "\n",
    "total_max(1, 5, 4)"
   ]
  },
  {
   "cell_type": "markdown",
   "metadata": {},
   "source": [
    "#### 연습문제6) 입력으로 들어오는 모든 수의 평균값을 계산해 주는 함수를 작성해 보자. (단 입력으로 들어오는 수의 개수는 정해져 있지 않다.)"
   ]
  },
  {
   "cell_type": "code",
   "execution_count": 65,
   "metadata": {},
   "outputs": [
    {
     "data": {
      "text/plain": [
       "3.0"
      ]
     },
     "execution_count": 65,
     "metadata": {},
     "output_type": "execute_result"
    }
   ],
   "source": [
    "# 가변 매개 변수"
   ]
  },
  {
   "cell_type": "code",
   "execution_count": 121,
   "metadata": {},
   "outputs": [
    {
     "data": {
      "text/plain": [
       "2.0"
      ]
     },
     "execution_count": 121,
     "metadata": {},
     "output_type": "execute_result"
    }
   ],
   "source": [
    "def ad(n, *args):\n",
    "    num = 0\n",
    "    for i in args:\n",
    "        num = (num + i) / len(args)\n",
    "    return num\n",
    "\n",
    "ad(1, 2, 3)"
   ]
  },
  {
   "cell_type": "markdown",
   "metadata": {},
   "source": [
    "#### 연습문제7) 해당 숫자가 소수인지 아닌지 판별하는 함수"
   ]
  },
  {
   "cell_type": "code",
   "execution_count": 11,
   "metadata": {},
   "outputs": [
    {
     "name": "stdout",
     "output_type": "stream",
     "text": [
      "False\n",
      "True\n"
     ]
    }
   ],
   "source": [
    "def isPrime(num):\n",
    "    for i in range(2, num):\n",
    "        if num % i == 0:\n",
    "            return False\n",
    "    return True\n",
    "\n",
    "print(isPrime(100))\n",
    "print(isPrime(89))"
   ]
  },
  {
   "cell_type": "markdown",
   "metadata": {},
   "source": [
    "#### 연습문제 8) 2부터 해당 숫자 사이에 소수가 몇개인지 출력하는 함수(7번에서 만든 함수 이용)"
   ]
  },
  {
   "cell_type": "code",
   "execution_count": 12,
   "metadata": {},
   "outputs": [
    {
     "name": "stdout",
     "output_type": "stream",
     "text": [
      "25\n"
     ]
    }
   ],
   "source": [
    "def countprime(num):\n",
    "    count = 0\n",
    "    for i in range(2, num+1):\n",
    "        if isPrime(i):\n",
    "            count += 1\n",
    "    return count\n",
    "\n",
    "print(countprime(100))"
   ]
  }
 ],
 "metadata": {
  "kernelspec": {
   "display_name": "Python 3",
   "language": "python",
   "name": "python3"
  },
  "language_info": {
   "codemirror_mode": {
    "name": "ipython",
    "version": 3
   },
   "file_extension": ".py",
   "mimetype": "text/x-python",
   "name": "python",
   "nbconvert_exporter": "python",
   "pygments_lexer": "ipython3",
   "version": "3.8.8"
  },
  "toc": {
   "base_numbering": 1,
   "nav_menu": {},
   "number_sections": false,
   "sideBar": true,
   "skip_h1_title": false,
   "title_cell": "Table of Contents",
   "title_sidebar": "Contents",
   "toc_cell": false,
   "toc_position": {
    "height": "calc(100% - 180px)",
    "left": "10px",
    "top": "150px",
    "width": "349.091px"
   },
   "toc_section_display": true,
   "toc_window_display": false
  }
 },
 "nbformat": 4,
 "nbformat_minor": 4
}
