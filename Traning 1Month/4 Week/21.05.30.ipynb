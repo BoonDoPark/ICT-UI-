{
 "cells": [
  {
   "cell_type": "markdown",
   "metadata": {},
   "source": [
    "# 모듈\n",
    "- 함수나 변수 또는 클래스를 모아놓은 **파일**. \n",
    "- 다른 프로그램에서 불러와서 사용할 수 있게끔 만든 파이썬 파일\n",
    "- 파이썬 프로그래밍을 할때 굉장히 많은 모듈을 사용\n",
    "- 다른 사람들이 이미 만들어놓은 모듈을 사용할수도 있고 직접 만들어 사용도 가능\n",
    "- 표준모듈 : 파이썬에 기본적으로 내장되어 있는 모듈\n",
    "- 외부모듈 : 다른사람들이 만들어서 공개한 모듈\n",
    "- **import 모듈이름**"
   ]
  },
  {
   "cell_type": "markdown",
   "metadata": {},
   "source": [
    "## 1. 표준 모듈\n",
    "- 파이썬에 기본적으로 내장되어 있는 모듈"
   ]
  },
  {
   "cell_type": "markdown",
   "metadata": {},
   "source": [
    "### 1.1 사용법"
   ]
  },
  {
   "cell_type": "code",
   "execution_count": 3,
   "metadata": {},
   "outputs": [
    {
     "name": "stdout",
     "output_type": "stream",
     "text": [
      "0.8414709848078965\n",
      "0.5403023058681398\n",
      "1.5574077246549023\n"
     ]
    }
   ],
   "source": [
    "import math\n",
    "\n",
    "print(math.sin(1))\n",
    "print(math.cos(1))\n",
    "print(math.tan(1))"
   ]
  },
  {
   "cell_type": "markdown",
   "metadata": {},
   "source": [
    "### 1.2 from 구문\n",
    "- 모듈에는 많은 변수와 함수가 있다. \n",
    "- 그중에 사용하고 싶은 기능은 일부분 이고 math.sin(), math.cos(), math.tan() 처럼 앞에 math를 계속 입력해야한다.\n",
    "- **from 모듈이름 import 가져오고 싶은 변수 또는 함수**"
   ]
  },
  {
   "cell_type": "code",
   "execution_count": 4,
   "metadata": {},
   "outputs": [
    {
     "name": "stdout",
     "output_type": "stream",
     "text": [
      "0.8414709848078965\n",
      "0.5403023058681398\n",
      "1.5574077246549023\n"
     ]
    }
   ],
   "source": [
    "from math import sin, cos, tan\n",
    "\n",
    "print(sin(1))\n",
    "print(cos(1))\n",
    "print(tan(1))"
   ]
  },
  {
   "cell_type": "markdown",
   "metadata": {},
   "source": [
    "- 앞에 math를 붙히는 것은 싫고 모든 기능을 가져오고 싶다면\n",
    "- **from math import ***\n",
    "- 이 경우는 식별자 충돌이 발생할 가능성이 높다. 따라서 from 구문을 사용할 때는 최대한 필요한 것들만 가져와서 사용하는 것이 좋다."
   ]
  },
  {
   "cell_type": "code",
   "execution_count": 7,
   "metadata": {},
   "outputs": [
    {
     "name": "stdout",
     "output_type": "stream",
     "text": [
      "0.8414709848078965\n",
      "0.5403023058681398\n",
      "1.5574077246549023\n"
     ]
    }
   ],
   "source": [
    "from math import *\n",
    "\n",
    "print(sin(1))\n",
    "print(cos(1))\n",
    "print(tan(1))"
   ]
  },
  {
   "cell_type": "markdown",
   "metadata": {},
   "source": [
    "### 1.3  as 구문\n",
    "- math모듈을 쓰기는 귀찮고 * 기호를 쓰기는 위험부담이 있을때 짧게 줄여주는 구문\n",
    "- **import 모듈 as 사용하고 싶은 별명**"
   ]
  },
  {
   "cell_type": "code",
   "execution_count": 8,
   "metadata": {},
   "outputs": [
    {
     "name": "stdout",
     "output_type": "stream",
     "text": [
      "0.8414709848078965\n",
      "0.5403023058681398\n",
      "1.5574077246549023\n"
     ]
    }
   ],
   "source": [
    "import math as m \n",
    "\n",
    "print(m.sin(1))\n",
    "print(m.cos(1))\n",
    "print(m.tan(1))"
   ]
  },
  {
   "cell_type": "markdown",
   "metadata": {},
   "source": [
    "## 2. random 모듈"
   ]
  },
  {
   "cell_type": "code",
   "execution_count": 40,
   "metadata": {},
   "outputs": [
    {
     "name": "stdout",
     "output_type": "stream",
     "text": [
      "random : 0.8353875426244675\n",
      "randint : 53\n",
      "uniform :  4.240694959468328\n",
      "randrange1 : 8\n",
      "randrange2 : 24\n",
      "choice : 2\n",
      "shuffle : [5, 4, 3, 1, 2]\n",
      "sample :  [3, 4, 1]\n"
     ]
    }
   ],
   "source": [
    "import random\n",
    "\n",
    "print('random :', random.random())                             # Random float:  0.0 <= x < 1.0\n",
    "print('randint :',random.randint(1,100))                        # Random int:  1 <= x <= 100\n",
    "print('uniform : ',random.uniform(2.5, 10.0))                   # Random float:  2.5 <= x <= 10.0\n",
    "print('randrange1 :',random.randrange(10))                      # Integer from 0 to 9 inclusive\n",
    "print('randrange2 :',random.randrange(0, 101, 2))               # Even integer from 0 to 100 inclusive\n",
    "a= [1,2,3,4,5]\n",
    "print('choice :',random.choice(a))              # Single random element from a sequence\n",
    "random.shuffle(a)             # Shuffle a list\n",
    "print('shuffle :',a)\n",
    "print('sample : ',random.sample(a, k=3))        # Two samples without replacementprint(random.random()) \n"
   ]
  },
  {
   "cell_type": "markdown",
   "metadata": {},
   "source": [
    "**연습문제1)두 사람이 주사위를 던져 큰 수가 나오면 이기는 게임**"
   ]
  },
  {
   "cell_type": "code",
   "execution_count": 305,
   "metadata": {},
   "outputs": [],
   "source": [
    "#출력결과"
   ]
  },
  {
   "cell_type": "code",
   "execution_count": 391,
   "metadata": {},
   "outputs": [
    {
     "name": "stdout",
     "output_type": "stream",
     "text": [
      "A :  2  B :  2\n",
      "A=B!!\n"
     ]
    }
   ],
   "source": [
    "import random\n",
    "\n",
    "a_person = [1, 2, 3, 4, 5, 6]\n",
    "b_person = [1, 2, 3, 4, 5, 6]\n",
    "\n",
    "a = random.choice(a_person)\n",
    "b = random.choice(b_person)\n",
    "print('A : ', a, ' B : ', b)\n",
    "if a == b:\n",
    "    print('A=B!!')\n",
    "elif a < b:\n",
    "    print('B!!')\n",
    "else:\n",
    "    print('A!!')\n"
   ]
  },
  {
   "cell_type": "markdown",
   "metadata": {},
   "source": [
    "**연습문제2)로또 생성기**\n",
    "- 1~45 사이 숫자 6개 생성\n",
    "- 중복된 숫자가 있으면 안된다"
   ]
  },
  {
   "cell_type": "code",
   "execution_count": 21,
   "metadata": {},
   "outputs": [
    {
     "name": "stdout",
     "output_type": "stream",
     "text": [
      "[45, 3, 14, 28, 23, 9]\n"
     ]
    }
   ],
   "source": [
    "#출력결과"
   ]
  },
  {
   "cell_type": "code",
   "execution_count": 1,
   "metadata": {},
   "outputs": [
    {
     "name": "stdout",
     "output_type": "stream",
     "text": [
      "[35, 27, 32, 8, 6, 12]\n"
     ]
    }
   ],
   "source": [
    "import random\n",
    "\n",
    "lotto = []\n",
    "\n",
    "while len(lotto)< 6:\n",
    "    num = random.randrange(1, 46)\n",
    "    if num not in lotto:\n",
    "        lotto.append(num)\n",
    "    \n",
    "print(lotto)\n",
    "    "
   ]
  },
  {
   "cell_type": "markdown",
   "metadata": {},
   "source": [
    "**연습문제3)Up and Down 숫자 맞추기 게임**\n",
    "- 1~100 사이의 임의의 난수 발생\n",
    "- 사용자가 숫자를 입력할 때마다 up & down, 알려주기"
   ]
  },
  {
   "cell_type": "code",
   "execution_count": 22,
   "metadata": {},
   "outputs": [
    {
     "name": "stdout",
     "output_type": "stream",
     "text": [
      "1~100 숫자 입력:15\n",
      "Down\n",
      "1~100 숫자 입력:10\n",
      "Up\n",
      "1~100 숫자 입력:12\n",
      "Down\n",
      "1~100 숫자 입력:11\n",
      "정답입니다! 4 회 만에 맞췄어요.\n"
     ]
    }
   ],
   "source": [
    "#출력결과"
   ]
  },
  {
   "cell_type": "code",
   "execution_count": 44,
   "metadata": {},
   "outputs": [
    {
     "name": "stdout",
     "output_type": "stream",
     "text": [
      "51\n",
      "1~100 숫자 입력 : 50\n",
      "Up\n",
      "1~100 숫자 입력 : 51\n",
      "정답입니다! 2회 만에 맞췄어요.\n"
     ]
    }
   ],
   "source": [
    "import random\n",
    "\n",
    "num = random.randint(1, 100)\n",
    "print(num)\n",
    "#n = int(input('1~100 숫자 입력 : '))\n",
    "count = 0\n",
    "\n",
    "while True:\n",
    "    count += 1\n",
    "    n = int(input('1~100 숫자 입력 : '))\n",
    "    \n",
    "    if n > num :\n",
    "        print('Down')\n",
    "    elif n < num:\n",
    "        print('Up')\n",
    "    else:\n",
    "        break\n",
    "    \n",
    "print('정답입니다! {}회 만에 맞췄어요.'.format(count))"
   ]
  },
  {
   "cell_type": "markdown",
   "metadata": {},
   "source": [
    "##### 3. datetime 모듈\n",
    "- date(날짜), time(시간)과 관련된 모듈\n",
    "- 날짜형식을 만들 때 자주 사용"
   ]
  },
  {
   "cell_type": "code",
   "execution_count": 2,
   "metadata": {},
   "outputs": [
    {
     "name": "stdout",
     "output_type": "stream",
     "text": [
      "2021-05-25 15:46:40.746737\n",
      "2021-5-25\n"
     ]
    }
   ],
   "source": [
    "import datetime as dt\n",
    "\n",
    "now = dt.datetime.now()\n",
    "print(now)\n",
    "print('{}-{}-{}'.format(now.year, now.month, now.day))"
   ]
  },
  {
   "cell_type": "markdown",
   "metadata": {},
   "source": [
    "**원하는 형식대로 출력 : strftime()**\n",
    "- Format Code\n",
    "\n",
    "| 포맷코드 | 설명 | 예 |\n",
    "| :----: | :---- |:----:| \n",
    "|  %a |  요일을 짧게 표시 | Sun |\n",
    "|  %A |  요일을 길게 표시 | Sunday |\n",
    "|  %w |  요일을 숫자로 일요일(0)~토요일(6) | 0 |\n",
    "|  %Y |  년도를 길게표시 | 2021 |\n",
    "|  %y |  년도를 짧게표시 | 21 |\n",
    "|  %m |  월을 숫자로 표시 | 05 |\n",
    "|  %d |  일을 숫자로 표시 | 23 |\n",
    "|  %H |  시간을 24시간 표현방식으로 표시 | 18 |\n",
    "|  %I |  시간을 12시간 표현방식으로 표시 | 6 |\n",
    "|  %p |  오전(AM), 오후(PM) 표시 | PM |\n",
    "|  %M |  분을 표시 | 25 |\n",
    "|  %S |  초를 표시 | 25 |\n",
    "\n"
   ]
  },
  {
   "cell_type": "code",
   "execution_count": 16,
   "metadata": {},
   "outputs": [
    {
     "name": "stdout",
     "output_type": "stream",
     "text": [
      "21년 05월 25일 16 09 54 <class 'str'>\n"
     ]
    }
   ],
   "source": [
    "now2 = now.strftime('%y년 %m월 %d일 %H %M %S')\n",
    "print(now2, type(now2))"
   ]
  },
  {
   "cell_type": "markdown",
   "metadata": {},
   "source": [
    "**시간 처리하기 : timedelta(), replace()**"
   ]
  },
  {
   "cell_type": "code",
   "execution_count": 7,
   "metadata": {},
   "outputs": [
    {
     "name": "stdout",
     "output_type": "stream",
     "text": [
      "2021-05-25 16:02:04.905123\n",
      "2021-05-26 18:02:04.905123\n",
      "2025-05-25 16:02:04.905123\n",
      "2022-05-25 16:02:04.905123\n"
     ]
    }
   ],
   "source": [
    "import datetime as dt\n",
    "now = dt.datetime.now()\n",
    "print(now)\n",
    "# 특정 시간 이후의 시간 구하기\n",
    "after1 = now+dt.timedelta(days= 1, hours = 2)\n",
    "print(after1)\n",
    "\n",
    "#특정시간 교체하기 \n",
    "after2 = now.replace(year=2025)\n",
    "print(after2)\n",
    "\n",
    "after3 = now.replace(year = (now.year+1))\n",
    "print(after3)"
   ]
  },
  {
   "cell_type": "markdown",
   "metadata": {},
   "source": [
    "**연습문제4) datetime의 timedelta를 사용해서 오늘로 부터  5일, 4일, 3일, 2일, 1일 전의 날짜를 화면에 출력하기** "
   ]
  },
  {
   "cell_type": "code",
   "execution_count": 24,
   "metadata": {},
   "outputs": [
    {
     "name": "stdout",
     "output_type": "stream",
     "text": [
      "2021-05-19 22:20:18.257769\n",
      "2021-05-20 22:20:18.257769\n",
      "2021-05-21 22:20:18.257769\n",
      "2021-05-22 22:20:18.257769\n",
      "2021-05-23 22:20:18.257769\n"
     ]
    }
   ],
   "source": [
    "#출력결과"
   ]
  },
  {
   "cell_type": "code",
   "execution_count": 19,
   "metadata": {},
   "outputs": [
    {
     "name": "stdout",
     "output_type": "stream",
     "text": [
      "2021-05-20 16:15:23.211607\n",
      "2021-05-21 16:15:23.211607\n",
      "2021-05-22 16:15:23.211607\n",
      "2021-05-23 16:15:23.211607\n",
      "2021-05-24 16:15:23.211607\n"
     ]
    }
   ],
   "source": [
    "import datetime as dt\n",
    "\n",
    "now = dt.datetime.now()\n",
    "\n",
    "for day in range(5, 0, -1):\n",
    "    date = now - dt.timedelta(days = day)\n",
    "    print(date)"
   ]
  },
  {
   "cell_type": "markdown",
   "metadata": {},
   "source": [
    "**연습문제5) 현재 시간을 구해서 시:분:초의 포맷으로 출력하기**"
   ]
  },
  {
   "cell_type": "code",
   "execution_count": 25,
   "metadata": {},
   "outputs": [
    {
     "name": "stdout",
     "output_type": "stream",
     "text": [
      "22:20:32\n"
     ]
    }
   ],
   "source": [
    "#출력결과"
   ]
  },
  {
   "cell_type": "code",
   "execution_count": 23,
   "metadata": {},
   "outputs": [
    {
     "name": "stdout",
     "output_type": "stream",
     "text": [
      "16:15:23\n"
     ]
    }
   ],
   "source": [
    "print(now.strftime('%H:%M:%S'))"
   ]
  },
  {
   "cell_type": "markdown",
   "metadata": {},
   "source": [
    "## 4. time 모듈\n",
    "- 시간과 관련된 기능을 다룰 때는 time 모듈 사용.\n",
    "- time 모듈로도 날짜와 관련된 처리를 할수 있지만 datetime모듈을 사용하는 경우가 더 많음\n",
    "- 특정시간 동안 코드 진행을 정지할 때 많이 사용"
   ]
  },
  {
   "cell_type": "code",
   "execution_count": 24,
   "metadata": {},
   "outputs": [
    {
     "name": "stdout",
     "output_type": "stream",
     "text": [
      "지금부터 5초 정지합니다\n",
      "프로그램을 종료합니다.\n"
     ]
    }
   ],
   "source": [
    "import time\n",
    "\n",
    "print('지금부터 5초 정지합니다')\n",
    "time.sleep(5)\n",
    "print('프로그램을 종료합니다.')"
   ]
  },
  {
   "cell_type": "code",
   "execution_count": null,
   "metadata": {},
   "outputs": [],
   "source": []
  }
 ],
 "metadata": {
  "kernelspec": {
   "display_name": "Python 3",
   "language": "python",
   "name": "python3"
  },
  "language_info": {
   "codemirror_mode": {
    "name": "ipython",
    "version": 3
   },
   "file_extension": ".py",
   "mimetype": "text/x-python",
   "name": "python",
   "nbconvert_exporter": "python",
   "pygments_lexer": "ipython3",
   "version": "3.8.8"
  },
  "toc": {
   "base_numbering": 1,
   "nav_menu": {},
   "number_sections": false,
   "sideBar": true,
   "skip_h1_title": false,
   "title_cell": "Table of Contents",
   "title_sidebar": "Contents",
   "toc_cell": false,
   "toc_position": {},
   "toc_section_display": true,
   "toc_window_display": false
  }
 },
 "nbformat": 4,
 "nbformat_minor": 4
}
