{
 "cells": [
  {
   "cell_type": "markdown",
   "metadata": {},
   "source": [
    "### 1. 사용자로부터 입력받은 문자열을 두번출력하시오. "
   ]
  },
  {
   "cell_type": "code",
   "execution_count": 61,
   "metadata": {},
   "outputs": [
    {
     "name": "stdout",
     "output_type": "stream",
     "text": [
      "문자열 : hello\n",
      "hellohello\n"
     ]
    }
   ],
   "source": [
    "#출력예시"
   ]
  },
  {
   "cell_type": "code",
   "execution_count": 1,
   "metadata": {},
   "outputs": [
    {
     "name": "stdout",
     "output_type": "stream",
     "text": [
      "문자열 : hello\n",
      "hellohello\n"
     ]
    }
   ],
   "source": [
    "a = input('문자열 : ')\n",
    "print(a*2)"
   ]
  },
  {
   "cell_type": "markdown",
   "metadata": {},
   "source": [
    "### 2. 사용자로 값을 입력받은 후 해당값에 30을 더한 값을 출력하시오. \n",
    "- 단 사용자가 입력한 값과 30을 더한 값이 255를 초과하는 하는경 255를 출력하시오. \n",
    "- 예) 입력 : 10 / 출력 : 40 , 입력 : 240 / 출력 : 255"
   ]
  },
  {
   "cell_type": "code",
   "execution_count": 7,
   "metadata": {},
   "outputs": [
    {
     "name": "stdout",
     "output_type": "stream",
     "text": [
      "입력값: 255\n",
      "255\n"
     ]
    }
   ],
   "source": [
    "#출력예시"
   ]
  },
  {
   "cell_type": "code",
   "execution_count": 2,
   "metadata": {},
   "outputs": [
    {
     "name": "stdout",
     "output_type": "stream",
     "text": [
      "입력값 : 450\n",
      "255\n"
     ]
    }
   ],
   "source": [
    "a = int(input('입력값 : '))\n",
    "num = a + 30\n",
    "if a > 255:\n",
    "    print(255)\n",
    "else:\n",
    "    print(num)"
   ]
  },
  {
   "cell_type": "markdown",
   "metadata": {},
   "source": [
    "### 3. 다음 조건에 맞는 프로그램을 작성하시오.\n",
    "- 투자경고 종목 리스트가 있을 때 사용자로 부터 종목명을 입력 받은 후 해당 종목이 투자 경고 종목이라면 '투자 경고 종목입니다'를 아니면 \"투자 경고 종목이 아닙니다.\"를 출력하는 프로그램\n",
    "- warn_investment_list = ['삼성', '애플', 'Naver', '카카오', 'LG']"
   ]
  },
  {
   "cell_type": "code",
   "execution_count": 64,
   "metadata": {},
   "outputs": [
    {
     "name": "stdout",
     "output_type": "stream",
     "text": [
      "종목명 : 삼성\n",
      "투자 경고 종목입니다.\n"
     ]
    }
   ],
   "source": [
    "#출력예시"
   ]
  },
  {
   "cell_type": "code",
   "execution_count": 3,
   "metadata": {},
   "outputs": [
    {
     "name": "stdout",
     "output_type": "stream",
     "text": [
      "종목명 : 애플\n",
      "투자 경고 종목입니다\n"
     ]
    }
   ],
   "source": [
    "warn_investment_list = ['삼성', '애플', 'Naver', '카카오', 'LG']\n",
    "a = input('종목명 : ')\n",
    "\n",
    "if a in warn_investment_list:\n",
    "    print('투자 경고 종목입니다')\n",
    "else :\n",
    "    print(\"투자 경고 종목이 아닙니다.\")"
   ]
  },
  {
   "cell_type": "markdown",
   "metadata": {},
   "source": [
    "### 4. 아래 리스트에서  30 보다 작은 6의 배수를 출력하시오.\n",
    "- list_a = [13, 21, 12, 14, 30, 18, 24]"
   ]
  },
  {
   "cell_type": "code",
   "execution_count": 4,
   "metadata": {},
   "outputs": [
    {
     "name": "stdout",
     "output_type": "stream",
     "text": [
      "12\n",
      "18\n",
      "24\n"
     ]
    }
   ],
   "source": [
    "list_a = [13, 21, 12, 14, 30, 18, 24]\n",
    "\n",
    "for i in list_a:\n",
    "    if (i < 30) and (i % 6 == 0):\n",
    "        print(i)"
   ]
  },
  {
   "cell_type": "markdown",
   "metadata": {},
   "source": [
    "### 5. 아래 리스트에서 네 글자 이상의 문자를 화면에 출력하시오.\n",
    "- list_b = ['Life', 'is', 'short', 'You', 'need', 'Python']"
   ]
  },
  {
   "cell_type": "code",
   "execution_count": 5,
   "metadata": {},
   "outputs": [
    {
     "name": "stdout",
     "output_type": "stream",
     "text": [
      "Life\n",
      "short\n",
      "need\n",
      "Python\n"
     ]
    }
   ],
   "source": [
    "list_b = ['Life', 'is', 'short', 'You', 'need', 'Python']\n",
    "\n",
    "for i in list_b:\n",
    "    if len(i) >= 4:\n",
    "        print(i)"
   ]
  },
  {
   "cell_type": "markdown",
   "metadata": {},
   "source": [
    "### 6. 아래 반복문을 리스트 내포를 이용하여 수정하시오"
   ]
  },
  {
   "cell_type": "code",
   "execution_count": 6,
   "metadata": {},
   "outputs": [
    {
     "name": "stdout",
     "output_type": "stream",
     "text": [
      "[2, 6, 10]\n",
      "[2, 6, 10]\n"
     ]
    }
   ],
   "source": [
    "# 홀수에만 2을 곱하는\n",
    "numbers = [1, 2, 3, 4, 5]\n",
    "\n",
    "result = []\n",
    "for n in numbers:\n",
    "    if n % 2 == 1:\n",
    "        result.append(n*2)\n",
    "print(result)\n",
    "\n",
    "result = [n*2 for n in numbers if n % 2 == 1]\n",
    "print(result)"
   ]
  },
  {
   "cell_type": "markdown",
   "metadata": {},
   "source": [
    "### 7. 사용자로부터 5자리 우편번호를 받고 구를 판별하시오.\n",
    "- 우편번호는 5자리로 구성되는데, 앞의 세자리는 구를 나타낸다. \n",
    "- 강북구의 경우 010, 011, 012 세 자리로 시작한다.\n",
    "\n",
    "| - | 0 | 1 | 2 | 3 | 4 | 5 | 6 | 7 | 8 | 9 |\n",
    "| ---- | ---- |---- | ---- | ---- | ---- | ---- | ---- | ---- | ---- | ---- |   \n",
    "|  01 |  강북구 |강북구 |강북구 |도봉구 |도봉구 |도봉구 |노원구 |노원구 |노원구 |노원구 |  \n",
    "\n",
    "- 강북구, 도봉구, 노원구 3개구에 한하여 판별하는 프로그램(01로 시작하는 우편번호를 입력한다고 가정)\n",
    "- 입력 예) 우편번호 : 01400\n",
    "- 출력 예) 도봉구"
   ]
  },
  {
   "cell_type": "code",
   "execution_count": 7,
   "metadata": {},
   "outputs": [
    {
     "name": "stdout",
     "output_type": "stream",
     "text": [
      "우편번호 : 01400\n",
      "도봉구\n"
     ]
    }
   ],
   "source": [
    "p = input('우편번호 : ')\n",
    "p = p[:3]\n",
    "\n",
    "if p in ['010', '011', '012']:\n",
    "    print('강북구')\n",
    "elif p in ['013', '014', '015']:\n",
    "    print('도봉구')\n",
    "else :\n",
    "    print('노원구')"
   ]
  },
  {
   "cell_type": "markdown",
   "metadata": {},
   "source": [
    "### 8. 사용자가 입력한 수만큼 하트를 출력하시오.\n",
    "- 사용자가 여러개의 숫자를 입력하면 입력한 숫자 만큼 ♥('\\u2665')출력하기\n",
    "- 입력 값이 5342라면\n",
    "- ♥♥♥♥♥\n",
    "- ♥♥♥\n",
    "- ♥♥♥♥\n",
    "- ♥♥\n",
    "- for, while 두가지 경우 다 프로그래밍 하세요.(답변 2개)"
   ]
  },
  {
   "cell_type": "code",
   "execution_count": 31,
   "metadata": {},
   "outputs": [
    {
     "name": "stdout",
     "output_type": "stream",
     "text": [
      "숫자를 입력해주세요 : 7586\n",
      " ♥♥♥♥♥♥♥\n",
      " ♥♥♥♥♥\n",
      " ♥♥♥♥♥♥♥♥\n",
      " ♥♥♥♥♥♥\n"
     ]
    }
   ],
   "source": [
    "# for\n",
    "# for\n",
    "num = input('숫자를 입력해주세요 : ')\n",
    "\n",
    "for i in range(len(num)):\n",
    "    n = int(num[i])\n",
    "    n1 = ' '\n",
    "    \n",
    "    for j in range(n):\n",
    "        n1 += '\\u2665'\n",
    "        \n",
    "    print(n1)\n",
    "    \n",
    "    #ch = num[:]\n",
    "    "
   ]
  },
  {
   "cell_type": "code",
   "execution_count": 17,
   "metadata": {},
   "outputs": [
    {
     "name": "stdout",
     "output_type": "stream",
     "text": [
      "숫자를 입력해주세요 : 5873\n",
      "♥♥♥♥♥\n",
      "♥♥♥♥♥♥♥♥\n",
      "♥♥♥♥♥♥♥\n",
      "♥♥♥\n"
     ]
    }
   ],
   "source": [
    "# while\n",
    "num = input('숫자를 입력해주세요 : ')\n",
    "i, j = 0, 0\n",
    "\n",
    "while i < len(num):\n",
    "    \n",
    "    k = 0\n",
    "    while j < int(num[i]):\n",
    "        print('\\u2665', end='')\n",
    "        j += 1\n",
    "        \n",
    "    print()\n",
    "    i += 1\n",
    "    "
   ]
  },
  {
   "cell_type": "markdown",
   "metadata": {},
   "source": [
    "### 9. for 문을 이용하여 ★(\\u2605)로 마름모 만들기"
   ]
  },
  {
   "cell_type": "code",
   "execution_count": 5,
   "metadata": {},
   "outputs": [
    {
     "name": "stdout",
     "output_type": "stream",
     "text": [
      "        ★\n",
      "      ★★★\n",
      "    ★★★★★\n",
      "  ★★★★★★★\n",
      "★★★★★★★★★\n",
      "  ★★★★★★★\n",
      "    ★★★★★\n",
      "      ★★★\n",
      "        ★\n"
     ]
    }
   ],
   "source": [
    "#출력예시"
   ]
  },
  {
   "cell_type": "code",
   "execution_count": 10,
   "metadata": {},
   "outputs": [
    {
     "name": "stdout",
     "output_type": "stream",
     "text": [
      "        ★\n",
      "      ★★★\n",
      "    ★★★★★\n",
      "  ★★★★★★★\n",
      "★★★★★★★★★\n",
      "  ★★★★★★★\n",
      "    ★★★★★\n",
      "      ★★★\n",
      "        ★\n"
     ]
    }
   ],
   "source": [
    "i, k =0, 0\n",
    "for i in range(9):\n",
    "    if i < 5:\n",
    "        for k in range(0, 4 - i):\n",
    "            print('  ',end='')\n",
    "        for k in range((i * 2) + 1):\n",
    "            print('\\u2605', end = '')\n",
    "                       \n",
    "    else :\n",
    "        for k in range(0, i -4):\n",
    "            print('  ',end='')\n",
    "        for k in range((9 - i) * 2 - 1):\n",
    "            print('\\u2605', end = '')\n",
    "            \n",
    "    print()"
   ]
  },
  {
   "cell_type": "markdown",
   "metadata": {},
   "source": [
    "### 10. 구구단을 역순으로 한꺼번에 출력하시오."
   ]
  },
  {
   "cell_type": "code",
   "execution_count": 116,
   "metadata": {},
   "outputs": [
    {
     "name": "stdout",
     "output_type": "stream",
     "text": [
      " #9단#  #8단#  #7단#  #6단#  #5단#  #4단#  #3단#  #2단# \n",
      "9x9=81 8x9=72 7x9=63 6x9=54 5x9=45 4x9=36 3x9=27 2x9=18 \n",
      "9x8=72 8x8=64 7x8=56 6x8=48 5x8=40 4x8=32 3x8=24 2x8=16 \n",
      "9x7=63 8x7=56 7x7=49 6x7=42 5x7=35 4x7=28 3x7=21 2x7=14 \n",
      "9x6=54 8x6=48 7x6=42 6x6=36 5x6=30 4x6=24 3x6=18 2x6=12 \n",
      "9x5=45 8x5=40 7x5=35 6x5=30 5x5=25 4x5=20 3x5=15 2x5=10 \n",
      "9x4=36 8x4=32 7x4=28 6x4=24 5x4=20 4x4=16 3x4=12 2x4= 8 \n",
      "9x3=27 8x3=24 7x3=21 6x3=18 5x3=15 4x3=12 3x3= 9 2x3= 6 \n",
      "9x2=18 8x2=16 7x2=14 6x2=12 5x2=10 4x2= 8 3x2= 6 2x2= 4 \n",
      "9x1= 9 8x1= 8 7x1= 7 6x1= 6 5x1= 5 4x1= 4 3x1= 3 2x1= 2 \n"
     ]
    }
   ],
   "source": [
    "#출력예시"
   ]
  },
  {
   "cell_type": "code",
   "execution_count": 11,
   "metadata": {},
   "outputs": [
    {
     "name": "stdout",
     "output_type": "stream",
     "text": [
      "9*9=81  8*9=72  7*9=63  6*9=54  5*9=45  4*9=36  3*9=27  2*9=18  \n",
      "9*8=72  8*8=64  7*8=56  6*8=48  5*8=40  4*8=32  3*8=24  2*8=16  \n",
      "9*7=63  8*7=56  7*7=49  6*7=42  5*7=35  4*7=28  3*7=21  2*7=14  \n",
      "9*6=54  8*6=48  7*6=42  6*6=36  5*6=30  4*6=24  3*6=18  2*6=12  \n",
      "9*5=45  8*5=40  7*5=35  6*5=30  5*5=25  4*5=20  3*5=15  2*5=10  \n",
      "9*4=36  8*4=32  7*4=28  6*4=24  5*4=20  4*4=16  3*4=12  2*4= 8  \n",
      "9*3=27  8*3=24  7*3=21  6*3=18  5*3=15  4*3=12  3*3= 9  2*3= 6  \n",
      "9*2=18  8*2=16  7*2=14  6*2=12  5*2=10  4*2= 8  3*2= 6  2*2= 4  \n",
      "9*1= 9  8*1= 8  7*1= 7  6*1= 6  5*1= 5  4*1= 4  3*1= 3  2*1= 2  \n"
     ]
    }
   ],
   "source": [
    "num = 0\n",
    "\n",
    "\n",
    "for i in range(9, 0, -1):\n",
    "    num = ''\n",
    "    for i2 in range(9, 1, -1):\n",
    "        num = num + str('%d*%d=%2d' %(i2, i, i*i2)) + '  '\n",
    "    print(num)\n",
    "    "
   ]
  },
  {
   "cell_type": "markdown",
   "metadata": {},
   "source": [
    "### 11-1.  6개의 커피 음료와 음료의 가격이 담긴 리스트가 아래와 같이 있다. 가지고 있는 돈이 5,000원일 때 먹을 수 있는 모든 음료를 찾아보자!"
   ]
  },
  {
   "cell_type": "markdown",
   "metadata": {},
   "source": [
    " "
   ]
  },
  {
   "cell_type": "code",
   "execution_count": 34,
   "metadata": {},
   "outputs": [
    {
     "name": "stdout",
     "output_type": "stream",
     "text": [
      "아메리카노\n",
      "카페라떼\n",
      "카페모카\n",
      "콜드브루\n"
     ]
    }
   ],
   "source": [
    "coffees = ['아메리카노', '카페라떼', '카페모카', '바닐라라떼', '핸드드립', '콜드브루']\n",
    "prices = [4100, 4600, 4600, 5100, 6000, 5000]\n",
    "\n",
    "for i in range(len(prices)):\n",
    "    if prices[i] <= 5000:\n",
    "        print(coffees[i])"
   ]
  },
  {
   "cell_type": "code",
   "execution_count": 24,
   "metadata": {},
   "outputs": [
    {
     "name": "stdout",
     "output_type": "stream",
     "text": [
      "아메리카노\n",
      "카페라떼\n",
      "카페모카\n",
      "콜드브루\n"
     ]
    }
   ],
   "source": [
    "coffees = [['아메리카노', 4100], ['카페라떼', 4600], ['카페모카', 4600], \n",
    "           ['바닐라라떼', 5100], ['핸드드립', 6000], ['콜드브루', 5000]]\n",
    "\n",
    "\n",
    "for i in range(len(coffees)):\n",
    "    if coffees[i][1] <= 5000:\n",
    "        print(coffees[i][0])"
   ]
  },
  {
   "cell_type": "code",
   "execution_count": 15,
   "metadata": {},
   "outputs": [
    {
     "name": "stdout",
     "output_type": "stream",
     "text": [
      "아메리카노\n",
      "카페라떼\n",
      "카페모카\n",
      "콜드브루\n"
     ]
    }
   ],
   "source": [
    "coffees = {'아메리카노' : 4100, '카페라떼' : 4600, '카페모카' : 4600,\n",
    "           '바닐라라떼' : 5100, '핸드드립' : 6000, '콜드브루' : 5000}\n",
    "\n",
    "a = list(coffees.keys())\n",
    "b = list(coffees.values())\n",
    "\n",
    "for i in range(len(b)):\n",
    "    if b[i] <= 5000:\n",
    "        print(a[i])\n",
    "    "
   ]
  },
  {
   "cell_type": "code",
   "execution_count": 26,
   "metadata": {},
   "outputs": [
    {
     "name": "stdout",
     "output_type": "stream",
     "text": [
      "아메리카노\n",
      "카페라떼\n",
      "카페모카\n",
      "콜드브루\n",
      "아메리카노\n",
      "카페라떼\n",
      "카페모카\n",
      "콜드브루\n"
     ]
    }
   ],
   "source": [
    "coffees = {'아메리카노' : 4100, '카페라떼' : 4600, '카페모카' : 4600,\n",
    "           '바닐라라떼' : 5100, '핸드드립' : 6000, '콜드브루' : 5000}\n",
    "\n",
    "for i, j in coffees.items():\n",
    "    if j <= 5000:\n",
    "        print(i)\n",
    "        \n",
    "for i in coffees.keys():\n",
    "    if coffees[i] <= 5000:\n",
    "        print(i)"
   ]
  },
  {
   "cell_type": "markdown",
   "metadata": {},
   "source": [
    "### 11-2. 오늘은 할인 행사를 하여 모든 음료가 500원 할인 되었다!!!. 가지고 있는 돈이 5,000원일 때 먹을 수 있는 모든 음료를 찾아보자!"
   ]
  },
  {
   "cell_type": "code",
   "execution_count": 27,
   "metadata": {},
   "outputs": [
    {
     "name": "stdout",
     "output_type": "stream",
     "text": [
      "아메리카노\n",
      "카페라떼\n",
      "카페모카\n",
      "바닐라라떼\n",
      "콜드브루\n"
     ]
    }
   ],
   "source": [
    "coffees = ['아메리카노', '카페라떼', '카페모카', '바닐라라떼', '핸드드립', '콜드브루']\n",
    "prices = [4100, 4600, 4600, 5100, 6000, 5000]\n",
    "\n",
    "\n",
    "for i in range(len(prices)):\n",
    "    if prices[i] - 500 <= 5000:\n",
    "        print(coffees[i])"
   ]
  },
  {
   "cell_type": "markdown",
   "metadata": {},
   "source": [
    "### 12. 사용자로부터 달러, 엔, 유로, 또는 위안 금액을 입력받은 후 이를 원으로 변환하는 프로그램을 작성하라. \n",
    "- 각 통화별 환율은 다음과 같다. \n",
    "- 사용자는 100 달러, 1000 엔, 13 유로, 100 위안과 같이 **금액과 통화명 사이에 공백을 넣어 입력**한다고 가정한다.\n",
    "\n",
    "| 통화명 | 환율 |\n",
    "| ---- | ---- | \n",
    "|  달러 |  1,129 |  \n",
    "|  엔 |  1,032 | \n",
    "|  유로 | 1,368 | \n",
    "|  위안 |  175 |"
   ]
  },
  {
   "cell_type": "code",
   "execution_count": 29,
   "metadata": {},
   "outputs": [
    {
     "name": "stdout",
     "output_type": "stream",
     "text": [
      "환전금액을 입력하세요(달러/엔/유로/위안): 100 달러\n",
      "원화로 환전된 금액은 112900.0 원 입니다.\n"
     ]
    }
   ],
   "source": []
  },
  {
   "cell_type": "code",
   "execution_count": 23,
   "metadata": {},
   "outputs": [
    {
     "name": "stdout",
     "output_type": "stream",
     "text": [
      "환전금액을 입력하세요(달러/엔/유로/위안): 100 유로\n",
      "136800 원입니다.\n"
     ]
    }
   ],
   "source": [
    "won = {'달러' : 1129, '엔' : 1032, '유로' : 1368, '위안' : 175}\n",
    "money, key = input('환전금액을 입력하세요(달러/엔/유로/위안): ').split(' ')\n",
    "\n",
    "print(int(money) * won[key],'원입니다.')\n",
    "\n",
    "\n",
    "\n"
   ]
  },
  {
   "cell_type": "markdown",
   "metadata": {},
   "source": [
    "### 13. 음식궁합을 참고하여 동물의 어미와 새끼의 이름을 딕셔너리로 묶는 프로그램을 만드시오.\n",
    "- 입력) [닭, 개, 곰, 고등어, 명태, 말, 호랑이] 중 새끼이름을 알고 싶은 동물은? 곰\n",
    "- 출력) <곰>의 새끼는 <능소니>입니다.\n",
    "- 동물어미와 새끼의 이름은 인터넷에서 검색한다.\n",
    "- 'end'를 입력하면 종료한다.\n",
    "\n"
   ]
  },
  {
   "cell_type": "code",
   "execution_count": 60,
   "metadata": {},
   "outputs": [
    {
     "name": "stdout",
     "output_type": "stream",
     "text": [
      "['닭', '개', '곰', '고등어', '명태', '말', '호랑이']중 새끼 이름을 알고싶은 동물은?호랑이\n",
      "<호랑이>의 새끼는 <개호주>입니다\n",
      "['닭', '개', '곰', '고등어', '명태', '말', '호랑이']중 새끼 이름을 알고싶은 동물은?end\n"
     ]
    }
   ],
   "source": []
  },
  {
   "cell_type": "code",
   "execution_count": 19,
   "metadata": {},
   "outputs": [
    {
     "name": "stdout",
     "output_type": "stream",
     "text": [
      "['닭', '개', '곰', '고등어', '명태', '말', '호랑이']중 새끼 이름을 알고싶은 동물은? : 호랑이\n",
      "<호랑이>의 새끼는 <개호주>입니다.\n",
      "['닭', '개', '곰', '고등어', '명태', '말', '호랑이']중 새끼 이름을 알고싶은 동물은? : end\n"
     ]
    }
   ],
   "source": [
    "animals = {'닭' : '병아리', '개' : '강아지', '곰' : '능소니', '고등어' : '고도리', '명태' : '노기리', \n",
    "          '말' : '망아지', '호랑이' : '개호주'}\n",
    "a = list(animals.keys())\n",
    "\n",
    "while True:\n",
    "    animal = input(str(a) + '중 새끼 이름을 알고싶은 동물은? : ')\n",
    "    \n",
    "    if animal in animals:\n",
    "        print('<{}>의 새끼는 <{}>입니다.'.format(animal, animals[animal]))\n",
    "    elif animal == 'end':\n",
    "        break\n",
    "    else:\n",
    "        print('잘 못 입력하셨습니다.')\n",
    "        "
   ]
  }
 ],
 "metadata": {
  "kernelspec": {
   "display_name": "Python 3",
   "language": "python",
   "name": "python3"
  },
  "language_info": {
   "codemirror_mode": {
    "name": "ipython",
    "version": 3
   },
   "file_extension": ".py",
   "mimetype": "text/x-python",
   "name": "python",
   "nbconvert_exporter": "python",
   "pygments_lexer": "ipython3",
   "version": "3.8.5"
  },
  "toc": {
   "base_numbering": 1,
   "nav_menu": {},
   "number_sections": false,
   "sideBar": true,
   "skip_h1_title": false,
   "title_cell": "Table of Contents",
   "title_sidebar": "Contents",
   "toc_cell": false,
   "toc_position": {
    "height": "calc(100% - 180px)",
    "left": "10px",
    "top": "150px",
    "width": "349.091px"
   },
   "toc_section_display": true,
   "toc_window_display": false
  }
 },
 "nbformat": 4,
 "nbformat_minor": 4
}
