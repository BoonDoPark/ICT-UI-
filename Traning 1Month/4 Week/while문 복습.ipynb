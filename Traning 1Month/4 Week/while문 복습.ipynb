{
 "cells": [
  {
   "cell_type": "markdown",
   "metadata": {},
   "source": [
    "#### 오늘은 이해가 잘 가지않던 while반복문을 연습해 봤다."
   ]
  },
  {
   "cell_type": "markdown",
   "metadata": {},
   "source": [
    "정수를 한 개 입력받아, 1부터 입력받은 수까지 각각에 대해 제곱을 구해 프린트하는 프로그램을 작성해 보세요. 단, while 문을 사용하세요.\n",
    "\n",
    "(출처 : https://wikidocs.net/101633)"
   ]
  },
  {
   "cell_type": "code",
   "execution_count": 16,
   "metadata": {},
   "outputs": [
    {
     "name": "stdout",
     "output_type": "stream",
     "text": [
      "숫자 : 3\n",
      "1 3\n",
      "2 3\n",
      "3 3\n"
     ]
    }
   ],
   "source": [
    "a = int(input('숫자 : '))\n",
    "b = 1\n",
    "while a >= b:\n",
    "    print(b, a)\n",
    "    b += 1"
   ]
  },
  {
   "cell_type": "code",
   "execution_count": 17,
   "metadata": {},
   "outputs": [
    {
     "name": "stdout",
     "output_type": "stream",
     "text": [
      "숫자 : 5\n",
      "1 1\n",
      "2 4\n",
      "3 9\n",
      "4 16\n",
      "5 25\n"
     ]
    }
   ],
   "source": [
    "a = int(input('숫자 : '))\n",
    "b = 1\n",
    "while a >= b:\n",
    "    print(b, b*b)\n",
    "    b += 1"
   ]
  },
  {
   "cell_type": "markdown",
   "metadata": {},
   "source": [
    "고무 공을 100 미터 높이에서 떨어뜨리는데, 이 공은 땅에 닿을 때마다 원래 높이의 3/5 만큼 튀어오릅니다. 공이 열 번 튈 동안, 그때마다 공의 높이를 계산합니다.\n",
    "\n",
    "(출처 : https://wikidocs.net/101633)"
   ]
  },
  {
   "cell_type": "code",
   "execution_count": 23,
   "metadata": {},
   "outputs": [
    {
     "name": "stdout",
     "output_type": "stream",
     "text": [
      "1 60.0\n",
      "2 36.0\n",
      "3 21.6\n",
      "4 12.96\n",
      "5 7.776\n",
      "6 4.6656\n",
      "7 2.7994\n",
      "8 1.6796\n",
      "9 1.0078\n",
      "10 0.6047\n"
     ]
    }
   ],
   "source": [
    "a = 100\n",
    "b = 3 / 5\n",
    "\n",
    "c = 1\n",
    "\n",
    "while c <= 10:\n",
    "    a = a*b\n",
    "    print(c, round(a, 4))\n",
    "    c += 1"
   ]
  },
  {
   "cell_type": "code",
   "execution_count": 34,
   "metadata": {},
   "outputs": [
    {
     "name": "stdout",
     "output_type": "stream",
     "text": [
      "8\n",
      "8\n",
      "35\n",
      "5\n",
      "85\n",
      "3\n",
      "3\n",
      "853\n",
      "0\n",
      "853\n"
     ]
    }
   ],
   "source": [
    "number = 358\n",
    "\n",
    "rem = rev = 0\n",
    "while number >= 1:\n",
    "    rem = number % 10\n",
    "    print(rem)\n",
    "    rev = rev * 10 + rem\n",
    "    print(rev)\n",
    "    number = number // 10\n",
    "    print(number)\n",
    "\n",
    "print(rev)"
   ]
  },
  {
   "cell_type": "markdown",
   "metadata": {},
   "source": [
    "while문을 사용해 1부터 1000까지의 자연수 중 3의 배수의 합을 구해 보자.\n",
    "\n",
    "(출처 : https://wikidocs.net/42527)"
   ]
  },
  {
   "cell_type": "code",
   "execution_count": 43,
   "metadata": {},
   "outputs": [
    {
     "name": "stdout",
     "output_type": "stream",
     "text": [
      "200\n",
      "400\n",
      "600\n",
      "800\n",
      "1000\n"
     ]
    }
   ],
   "source": [
    "a = 1\n",
    "\n",
    "while a <= 1000:\n",
    "    if a % 200 == 0:\n",
    "        print(a)\n",
    "    a += 1"
   ]
  },
  {
   "cell_type": "markdown",
   "metadata": {},
   "source": [
    "while문을 사용하여 다음과 같이 별(*)을 표시하는 프로그램을 작성해 보자.\n",
    "\n",
    "(출처 : https://wikidocs.net/42527)\n",
    "\n",
    "*\n",
    "**\n",
    "***\n",
    "****\n",
    "*****"
   ]
  },
  {
   "cell_type": "code",
   "execution_count": 50,
   "metadata": {},
   "outputs": [
    {
     "name": "stdout",
     "output_type": "stream",
     "text": [
      "*\n",
      "**\n",
      "***\n",
      "****\n",
      "*****\n"
     ]
    }
   ],
   "source": [
    "a = 1\n",
    "\n",
    "while a < 6:\n",
    "    print('*' * a)\n",
    "    a += 1"
   ]
  },
  {
   "cell_type": "code",
   "execution_count": 62,
   "metadata": {},
   "outputs": [
    {
     "name": "stdout",
     "output_type": "stream",
     "text": [
      "        ★\n",
      "      ★★★\n",
      "    ★★★★★\n",
      "  ★★★★★★★\n",
      "★★★★★★★★★\n",
      "  ★★★★★★★\n",
      "    ★★★★★\n",
      "      ★★★\n",
      "        ★\n"
     ]
    }
   ],
   "source": [
    "a = 0\n",
    "b = 0\n",
    "\n",
    "while a < 9:\n",
    "    if a < 5:\n",
    "        b = 0\n",
    "        while b < 4 - a:\n",
    "            print('  ', end='')\n",
    "            b += 1\n",
    "        b = 0\n",
    "        while b < (a * 2) + 1:\n",
    "            print('\\u2605', end='')\n",
    "            b += 1\n",
    "            \n",
    "    else : \n",
    "        b = 0\n",
    "        while b < a -4:\n",
    "            print('  ', end='')\n",
    "            b += 1\n",
    "        b= 0\n",
    "        while b < (9 - a) * 2 - 1:\n",
    "            print('\\u2605', end='')\n",
    "            b += 1\n",
    "            \n",
    "    print()\n",
    "    a += 1"
   ]
  },
  {
   "cell_type": "code",
   "execution_count": 66,
   "metadata": {},
   "outputs": [
    {
     "name": "stdout",
     "output_type": "stream",
     "text": [
      "        ★\n",
      "      ★★★\n",
      "    ★★★★★\n",
      "  ★★★★★★★\n",
      "★★★★★★★★★\n"
     ]
    }
   ],
   "source": [
    "a, b = 0, 0\n",
    "\n",
    "while  a < 5:\n",
    "    b = 0\n",
    "    while b < 4 - a:\n",
    "        print('  ', end='')\n",
    "        b +=1\n",
    "    b = 0\n",
    "    while b < a*2+1:\n",
    "        print('\\u2605', end='')\n",
    "        b += 1\n",
    "        \n",
    "    print()\n",
    "    a += 1"
   ]
  },
  {
   "cell_type": "markdown",
   "metadata": {},
   "source": [
    "누적 합계(hap)가 1000이상이 되는 시작 지점 알기"
   ]
  },
  {
   "cell_type": "markdown",
   "metadata": {},
   "source": [
    "무한루프로 ★(\\u2605)로 직각삼각형 출력하기"
   ]
  },
  {
   "cell_type": "markdown",
   "metadata": {},
   "source": [
    "1~100의 합계를 구하되 3의 배수는 제외하고 더하기 -> 정답 : 3367"
   ]
  },
  {
   "cell_type": "markdown",
   "metadata": {},
   "source": [
    "**연습문제6) 음식궁합을 출력하는 프로그램을 만드시오.**\n",
    "- 아래 궁합 정보를 담고 있는 foods라는 변수를 만든다\n",
    "\n",
    "| 음식 | 궁합음식 |\n",
    "| ---- | ---- | \n",
    "| 떡볶이 |  튀김 |  \n",
    "| 짜장면| 단무지 | \n",
    "| 라면 | 김치 | \n",
    "| 피자 |  콜라 |\n",
    "| 치킨 |  맥주 |\n",
    "| 삼겹살 |  상추 |\n",
    "\n",
    "- 자신이 좋아하는 하는 음식을 입력하면 궁합음식을 출력한다.\n",
    "- foods에 없는 음식을 입력하면 '그런음식 없습니다. 확인해보세요'를 출력한다. \n",
    "- while을 이용한 무한반복문으로 만들고 'end'를 입력하면 프로그램이 종료되도록 한다."
   ]
  },
  {
   "cell_type": "code",
   "execution_count": 6,
   "metadata": {},
   "outputs": [
    {
     "name": "stdout",
     "output_type": "stream",
     "text": [
      "음식이름 : 짜장면\n",
      "짜장면는 단무지\n",
      "음식이름 : end\n"
     ]
    }
   ],
   "source": [
    "foods = {'떡볶이' : '튀김', '짜장면' : '단무지', '라면' : '김치', '피자' : '콜라', '치킨' : '맥주', '삼겹살' : '상추'}\n",
    "\n",
    "count = 0\n",
    "\n",
    "while True:\n",
    "    food = input('음식이름 : ')\n",
    "    \n",
    "    if food in foods:\n",
    "        print('{}는 {}'.format(food, foods[food]))\n",
    "    \n",
    "    elif food == 'end':\n",
    "        break\n",
    "    \n",
    "    else:\n",
    "        print('그런 음식은 없습니다.')\n",
    "    count += 1\n",
    "        "
   ]
  }
 ],
 "metadata": {
  "kernelspec": {
   "display_name": "Python 3",
   "language": "python",
   "name": "python3"
  },
  "language_info": {
   "codemirror_mode": {
    "name": "ipython",
    "version": 3
   },
   "file_extension": ".py",
   "mimetype": "text/x-python",
   "name": "python",
   "nbconvert_exporter": "python",
   "pygments_lexer": "ipython3",
   "version": "3.8.5"
  },
  "toc": {
   "base_numbering": 1,
   "nav_menu": {},
   "number_sections": true,
   "sideBar": true,
   "skip_h1_title": false,
   "title_cell": "Table of Contents",
   "title_sidebar": "Contents",
   "toc_cell": false,
   "toc_position": {},
   "toc_section_display": true,
   "toc_window_display": false
  }
 },
 "nbformat": 4,
 "nbformat_minor": 4
}
