{
 "cells": [
  {
   "cell_type": "markdown",
   "metadata": {},
   "source": [
    "연습문제 2) 연도를 입력받아서 윤년인지 아닌지를 구분하는 프로그램\n",
    "\n",
    "4로 나누어 떨어지는 해는 윤년으로 한다. (1988년, 1992년, 1996년, 2004년, 2008년, 2012년, 2016년, 2020년, 2024년, 2028년, 2032년, 2036년, 2040년, 2044년 ...)\n",
    "4, 100 으로 나누어 떨어지는 해는 평년으로 한다. (1900년, 2100년, 2200년, 2300년, 2500년...)\n",
    "4, 100, 400 으로 나누어 떨어지는 해는 윤년으로 둔다. (2000년, 2400년...) 출처: 위키백과"
   ]
  },
  {
   "cell_type": "code",
   "execution_count": null,
   "metadata": {},
   "outputs": [],
   "source": [
    "ver.1\n",
    "year = int(input('원하는 해 : '))\n",
    "\n",
    "if year % 400 == 0 :\n",
    "    print('윤년')\n",
    "elif year % 100 == 0 :\n",
    "    print('평년')\n",
    "elif year % 4 == 0 :\n",
    "    print('윤년')\n",
    "else : \n",
    "    print('평년')"
   ]
  },
  {
   "cell_type": "code",
   "execution_count": null,
   "metadata": {},
   "outputs": [],
   "source": [
    "ver. 2\n",
    "year = int(input('원하는 해 : '))\n",
    "\n",
    "if year % 400 ==0 :\n",
    "    print('윤년')\n",
    "else :\n",
    "    if year % 100 == 0 :\n",
    "        print('평년')\n",
    "    else :\n",
    "        if year % 4 == 0 :\n",
    "            print('윤년')\n",
    "        else :\n",
    "            print('평년')"
   ]
  }
 ],
 "metadata": {
  "kernelspec": {
   "display_name": "Python 3",
   "language": "python",
   "name": "python3"
  }
 },
 "nbformat": 4,
 "nbformat_minor": 4
}
